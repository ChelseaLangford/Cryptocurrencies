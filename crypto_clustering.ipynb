{
 "cells": [
  {
   "cell_type": "markdown",
   "metadata": {},
   "source": [
    "# Clustering Crypto"
   ]
  },
  {
   "cell_type": "code",
   "execution_count": 172,
   "metadata": {},
   "outputs": [],
   "source": [
    "# Initial imports\n",
    "import pandas as pd\n",
    "import hvplot.pandas\n",
    "from path import Path\n",
    "import plotly.express as px\n",
    "from sklearn.preprocessing import StandardScaler, MinMaxScaler\n",
    "from sklearn.decomposition import PCA\n",
    "from sklearn.cluster import KMeans\n"
   ]
  },
  {
   "cell_type": "markdown",
   "metadata": {},
   "source": [
    "### Deliverable 1: Preprocessing the Data for PCA"
   ]
  },
  {
   "cell_type": "code",
   "execution_count": 173,
   "metadata": {},
   "outputs": [
    {
     "data": {
      "text/html": [
       "<div>\n",
       "<style scoped>\n",
       "    .dataframe tbody tr th:only-of-type {\n",
       "        vertical-align: middle;\n",
       "    }\n",
       "\n",
       "    .dataframe tbody tr th {\n",
       "        vertical-align: top;\n",
       "    }\n",
       "\n",
       "    .dataframe thead th {\n",
       "        text-align: right;\n",
       "    }\n",
       "</style>\n",
       "<table border=\"1\" class=\"dataframe\">\n",
       "  <thead>\n",
       "    <tr style=\"text-align: right;\">\n",
       "      <th></th>\n",
       "      <th>Unnamed: 0</th>\n",
       "      <th>CoinName</th>\n",
       "      <th>Algorithm</th>\n",
       "      <th>IsTrading</th>\n",
       "      <th>ProofType</th>\n",
       "      <th>TotalCoinsMined</th>\n",
       "      <th>TotalCoinSupply</th>\n",
       "    </tr>\n",
       "  </thead>\n",
       "  <tbody>\n",
       "    <tr>\n",
       "      <th>0</th>\n",
       "      <td>42</td>\n",
       "      <td>42 Coin</td>\n",
       "      <td>Scrypt</td>\n",
       "      <td>True</td>\n",
       "      <td>PoW/PoS</td>\n",
       "      <td>4.199995e+01</td>\n",
       "      <td>42</td>\n",
       "    </tr>\n",
       "    <tr>\n",
       "      <th>1</th>\n",
       "      <td>365</td>\n",
       "      <td>365Coin</td>\n",
       "      <td>X11</td>\n",
       "      <td>True</td>\n",
       "      <td>PoW/PoS</td>\n",
       "      <td>NaN</td>\n",
       "      <td>2300000000</td>\n",
       "    </tr>\n",
       "    <tr>\n",
       "      <th>2</th>\n",
       "      <td>404</td>\n",
       "      <td>404Coin</td>\n",
       "      <td>Scrypt</td>\n",
       "      <td>True</td>\n",
       "      <td>PoW/PoS</td>\n",
       "      <td>1.055185e+09</td>\n",
       "      <td>532000000</td>\n",
       "    </tr>\n",
       "    <tr>\n",
       "      <th>3</th>\n",
       "      <td>611</td>\n",
       "      <td>SixEleven</td>\n",
       "      <td>SHA-256</td>\n",
       "      <td>True</td>\n",
       "      <td>PoW</td>\n",
       "      <td>NaN</td>\n",
       "      <td>611000</td>\n",
       "    </tr>\n",
       "    <tr>\n",
       "      <th>4</th>\n",
       "      <td>808</td>\n",
       "      <td>808</td>\n",
       "      <td>SHA-256</td>\n",
       "      <td>True</td>\n",
       "      <td>PoW/PoS</td>\n",
       "      <td>0.000000e+00</td>\n",
       "      <td>0</td>\n",
       "    </tr>\n",
       "    <tr>\n",
       "      <th>5</th>\n",
       "      <td>1337</td>\n",
       "      <td>EliteCoin</td>\n",
       "      <td>X13</td>\n",
       "      <td>True</td>\n",
       "      <td>PoW/PoS</td>\n",
       "      <td>2.927942e+10</td>\n",
       "      <td>314159265359</td>\n",
       "    </tr>\n",
       "    <tr>\n",
       "      <th>6</th>\n",
       "      <td>2015</td>\n",
       "      <td>2015 coin</td>\n",
       "      <td>X11</td>\n",
       "      <td>True</td>\n",
       "      <td>PoW/PoS</td>\n",
       "      <td>NaN</td>\n",
       "      <td>0</td>\n",
       "    </tr>\n",
       "    <tr>\n",
       "      <th>7</th>\n",
       "      <td>BTC</td>\n",
       "      <td>Bitcoin</td>\n",
       "      <td>SHA-256</td>\n",
       "      <td>True</td>\n",
       "      <td>PoW</td>\n",
       "      <td>1.792718e+07</td>\n",
       "      <td>21000000</td>\n",
       "    </tr>\n",
       "    <tr>\n",
       "      <th>8</th>\n",
       "      <td>ETH</td>\n",
       "      <td>Ethereum</td>\n",
       "      <td>Ethash</td>\n",
       "      <td>True</td>\n",
       "      <td>PoW</td>\n",
       "      <td>1.076842e+08</td>\n",
       "      <td>0</td>\n",
       "    </tr>\n",
       "    <tr>\n",
       "      <th>9</th>\n",
       "      <td>LTC</td>\n",
       "      <td>Litecoin</td>\n",
       "      <td>Scrypt</td>\n",
       "      <td>True</td>\n",
       "      <td>PoW</td>\n",
       "      <td>6.303924e+07</td>\n",
       "      <td>84000000</td>\n",
       "    </tr>\n",
       "  </tbody>\n",
       "</table>\n",
       "</div>"
      ],
      "text/plain": [
       "  Unnamed: 0   CoinName Algorithm  IsTrading ProofType  TotalCoinsMined  \\\n",
       "0         42    42 Coin    Scrypt       True   PoW/PoS     4.199995e+01   \n",
       "1        365    365Coin       X11       True   PoW/PoS              NaN   \n",
       "2        404    404Coin    Scrypt       True   PoW/PoS     1.055185e+09   \n",
       "3        611  SixEleven   SHA-256       True       PoW              NaN   \n",
       "4        808        808   SHA-256       True   PoW/PoS     0.000000e+00   \n",
       "5       1337  EliteCoin       X13       True   PoW/PoS     2.927942e+10   \n",
       "6       2015  2015 coin       X11       True   PoW/PoS              NaN   \n",
       "7        BTC    Bitcoin   SHA-256       True       PoW     1.792718e+07   \n",
       "8        ETH   Ethereum    Ethash       True       PoW     1.076842e+08   \n",
       "9        LTC   Litecoin    Scrypt       True       PoW     6.303924e+07   \n",
       "\n",
       "  TotalCoinSupply  \n",
       "0              42  \n",
       "1      2300000000  \n",
       "2       532000000  \n",
       "3          611000  \n",
       "4               0  \n",
       "5    314159265359  \n",
       "6               0  \n",
       "7        21000000  \n",
       "8               0  \n",
       "9        84000000  "
      ]
     },
     "execution_count": 173,
     "metadata": {},
     "output_type": "execute_result"
    }
   ],
   "source": [
    "# Load the crypto_data.csv dataset.\n",
    "file_path = \"crypto_data.csv\"\n",
    "df_crypto = pd.read_csv(file_path)\n",
    "df_crypto.head(10)"
   ]
  },
  {
   "cell_type": "code",
   "execution_count": 174,
   "metadata": {},
   "outputs": [],
   "source": [
    "df_crypto = df_crypto.set_index('Unnamed: 0')"
   ]
  },
  {
   "cell_type": "code",
   "execution_count": 175,
   "metadata": {},
   "outputs": [
    {
     "data": {
      "text/html": [
       "<div>\n",
       "<style scoped>\n",
       "    .dataframe tbody tr th:only-of-type {\n",
       "        vertical-align: middle;\n",
       "    }\n",
       "\n",
       "    .dataframe tbody tr th {\n",
       "        vertical-align: top;\n",
       "    }\n",
       "\n",
       "    .dataframe thead th {\n",
       "        text-align: right;\n",
       "    }\n",
       "</style>\n",
       "<table border=\"1\" class=\"dataframe\">\n",
       "  <thead>\n",
       "    <tr style=\"text-align: right;\">\n",
       "      <th></th>\n",
       "      <th>CoinName</th>\n",
       "      <th>Algorithm</th>\n",
       "      <th>IsTrading</th>\n",
       "      <th>ProofType</th>\n",
       "      <th>TotalCoinsMined</th>\n",
       "      <th>TotalCoinSupply</th>\n",
       "    </tr>\n",
       "    <tr>\n",
       "      <th>Unnamed: 0</th>\n",
       "      <th></th>\n",
       "      <th></th>\n",
       "      <th></th>\n",
       "      <th></th>\n",
       "      <th></th>\n",
       "      <th></th>\n",
       "    </tr>\n",
       "  </thead>\n",
       "  <tbody>\n",
       "    <tr>\n",
       "      <th>42</th>\n",
       "      <td>42 Coin</td>\n",
       "      <td>Scrypt</td>\n",
       "      <td>True</td>\n",
       "      <td>PoW/PoS</td>\n",
       "      <td>4.199995e+01</td>\n",
       "      <td>42</td>\n",
       "    </tr>\n",
       "    <tr>\n",
       "      <th>365</th>\n",
       "      <td>365Coin</td>\n",
       "      <td>X11</td>\n",
       "      <td>True</td>\n",
       "      <td>PoW/PoS</td>\n",
       "      <td>NaN</td>\n",
       "      <td>2300000000</td>\n",
       "    </tr>\n",
       "    <tr>\n",
       "      <th>404</th>\n",
       "      <td>404Coin</td>\n",
       "      <td>Scrypt</td>\n",
       "      <td>True</td>\n",
       "      <td>PoW/PoS</td>\n",
       "      <td>1.055185e+09</td>\n",
       "      <td>532000000</td>\n",
       "    </tr>\n",
       "    <tr>\n",
       "      <th>611</th>\n",
       "      <td>SixEleven</td>\n",
       "      <td>SHA-256</td>\n",
       "      <td>True</td>\n",
       "      <td>PoW</td>\n",
       "      <td>NaN</td>\n",
       "      <td>611000</td>\n",
       "    </tr>\n",
       "    <tr>\n",
       "      <th>808</th>\n",
       "      <td>808</td>\n",
       "      <td>SHA-256</td>\n",
       "      <td>True</td>\n",
       "      <td>PoW/PoS</td>\n",
       "      <td>0.000000e+00</td>\n",
       "      <td>0</td>\n",
       "    </tr>\n",
       "  </tbody>\n",
       "</table>\n",
       "</div>"
      ],
      "text/plain": [
       "             CoinName Algorithm  IsTrading ProofType  TotalCoinsMined  \\\n",
       "Unnamed: 0                                                              \n",
       "42            42 Coin    Scrypt       True   PoW/PoS     4.199995e+01   \n",
       "365           365Coin       X11       True   PoW/PoS              NaN   \n",
       "404           404Coin    Scrypt       True   PoW/PoS     1.055185e+09   \n",
       "611         SixEleven   SHA-256       True       PoW              NaN   \n",
       "808               808   SHA-256       True   PoW/PoS     0.000000e+00   \n",
       "\n",
       "           TotalCoinSupply  \n",
       "Unnamed: 0                  \n",
       "42                      42  \n",
       "365             2300000000  \n",
       "404              532000000  \n",
       "611                 611000  \n",
       "808                      0  "
      ]
     },
     "execution_count": 175,
     "metadata": {},
     "output_type": "execute_result"
    }
   ],
   "source": [
    "# Keep all the cryptocurrencies that are being traded.\n",
    "df_crypto.drop(df_crypto.loc[df_crypto['IsTrading']=='False'].index, inplace=True)\n",
    "df_crypto.head()"
   ]
  },
  {
   "cell_type": "code",
   "execution_count": 176,
   "metadata": {},
   "outputs": [
    {
     "data": {
      "text/html": [
       "<div>\n",
       "<style scoped>\n",
       "    .dataframe tbody tr th:only-of-type {\n",
       "        vertical-align: middle;\n",
       "    }\n",
       "\n",
       "    .dataframe tbody tr th {\n",
       "        vertical-align: top;\n",
       "    }\n",
       "\n",
       "    .dataframe thead th {\n",
       "        text-align: right;\n",
       "    }\n",
       "</style>\n",
       "<table border=\"1\" class=\"dataframe\">\n",
       "  <thead>\n",
       "    <tr style=\"text-align: right;\">\n",
       "      <th></th>\n",
       "      <th>CoinName</th>\n",
       "      <th>Algorithm</th>\n",
       "      <th>IsTrading</th>\n",
       "      <th>ProofType</th>\n",
       "      <th>TotalCoinsMined</th>\n",
       "      <th>TotalCoinSupply</th>\n",
       "    </tr>\n",
       "    <tr>\n",
       "      <th>Unnamed: 0</th>\n",
       "      <th></th>\n",
       "      <th></th>\n",
       "      <th></th>\n",
       "      <th></th>\n",
       "      <th></th>\n",
       "      <th></th>\n",
       "    </tr>\n",
       "  </thead>\n",
       "  <tbody>\n",
       "    <tr>\n",
       "      <th>42</th>\n",
       "      <td>42 Coin</td>\n",
       "      <td>Scrypt</td>\n",
       "      <td>True</td>\n",
       "      <td>PoW/PoS</td>\n",
       "      <td>4.199995e+01</td>\n",
       "      <td>42</td>\n",
       "    </tr>\n",
       "    <tr>\n",
       "      <th>404</th>\n",
       "      <td>404Coin</td>\n",
       "      <td>Scrypt</td>\n",
       "      <td>True</td>\n",
       "      <td>PoW/PoS</td>\n",
       "      <td>1.055185e+09</td>\n",
       "      <td>532000000</td>\n",
       "    </tr>\n",
       "    <tr>\n",
       "      <th>1337</th>\n",
       "      <td>EliteCoin</td>\n",
       "      <td>X13</td>\n",
       "      <td>True</td>\n",
       "      <td>PoW/PoS</td>\n",
       "      <td>2.927942e+10</td>\n",
       "      <td>314159265359</td>\n",
       "    </tr>\n",
       "    <tr>\n",
       "      <th>BTC</th>\n",
       "      <td>Bitcoin</td>\n",
       "      <td>SHA-256</td>\n",
       "      <td>True</td>\n",
       "      <td>PoW</td>\n",
       "      <td>1.792718e+07</td>\n",
       "      <td>21000000</td>\n",
       "    </tr>\n",
       "    <tr>\n",
       "      <th>LTC</th>\n",
       "      <td>Litecoin</td>\n",
       "      <td>Scrypt</td>\n",
       "      <td>True</td>\n",
       "      <td>PoW</td>\n",
       "      <td>6.303924e+07</td>\n",
       "      <td>84000000</td>\n",
       "    </tr>\n",
       "  </tbody>\n",
       "</table>\n",
       "</div>"
      ],
      "text/plain": [
       "             CoinName Algorithm  IsTrading ProofType  TotalCoinsMined  \\\n",
       "Unnamed: 0                                                              \n",
       "42            42 Coin    Scrypt       True   PoW/PoS     4.199995e+01   \n",
       "404           404Coin    Scrypt       True   PoW/PoS     1.055185e+09   \n",
       "1337        EliteCoin       X13       True   PoW/PoS     2.927942e+10   \n",
       "BTC           Bitcoin   SHA-256       True       PoW     1.792718e+07   \n",
       "LTC          Litecoin    Scrypt       True       PoW     6.303924e+07   \n",
       "\n",
       "           TotalCoinSupply  \n",
       "Unnamed: 0                  \n",
       "42                      42  \n",
       "404              532000000  \n",
       "1337          314159265359  \n",
       "BTC               21000000  \n",
       "LTC               84000000  "
      ]
     },
     "execution_count": 176,
     "metadata": {},
     "output_type": "execute_result"
    }
   ],
   "source": [
    "# Keep all the cryptocurrencies that have a working algorithm.\n",
    "df_crypto.drop(df_crypto.loc[df_crypto['TotalCoinsMined'].isnull()].index, inplace=True)\n",
    "df_crypto.drop(df_crypto.loc[df_crypto['TotalCoinSupply']=='0'].index, inplace=True)\n",
    "df_crypto.head()"
   ]
  },
  {
   "cell_type": "code",
   "execution_count": 177,
   "metadata": {},
   "outputs": [
    {
     "data": {
      "text/html": [
       "<div>\n",
       "<style scoped>\n",
       "    .dataframe tbody tr th:only-of-type {\n",
       "        vertical-align: middle;\n",
       "    }\n",
       "\n",
       "    .dataframe tbody tr th {\n",
       "        vertical-align: top;\n",
       "    }\n",
       "\n",
       "    .dataframe thead th {\n",
       "        text-align: right;\n",
       "    }\n",
       "</style>\n",
       "<table border=\"1\" class=\"dataframe\">\n",
       "  <thead>\n",
       "    <tr style=\"text-align: right;\">\n",
       "      <th></th>\n",
       "      <th>CoinName</th>\n",
       "      <th>Algorithm</th>\n",
       "      <th>ProofType</th>\n",
       "      <th>TotalCoinsMined</th>\n",
       "      <th>TotalCoinSupply</th>\n",
       "    </tr>\n",
       "    <tr>\n",
       "      <th>Unnamed: 0</th>\n",
       "      <th></th>\n",
       "      <th></th>\n",
       "      <th></th>\n",
       "      <th></th>\n",
       "      <th></th>\n",
       "    </tr>\n",
       "  </thead>\n",
       "  <tbody>\n",
       "    <tr>\n",
       "      <th>42</th>\n",
       "      <td>42 Coin</td>\n",
       "      <td>Scrypt</td>\n",
       "      <td>PoW/PoS</td>\n",
       "      <td>4.199995e+01</td>\n",
       "      <td>42</td>\n",
       "    </tr>\n",
       "    <tr>\n",
       "      <th>404</th>\n",
       "      <td>404Coin</td>\n",
       "      <td>Scrypt</td>\n",
       "      <td>PoW/PoS</td>\n",
       "      <td>1.055185e+09</td>\n",
       "      <td>532000000</td>\n",
       "    </tr>\n",
       "    <tr>\n",
       "      <th>1337</th>\n",
       "      <td>EliteCoin</td>\n",
       "      <td>X13</td>\n",
       "      <td>PoW/PoS</td>\n",
       "      <td>2.927942e+10</td>\n",
       "      <td>314159265359</td>\n",
       "    </tr>\n",
       "    <tr>\n",
       "      <th>BTC</th>\n",
       "      <td>Bitcoin</td>\n",
       "      <td>SHA-256</td>\n",
       "      <td>PoW</td>\n",
       "      <td>1.792718e+07</td>\n",
       "      <td>21000000</td>\n",
       "    </tr>\n",
       "    <tr>\n",
       "      <th>LTC</th>\n",
       "      <td>Litecoin</td>\n",
       "      <td>Scrypt</td>\n",
       "      <td>PoW</td>\n",
       "      <td>6.303924e+07</td>\n",
       "      <td>84000000</td>\n",
       "    </tr>\n",
       "  </tbody>\n",
       "</table>\n",
       "</div>"
      ],
      "text/plain": [
       "             CoinName Algorithm ProofType  TotalCoinsMined TotalCoinSupply\n",
       "Unnamed: 0                                                                \n",
       "42            42 Coin    Scrypt   PoW/PoS     4.199995e+01              42\n",
       "404           404Coin    Scrypt   PoW/PoS     1.055185e+09       532000000\n",
       "1337        EliteCoin       X13   PoW/PoS     2.927942e+10    314159265359\n",
       "BTC           Bitcoin   SHA-256       PoW     1.792718e+07        21000000\n",
       "LTC          Litecoin    Scrypt       PoW     6.303924e+07        84000000"
      ]
     },
     "execution_count": 177,
     "metadata": {},
     "output_type": "execute_result"
    }
   ],
   "source": [
    "# Remove the \"IsTrading\" column.\n",
    "df_crypto = df_crypto.drop(columns=[\"IsTrading\"],axis=1)\n",
    "df_crypto.head()"
   ]
  },
  {
   "cell_type": "code",
   "execution_count": 178,
   "metadata": {},
   "outputs": [
    {
     "name": "stdout",
     "output_type": "stream",
     "text": [
      "Column CoinName has 0 null values\n",
      "Column Algorithm has 0 null values\n",
      "Column ProofType has 0 null values\n",
      "Column TotalCoinsMined has 0 null values\n",
      "Column TotalCoinSupply has 0 null values\n"
     ]
    }
   ],
   "source": [
    "# Remove rows that have at least 1 null value.\n",
    "for column in df_crypto.columns:\n",
    "    print(f\"Column {column} has {df_crypto[column].isnull().sum()} null values\")\n",
    "df_crypto = df_crypto.dropna()"
   ]
  },
  {
   "cell_type": "code",
   "execution_count": 179,
   "metadata": {},
   "outputs": [
    {
     "data": {
      "text/html": [
       "<div>\n",
       "<style scoped>\n",
       "    .dataframe tbody tr th:only-of-type {\n",
       "        vertical-align: middle;\n",
       "    }\n",
       "\n",
       "    .dataframe tbody tr th {\n",
       "        vertical-align: top;\n",
       "    }\n",
       "\n",
       "    .dataframe thead th {\n",
       "        text-align: right;\n",
       "    }\n",
       "</style>\n",
       "<table border=\"1\" class=\"dataframe\">\n",
       "  <thead>\n",
       "    <tr style=\"text-align: right;\">\n",
       "      <th></th>\n",
       "      <th>CoinName</th>\n",
       "      <th>Algorithm</th>\n",
       "      <th>ProofType</th>\n",
       "      <th>TotalCoinsMined</th>\n",
       "      <th>TotalCoinSupply</th>\n",
       "    </tr>\n",
       "    <tr>\n",
       "      <th>Unnamed: 0</th>\n",
       "      <th></th>\n",
       "      <th></th>\n",
       "      <th></th>\n",
       "      <th></th>\n",
       "      <th></th>\n",
       "    </tr>\n",
       "  </thead>\n",
       "  <tbody>\n",
       "    <tr>\n",
       "      <th>42</th>\n",
       "      <td>42 Coin</td>\n",
       "      <td>Scrypt</td>\n",
       "      <td>PoW/PoS</td>\n",
       "      <td>4.199995e+01</td>\n",
       "      <td>42</td>\n",
       "    </tr>\n",
       "    <tr>\n",
       "      <th>404</th>\n",
       "      <td>404Coin</td>\n",
       "      <td>Scrypt</td>\n",
       "      <td>PoW/PoS</td>\n",
       "      <td>1.055185e+09</td>\n",
       "      <td>532000000</td>\n",
       "    </tr>\n",
       "    <tr>\n",
       "      <th>1337</th>\n",
       "      <td>EliteCoin</td>\n",
       "      <td>X13</td>\n",
       "      <td>PoW/PoS</td>\n",
       "      <td>2.927942e+10</td>\n",
       "      <td>314159265359</td>\n",
       "    </tr>\n",
       "    <tr>\n",
       "      <th>BTC</th>\n",
       "      <td>Bitcoin</td>\n",
       "      <td>SHA-256</td>\n",
       "      <td>PoW</td>\n",
       "      <td>1.792718e+07</td>\n",
       "      <td>21000000</td>\n",
       "    </tr>\n",
       "    <tr>\n",
       "      <th>LTC</th>\n",
       "      <td>Litecoin</td>\n",
       "      <td>Scrypt</td>\n",
       "      <td>PoW</td>\n",
       "      <td>6.303924e+07</td>\n",
       "      <td>84000000</td>\n",
       "    </tr>\n",
       "  </tbody>\n",
       "</table>\n",
       "</div>"
      ],
      "text/plain": [
       "             CoinName Algorithm ProofType  TotalCoinsMined TotalCoinSupply\n",
       "Unnamed: 0                                                                \n",
       "42            42 Coin    Scrypt   PoW/PoS     4.199995e+01              42\n",
       "404           404Coin    Scrypt   PoW/PoS     1.055185e+09       532000000\n",
       "1337        EliteCoin       X13   PoW/PoS     2.927942e+10    314159265359\n",
       "BTC           Bitcoin   SHA-256       PoW     1.792718e+07        21000000\n",
       "LTC          Litecoin    Scrypt       PoW     6.303924e+07        84000000"
      ]
     },
     "execution_count": 179,
     "metadata": {},
     "output_type": "execute_result"
    }
   ],
   "source": [
    "# Keep the rows where coins are mined.\n",
    "df_crypto[\"TotalCoinsMined\"].isnull().sum()\n",
    "df_crypto[\"TotalCoinsMined\"].dropna()\n",
    "df_crypto.head()"
   ]
  },
  {
   "cell_type": "code",
   "execution_count": 180,
   "metadata": {},
   "outputs": [
    {
     "data": {
      "text/html": [
       "<div>\n",
       "<style scoped>\n",
       "    .dataframe tbody tr th:only-of-type {\n",
       "        vertical-align: middle;\n",
       "    }\n",
       "\n",
       "    .dataframe tbody tr th {\n",
       "        vertical-align: top;\n",
       "    }\n",
       "\n",
       "    .dataframe thead th {\n",
       "        text-align: right;\n",
       "    }\n",
       "</style>\n",
       "<table border=\"1\" class=\"dataframe\">\n",
       "  <thead>\n",
       "    <tr style=\"text-align: right;\">\n",
       "      <th></th>\n",
       "      <th>CoinName</th>\n",
       "    </tr>\n",
       "    <tr>\n",
       "      <th>Unnamed: 0</th>\n",
       "      <th></th>\n",
       "    </tr>\n",
       "  </thead>\n",
       "  <tbody>\n",
       "    <tr>\n",
       "      <th>42</th>\n",
       "      <td>42 Coin</td>\n",
       "    </tr>\n",
       "    <tr>\n",
       "      <th>404</th>\n",
       "      <td>404Coin</td>\n",
       "    </tr>\n",
       "    <tr>\n",
       "      <th>1337</th>\n",
       "      <td>EliteCoin</td>\n",
       "    </tr>\n",
       "    <tr>\n",
       "      <th>BTC</th>\n",
       "      <td>Bitcoin</td>\n",
       "    </tr>\n",
       "    <tr>\n",
       "      <th>LTC</th>\n",
       "      <td>Litecoin</td>\n",
       "    </tr>\n",
       "  </tbody>\n",
       "</table>\n",
       "</div>"
      ],
      "text/plain": [
       "             CoinName\n",
       "Unnamed: 0           \n",
       "42            42 Coin\n",
       "404           404Coin\n",
       "1337        EliteCoin\n",
       "BTC           Bitcoin\n",
       "LTC          Litecoin"
      ]
     },
     "execution_count": 180,
     "metadata": {},
     "output_type": "execute_result"
    }
   ],
   "source": [
    "# Create a new DataFrame that holds only the cryptocurrencies names.\n",
    "df_coinname = df_crypto[\"CoinName\"]\n",
    "pd.DataFrame(df_coinname).head()"
   ]
  },
  {
   "cell_type": "code",
   "execution_count": 181,
   "metadata": {},
   "outputs": [
    {
     "data": {
      "text/html": [
       "<div>\n",
       "<style scoped>\n",
       "    .dataframe tbody tr th:only-of-type {\n",
       "        vertical-align: middle;\n",
       "    }\n",
       "\n",
       "    .dataframe tbody tr th {\n",
       "        vertical-align: top;\n",
       "    }\n",
       "\n",
       "    .dataframe thead th {\n",
       "        text-align: right;\n",
       "    }\n",
       "</style>\n",
       "<table border=\"1\" class=\"dataframe\">\n",
       "  <thead>\n",
       "    <tr style=\"text-align: right;\">\n",
       "      <th></th>\n",
       "      <th>Algorithm</th>\n",
       "      <th>ProofType</th>\n",
       "      <th>TotalCoinsMined</th>\n",
       "      <th>TotalCoinSupply</th>\n",
       "    </tr>\n",
       "    <tr>\n",
       "      <th>Unnamed: 0</th>\n",
       "      <th></th>\n",
       "      <th></th>\n",
       "      <th></th>\n",
       "      <th></th>\n",
       "    </tr>\n",
       "  </thead>\n",
       "  <tbody>\n",
       "    <tr>\n",
       "      <th>42</th>\n",
       "      <td>Scrypt</td>\n",
       "      <td>PoW/PoS</td>\n",
       "      <td>4.199995e+01</td>\n",
       "      <td>42</td>\n",
       "    </tr>\n",
       "    <tr>\n",
       "      <th>404</th>\n",
       "      <td>Scrypt</td>\n",
       "      <td>PoW/PoS</td>\n",
       "      <td>1.055185e+09</td>\n",
       "      <td>532000000</td>\n",
       "    </tr>\n",
       "    <tr>\n",
       "      <th>1337</th>\n",
       "      <td>X13</td>\n",
       "      <td>PoW/PoS</td>\n",
       "      <td>2.927942e+10</td>\n",
       "      <td>314159265359</td>\n",
       "    </tr>\n",
       "    <tr>\n",
       "      <th>BTC</th>\n",
       "      <td>SHA-256</td>\n",
       "      <td>PoW</td>\n",
       "      <td>1.792718e+07</td>\n",
       "      <td>21000000</td>\n",
       "    </tr>\n",
       "    <tr>\n",
       "      <th>LTC</th>\n",
       "      <td>Scrypt</td>\n",
       "      <td>PoW</td>\n",
       "      <td>6.303924e+07</td>\n",
       "      <td>84000000</td>\n",
       "    </tr>\n",
       "  </tbody>\n",
       "</table>\n",
       "</div>"
      ],
      "text/plain": [
       "           Algorithm ProofType  TotalCoinsMined TotalCoinSupply\n",
       "Unnamed: 0                                                     \n",
       "42            Scrypt   PoW/PoS     4.199995e+01              42\n",
       "404           Scrypt   PoW/PoS     1.055185e+09       532000000\n",
       "1337             X13   PoW/PoS     2.927942e+10    314159265359\n",
       "BTC          SHA-256       PoW     1.792718e+07        21000000\n",
       "LTC           Scrypt       PoW     6.303924e+07        84000000"
      ]
     },
     "execution_count": 181,
     "metadata": {},
     "output_type": "execute_result"
    }
   ],
   "source": [
    "# Drop the 'CoinName' column since it's not going to be used on the clustering algorithm.\n",
    "df_crypto = df_crypto.drop(columns=[\"CoinName\"],axis=1)\n",
    "df_crypto.head()"
   ]
  },
  {
   "cell_type": "code",
   "execution_count": 182,
   "metadata": {},
   "outputs": [
    {
     "data": {
      "text/html": [
       "<div>\n",
       "<style scoped>\n",
       "    .dataframe tbody tr th:only-of-type {\n",
       "        vertical-align: middle;\n",
       "    }\n",
       "\n",
       "    .dataframe tbody tr th {\n",
       "        vertical-align: top;\n",
       "    }\n",
       "\n",
       "    .dataframe thead th {\n",
       "        text-align: right;\n",
       "    }\n",
       "</style>\n",
       "<table border=\"1\" class=\"dataframe\">\n",
       "  <thead>\n",
       "    <tr style=\"text-align: right;\">\n",
       "      <th></th>\n",
       "      <th>TotalCoinsMined</th>\n",
       "      <th>TotalCoinSupply</th>\n",
       "      <th>Algorithm_1GB AES Pattern Search</th>\n",
       "      <th>Algorithm_536</th>\n",
       "      <th>Algorithm_Argon2</th>\n",
       "      <th>Algorithm_BLAKE256</th>\n",
       "      <th>Algorithm_Blake</th>\n",
       "      <th>Algorithm_Blake2S</th>\n",
       "      <th>Algorithm_Blake2b</th>\n",
       "      <th>Algorithm_C11</th>\n",
       "      <th>...</th>\n",
       "      <th>ProofType_PoW/PoS</th>\n",
       "      <th>ProofType_PoW/PoS</th>\n",
       "      <th>ProofType_PoW/PoW</th>\n",
       "      <th>ProofType_PoW/nPoS</th>\n",
       "      <th>ProofType_Pos</th>\n",
       "      <th>ProofType_Proof of Authority</th>\n",
       "      <th>ProofType_Proof of Trust</th>\n",
       "      <th>ProofType_TPoS</th>\n",
       "      <th>ProofType_Zero-Knowledge Proof</th>\n",
       "      <th>ProofType_dPoW/PoW</th>\n",
       "    </tr>\n",
       "    <tr>\n",
       "      <th>Unnamed: 0</th>\n",
       "      <th></th>\n",
       "      <th></th>\n",
       "      <th></th>\n",
       "      <th></th>\n",
       "      <th></th>\n",
       "      <th></th>\n",
       "      <th></th>\n",
       "      <th></th>\n",
       "      <th></th>\n",
       "      <th></th>\n",
       "      <th></th>\n",
       "      <th></th>\n",
       "      <th></th>\n",
       "      <th></th>\n",
       "      <th></th>\n",
       "      <th></th>\n",
       "      <th></th>\n",
       "      <th></th>\n",
       "      <th></th>\n",
       "      <th></th>\n",
       "      <th></th>\n",
       "    </tr>\n",
       "  </thead>\n",
       "  <tbody>\n",
       "    <tr>\n",
       "      <th>42</th>\n",
       "      <td>4.199995e+01</td>\n",
       "      <td>42</td>\n",
       "      <td>0</td>\n",
       "      <td>0</td>\n",
       "      <td>0</td>\n",
       "      <td>0</td>\n",
       "      <td>0</td>\n",
       "      <td>0</td>\n",
       "      <td>0</td>\n",
       "      <td>0</td>\n",
       "      <td>...</td>\n",
       "      <td>1</td>\n",
       "      <td>0</td>\n",
       "      <td>0</td>\n",
       "      <td>0</td>\n",
       "      <td>0</td>\n",
       "      <td>0</td>\n",
       "      <td>0</td>\n",
       "      <td>0</td>\n",
       "      <td>0</td>\n",
       "      <td>0</td>\n",
       "    </tr>\n",
       "    <tr>\n",
       "      <th>404</th>\n",
       "      <td>1.055185e+09</td>\n",
       "      <td>532000000</td>\n",
       "      <td>0</td>\n",
       "      <td>0</td>\n",
       "      <td>0</td>\n",
       "      <td>0</td>\n",
       "      <td>0</td>\n",
       "      <td>0</td>\n",
       "      <td>0</td>\n",
       "      <td>0</td>\n",
       "      <td>...</td>\n",
       "      <td>1</td>\n",
       "      <td>0</td>\n",
       "      <td>0</td>\n",
       "      <td>0</td>\n",
       "      <td>0</td>\n",
       "      <td>0</td>\n",
       "      <td>0</td>\n",
       "      <td>0</td>\n",
       "      <td>0</td>\n",
       "      <td>0</td>\n",
       "    </tr>\n",
       "    <tr>\n",
       "      <th>1337</th>\n",
       "      <td>2.927942e+10</td>\n",
       "      <td>314159265359</td>\n",
       "      <td>0</td>\n",
       "      <td>0</td>\n",
       "      <td>0</td>\n",
       "      <td>0</td>\n",
       "      <td>0</td>\n",
       "      <td>0</td>\n",
       "      <td>0</td>\n",
       "      <td>0</td>\n",
       "      <td>...</td>\n",
       "      <td>1</td>\n",
       "      <td>0</td>\n",
       "      <td>0</td>\n",
       "      <td>0</td>\n",
       "      <td>0</td>\n",
       "      <td>0</td>\n",
       "      <td>0</td>\n",
       "      <td>0</td>\n",
       "      <td>0</td>\n",
       "      <td>0</td>\n",
       "    </tr>\n",
       "    <tr>\n",
       "      <th>BTC</th>\n",
       "      <td>1.792718e+07</td>\n",
       "      <td>21000000</td>\n",
       "      <td>0</td>\n",
       "      <td>0</td>\n",
       "      <td>0</td>\n",
       "      <td>0</td>\n",
       "      <td>0</td>\n",
       "      <td>0</td>\n",
       "      <td>0</td>\n",
       "      <td>0</td>\n",
       "      <td>...</td>\n",
       "      <td>0</td>\n",
       "      <td>0</td>\n",
       "      <td>0</td>\n",
       "      <td>0</td>\n",
       "      <td>0</td>\n",
       "      <td>0</td>\n",
       "      <td>0</td>\n",
       "      <td>0</td>\n",
       "      <td>0</td>\n",
       "      <td>0</td>\n",
       "    </tr>\n",
       "    <tr>\n",
       "      <th>LTC</th>\n",
       "      <td>6.303924e+07</td>\n",
       "      <td>84000000</td>\n",
       "      <td>0</td>\n",
       "      <td>0</td>\n",
       "      <td>0</td>\n",
       "      <td>0</td>\n",
       "      <td>0</td>\n",
       "      <td>0</td>\n",
       "      <td>0</td>\n",
       "      <td>0</td>\n",
       "      <td>...</td>\n",
       "      <td>0</td>\n",
       "      <td>0</td>\n",
       "      <td>0</td>\n",
       "      <td>0</td>\n",
       "      <td>0</td>\n",
       "      <td>0</td>\n",
       "      <td>0</td>\n",
       "      <td>0</td>\n",
       "      <td>0</td>\n",
       "      <td>0</td>\n",
       "    </tr>\n",
       "  </tbody>\n",
       "</table>\n",
       "<p>5 rows × 109 columns</p>\n",
       "</div>"
      ],
      "text/plain": [
       "            TotalCoinsMined TotalCoinSupply  Algorithm_1GB AES Pattern Search  \\\n",
       "Unnamed: 0                                                                      \n",
       "42             4.199995e+01              42                                 0   \n",
       "404            1.055185e+09       532000000                                 0   \n",
       "1337           2.927942e+10    314159265359                                 0   \n",
       "BTC            1.792718e+07        21000000                                 0   \n",
       "LTC            6.303924e+07        84000000                                 0   \n",
       "\n",
       "            Algorithm_536  Algorithm_Argon2  Algorithm_BLAKE256  \\\n",
       "Unnamed: 0                                                        \n",
       "42                      0                 0                   0   \n",
       "404                     0                 0                   0   \n",
       "1337                    0                 0                   0   \n",
       "BTC                     0                 0                   0   \n",
       "LTC                     0                 0                   0   \n",
       "\n",
       "            Algorithm_Blake  Algorithm_Blake2S  Algorithm_Blake2b  \\\n",
       "Unnamed: 0                                                          \n",
       "42                        0                  0                  0   \n",
       "404                       0                  0                  0   \n",
       "1337                      0                  0                  0   \n",
       "BTC                       0                  0                  0   \n",
       "LTC                       0                  0                  0   \n",
       "\n",
       "            Algorithm_C11  ...  ProofType_PoW/PoS  ProofType_PoW/PoS   \\\n",
       "Unnamed: 0                 ...                                          \n",
       "42                      0  ...                  1                   0   \n",
       "404                     0  ...                  1                   0   \n",
       "1337                    0  ...                  1                   0   \n",
       "BTC                     0  ...                  0                   0   \n",
       "LTC                     0  ...                  0                   0   \n",
       "\n",
       "            ProofType_PoW/PoW  ProofType_PoW/nPoS  ProofType_Pos  \\\n",
       "Unnamed: 0                                                         \n",
       "42                          0                   0              0   \n",
       "404                         0                   0              0   \n",
       "1337                        0                   0              0   \n",
       "BTC                         0                   0              0   \n",
       "LTC                         0                   0              0   \n",
       "\n",
       "            ProofType_Proof of Authority  ProofType_Proof of Trust  \\\n",
       "Unnamed: 0                                                           \n",
       "42                                     0                         0   \n",
       "404                                    0                         0   \n",
       "1337                                   0                         0   \n",
       "BTC                                    0                         0   \n",
       "LTC                                    0                         0   \n",
       "\n",
       "            ProofType_TPoS  ProofType_Zero-Knowledge Proof  ProofType_dPoW/PoW  \n",
       "Unnamed: 0                                                                      \n",
       "42                       0                               0                   0  \n",
       "404                      0                               0                   0  \n",
       "1337                     0                               0                   0  \n",
       "BTC                      0                               0                   0  \n",
       "LTC                      0                               0                   0  \n",
       "\n",
       "[5 rows x 109 columns]"
      ]
     },
     "execution_count": 182,
     "metadata": {},
     "output_type": "execute_result"
    }
   ],
   "source": [
    "# Use get_dummies() to create variables for text features.\n",
    "df_crypto_encoded = pd.get_dummies(df_crypto, columns=[\"Algorithm\", \"ProofType\"])\n",
    "df_crypto_encoded.head()"
   ]
  },
  {
   "cell_type": "code",
   "execution_count": 183,
   "metadata": {},
   "outputs": [
    {
     "data": {
      "text/plain": [
       "array([[-0.09548029, -0.03793466, -0.03793216, ..., -0.03793216,\n",
       "        -0.03793216, -0.03793216],\n",
       "       [-0.06880727, -0.03793451, -0.03793216, ..., -0.03793216,\n",
       "        -0.03793216, -0.03793216],\n",
       "       [ 0.64464654, -0.03784474, -0.03793216, ..., -0.03793216,\n",
       "        -0.03793216, -0.03793216],\n",
       "       ...,\n",
       "       [-0.09529585, -0.03793466, -0.03793216, ..., -0.03793216,\n",
       "        -0.03793216, -0.03793216],\n",
       "       [-0.09547705, -0.03793466, -0.03793216, ..., -0.03793216,\n",
       "        -0.03793216, -0.03793216],\n",
       "       [-0.09493704, -0.03793463, -0.03793216, ..., -0.03793216,\n",
       "        -0.03793216, -0.03793216]])"
      ]
     },
     "execution_count": 183,
     "metadata": {},
     "output_type": "execute_result"
    }
   ],
   "source": [
    "# Standardize the data with StandardScaler().\n",
    "data_scaler = StandardScaler()\n",
    "crypto_data_scaled = data_scaler.fit_transform(df_crypto_encoded)\n",
    "crypto_data_scaled"
   ]
  },
  {
   "cell_type": "markdown",
   "metadata": {},
   "source": [
    "### Deliverable 2: Reducing Data Dimensions Using PCA"
   ]
  },
  {
   "cell_type": "code",
   "execution_count": 184,
   "metadata": {},
   "outputs": [
    {
     "data": {
      "text/plain": [
       "array([[-0.11609831,  1.28533363, -0.51909794],\n",
       "       [-0.10085186,  1.28329362, -0.51974801],\n",
       "       [ 0.49230243,  1.85465085, -0.51696972],\n",
       "       ...,\n",
       "       [-0.46424308, -1.86484101,  0.27631254],\n",
       "       [-0.11535029,  0.94278194, -0.24142982],\n",
       "       [-0.11578778,  1.28529208, -0.51911118]])"
      ]
     },
     "execution_count": 184,
     "metadata": {},
     "output_type": "execute_result"
    }
   ],
   "source": [
    "# Using PCA to reduce dimension to three principal components.\n",
    "# Initialize PCA model\n",
    "pca = PCA(n_components=3)\n",
    "\n",
    "# Get three principal components for the data\n",
    "crypto_pca = pca.fit_transform(crypto_data_scaled)\n",
    "crypto_pca"
   ]
  },
  {
   "cell_type": "code",
   "execution_count": 185,
   "metadata": {},
   "outputs": [
    {
     "data": {
      "text/html": [
       "<div>\n",
       "<style scoped>\n",
       "    .dataframe tbody tr th:only-of-type {\n",
       "        vertical-align: middle;\n",
       "    }\n",
       "\n",
       "    .dataframe tbody tr th {\n",
       "        vertical-align: top;\n",
       "    }\n",
       "\n",
       "    .dataframe thead th {\n",
       "        text-align: right;\n",
       "    }\n",
       "</style>\n",
       "<table border=\"1\" class=\"dataframe\">\n",
       "  <thead>\n",
       "    <tr style=\"text-align: right;\">\n",
       "      <th></th>\n",
       "      <th>PC 1</th>\n",
       "      <th>PC 2</th>\n",
       "      <th>PC 3</th>\n",
       "    </tr>\n",
       "    <tr>\n",
       "      <th>Unnamed: 0</th>\n",
       "      <th></th>\n",
       "      <th></th>\n",
       "      <th></th>\n",
       "    </tr>\n",
       "  </thead>\n",
       "  <tbody>\n",
       "    <tr>\n",
       "      <th>42</th>\n",
       "      <td>-0.116098</td>\n",
       "      <td>1.285334</td>\n",
       "      <td>-0.519098</td>\n",
       "    </tr>\n",
       "    <tr>\n",
       "      <th>404</th>\n",
       "      <td>-0.100852</td>\n",
       "      <td>1.283294</td>\n",
       "      <td>-0.519748</td>\n",
       "    </tr>\n",
       "    <tr>\n",
       "      <th>1337</th>\n",
       "      <td>0.492302</td>\n",
       "      <td>1.854651</td>\n",
       "      <td>-0.516970</td>\n",
       "    </tr>\n",
       "    <tr>\n",
       "      <th>BTC</th>\n",
       "      <td>-0.197199</td>\n",
       "      <td>-1.509533</td>\n",
       "      <td>0.152186</td>\n",
       "    </tr>\n",
       "    <tr>\n",
       "      <th>LTC</th>\n",
       "      <td>-0.288493</td>\n",
       "      <td>-0.950524</td>\n",
       "      <td>-0.041919</td>\n",
       "    </tr>\n",
       "  </tbody>\n",
       "</table>\n",
       "</div>"
      ],
      "text/plain": [
       "                PC 1      PC 2      PC 3\n",
       "Unnamed: 0                              \n",
       "42         -0.116098  1.285334 -0.519098\n",
       "404        -0.100852  1.283294 -0.519748\n",
       "1337        0.492302  1.854651 -0.516970\n",
       "BTC        -0.197199 -1.509533  0.152186\n",
       "LTC        -0.288493 -0.950524 -0.041919"
      ]
     },
     "execution_count": 185,
     "metadata": {},
     "output_type": "execute_result"
    }
   ],
   "source": [
    "# Create a DataFrame with the three principal components.\n",
    "df_crypto_pca = pd.DataFrame(data = crypto_pca, columns = [\"PC 1\", \"PC 2\", \"PC 3\"], index = df_crypto.index)\n",
    "df_crypto_pca.head()\n"
   ]
  },
  {
   "cell_type": "markdown",
   "metadata": {},
   "source": [
    "### Deliverable 3: Clustering Crytocurrencies Using K-Means\n",
    "\n",
    "#### Finding the Best Value for `k` Using the Elbow Curve"
   ]
  },
  {
   "cell_type": "code",
   "execution_count": 186,
   "metadata": {},
   "outputs": [
    {
     "data": {},
     "metadata": {},
     "output_type": "display_data"
    },
    {
     "data": {
      "application/vnd.holoviews_exec.v0+json": "",
      "text/html": [
       "<div id='1658'>\n",
       "\n",
       "\n",
       "\n",
       "\n",
       "\n",
       "  <div class=\"bk-root\" id=\"a1e887dc-5c1a-476f-9dde-61588ca3f31b\" data-root-id=\"1658\"></div>\n",
       "</div>\n",
       "<script type=\"application/javascript\">(function(root) {\n",
       "  function embed_document(root) {\n",
       "    var docs_json = {\"6c63e081-8d29-4b2c-ab53-116a335a7a2e\":{\"defs\":[{\"extends\":null,\"module\":null,\"name\":\"ReactiveHTML1\",\"overrides\":[],\"properties\":[]},{\"extends\":null,\"module\":null,\"name\":\"FlexBox1\",\"overrides\":[],\"properties\":[{\"default\":\"flex-start\",\"kind\":null,\"name\":\"align_content\"},{\"default\":\"flex-start\",\"kind\":null,\"name\":\"align_items\"},{\"default\":\"row\",\"kind\":null,\"name\":\"flex_direction\"},{\"default\":\"wrap\",\"kind\":null,\"name\":\"flex_wrap\"},{\"default\":\"flex-start\",\"kind\":null,\"name\":\"justify_content\"}]},{\"extends\":null,\"module\":null,\"name\":\"TemplateActions1\",\"overrides\":[],\"properties\":[{\"default\":0,\"kind\":null,\"name\":\"open_modal\"},{\"default\":0,\"kind\":null,\"name\":\"close_modal\"}]},{\"extends\":null,\"module\":null,\"name\":\"MaterialTemplateActions1\",\"overrides\":[],\"properties\":[{\"default\":0,\"kind\":null,\"name\":\"open_modal\"},{\"default\":0,\"kind\":null,\"name\":\"close_modal\"}]}],\"roots\":{\"references\":[{\"attributes\":{\"margin\":[5,5,5,5],\"name\":\"HSpacer02887\",\"sizing_mode\":\"stretch_width\"},\"id\":\"1659\",\"type\":\"Spacer\"},{\"attributes\":{\"line_color\":\"#30a2da\",\"line_width\":2,\"x\":{\"field\":\"k\"},\"y\":{\"field\":\"inertia\"}},\"id\":\"1701\",\"type\":\"Line\"},{\"attributes\":{\"children\":[{\"id\":\"1659\"},{\"id\":\"1663\"},{\"id\":\"1729\"}],\"margin\":[0,0,0,0],\"name\":\"Row02883\",\"tags\":[\"embedded\"]},\"id\":\"1658\",\"type\":\"Row\"},{\"attributes\":{\"margin\":[5,5,5,5],\"name\":\"HSpacer02888\",\"sizing_mode\":\"stretch_width\"},\"id\":\"1729\",\"type\":\"Spacer\"},{\"attributes\":{\"active_multi\":null,\"tools\":[{\"id\":\"1662\"},{\"id\":\"1680\"},{\"id\":\"1681\"},{\"id\":\"1682\"},{\"id\":\"1683\"},{\"id\":\"1684\"}]},\"id\":\"1686\",\"type\":\"Toolbar\"},{\"attributes\":{},\"id\":\"1680\",\"type\":\"SaveTool\"},{\"attributes\":{\"source\":{\"id\":\"1693\"}},\"id\":\"1700\",\"type\":\"CDSView\"},{\"attributes\":{},\"id\":\"1704\",\"type\":\"AllLabels\"},{\"attributes\":{},\"id\":\"1681\",\"type\":\"PanTool\"},{\"attributes\":{\"callback\":null,\"renderers\":[{\"id\":\"1699\"}],\"tags\":[\"hv_created\"],\"tooltips\":[[\"k\",\"@{k}\"],[\"inertia\",\"@{inertia}\"]]},\"id\":\"1662\",\"type\":\"HoverTool\"},{\"attributes\":{},\"id\":\"1682\",\"type\":\"WheelZoomTool\"},{\"attributes\":{\"below\":[{\"id\":\"1672\"}],\"center\":[{\"id\":\"1675\"},{\"id\":\"1679\"}],\"height\":300,\"left\":[{\"id\":\"1676\"}],\"margin\":[5,5,5,5],\"min_border_bottom\":10,\"min_border_left\":10,\"min_border_right\":10,\"min_border_top\":10,\"renderers\":[{\"id\":\"1699\"}],\"sizing_mode\":\"fixed\",\"title\":{\"id\":\"1664\"},\"toolbar\":{\"id\":\"1686\"},\"width\":700,\"x_range\":{\"id\":\"1660\"},\"x_scale\":{\"id\":\"1668\"},\"y_range\":{\"id\":\"1661\"},\"y_scale\":{\"id\":\"1670\"}},\"id\":\"1663\",\"subtype\":\"Figure\",\"type\":\"Plot\"},{\"attributes\":{},\"id\":\"1709\",\"type\":\"AllLabels\"},{\"attributes\":{\"data\":{\"inertia\":{\"__ndarray__\":\"GpxBU15LsUCufI/BuneoQGQ2EP3pwZxAWpH6UlK1hUBaBVhrcH55QOYxaA9hD3RAuWAiK8/wbUA3G4TiCZlmQFAiBmkAAWJARHw0vX3dXkA=\",\"dtype\":\"float64\",\"order\":\"little\",\"shape\":[10]},\"k\":[1,2,3,4,5,6,7,8,9,10]},\"selected\":{\"id\":\"1694\"},\"selection_policy\":{\"id\":\"1719\"}},\"id\":\"1693\",\"type\":\"ColumnDataSource\"},{\"attributes\":{},\"id\":\"1694\",\"type\":\"Selection\"},{\"attributes\":{\"axis_label\":\"k\",\"formatter\":{\"id\":\"1703\"},\"major_label_policy\":{\"id\":\"1704\"},\"ticker\":{\"id\":\"1702\"}},\"id\":\"1672\",\"type\":\"LinearAxis\"},{\"attributes\":{},\"id\":\"1668\",\"type\":\"LinearScale\"},{\"attributes\":{},\"id\":\"1703\",\"type\":\"BasicTickFormatter\"},{\"attributes\":{\"overlay\":{\"id\":\"1685\"}},\"id\":\"1683\",\"type\":\"BoxZoomTool\"},{\"attributes\":{},\"id\":\"1670\",\"type\":\"LinearScale\"},{\"attributes\":{\"ticks\":[1,2,3,4,5,6,7,8,9,10]},\"id\":\"1702\",\"type\":\"FixedTicker\"},{\"attributes\":{},\"id\":\"1684\",\"type\":\"ResetTool\"},{\"attributes\":{\"axis\":{\"id\":\"1676\"},\"dimension\":1,\"grid_line_color\":null,\"ticker\":null},\"id\":\"1679\",\"type\":\"Grid\"},{\"attributes\":{\"text\":\"Elbow Curve\",\"text_color\":\"black\",\"text_font_size\":\"12pt\"},\"id\":\"1664\",\"type\":\"Title\"},{\"attributes\":{\"end\":4857.759223728701,\"reset_end\":4857.759223728701,\"reset_start\":-306.92996633403806,\"start\":-306.92996633403806,\"tags\":[[[\"inertia\",\"inertia\",null]]]},\"id\":\"1661\",\"type\":\"Range1d\"},{\"attributes\":{},\"id\":\"1708\",\"type\":\"BasicTickFormatter\"},{\"attributes\":{},\"id\":\"1719\",\"type\":\"UnionRenderers\"},{\"attributes\":{\"line_alpha\":0.1,\"line_color\":\"#30a2da\",\"line_width\":2,\"x\":{\"field\":\"k\"},\"y\":{\"field\":\"inertia\"}},\"id\":\"1697\",\"type\":\"Line\"},{\"attributes\":{\"axis\":{\"id\":\"1672\"},\"grid_line_color\":null,\"ticker\":null},\"id\":\"1675\",\"type\":\"Grid\"},{\"attributes\":{},\"id\":\"1677\",\"type\":\"BasicTicker\"},{\"attributes\":{\"axis_label\":\"inertia\",\"formatter\":{\"id\":\"1708\"},\"major_label_policy\":{\"id\":\"1709\"},\"ticker\":{\"id\":\"1677\"}},\"id\":\"1676\",\"type\":\"LinearAxis\"},{\"attributes\":{\"end\":10.0,\"reset_end\":10.0,\"reset_start\":1.0,\"start\":1.0,\"tags\":[[[\"k\",\"k\",null]]]},\"id\":\"1660\",\"type\":\"Range1d\"},{\"attributes\":{\"data_source\":{\"id\":\"1693\"},\"glyph\":{\"id\":\"1696\"},\"hover_glyph\":null,\"muted_glyph\":{\"id\":\"1698\"},\"nonselection_glyph\":{\"id\":\"1697\"},\"selection_glyph\":{\"id\":\"1701\"},\"view\":{\"id\":\"1700\"}},\"id\":\"1699\",\"type\":\"GlyphRenderer\"},{\"attributes\":{\"line_color\":\"#30a2da\",\"line_width\":2,\"x\":{\"field\":\"k\"},\"y\":{\"field\":\"inertia\"}},\"id\":\"1696\",\"type\":\"Line\"},{\"attributes\":{\"bottom_units\":\"screen\",\"fill_alpha\":0.5,\"fill_color\":\"lightgrey\",\"left_units\":\"screen\",\"level\":\"overlay\",\"line_alpha\":1.0,\"line_color\":\"black\",\"line_dash\":[4,4],\"line_width\":2,\"right_units\":\"screen\",\"syncable\":false,\"top_units\":\"screen\"},\"id\":\"1685\",\"type\":\"BoxAnnotation\"},{\"attributes\":{\"line_alpha\":0.2,\"line_color\":\"#30a2da\",\"line_width\":2,\"x\":{\"field\":\"k\"},\"y\":{\"field\":\"inertia\"}},\"id\":\"1698\",\"type\":\"Line\"}],\"root_ids\":[\"1658\"]},\"title\":\"Bokeh Application\",\"version\":\"2.3.3\"}};\n",
       "    var render_items = [{\"docid\":\"6c63e081-8d29-4b2c-ab53-116a335a7a2e\",\"root_ids\":[\"1658\"],\"roots\":{\"1658\":\"a1e887dc-5c1a-476f-9dde-61588ca3f31b\"}}];\n",
       "    root.Bokeh.embed.embed_items_notebook(docs_json, render_items);\n",
       "  }\n",
       "  if (root.Bokeh !== undefined && root.Bokeh.Panel !== undefined) {\n",
       "    embed_document(root);\n",
       "  } else {\n",
       "    var attempts = 0;\n",
       "    var timer = setInterval(function(root) {\n",
       "      if (root.Bokeh !== undefined && root.Bokeh.Panel !== undefined) {\n",
       "        clearInterval(timer);\n",
       "        embed_document(root);\n",
       "      } else if (document.readyState == \"complete\") {\n",
       "        attempts++;\n",
       "        if (attempts > 200) {\n",
       "          clearInterval(timer);\n",
       "          console.log(\"Bokeh: ERROR: Unable to run BokehJS code because BokehJS library is missing\");\n",
       "        }\n",
       "      }\n",
       "    }, 25, root)\n",
       "  }\n",
       "})(window);</script>"
      ],
      "text/plain": [
       ":Curve   [k]   (inertia)"
      ]
     },
     "execution_count": 186,
     "metadata": {
      "application/vnd.holoviews_exec.v0+json": {
       "id": "1658"
      }
     },
     "output_type": "execute_result"
    }
   ],
   "source": [
    "# Create an elbow curve to find the best value for K.\n",
    "inertia = []\n",
    "k = list(range(1, 11))\n",
    "\n",
    "# Calculate the inertia for the range of K values\n",
    "for i in k:\n",
    "    km = KMeans(n_clusters=i, random_state=0)\n",
    "    km.fit(df_crypto_pca)\n",
    "    inertia.append(km.inertia_)\n",
    "    \n",
    "elbow_data = {\"k\": k, \"inertia\": inertia}\n",
    "df_elbow = pd.DataFrame(elbow_data)\n",
    "df_elbow.hvplot.line(x=\"k\", y=\"inertia\", xticks=k, title=\"Elbow Curve\")\n"
   ]
  },
  {
   "cell_type": "markdown",
   "metadata": {},
   "source": [
    "Running K-Means with `k=4`"
   ]
  },
  {
   "cell_type": "code",
   "execution_count": 187,
   "metadata": {},
   "outputs": [
    {
     "data": {
      "text/html": [
       "<div>\n",
       "<style scoped>\n",
       "    .dataframe tbody tr th:only-of-type {\n",
       "        vertical-align: middle;\n",
       "    }\n",
       "\n",
       "    .dataframe tbody tr th {\n",
       "        vertical-align: top;\n",
       "    }\n",
       "\n",
       "    .dataframe thead th {\n",
       "        text-align: right;\n",
       "    }\n",
       "</style>\n",
       "<table border=\"1\" class=\"dataframe\">\n",
       "  <thead>\n",
       "    <tr style=\"text-align: right;\">\n",
       "      <th></th>\n",
       "      <th>PC 1</th>\n",
       "      <th>PC 2</th>\n",
       "      <th>PC 3</th>\n",
       "      <th>class</th>\n",
       "    </tr>\n",
       "    <tr>\n",
       "      <th>Unnamed: 0</th>\n",
       "      <th></th>\n",
       "      <th></th>\n",
       "      <th></th>\n",
       "      <th></th>\n",
       "    </tr>\n",
       "  </thead>\n",
       "  <tbody>\n",
       "    <tr>\n",
       "      <th>42</th>\n",
       "      <td>-0.116098</td>\n",
       "      <td>1.285334</td>\n",
       "      <td>-0.519098</td>\n",
       "      <td>3</td>\n",
       "    </tr>\n",
       "    <tr>\n",
       "      <th>404</th>\n",
       "      <td>-0.100852</td>\n",
       "      <td>1.283294</td>\n",
       "      <td>-0.519748</td>\n",
       "      <td>3</td>\n",
       "    </tr>\n",
       "    <tr>\n",
       "      <th>1337</th>\n",
       "      <td>0.492302</td>\n",
       "      <td>1.854651</td>\n",
       "      <td>-0.516970</td>\n",
       "      <td>3</td>\n",
       "    </tr>\n",
       "    <tr>\n",
       "      <th>BTC</th>\n",
       "      <td>-0.197199</td>\n",
       "      <td>-1.509533</td>\n",
       "      <td>0.152186</td>\n",
       "      <td>1</td>\n",
       "    </tr>\n",
       "    <tr>\n",
       "      <th>LTC</th>\n",
       "      <td>-0.288493</td>\n",
       "      <td>-0.950524</td>\n",
       "      <td>-0.041919</td>\n",
       "      <td>1</td>\n",
       "    </tr>\n",
       "  </tbody>\n",
       "</table>\n",
       "</div>"
      ],
      "text/plain": [
       "                PC 1      PC 2      PC 3  class\n",
       "Unnamed: 0                                     \n",
       "42         -0.116098  1.285334 -0.519098      3\n",
       "404        -0.100852  1.283294 -0.519748      3\n",
       "1337        0.492302  1.854651 -0.516970      3\n",
       "BTC        -0.197199 -1.509533  0.152186      1\n",
       "LTC        -0.288493 -0.950524 -0.041919      1"
      ]
     },
     "execution_count": 187,
     "metadata": {},
     "output_type": "execute_result"
    }
   ],
   "source": [
    "# Initialize the K-Means model.\n",
    "def get_clusters(k, data):\n",
    "    # Create a copy of the DataFrame\n",
    "    data = data.copy()\n",
    "\n",
    "    # Initialize the K-Means model\n",
    "    model = KMeans(n_clusters=k, random_state=0)\n",
    "\n",
    "    # Fit the model\n",
    "    model.fit(data)\n",
    "\n",
    "    # Predict clusters\n",
    "    predictions = model.predict(data)\n",
    "\n",
    "    # Create return DataFrame with predicted clusters\n",
    "    data[\"class\"] = model.labels_\n",
    "\n",
    "    return data\n",
    "\n",
    "# Fit the model and predict clusters\n",
    "four_clusters = get_clusters(4, df_crypto_pca)\n",
    "four_clusters.head()"
   ]
  },
  {
   "cell_type": "code",
   "execution_count": 188,
   "metadata": {},
   "outputs": [
    {
     "name": "stdout",
     "output_type": "stream",
     "text": [
      "(696, 9)\n"
     ]
    },
    {
     "data": {
      "text/html": [
       "<div>\n",
       "<style scoped>\n",
       "    .dataframe tbody tr th:only-of-type {\n",
       "        vertical-align: middle;\n",
       "    }\n",
       "\n",
       "    .dataframe tbody tr th {\n",
       "        vertical-align: top;\n",
       "    }\n",
       "\n",
       "    .dataframe thead th {\n",
       "        text-align: right;\n",
       "    }\n",
       "</style>\n",
       "<table border=\"1\" class=\"dataframe\">\n",
       "  <thead>\n",
       "    <tr style=\"text-align: right;\">\n",
       "      <th></th>\n",
       "      <th>PC 1</th>\n",
       "      <th>PC 2</th>\n",
       "      <th>PC 3</th>\n",
       "      <th>class</th>\n",
       "      <th>CoinName</th>\n",
       "      <th>Algorithm</th>\n",
       "      <th>ProofType</th>\n",
       "      <th>TotalCoinsMined</th>\n",
       "      <th>TotalCoinSupply</th>\n",
       "    </tr>\n",
       "    <tr>\n",
       "      <th>Unnamed: 0</th>\n",
       "      <th></th>\n",
       "      <th></th>\n",
       "      <th></th>\n",
       "      <th></th>\n",
       "      <th></th>\n",
       "      <th></th>\n",
       "      <th></th>\n",
       "      <th></th>\n",
       "      <th></th>\n",
       "    </tr>\n",
       "  </thead>\n",
       "  <tbody>\n",
       "    <tr>\n",
       "      <th>42</th>\n",
       "      <td>-0.116098</td>\n",
       "      <td>1.285334</td>\n",
       "      <td>-0.519098</td>\n",
       "      <td>3</td>\n",
       "      <td>42 Coin</td>\n",
       "      <td>Scrypt</td>\n",
       "      <td>PoW/PoS</td>\n",
       "      <td>4.199995e+01</td>\n",
       "      <td>42</td>\n",
       "    </tr>\n",
       "    <tr>\n",
       "      <th>404</th>\n",
       "      <td>-0.100852</td>\n",
       "      <td>1.283294</td>\n",
       "      <td>-0.519748</td>\n",
       "      <td>3</td>\n",
       "      <td>404Coin</td>\n",
       "      <td>Scrypt</td>\n",
       "      <td>PoW/PoS</td>\n",
       "      <td>1.055185e+09</td>\n",
       "      <td>532000000</td>\n",
       "    </tr>\n",
       "    <tr>\n",
       "      <th>1337</th>\n",
       "      <td>0.492302</td>\n",
       "      <td>1.854651</td>\n",
       "      <td>-0.516970</td>\n",
       "      <td>3</td>\n",
       "      <td>EliteCoin</td>\n",
       "      <td>X13</td>\n",
       "      <td>PoW/PoS</td>\n",
       "      <td>2.927942e+10</td>\n",
       "      <td>314159265359</td>\n",
       "    </tr>\n",
       "    <tr>\n",
       "      <th>BTC</th>\n",
       "      <td>-0.197199</td>\n",
       "      <td>-1.509533</td>\n",
       "      <td>0.152186</td>\n",
       "      <td>1</td>\n",
       "      <td>Bitcoin</td>\n",
       "      <td>SHA-256</td>\n",
       "      <td>PoW</td>\n",
       "      <td>1.792718e+07</td>\n",
       "      <td>21000000</td>\n",
       "    </tr>\n",
       "    <tr>\n",
       "      <th>LTC</th>\n",
       "      <td>-0.288493</td>\n",
       "      <td>-0.950524</td>\n",
       "      <td>-0.041919</td>\n",
       "      <td>1</td>\n",
       "      <td>Litecoin</td>\n",
       "      <td>Scrypt</td>\n",
       "      <td>PoW</td>\n",
       "      <td>6.303924e+07</td>\n",
       "      <td>84000000</td>\n",
       "    </tr>\n",
       "    <tr>\n",
       "      <th>DASH</th>\n",
       "      <td>-0.098608</td>\n",
       "      <td>1.427544</td>\n",
       "      <td>-0.416499</td>\n",
       "      <td>3</td>\n",
       "      <td>Dash</td>\n",
       "      <td>X11</td>\n",
       "      <td>PoW/PoS</td>\n",
       "      <td>9.031294e+06</td>\n",
       "      <td>22000000</td>\n",
       "    </tr>\n",
       "    <tr>\n",
       "      <th>ETC</th>\n",
       "      <td>-0.319893</td>\n",
       "      <td>-2.039286</td>\n",
       "      <td>0.327299</td>\n",
       "      <td>1</td>\n",
       "      <td>Ethereum Classic</td>\n",
       "      <td>Ethash</td>\n",
       "      <td>PoW</td>\n",
       "      <td>1.133597e+08</td>\n",
       "      <td>210000000</td>\n",
       "    </tr>\n",
       "    <tr>\n",
       "      <th>ZEC</th>\n",
       "      <td>-0.464242</td>\n",
       "      <td>-1.864841</td>\n",
       "      <td>0.276312</td>\n",
       "      <td>1</td>\n",
       "      <td>ZCash</td>\n",
       "      <td>Equihash</td>\n",
       "      <td>PoW</td>\n",
       "      <td>7.383056e+06</td>\n",
       "      <td>21000000</td>\n",
       "    </tr>\n",
       "    <tr>\n",
       "      <th>BTS</th>\n",
       "      <td>0.319486</td>\n",
       "      <td>1.163961</td>\n",
       "      <td>-0.259268</td>\n",
       "      <td>3</td>\n",
       "      <td>Bitshares</td>\n",
       "      <td>SHA-512</td>\n",
       "      <td>PoS</td>\n",
       "      <td>2.741570e+09</td>\n",
       "      <td>3600570502</td>\n",
       "    </tr>\n",
       "    <tr>\n",
       "      <th>DGB</th>\n",
       "      <td>-0.088224</td>\n",
       "      <td>-1.812708</td>\n",
       "      <td>0.241799</td>\n",
       "      <td>1</td>\n",
       "      <td>DigiByte</td>\n",
       "      <td>Multiple</td>\n",
       "      <td>PoW</td>\n",
       "      <td>1.140622e+10</td>\n",
       "      <td>21000000000</td>\n",
       "    </tr>\n",
       "  </tbody>\n",
       "</table>\n",
       "</div>"
      ],
      "text/plain": [
       "                PC 1      PC 2      PC 3  class          CoinName Algorithm  \\\n",
       "Unnamed: 0                                                                    \n",
       "42         -0.116098  1.285334 -0.519098      3           42 Coin    Scrypt   \n",
       "404        -0.100852  1.283294 -0.519748      3           404Coin    Scrypt   \n",
       "1337        0.492302  1.854651 -0.516970      3         EliteCoin       X13   \n",
       "BTC        -0.197199 -1.509533  0.152186      1           Bitcoin   SHA-256   \n",
       "LTC        -0.288493 -0.950524 -0.041919      1          Litecoin    Scrypt   \n",
       "DASH       -0.098608  1.427544 -0.416499      3              Dash       X11   \n",
       "ETC        -0.319893 -2.039286  0.327299      1  Ethereum Classic    Ethash   \n",
       "ZEC        -0.464242 -1.864841  0.276312      1             ZCash  Equihash   \n",
       "BTS         0.319486  1.163961 -0.259268      3         Bitshares   SHA-512   \n",
       "DGB        -0.088224 -1.812708  0.241799      1          DigiByte  Multiple   \n",
       "\n",
       "           ProofType  TotalCoinsMined TotalCoinSupply  \n",
       "Unnamed: 0                                             \n",
       "42           PoW/PoS     4.199995e+01              42  \n",
       "404          PoW/PoS     1.055185e+09       532000000  \n",
       "1337         PoW/PoS     2.927942e+10    314159265359  \n",
       "BTC              PoW     1.792718e+07        21000000  \n",
       "LTC              PoW     6.303924e+07        84000000  \n",
       "DASH         PoW/PoS     9.031294e+06        22000000  \n",
       "ETC              PoW     1.133597e+08       210000000  \n",
       "ZEC              PoW     7.383056e+06        21000000  \n",
       "BTS              PoS     2.741570e+09      3600570502  \n",
       "DGB              PoW     1.140622e+10     21000000000  "
      ]
     },
     "execution_count": 188,
     "metadata": {},
     "output_type": "execute_result"
    }
   ],
   "source": [
    "# Create a new DataFrame including predicted clusters and cryptocurrencies features.\n",
    "# Concatentate the crypto_df and pcs_df DataFrames on the same columns.\n",
    "clustered_df = pd.concat([four_clusters, df_coinname, df_crypto], axis=1)\n",
    "\n",
    "# Print the shape of the clustered_df\n",
    "print(clustered_df.shape)\n",
    "clustered_df.head(10)"
   ]
  },
  {
   "cell_type": "markdown",
   "metadata": {},
   "source": [
    "### Deliverable 4: Visualizing Cryptocurrencies Results\n",
    "#### 3D-Scatter with Clusters"
   ]
  },
  {
   "cell_type": "code",
   "execution_count": 189,
   "metadata": {},
   "outputs": [
    {
     "data": {
      "application/vnd.plotly.v1+json": {
       "config": {
        "plotlyServerURL": "https://plot.ly"
       },
       "data": [
        {
         "customdata": [
          [
           "Scrypt",
           "42 Coin"
          ],
          [
           "Scrypt",
           "404Coin"
          ],
          [
           "X13",
           "EliteCoin"
          ],
          [
           "X11",
           "Dash"
          ],
          [
           "SHA-512",
           "Bitshares"
          ],
          [
           "SHA-256",
           "BitcoinDark"
          ],
          [
           "X11",
           "Bitstake"
          ],
          [
           "SHA-256",
           "PayCoin"
          ],
          [
           "X15",
           "KoboCoin"
          ],
          [
           "X13",
           "Aero Coin"
          ],
          [
           "X13",
           "ApexCoin"
          ],
          [
           "Scrypt",
           "ArchCoin"
          ],
          [
           "Scrypt",
           "Aurora Coin"
          ],
          [
           "Scrypt",
           "BitBar"
          ],
          [
           "Scrypt",
           "CashCoin"
          ],
          [
           "Scrypt",
           "CryptoBullion"
          ],
          [
           "Multiple",
           "CinderCoin"
          ],
          [
           "Scrypt",
           "CoolCoin"
          ],
          [
           "Scrypt",
           "CasinoCoin"
          ],
          [
           "Groestl",
           "Diamond"
          ],
          [
           "X11",
           "DarkCash"
          ],
          [
           "X11",
           "Fuel2Coin"
          ],
          [
           "NIST5",
           "FIBRE"
          ],
          [
           "X11",
           "GlyphCoin"
          ],
          [
           "Scrypt",
           "HoboNickels"
          ],
          [
           "X11",
           "IOCoin"
          ],
          [
           "X11",
           "JumBucks Coin"
          ],
          [
           "X13",
           "JudgeCoin"
          ],
          [
           "X11",
           "LibrexCoin"
          ],
          [
           "SHA3",
           "MaxCoin"
          ],
          [
           "SHA-256",
           "MazaCoin"
          ],
          [
           "Scrypt",
           "Nautilus Coin"
          ],
          [
           "NeoScrypt",
           "Orbitcoin"
          ],
          [
           "Scrypt",
           "PotCoin"
          ],
          [
           "Scrypt",
           "PhoenixCoin"
          ],
          [
           "X15",
           "ShieldCoin"
          ],
          [
           "Scrypt",
           "SilkCoin"
          ],
          [
           "X11",
           "SyncCoin"
          ],
          [
           "Multiple",
           "TeslaCoin"
          ],
          [
           "PHI1612",
           "TittieCoin"
          ],
          [
           "X11",
           "TorCoin"
          ],
          [
           "Scrypt",
           "UnitaryStatus Dollar"
          ],
          [
           "Scrypt",
           "UltraCoin"
          ],
          [
           "Scrypt",
           "SocialXbotCoin"
          ],
          [
           "X11",
           "X11 Coin"
          ],
          [
           "Scrypt",
           "XXXCoin"
          ],
          [
           "Scrypt",
           "ZCC Coin"
          ],
          [
           "Shabal256",
           "BurstCoin"
          ],
          [
           "Counterparty",
           "StorjCoin"
          ],
          [
           "SHA-256",
           "Neutron"
          ],
          [
           "Scrypt",
           "KryptCoin"
          ],
          [
           "X13",
           "Kore"
          ],
          [
           "Scrypt",
           "Dnotes"
          ],
          [
           "SHA-256",
           "MaieutiCoin"
          ],
          [
           "X13",
           "Sativa Coin"
          ],
          [
           "X13",
           "AeroMe"
          ],
          [
           "X11",
           "MasterTraderCoin"
          ],
          [
           "X11",
           "Ucoin"
          ],
          [
           "Scrypt",
           "Vtorrent"
          ],
          [
           "SHA3",
           "Nexus"
          ],
          [
           "QUAIT",
           "Droidz"
          ],
          [
           "Scrypt",
           "Diggits"
          ],
          [
           "X11",
           "MapCoin"
          ],
          [
           "X13",
           "Paycon"
          ],
          [
           "SHA-256",
           "Emercoin"
          ],
          [
           "X13",
           "BlitzCoin"
          ],
          [
           "X15",
           "EverGreenCoin"
          ],
          [
           "BLAKE256",
           "Decred"
          ],
          [
           "SHA-256",
           "EDRCoin"
          ],
          [
           "X11",
           "Hitcoin"
          ],
          [
           "SHA-256",
           "DubaiCoin"
          ],
          [
           "Quark",
           "BiosCrypto"
          ],
          [
           "Blake",
           "TrumpCoin"
          ],
          [
           "Scrypt",
           "BillaryCoin"
          ],
          [
           "Scrypt",
           "EthereumScrypt"
          ],
          [
           "Scrypt",
           "GPU Coin"
          ],
          [
           "SHA-256",
           "Universal Currency"
          ],
          [
           "X11",
           "EuropeCoin"
          ],
          [
           "Scrypt",
           "ZeitCoin"
          ],
          [
           "SHA-256",
           "SwingCoin"
          ],
          [
           "Scrypt",
           "SafeExchangeCoin"
          ],
          [
           "PoS",
           "Nebuchadnezzar"
          ],
          [
           "X11",
           "GIZMOcoin"
          ],
          [
           "X11",
           "SecretCoin"
          ],
          [
           "X11",
           "Ratecoin"
          ],
          [
           "PoS",
           "Digital Bullion Gold"
          ],
          [
           "SHA-256",
           "Revenu"
          ],
          [
           "SHA-256",
           "Clockcoin"
          ],
          [
           "NIST5",
           "VIP Tokens"
          ],
          [
           "X15",
           "OrlyCoin"
          ],
          [
           "X11",
           "BitSend"
          ],
          [
           "NIST5",
           "16BitCoin"
          ],
          [
           "Scrypt",
           "ChessCoin"
          ],
          [
           "Scrypt",
           "ReeCoin"
          ],
          [
           "POS 3.0",
           "Let it Ride"
          ],
          [
           "Scrypt",
           "PutinCoin"
          ],
          [
           "Scrypt",
           "iBankCoin"
          ],
          [
           "Scrypt",
           "Frankywillcoin"
          ],
          [
           "X13",
           "MudraCoin"
          ],
          [
           "X11",
           "Lutetium Coin"
          ],
          [
           "X11",
           "GoldBlocks"
          ],
          [
           "X11",
           "WayCoin"
          ],
          [
           "Scrypt",
           "CarterCoin"
          ],
          [
           "SHA-256",
           "BitTokens"
          ],
          [
           "X11",
           "MustangCoin"
          ],
          [
           "Scrypt",
           "ZoneCoin"
          ],
          [
           "X11",
           "PROUD Money"
          ],
          [
           "Scrypt",
           "Swiscoin"
          ],
          [
           "SHA-256D",
           "BuzzCoin"
          ],
          [
           "PoS",
           "Opair"
          ],
          [
           "X11",
           "Halloween Coin"
          ],
          [
           "PoS",
           "CoffeeCoin"
          ],
          [
           "X13",
           "RoyalCoin"
          ],
          [
           "X14",
           "GanjaCoin V2"
          ],
          [
           "PoS",
           "TeamUP"
          ],
          [
           "SHA-256D",
           "LanaCoin"
          ],
          [
           "DPoS",
           "ARK"
          ],
          [
           "X11",
           "InsaneCoin"
          ],
          [
           "Scrypt",
           "LuckChain"
          ],
          [
           "X13",
           "EmberCoin"
          ],
          [
           "X11",
           "XenixCoin"
          ],
          [
           "PoS",
           "FreeCoin"
          ],
          [
           "SHA-256D",
           "NPCcoin"
          ],
          [
           "Scrypt",
           "PLNCoin"
          ],
          [
           "Scrypt",
           "Icobid"
          ],
          [
           "Scrypt",
           "AquariusCoin"
          ],
          [
           "PoS",
           "Creatio"
          ],
          [
           "X11",
           "Eternity"
          ],
          [
           "SHA-256",
           "Eurocoin"
          ],
          [
           "Scrypt",
           "BitcoinFast"
          ],
          [
           "X11",
           "Stakenet"
          ],
          [
           "Scrypt",
           "BitConnect Coin"
          ],
          [
           "Scrypt",
           "MoneyCoin"
          ],
          [
           "X11",
           "Enigma"
          ],
          [
           "Scrypt",
           "Russiacoin"
          ],
          [
           "Scrypt",
           "PandaCoin"
          ],
          [
           "Scrypt",
           "GameUnits"
          ],
          [
           "Scrypt",
           "GAKHcoin"
          ],
          [
           "Quark",
           "Allsafe"
          ],
          [
           "QuBit",
           "LiteCreed"
          ],
          [
           "X11",
           "NeptuneClassic"
          ],
          [
           "X13",
           "GoldenBird"
          ],
          [
           "PoS",
           "Ride My Car"
          ],
          [
           "Scrypt",
           "Klingon Empire Darsek"
          ],
          [
           "SHA-256",
           "Internet of People"
          ],
          [
           "X11",
           "KushCoin"
          ],
          [
           "X11",
           "Eryllium"
          ],
          [
           "Scrypt",
           "Printerium"
          ],
          [
           "Scrypt",
           "Impeach"
          ],
          [
           "Scrypt",
           "Zilbercoin"
          ],
          [
           "Scrypt",
           "FirstCoin"
          ],
          [
           "X13",
           "FindCoin"
          ],
          [
           "Scrypt",
           "OpenChat"
          ],
          [
           "Scrypt",
           "RenosCoin"
          ],
          [
           "X11",
           "VirtacoinPlus"
          ],
          [
           "Blake2S",
           "TajCoin"
          ],
          [
           "X11",
           "Impact"
          ],
          [
           "Scrypt",
           "Universe"
          ],
          [
           "PoS",
           "Atmos"
          ],
          [
           "X11",
           "HappyCoin"
          ],
          [
           "PoS",
           "MacronCoin"
          ],
          [
           "X11",
           "Condensate"
          ],
          [
           "Scrypt",
           "Independent Money System"
          ],
          [
           "Scrypt",
           "ArgusCoin"
          ],
          [
           "Scrypt",
           "LomoCoin"
          ],
          [
           "SHA-256",
           "ProCurrency"
          ],
          [
           "X11",
           "GoldReserve"
          ],
          [
           "Scrypt",
           "GrowthCoin"
          ],
          [
           "PoS",
           "Phreak"
          ],
          [
           "Scrypt",
           "Degas Coin"
          ],
          [
           "X11",
           "ZSEcoin"
          ],
          [
           "X15",
           "HTML5 Coin"
          ],
          [
           "SHA-256",
           "Ultimate Secure Cash"
          ],
          [
           "POS 3.0",
           "QTUM"
          ],
          [
           "536",
           "Espers"
          ],
          [
           "NIST5",
           "Denarius"
          ],
          [
           "NIST5",
           "Virta Unique Coin"
          ],
          [
           "Skein",
           "Bitcoin Planet"
          ],
          [
           "X13",
           "BritCoin"
          ],
          [
           "X11",
           "Octanox"
          ],
          [
           "Scrypt",
           "Linda"
          ],
          [
           "X13",
           "DeepOnion"
          ],
          [
           "SkunkHash v2 Raptor",
           "Signatum"
          ],
          [
           "Skein",
           "Cream"
          ],
          [
           "X11",
           "Monoeci"
          ],
          [
           "Scrypt",
           "Draftcoin"
          ],
          [
           "PoS",
           "Stakecoin"
          ],
          [
           "Scrypt",
           "CoinonatX"
          ],
          [
           "Scrypt",
           "Ethereum Dark"
          ],
          [
           "SHA-512",
           "Obsidian"
          ],
          [
           "Ouroboros",
           "Cardano"
          ],
          [
           "X11",
           "Regalcoin"
          ],
          [
           "NeoScrypt",
           "TrezarCoin"
          ],
          [
           "Scrypt",
           "TerraNovaCoin"
          ],
          [
           "Lyra2REv2",
           "Rupee"
          ],
          [
           "Scrypt",
           "WomenCoin"
          ],
          [
           "SHA-256",
           "Theresa May Coin"
          ],
          [
           "NIST5",
           "NamoCoin"
          ],
          [
           "PHI1612",
           "LUXCoin"
          ],
          [
           "Scrypt",
           "Xios"
          ],
          [
           "Quark",
           "Bitcloud 2.0"
          ],
          [
           "POS 2.0",
           "KekCoin"
          ],
          [
           "Scrypt",
           "BlackholeCoin"
          ],
          [
           "SkunkHash",
           "AltCommunity Coin"
          ],
          [
           "X11",
           "Pure"
          ],
          [
           "Quark",
           "Rupaya"
          ],
          [
           "SHA-256",
           "Infinity Economics"
          ],
          [
           "Scrypt",
           "Interstellar Holdings"
          ],
          [
           "Quark",
           "Castle"
          ],
          [
           "Quark",
           "Alqo"
          ],
          [
           "X11",
           "Magnet"
          ],
          [
           "DPoS",
           "Lamden Tau"
          ],
          [
           "NIST5",
           "Electra"
          ],
          [
           "X13",
           "Bitcoin Diamond"
          ],
          [
           "Scrypt",
           "Mutual Coin"
          ],
          [
           "Scrypt",
           "Cash & Back Coin"
          ],
          [
           "NIST5",
           "Bulwark"
          ],
          [
           "Quark",
           "Kalkulus"
          ],
          [
           "Scrypt",
           "GermanCoin"
          ],
          [
           "Scrypt",
           "LiteCoin Ultra"
          ],
          [
           "X11",
           "PhantomX"
          ],
          [
           "X11",
           "HomeBlockCoin"
          ],
          [
           "SHA-256",
           "HTML Coin"
          ],
          [
           "Scrypt",
           "Accolade"
          ],
          [
           "Scrypt",
           "Fantasy Cash"
          ],
          [
           "Scrypt",
           "OmiseGO Classic"
          ],
          [
           "Quark",
           "Digiwage"
          ],
          [
           "Scrypt",
           "Trollcoin"
          ],
          [
           "Scrypt",
           "Litecoin Plus"
          ],
          [
           "X11",
           "Monkey Project"
          ],
          [
           "Scrypt",
           "ECC"
          ],
          [
           "Scrypt",
           "OP Coin"
          ],
          [
           "Scrypt",
           "Valorbit"
          ],
          [
           "POS 3.0",
           "TokenPay"
          ],
          [
           "Scrypt",
           "My Big Coin"
          ],
          [
           "Scrypt",
           "Unified Society USDEX"
          ],
          [
           "X11",
           "BitSoar Coin"
          ],
          [
           "SHA-256",
           "Credence Coin"
          ],
          [
           "X13",
           "Tokyo Coin"
          ],
          [
           "Skein",
           "BashCoin"
          ],
          [
           "X11",
           "DigiMoney"
          ],
          [
           "Skein",
           "Lizus Payment"
          ],
          [
           "C11",
           "Stipend"
          ],
          [
           "X11",
           "Pushi"
          ],
          [
           "Scrypt",
           "PokerCoin"
          ],
          [
           "XEVAN",
           "Ellerium"
          ],
          [
           "Scrypt",
           "Velox"
          ],
          [
           "VBFT",
           "Ontology"
          ],
          [
           "PHI1612",
           "Seraph"
          ],
          [
           "NIST5",
           "Bitspace"
          ],
          [
           "Scrypt",
           "Briacoin"
          ],
          [
           "Scrypt",
           "Ignition"
          ],
          [
           "Scrypt",
           "MedicCoin"
          ],
          [
           "Equihash",
           "Zelcash"
          ],
          [
           "Green Protocol",
           "Bitcoin Green"
          ],
          [
           "PoS",
           "Deviant Coin"
          ],
          [
           "Scrypt",
           "Abjcoin"
          ],
          [
           "Scrypt",
           "Profit Hunters Coin"
          ],
          [
           "Semux BFT consensus",
           "Semux"
          ],
          [
           "Scrypt",
           "BitBlocks"
          ],
          [
           "Quark",
           "Carebit"
          ],
          [
           "PoS",
           "Zealium"
          ],
          [
           "X16R",
           "Proton"
          ],
          [
           "Scrypt",
           "iDealCash"
          ],
          [
           "XEVAN",
           "Bitcoin Incognito"
          ],
          [
           "Scrypt",
           "HollyWoodCoin"
          ],
          [
           "Scrypt",
           "Parlay"
          ],
          [
           "Scrypt",
           "Listerclassic Coin"
          ],
          [
           "X11",
           "BetKings"
          ],
          [
           "SHA-256D",
           "Cognitio"
          ],
          [
           "Scrypt",
           "Mercoin"
          ],
          [
           "Scrypt",
           "Swisscoin"
          ],
          [
           "X11",
           "Reliance"
          ],
          [
           "Scrypt",
           "Xt3ch"
          ],
          [
           "SHA-256D",
           "TheVig"
          ],
          [
           "Scrypt",
           "EmaratCoin"
          ],
          [
           "X15",
           "Dekado"
          ],
          [
           "Scrypt",
           "Lynx"
          ],
          [
           "Quark",
           "Poseidon Quark"
          ],
          [
           "Scrypt",
           "MYCE"
          ],
          [
           "SHA-256",
           "BitcoinWSpectrum"
          ],
          [
           "SHA-256D",
           "GolfCoin"
          ],
          [
           "DPoS",
           "Muse"
          ],
          [
           "Scrypt",
           "GambleCoin"
          ],
          [
           "X16R",
           "Trivechain"
          ],
          [
           "Quark",
           "Dystem"
          ],
          [
           "Quark",
           "Giant"
          ],
          [
           "Scrypt",
           "Peony Coin"
          ],
          [
           "Zhash",
           "SafeCoin"
          ],
          [
           "Lyra2REv2",
           "Absolute Coin"
          ],
          [
           "Quark",
           "Vitae"
          ],
          [
           "XEVAN",
           "GenesisX"
          ],
          [
           "Scrypt",
           "TPCash"
          ],
          [
           "Scrypt",
           "MUSDcoin"
          ],
          [
           "X11",
           "ARENON"
          ],
          [
           "X11",
           "EUNO"
          ],
          [
           "Scrypt",
           "MMOCoin"
          ],
          [
           "PoS",
           "Ketan"
          ],
          [
           "Scrypt",
           "Safe Trade Coin"
          ],
          [
           "Scrypt",
           "Mont Blanc"
          ],
          [
           "Keccak",
           "XDNA"
          ],
          [
           "X11",
           "PAXEX"
          ],
          [
           "Tribus",
           "Averopay"
          ],
          [
           "Quark",
           "Apollon"
          ],
          [
           "Scrypt",
           "ThunderStake"
          ],
          [
           "NeoScrypt",
           "SimpleBank"
          ],
          [
           "SHA-512",
           "Kcash"
          ],
          [
           "NeoScrypt",
           "Traid"
          ],
          [
           "XEVAN",
           "Bettex coin"
          ],
          [
           "SHA-512",
           "TWIST"
          ],
          [
           "Quark",
           "DACH Coin"
          ],
          [
           "XEVAN",
           "BitMoney"
          ],
          [
           "Quark",
           "Zenad"
          ],
          [
           "Quark",
           "HerbCoin"
          ],
          [
           "Equihash",
           "PirateCash"
          ],
          [
           "Scrypt",
           "Oduwa"
          ],
          [
           "Quark",
           "Galilel"
          ],
          [
           "Quark",
           "Crypto Sports"
          ],
          [
           "Scrypt",
           "Credit"
          ],
          [
           "X11",
           "Dash Platinum"
          ],
          [
           "Scrypt",
           "Nasdacoin"
          ],
          [
           "XEVAN",
           "Beetle Coin"
          ],
          [
           "SHA-256D",
           "Titan Coin"
          ],
          [
           "X11",
           "Award"
          ],
          [
           "X11",
           "Insane Coin"
          ],
          [
           "DPoS",
           "ALAX"
          ],
          [
           "X11",
           "The Freedom Coin"
          ],
          [
           "Scrypt",
           "LiteDoge"
          ],
          [
           "Scrypt",
           "OrangeCoin"
          ],
          [
           "Scrypt",
           "BitstarCoin"
          ],
          [
           "SHA-256",
           "NeosCoin"
          ],
          [
           "X11",
           "PinkCoin"
          ],
          [
           "Scrypt",
           "AudioCoin"
          ],
          [
           "SHA-256",
           "IncaKoin"
          ],
          [
           "X11",
           "Piggy Coin"
          ],
          [
           "Scrypt",
           "Genstake"
          ],
          [
           "SHA-256",
           "ParkByte"
          ],
          [
           "Scrypt",
           "XiaoMiCoin"
          ],
          [
           "X11",
           "CapriCoin"
          ],
          [
           "Scrypt",
           " ClubCoin"
          ],
          [
           "PoS",
           "Radium"
          ],
          [
           "X11",
           "Creditbit "
          ],
          [
           "SHA-256",
           "OKCash"
          ],
          [
           "DPoS",
           "Lisk"
          ],
          [
           "Scrypt",
           "HiCoin"
          ],
          [
           "Scrypt",
           "WhiteCoin"
          ],
          [
           "NeoScrypt",
           "FriendshipCoin"
          ],
          [
           "Scrypt",
           "The Hempcoin"
          ],
          [
           "X13",
           "Triangles Coin"
          ],
          [
           "PHI2",
           "Gexan"
          ],
          [
           "SHA-256",
           "TigerCash"
          ],
          [
           "Lyra2Z",
           "LAPO"
          ],
          [
           "PoS",
           "Particl"
          ],
          [
           "Scrypt",
           "ShardCoin"
          ],
          [
           "PoS",
           "Nxt"
          ],
          [
           "SHA-256",
           "ZEPHYR"
          ],
          [
           "Scrypt",
           "Gapcoin"
          ],
          [
           "Scrypt",
           "BitcoinPlus"
          ],
          [
           "Scrypt",
           "DivotyCoin"
          ]
         ],
         "hovertemplate": "<b>%{hovertext}</b><br><br>class=%{marker.color}<br>PC 1=%{x}<br>PC 2=%{y}<br>PC 3=%{z}<br>Algorithm=%{customdata[0]}<br>CoinName=%{customdata[1]}<extra></extra>",
         "hovertext": [
          "Scrypt",
          "Scrypt",
          "X13",
          "X11",
          "SHA-512",
          "SHA-256",
          "X11",
          "SHA-256",
          "X15",
          "X13",
          "X13",
          "Scrypt",
          "Scrypt",
          "Scrypt",
          "Scrypt",
          "Scrypt",
          "Multiple",
          "Scrypt",
          "Scrypt",
          "Groestl",
          "X11",
          "X11",
          "NIST5",
          "X11",
          "Scrypt",
          "X11",
          "X11",
          "X13",
          "X11",
          "SHA3",
          "SHA-256",
          "Scrypt",
          "NeoScrypt",
          "Scrypt",
          "Scrypt",
          "X15",
          "Scrypt",
          "X11",
          "Multiple",
          "PHI1612",
          "X11",
          "Scrypt",
          "Scrypt",
          "Scrypt",
          "X11",
          "Scrypt",
          "Scrypt",
          "Shabal256",
          "Counterparty",
          "SHA-256",
          "Scrypt",
          "X13",
          "Scrypt",
          "SHA-256",
          "X13",
          "X13",
          "X11",
          "X11",
          "Scrypt",
          "SHA3",
          "QUAIT",
          "Scrypt",
          "X11",
          "X13",
          "SHA-256",
          "X13",
          "X15",
          "BLAKE256",
          "SHA-256",
          "X11",
          "SHA-256",
          "Quark",
          "Blake",
          "Scrypt",
          "Scrypt",
          "Scrypt",
          "SHA-256",
          "X11",
          "Scrypt",
          "SHA-256",
          "Scrypt",
          "PoS",
          "X11",
          "X11",
          "X11",
          "PoS",
          "SHA-256",
          "SHA-256",
          "NIST5",
          "X15",
          "X11",
          "NIST5",
          "Scrypt",
          "Scrypt",
          "POS 3.0",
          "Scrypt",
          "Scrypt",
          "Scrypt",
          "X13",
          "X11",
          "X11",
          "X11",
          "Scrypt",
          "SHA-256",
          "X11",
          "Scrypt",
          "X11",
          "Scrypt",
          "SHA-256D",
          "PoS",
          "X11",
          "PoS",
          "X13",
          "X14",
          "PoS",
          "SHA-256D",
          "DPoS",
          "X11",
          "Scrypt",
          "X13",
          "X11",
          "PoS",
          "SHA-256D",
          "Scrypt",
          "Scrypt",
          "Scrypt",
          "PoS",
          "X11",
          "SHA-256",
          "Scrypt",
          "X11",
          "Scrypt",
          "Scrypt",
          "X11",
          "Scrypt",
          "Scrypt",
          "Scrypt",
          "Scrypt",
          "Quark",
          "QuBit",
          "X11",
          "X13",
          "PoS",
          "Scrypt",
          "SHA-256",
          "X11",
          "X11",
          "Scrypt",
          "Scrypt",
          "Scrypt",
          "Scrypt",
          "X13",
          "Scrypt",
          "Scrypt",
          "X11",
          "Blake2S",
          "X11",
          "Scrypt",
          "PoS",
          "X11",
          "PoS",
          "X11",
          "Scrypt",
          "Scrypt",
          "Scrypt",
          "SHA-256",
          "X11",
          "Scrypt",
          "PoS",
          "Scrypt",
          "X11",
          "X15",
          "SHA-256",
          "POS 3.0",
          "536",
          "NIST5",
          "NIST5",
          "Skein",
          "X13",
          "X11",
          "Scrypt",
          "X13",
          "SkunkHash v2 Raptor",
          "Skein",
          "X11",
          "Scrypt",
          "PoS",
          "Scrypt",
          "Scrypt",
          "SHA-512",
          "Ouroboros",
          "X11",
          "NeoScrypt",
          "Scrypt",
          "Lyra2REv2",
          "Scrypt",
          "SHA-256",
          "NIST5",
          "PHI1612",
          "Scrypt",
          "Quark",
          "POS 2.0",
          "Scrypt",
          "SkunkHash",
          "X11",
          "Quark",
          "SHA-256",
          "Scrypt",
          "Quark",
          "Quark",
          "X11",
          "DPoS",
          "NIST5",
          "X13",
          "Scrypt",
          "Scrypt",
          "NIST5",
          "Quark",
          "Scrypt",
          "Scrypt",
          "X11",
          "X11",
          "SHA-256",
          "Scrypt",
          "Scrypt",
          "Scrypt",
          "Quark",
          "Scrypt",
          "Scrypt",
          "X11",
          "Scrypt",
          "Scrypt",
          "Scrypt",
          "POS 3.0",
          "Scrypt",
          "Scrypt",
          "X11",
          "SHA-256",
          "X13",
          "Skein",
          "X11",
          "Skein",
          "C11",
          "X11",
          "Scrypt",
          "XEVAN",
          "Scrypt",
          "VBFT",
          "PHI1612",
          "NIST5",
          "Scrypt",
          "Scrypt",
          "Scrypt",
          "Equihash",
          "Green Protocol",
          "PoS",
          "Scrypt",
          "Scrypt",
          "Semux BFT consensus",
          "Scrypt",
          "Quark",
          "PoS",
          "X16R",
          "Scrypt",
          "XEVAN",
          "Scrypt",
          "Scrypt",
          "Scrypt",
          "X11",
          "SHA-256D",
          "Scrypt",
          "Scrypt",
          "X11",
          "Scrypt",
          "SHA-256D",
          "Scrypt",
          "X15",
          "Scrypt",
          "Quark",
          "Scrypt",
          "SHA-256",
          "SHA-256D",
          "DPoS",
          "Scrypt",
          "X16R",
          "Quark",
          "Quark",
          "Scrypt",
          "Zhash",
          "Lyra2REv2",
          "Quark",
          "XEVAN",
          "Scrypt",
          "Scrypt",
          "X11",
          "X11",
          "Scrypt",
          "PoS",
          "Scrypt",
          "Scrypt",
          "Keccak",
          "X11",
          "Tribus",
          "Quark",
          "Scrypt",
          "NeoScrypt",
          "SHA-512",
          "NeoScrypt",
          "XEVAN",
          "SHA-512",
          "Quark",
          "XEVAN",
          "Quark",
          "Quark",
          "Equihash",
          "Scrypt",
          "Quark",
          "Quark",
          "Scrypt",
          "X11",
          "Scrypt",
          "XEVAN",
          "SHA-256D",
          "X11",
          "X11",
          "DPoS",
          "X11",
          "Scrypt",
          "Scrypt",
          "Scrypt",
          "SHA-256",
          "X11",
          "Scrypt",
          "SHA-256",
          "X11",
          "Scrypt",
          "SHA-256",
          "Scrypt",
          "X11",
          "Scrypt",
          "PoS",
          "X11",
          "SHA-256",
          "DPoS",
          "Scrypt",
          "Scrypt",
          "NeoScrypt",
          "Scrypt",
          "X13",
          "PHI2",
          "SHA-256",
          "Lyra2Z",
          "PoS",
          "Scrypt",
          "PoS",
          "SHA-256",
          "Scrypt",
          "Scrypt",
          "Scrypt"
         ],
         "legendgroup": "3",
         "marker": {
          "color": [
           3,
           3,
           3,
           3,
           3,
           3,
           3,
           3,
           3,
           3,
           3,
           3,
           3,
           3,
           3,
           3,
           3,
           3,
           3,
           3,
           3,
           3,
           3,
           3,
           3,
           3,
           3,
           3,
           3,
           3,
           3,
           3,
           3,
           3,
           3,
           3,
           3,
           3,
           3,
           3,
           3,
           3,
           3,
           3,
           3,
           3,
           3,
           3,
           3,
           3,
           3,
           3,
           3,
           3,
           3,
           3,
           3,
           3,
           3,
           3,
           3,
           3,
           3,
           3,
           3,
           3,
           3,
           3,
           3,
           3,
           3,
           3,
           3,
           3,
           3,
           3,
           3,
           3,
           3,
           3,
           3,
           3,
           3,
           3,
           3,
           3,
           3,
           3,
           3,
           3,
           3,
           3,
           3,
           3,
           3,
           3,
           3,
           3,
           3,
           3,
           3,
           3,
           3,
           3,
           3,
           3,
           3,
           3,
           3,
           3,
           3,
           3,
           3,
           3,
           3,
           3,
           3,
           3,
           3,
           3,
           3,
           3,
           3,
           3,
           3,
           3,
           3,
           3,
           3,
           3,
           3,
           3,
           3,
           3,
           3,
           3,
           3,
           3,
           3,
           3,
           3,
           3,
           3,
           3,
           3,
           3,
           3,
           3,
           3,
           3,
           3,
           3,
           3,
           3,
           3,
           3,
           3,
           3,
           3,
           3,
           3,
           3,
           3,
           3,
           3,
           3,
           3,
           3,
           3,
           3,
           3,
           3,
           3,
           3,
           3,
           3,
           3,
           3,
           3,
           3,
           3,
           3,
           3,
           3,
           3,
           3,
           3,
           3,
           3,
           3,
           3,
           3,
           3,
           3,
           3,
           3,
           3,
           3,
           3,
           3,
           3,
           3,
           3,
           3,
           3,
           3,
           3,
           3,
           3,
           3,
           3,
           3,
           3,
           3,
           3,
           3,
           3,
           3,
           3,
           3,
           3,
           3,
           3,
           3,
           3,
           3,
           3,
           3,
           3,
           3,
           3,
           3,
           3,
           3,
           3,
           3,
           3,
           3,
           3,
           3,
           3,
           3,
           3,
           3,
           3,
           3,
           3,
           3,
           3,
           3,
           3,
           3,
           3,
           3,
           3,
           3,
           3,
           3,
           3,
           3,
           3,
           3,
           3,
           3,
           3,
           3,
           3,
           3,
           3,
           3,
           3,
           3,
           3,
           3,
           3,
           3,
           3,
           3,
           3,
           3,
           3,
           3,
           3,
           3,
           3,
           3,
           3,
           3,
           3,
           3,
           3,
           3,
           3,
           3,
           3,
           3,
           3,
           3,
           3,
           3,
           3,
           3,
           3,
           3,
           3,
           3,
           3,
           3,
           3,
           3,
           3,
           3,
           3,
           3,
           3,
           3,
           3,
           3,
           3,
           3,
           3,
           3,
           3,
           3,
           3,
           3,
           3,
           3,
           3,
           3,
           3,
           3,
           3,
           3,
           3,
           3,
           3,
           3,
           3,
           3,
           3,
           3,
           3,
           3,
           3,
           3,
           3,
           3,
           3,
           3,
           3,
           3,
           3,
           3,
           3,
           3,
           3,
           3,
           3
          ],
          "coloraxis": "coloraxis",
          "symbol": "circle"
         },
         "mode": "markers",
         "name": "3",
         "scene": "scene",
         "showlegend": true,
         "type": "scatter3d",
         "x": [
          -0.11609831048000785,
          -0.10085186352461822,
          0.49230243112790373,
          -0.09860836299005135,
          0.31948629964584746,
          -0.024133618505442937,
          -0.09873885681268096,
          -0.02323275463173354,
          0.03415561685072687,
          0.06998872975680247,
          0.06924256457247076,
          -0.11535214594292102,
          -0.1158362756564435,
          -0.11609769585399451,
          -0.11609831121123595,
          -0.1160832968119377,
          -0.07972708151155034,
          -0.11535214616210855,
          0.4704064261755818,
          -0.21064581035076216,
          -0.0987388568190258,
          -0.09799269188451386,
          -0.059095313135074365,
          -0.09873885682762602,
          -0.11480848651360577,
          -0.09848381743411645,
          -0.0987388568179061,
          0.06924256453156835,
          -0.0987388568118942,
          0.352750089881962,
          -0.0008338039654731321,
          -0.11511835986024808,
          -0.11610231221971842,
          -0.11288083157992633,
          -0.11502966801571926,
          0.03378655167668353,
          -0.11609831108948832,
          -0.09873883980270994,
          -0.07782122658685467,
          -0.07575659884349653,
          -0.09871816790870386,
          -0.10021946354996143,
          -0.11537245886477727,
          -0.11609831109211043,
          -0.09863842372298613,
          -0.11609831121796475,
          -0.11395999121659985,
          -0.12656418845483683,
          -0.2446471400735568,
          -0.023586969085412336,
          -0.11535214594448617,
          0.06927178730964939,
          -0.11282867188773546,
          -0.023406076128384655,
          0.06934510727002337,
          0.06924256455673904,
          -0.09873885683578029,
          -0.0979538263713566,
          -0.1159306336059253,
          0.8978814507272814,
          0.12003780118338106,
          -0.11390723836181198,
          -0.097992691628163,
          0.06957550883969217,
          -0.023530069603366646,
          0.06998872976505607,
          0.03398205567546133,
          0.19735168094184638,
          -0.024099217709301884,
          0.060147731535596244,
          -0.02407813181949929,
          0.03350637805427753,
          -0.15800770042340886,
          -0.11596828765396841,
          -0.11609831109787914,
          -0.11476729054231627,
          -0.02415224186594486,
          -0.0985884823631373,
          0.4188478680325364,
          -0.02408899662661006,
          -0.07652739695515957,
          -0.0921364552788452,
          -0.09873885680953444,
          -0.09873885686433351,
          -0.09679466216554083,
          -0.09242543682579438,
          -0.02413496766532971,
          -0.023911480305932632,
          -0.05788953198708855,
          0.033786551584914996,
          -0.09838647704009354,
          -0.05909531317538952,
          -0.11609831128263928,
          -0.11609831200455253,
          -0.018419672209499742,
          -0.10434988170709075,
          -0.11603290999456414,
          -0.11465340354876609,
          0.0700609746407793,
          -0.08849964909699609,
          -0.09851397332536467,
          -0.09799269188451386,
          -0.11547460964630601,
          -0.024143637970328157,
          -0.09872935457828462,
          -0.11606100405599638,
          -0.09873888302886637,
          -0.01725646511318941,
          0.30198531786646937,
          -0.09135571673125364,
          -0.09491450105269397,
          -0.09027661601660632,
          0.07002485425529395,
          -0.0942854075058395,
          -0.092167974047156,
          0.03474062772721063,
          7.047287733936591,
          -0.09847382015210036,
          -0.11609831370882635,
          1.4013438491978902,
          -0.09868317980020247,
          -0.09170298301741518,
          0.01910437672115347,
          -0.1158513822244781,
          -0.11609831161125866,
          -0.11606291706184059,
          -0.0921364552788452,
          -0.09865115854661838,
          -0.02397283361049846,
          -0.11580580369671242,
          -0.22312589613557104,
          -0.1159382049383279,
          -0.11594060951583125,
          -0.09872708557755638,
          -0.11597725892395316,
          0.37321652145451817,
          -0.11604812971868149,
          -0.11605040100165832,
          0.034404515373566154,
          -0.0015726326030790082,
          -0.09873885746476194,
          0.069242563408321,
          -0.09242543704866182,
          -0.11575203486844819,
          -0.02411574186546384,
          -0.09865708810043576,
          -0.0987388570714681,
          -0.11592749806930401,
          -0.11609385824196465,
          -0.11530991696697859,
          -0.15246773789685175,
          0.07019860044912778,
          -0.10164923570585908,
          -0.11483125145425707,
          -0.09854866748319402,
          0.21499170383107438,
          -0.09714034999413783,
          -0.1153521461935721,
          -0.09081962669950645,
          -0.09842789381101996,
          -0.08662526870013922,
          -0.09698090451918348,
          -0.11602073499632569,
          -0.11608171893880619,
          -0.11609108916982473,
          -0.021953479462964092,
          -0.09849074627621393,
          -0.11108771576892656,
          -0.09226085860154971,
          -0.11578969691508952,
          -0.09873886229834455,
          0.6212716672071613,
          -0.023256628206461964,
          -0.01753235173909544,
          0.49181408530460413,
          -0.05903504053575913,
          -0.05818585849672963,
          -0.07885888337067913,
          0.06954986882982622,
          -0.09873885683000067,
          0.014592470545524209,
          0.06955924524203877,
          0.024005216546186637,
          -0.0782732992219602,
          -0.09855724257937855,
          -0.11508247850636236,
          -0.09236764063596652,
          -0.11581598218222369,
          -0.11603762497026636,
          0.2802343770162595,
          0.7054959736619106,
          -0.09863392186646196,
          -0.1135098917065164,
          -0.11608182856032517,
          -0.15314139327829832,
          0.5840963208346347,
          -0.022822192388093847,
          -0.0509956945884152,
          -0.0998238693688039,
          -0.1160672501323341,
          0.033950131172015764,
          -0.13494784093775672,
          -0.11586188743672457,
          -0.03578176080128703,
          -0.09873885681893911,
          0.03425254309752263,
          0.10663560215619944,
          -0.11535215106517298,
          4.403234040515285,
          0.034449462487156204,
          -0.09818692271047132,
          7.0498869556831965,
          0.35124614478115324,
          0.07189446147942245,
          -0.11609831370882635,
          -0.11449479663603303,
          -0.058157738498187866,
          0.034497538411400956,
          -0.04513179168053764,
          -0.11597665887928615,
          -0.09808613119700303,
          -0.09873885688268719,
          -0.024152477291680158,
          -0.11601777338649111,
          -0.11609831109892765,
          -0.11537682231217854,
          0.034646998185310876,
          -0.10755857965925067,
          -0.11606212358049287,
          -0.0979290109494527,
          0.24587473862528184,
          -0.11609831633078585,
          -0.3579313811136922,
          -0.018681835494595844,
          -0.142784063518292,
          -0.11270499968216938,
          -0.04481579911882182,
          -0.02410272430387172,
          0.07331633480891345,
          -0.07878869715412841,
          -0.09868797256825367,
          -0.07891405551880387,
          -0.17530215656691817,
          -0.09870753377195654,
          -0.11180783923909596,
          0.04809282843951305,
          -0.11498268311071407,
          -0.22345667700386168,
          -0.09992422573247746,
          -0.058896091477525614,
          -0.11608609240800362,
          -0.11608123007184337,
          -0.11148994223584131,
          -0.2910427276970645,
          -0.06241942939344349,
          -0.09210934050731855,
          -0.11595554701604671,
          -0.11609831134906283,
          7.722826154959443,
          -0.11609831239784636,
          0.03552548591285283,
          -0.09226540978592951,
          -0.05294085659390051,
          -0.09580954284478997,
          0.052534810132791605,
          -0.11479286825885576,
          -0.11529748121523538,
          -0.11598134871296305,
          -0.0978285553965963,
          0.01911391099346268,
          -0.11573231255741293,
          0.03128225779941259,
          -0.09788784089442505,
          -0.11524189954989396,
          0.01958465592195827,
          -0.1157862207633666,
          0.03497029534587771,
          1.896398206161018,
          0.034291789114079194,
          -0.11517914948310695,
          -0.022570760728371678,
          0.019104390583099547,
          2.6770057165624426,
          -0.11523307450627589,
          -0.05321714767904924,
          0.03435487727713975,
          0.033591909263107976,
          -0.11533713403938464,
          -0.09043897913156491,
          -0.15404169237543067,
          0.03520696066218443,
          0.04883293559129872,
          -0.11602023374505008,
          -0.11609831134906283,
          -0.0977142651143242,
          -0.09829424254090265,
          -0.11379505804817819,
          -0.0922906688850862,
          -0.11535214810235873,
          -0.11535214608345032,
          -0.1150549289882097,
          -0.09792760400422831,
          0.1035880559197537,
          0.033506377451726424,
          -0.1007829990943762,
          -0.116114437140807,
          1.0505032989228653,
          -0.11614884780640333,
          0.04893100725690321,
          0.2827629653820039,
          0.0344592100141468,
          0.3499652570846743,
          -0.1409860112511906,
          0.034016606491896646,
          -0.2901018476155636,
          -0.11588478917804014,
          0.03377029062956077,
          0.034280497914531936,
          0.3293045810778429,
          -0.0979823510548645,
          -0.11580143291837294,
          0.05096124190885254,
          0.03205597440033533,
          -0.0985160497388182,
          -0.09839531618266095,
          7.060173389293547,
          -0.09799269168786721,
          0.10524539149678075,
          -0.11604720305500033,
          -0.11580099931322553,
          -0.023342612101428323,
          -0.09243395056311386,
          -0.10192765780616497,
          0.23506024471830955,
          -0.0915975374955465,
          -0.11523136644601797,
          -0.024152241380882216,
          -0.11025631184260928,
          -0.09582932848062457,
          -0.11460107093482888,
          -0.09237022333227464,
          -0.11407125808944922,
          -0.02307324130323823,
          7.047458378265402,
          0.029142143254173976,
          -0.11245706381925463,
          -0.1161326587730972,
          -0.1160983118734546,
          0.06924459869662733,
          0.07862603525053105,
          -0.008957000747371593,
          0.06372899086479783,
          -0.09229130403044658,
          -0.11499200519137179,
          -0.20690116591165167,
          4.374473571918018,
          -0.1158825718918021,
          -0.11535029169575518,
          -0.11578778312933663
         ],
         "y": [
          1.2853336329600347,
          1.2832936158789139,
          1.854650845010082,
          1.4275436328838809,
          1.163960913899625,
          0.7262357363853154,
          1.4275610931139582,
          0.38366359241268577,
          2.0622405371886554,
          1.5687021516362003,
          1.9112535962894026,
          0.9427821885909016,
          1.2852985720683507,
          1.285333550727527,
          1.2853336336659056,
          1.2853316240955512,
          0.4450798809204449,
          0.9427821896917647,
          0.7125759959471928,
          0.6911958645261235,
          1.4275610931458251,
          1.0850096497473376,
          1.6627415106769,
          1.4275610931890192,
          1.28516105188101,
          1.4275269682857952,
          1.427561093140203,
          1.9112535964948347,
          1.4275610931100071,
          2.313954586491847,
          0.723118176589629,
          0.9427509072542594,
          0.6036893656404296,
          1.2849031292633981,
          1.2851906463991634,
          2.0622899148288285,
          1.2853336330544345,
          1.4275610908213177,
          0.10237326583798928,
          0.885793469953537,
          1.427558324983226,
          1.2832090124070143,
          1.2852365129487788,
          1.2853336330676028,
          1.4275476548956525,
          1.2853336336997014,
          1.2850475317464995,
          1.2124559177584056,
          1.410385298742156,
          0.7261625935150103,
          0.9427821885987617,
          1.9112496862695878,
          0.9424445458016445,
          0.38368678322915556,
          1.9112398757961824,
          1.9112535963684152,
          1.4275610932299734,
          1.0850044483905785,
          1.2853111975085074,
          2.6579931343295735,
          2.1353903564475063,
          0.9425888563561411,
          1.0850096484598186,
          1.9112090478338988,
          0.7261549921266066,
          1.5687021515947475,
          2.0622637560859203,
          1.10666791821798,
          0.7262311334475612,
          1.4063018941496466,
          0.7262283119399211,
          1.5767637336606213,
          0.003878205202703723,
          1.285316236023879,
          1.2853336330965746,
          0.9427039356704123,
          0.7262382306609305,
          1.4275409774317953,
          0.8713057682071222,
          0.7262297660643705,
          0.7857570247406094,
          1.5480533678267951,
          1.4275610930981546,
          1.427561093373381,
          1.427300954528518,
          1.5480920344280766,
          0.7262359194801417,
          0.7262060200233609,
          1.6625801744061561,
          2.062289915289734,
          1.4275139453260288,
          1.6627415108793817,
          1.2853336340245294,
          1.2853336376503157,
          1.4566619076223226,
          1.2837616808388272,
          1.2853248827319081,
          1.285140301022514,
          1.5686924875109811,
          1.0837394570672654,
          1.4275310036004505,
          1.0850096497473376,
          1.285250180925461,
          0.7262370770092965,
          1.4275598217060608,
          1.2853286415090825,
          1.4275612247839853,
          0.662856462689714,
          2.0455809909798117,
          1.5479489031768658,
          1.4270494011578236,
          1.5478045155762872,
          1.5686973180038193,
          2.1565210929219845,
          1.548057588741734,
          2.081339034478832,
          0.5592201169830857,
          1.4275256307196793,
          1.2853336462099803,
          1.7330141480279653,
          1.4275536433823905,
          1.5479953682211711,
          2.083431208935618,
          1.2853005936550626,
          1.2853336356750085,
          1.2853288977446258,
          1.5480533678267951,
          1.4275493595548059,
          0.726214222820857,
          1.285294495029664,
          1.0856729427781824,
          1.2853122106798074,
          1.2853125404012362,
          1.427559518132063,
          1.285317437716235,
          0.8774105377246365,
          1.2853269187785792,
          1.285327222559454,
          1.2341919545650284,
          1.0477422792601214,
          1.4275610963890164,
          1.9112536021363127,
          1.5480920355474177,
          1.285287306572541,
          0.7262333444202668,
          1.4275501522991048,
          1.4275610944137092,
          1.2853107779635689,
          1.285333037517359,
          0.9427765387121085,
          0.8212311755813152,
          1.5686740703554274,
          1.2834003128537455,
          0.942712491455086,
          1.4275356464318416,
          2.1570975044708094,
          1.4273472091263522,
          0.9427821898497898,
          1.547877173062394,
          1.4275194865239977,
          1.5473159581135725,
          1.4273258798052306,
          1.285323253381412,
          1.2853314133247977,
          1.285332679543302,
          0.38349338244009745,
          1.4275278956179933,
          0.9422116194705972,
          1.5480700135217957,
          1.2852923408130916,
          1.4275611206655419,
          1.9836836604021613,
          0.38366678917861047,
          1.456543182126723,
          1.9552217095399325,
          1.662733446128408,
          1.6626198242358206,
          1.6432674666637932,
          1.911212478293765,
          1.4275610932009453,
          1.2678474247795894,
          1.9112112235571916,
          1.38158877979777,
          1.6431891136112753,
          1.4275367926475129,
          0.9427461062288046,
          1.5480843017083141,
          1.2852958571394348,
          1.2853255130964782,
          1.1692129030837601,
          1.3071392358126794,
          1.4275470528082779,
          0.6033424964723002,
          1.2853314278275885,
          0.33397488873695647,
          1.1916456477382658,
          0.7260602643302638,
          1.661657770899636,
          1.2314653252082333,
          1.285329477254293,
          1.576704360363422,
          1.381792189120347,
          1.2853019989819816,
          0.7286104100718217,
          1.4275610931453893,
          1.234212289716021,
          0.3662869015607801,
          0.9427822143172616,
          0.6317955568891315,
          1.576637546397238,
          1.4274872443755784,
          0.5588723375158119,
          1.6078368813442714,
          1.910898766523497,
          1.2853336462099803,
          1.2851190803147199,
          1.3201644551544907,
          1.2341795078458755,
          1.2758387241769942,
          1.2853173575052261,
          1.427473756940297,
          1.427561093465562,
          0.7262394130798258,
          1.2853228574774396,
          1.2853336331018417,
          1.2852370964076132,
          1.2341595109266545,
          1.2841910009001072,
          1.285328791087176,
          1.085001128019708,
          0.8944491836868872,
          1.285333659378695,
          2.4999331798050894,
          1.4566969858085907,
          0.7807416540580266,
          1.2848795999771832,
          1.0778944592873043,
          0.7262316026797067,
          1.5682569174853842,
          1.6432580751621786,
          1.4275542849413088,
          1.6432748484782504,
          1.0909373409562548,
          1.4275569022936132,
          0.8343384201946059,
          1.6018035106353978,
          0.9427327546485007,
          1.3767140106777267,
          1.2314787528552824,
          1.662714854807856,
          1.2853319981809797,
          1.2853313476103156,
          0.942265419445592,
          0.3709093245722079,
          1.5160310626318445,
          1.5480497406543086,
          1.285314531131515,
          1.285333634358137,
          0.42469771821949465,
          1.2853336396256223,
          1.5764935728053686,
          1.5480706231258758,
          0.6049024553605039,
          1.2826189959016656,
          1.150788018799941,
          0.9427073555514249,
          0.9427748744478683,
          1.2853179845074205,
          1.0849876865771906,
          2.0834298435900727,
          1.285284662536399,
          1.265613767128559,
          1.0849956198587605,
          0.9427674376207787,
          2.083366857582194,
          1.2852918754235756,
          1.7196799218874654,
          0.42814790831965016,
          1.2342070458423935,
          1.2852106494511504,
          0.3835750166128608,
          2.083431139314398,
          1.161810861894306,
          0.9427662564373799,
          0.9473910298340372,
          1.2341985963797366,
          1.5767522891155505,
          0.942780396105366,
          1.9189517099747564,
          0.6765469573841943,
          1.2340845858803169,
          1.2592528760281854,
          1.2853231988583647,
          1.285333634358137,
          1.0849723947684202,
          1.4275016029110155,
          0.9425738483183169,
          1.5480740045413415,
          0.9427821994366138,
          0.9427821892967033,
          0.7309046857148387,
          1.0850009407785013,
          1.0684320534991005,
          1.5767637366869178,
          1.2832846254983494,
          0.6036909882149283,
          1.1651872448950695,
          0.60369559543418,
          1.259239754119579,
          1.168874571176687,
          1.2341846365400806,
          1.1444884921279224,
          1.0703685670623784,
          1.5766954638792694,
          0.028331825077479496,
          1.2853050633886416,
          1.5767284212899197,
          1.2342085484811502,
          1.225738244688444,
          1.085008265081618,
          1.2852939108591024,
          1.6014197132783847,
          2.081698217652859,
          1.4275312861739033,
          1.4275151266347346,
          0.5574959858476866,
          1.0850096487596839,
          1.2557175785721586,
          1.2853267971849274,
          1.2852938524600779,
          0.38367829180629476,
          1.426717482663854,
          1.2834376884009489,
          0.691554761565728,
          1.4266055742999117,
          1.285217633237422,
          0.7262382282247185,
          1.2845519597801036,
          1.4271717914649595,
          1.2851332995186304,
          1.5480846466072096,
          0.7754120019790579,
          0.7260938555509374,
          0.559197284667711,
          0.9234485135724856,
          1.2848464262286696,
          0.6036934268302988,
          1.28533363699188,
          1.911253324041645,
          2.0796377643393207,
          0.38175346304160873,
          0.2863992734868415,
          1.548074086944759,
          0.9427340119197161,
          1.908929583637667,
          -0.22259658963450743,
          1.2853047696438697,
          0.9427819402891994,
          1.2852920846782798
         ],
         "z": [
          -0.5190979362892435,
          -0.5197480139344202,
          -0.5169697221370415,
          -0.4164986212252914,
          -0.2592680552075587,
          -0.32502181349223175,
          -0.41649305709893886,
          -0.04736021473525504,
          -0.5684691560010842,
          -0.22126062957769804,
          -0.49892882424197854,
          -0.2414297417250338,
          -0.519109108987068,
          -0.5190979624996287,
          -0.5190979366511957,
          -0.5190985764456236,
          -0.22839238488284724,
          -0.24142974240852302,
          -0.2633133885940644,
          -0.4384990211762856,
          -0.41649305711872575,
          -0.13882486323345594,
          -0.6483883869716461,
          -0.41649305714554324,
          -0.5191529323946001,
          -0.416503931559742,
          -0.41649305711523477,
          -0.49892882436952446,
          -0.41649305709648704,
          -0.483131813098098,
          -0.3260152835637153,
          -0.24143970982104698,
          -0.36911810976376636,
          -0.519235125629016,
          -0.519143501544569,
          -0.5684534170231954,
          -0.5190979362715543,
          -0.4164930578134399,
          0.0492263634173626,
          -0.11648796101483766,
          -0.4164939392980599,
          -0.5197749868580945,
          -0.5191288857521507,
          -0.51909793627973,
          -0.4164973393684107,
          -0.5190979366721785,
          -0.5191891175649279,
          -0.029273647504445218,
          -0.1578767050123537,
          -0.32504512174044403,
          -0.24142974172991385,
          -0.49893007028163233,
          -0.24153734083039005,
          -0.04735282460391633,
          -0.49893319645859163,
          -0.49892882429103474,
          -0.4164930571709705,
          -0.13882651970602372,
          -0.5191050858091152,
          -0.2186352546101559,
          -0.4993659963997655,
          -0.241491349935331,
          -0.13882486243407785,
          -0.49894302058015993,
          -0.32504755552699816,
          -0.22126062955196132,
          -0.5684617530712046,
          -0.3404914565428884,
          -0.3250232802626158,
          -0.4232678337822257,
          -0.32502417922087945,
          -0.49974229554760774,
          0.1557147198455183,
          -0.519103480509925,
          -0.5190979362977174,
          -0.24145468030275222,
          -0.3250210209933192,
          -0.4164994718894253,
          -0.26420761517512203,
          -0.3250237162151229,
          -0.23999308161514843,
          0.008618805805252332,
          -0.41649305708912887,
          -0.41649305726000757,
          -0.41657595367295364,
          0.008631127351493996,
          -0.325021757630744,
          -0.3250312891200623,
          -0.6484397994317851,
          -0.5684534173093555,
          -0.4165080828986868,
          -0.6483883870973601,
          -0.5190979368738539,
          -0.5190979391249827,
          -0.1972210890465103,
          -0.5195988786958683,
          -0.5191007251821196,
          -0.5191595446077875,
          -0.22126371153200905,
          -0.13922962923862475,
          -0.4165026460143428,
          -0.13882486323345594,
          -0.5191245301962035,
          -0.32502138627713345,
          -0.41649346226632716,
          -0.5190995271229342,
          -0.41649313884845124,
          -0.19526396535385837,
          -0.6661369981014663,
          0.00858551647174085,
          -0.4166561312044776,
          0.008539506394809222,
          -0.2212621698054704,
          -0.7179311352475662,
          0.008620147363761618,
          -0.6547421990521259,
          -0.5269106998960283,
          -0.4165043578870277,
          -0.5190979444393918,
          -0.5557265491167271,
          -0.4164954310591433,
          0.008600323301929245,
          -0.654075501279268,
          -0.5191084650583829,
          -0.5190979378985806,
          -0.5190994457308333,
          0.008618805805252332,
          -0.4164967968366698,
          -0.32502866897171073,
          -0.519110408375478,
          -0.013545062712970927,
          -0.5191047630513151,
          -0.5191046656861772,
          -0.4164935590278459,
          -0.5191030988410784,
          -0.2622614490780267,
          -0.519100075988599,
          -0.519099979066085,
          -0.2220805805723741,
          -0.358101173714865,
          -0.4164930591323144,
          -0.49892882787212883,
          0.008631126656532694,
          -0.5191127048243646,
          -0.32502257570252646,
          -0.4164965435944647,
          -0.41649305790591246,
          -0.519105219501145,
          -0.5190981263041653,
          -0.24143154259078392,
          -0.2222656682522696,
          -0.22126957804099256,
          -0.5197140197074726,
          -0.2414519516106742,
          -0.4165011671500843,
          -0.5893387268582402,
          -0.41656121463352547,
          -0.24142974250663513,
          0.008562658531896486,
          -0.4165063166601393,
          0.008383818406493939,
          -0.416568016252056,
          -0.519101244104262,
          -0.5190986439512282,
          -0.5190982524770261,
          -0.047415381551756,
          -0.41650363627912057,
          -0.24161158360450857,
          0.008624109992332651,
          -0.5191110957281169,
          -0.4164930742047963,
          -0.5935031695026808,
          -0.047359198375905305,
          -0.197258922890305,
          -0.7558386548347769,
          -0.6483909569335885,
          -0.648427165003395,
          -0.4997937055623729,
          -0.4989419271836833,
          -0.4164930571529478,
          -0.5246707033197086,
          -0.4989423268802048,
          -0.18996967665917894,
          -0.4998186735161295,
          -0.41650080077782914,
          -0.24144123972914988,
          0.008628662669419992,
          -0.5191099745148022,
          -0.5191005238138434,
          -0.25759441492542867,
          -0.014301391227680867,
          -0.4164975314953488,
          -0.3692286478625527,
          -0.5190986391705836,
          0.009419363013327792,
          -0.5489528231468778,
          -0.3250777303152448,
          -0.6487337459137985,
          -0.3931617791282518,
          -0.519099260804685,
          -0.4997612176444586,
          -0.012777897278581193,
          -0.5191080169435794,
          -0.30037353939720784,
          -0.41649305711845513,
          -0.2220741013232747,
          -0.05289757559459194,
          -0.24142975769766914,
          -0.46129863338064186,
          -0.4997825067990088,
          -0.41651659147520975,
          -0.5270215278077275,
          -0.6658846463246234,
          -0.49904189668347143,
          -0.5190979444393918,
          -0.5191663081513777,
          -0.37072835377997515,
          -0.22208454690100207,
          -0.5221241989092339,
          -0.5191031244753221,
          -0.4165208882131787,
          -0.4164930573172396,
          -0.3250217551176174,
          -0.5191013706190438,
          -0.5190979363009877,
          -0.519128699456211,
          -0.22209092034887,
          -0.5194620581197064,
          -0.5190994792481062,
          -0.13882757778650817,
          -0.2568318276932903,
          -0.5190979526154058,
          -1.273202123398166,
          -0.1972099109399217,
          -0.3013199541279125,
          -0.5192426211363628,
          -0.14109223510965513,
          -0.3250231307743968,
          -0.2214025175332354,
          -0.49979669790826053,
          -0.41649522688185786,
          -0.4997913528926577,
          -0.4618545489674966,
          -0.4164943928373732,
          -0.15757712794120243,
          -0.4015388022691716,
          -0.2414454956574443,
          -0.08814844119033467,
          -0.3931574999329512,
          -0.6483968817315809,
          -0.5190984572644485,
          -0.5190986645997925,
          -0.24159442116652016,
          -0.20090115563508246,
          -0.01556697679617198,
          0.008617649130534533,
          -0.519104023641806,
          -0.5190979370809792,
          -0.46278405239871895,
          -0.5190979403513848,
          -0.49982838712711253,
          0.008624303629918251,
          -0.021615045968970896,
          -0.5199630448669125,
          -0.0400244497855264,
          -0.24145358811151646,
          -0.2414320726152814,
          -0.5191029241801485,
          -0.13883186087243377,
          -0.6540758498460882,
          -0.5191135424229696,
          -0.5253819873931447,
          -0.13882933352223603,
          -0.24143444260497104,
          -0.6540959220877182,
          -0.5191112437691424,
          -0.2908038804228006,
          -0.44386122111603027,
          -0.2220757794481423,
          -0.5191371292602683,
          -0.047388441351584695,
          -0.6540754580537838,
          -0.287630715582264,
          -0.2414348186490466,
          -0.29930327529757755,
          -0.22207846416847263,
          -0.4997459422758909,
          -0.24143052156013894,
          -0.5255750889257865,
          -0.26824225998188367,
          -0.22211479568804107,
          -0.12387034895630664,
          -0.519101273588463,
          -0.5190979370809792,
          -0.1388367343340372,
          -0.4165120148267966,
          -0.24149613437050202,
          0.008625379542072006,
          -0.2414297484587734,
          -0.24142974216324242,
          -0.30252386906841083,
          -0.1388276384301356,
          -0.28550142527360156,
          -0.4997422974265337,
          -0.5197510949258871,
          -0.36911759292797286,
          -0.6635475543342498,
          -0.36911612765126084,
          -0.1238745307622288,
          -0.2577022289853484,
          -0.22208291281596956,
          -0.18003974351642307,
          -0.4962934965347086,
          -0.4997640507883337,
          0.07675873771482897,
          -0.5191070405177789,
          -0.4997535481598704,
          -0.22207529274124044,
          -0.5380895053812735,
          -0.13882530347700472,
          -0.5191105951580358,
          -0.40166110843204594,
          -0.6546277108741123,
          -0.41650256054736423,
          -0.41650770511472,
          -0.5274601216902153,
          -0.138824862620255,
          -0.5285358098890031,
          -0.5191001170492152,
          -0.5191106133994449,
          -0.04735553073727291,
          -0.4167618878525041,
          -0.5197022271672317,
          -0.33607324174639797,
          -0.4167975547151451,
          -0.519134900902103,
          -0.3250210194807567,
          -0.5193470289148447,
          -0.41661711437092386,
          -0.5191617764466788,
          0.00862877322555535,
          0.048094500025968594,
          -0.32506702621157035,
          -0.526917976064938,
          -0.2475907268439893,
          -0.5192531931116998,
          -0.36911681632433346,
          -0.5190979387161824,
          -0.4989289109235959,
          -0.5530015911772992,
          -0.047968908047994745,
          -0.23119562925794904,
          0.008625408292082715,
          -0.24144510461682417,
          0.4377904306080453,
          -0.2878095237509645,
          -0.5191071369556439,
          -0.2414298206581862,
          -0.5191111772860757
         ]
        },
        {
         "customdata": [
          [
           "SHA-256",
           "Bitcoin"
          ],
          [
           "Scrypt",
           "Litecoin"
          ],
          [
           "Ethash",
           "Ethereum Classic"
          ],
          [
           "Equihash",
           "ZCash"
          ],
          [
           "Multiple",
           "DigiByte"
          ],
          [
           "Scrypt",
           "ProsperCoin"
          ],
          [
           "X11",
           "Spreadcoin"
          ],
          [
           "SHA-256",
           "ACoin"
          ],
          [
           "Scrypt",
           "Argentum"
          ],
          [
           "SHA-256",
           "BetaCoin"
          ],
          [
           "Multiple",
           "MyriadCoin"
          ],
          [
           "Scrypt",
           "MoonCoin"
          ],
          [
           "SHA-256",
           "ZetaCoin"
          ],
          [
           "Scrypt",
           "SexCoin"
          ],
          [
           "Scrypt",
           "Quatloo"
          ],
          [
           "Quark",
           "QuarkCoin"
          ],
          [
           "Groestl",
           "Riecoin"
          ],
          [
           "Scrypt",
           "Digitalcoin "
          ],
          [
           "X11",
           "LimeCoinX"
          ],
          [
           "Scrypt",
           "BitMark"
          ],
          [
           "Scrypt",
           "Catcoin"
          ],
          [
           "Scrypt",
           "CannaCoin"
          ],
          [
           "X11",
           "CryptCoin"
          ],
          [
           "Multiple",
           "Verge"
          ],
          [
           "Scrypt",
           "DarkShibe"
          ],
          [
           "SHA-256",
           "DevCoin"
          ],
          [
           "Scrypt",
           "EarthCoin"
          ],
          [
           "Scrypt",
           "E-Gulden"
          ],
          [
           "Scrypt",
           "Elacoin"
          ],
          [
           "Scrypt",
           "Einsteinium"
          ],
          [
           "Scrypt",
           "Emerald"
          ],
          [
           "Scrypt",
           "Flappy Coin"
          ],
          [
           "SHA-256",
           "FireRoosterCoin"
          ],
          [
           "Scrypt",
           "Franko"
          ],
          [
           "NeoScrypt",
           "FeatherCoin"
          ],
          [
           "Scrypt",
           "GrandCoin"
          ],
          [
           "Scrypt",
           "GlobalCoin"
          ],
          [
           "Scrypt",
           "GoldCoin"
          ],
          [
           "Multiple",
           "HunterCoin"
          ],
          [
           "Scrypt",
           "Infinite Coin"
          ],
          [
           "SHA-256",
           "IXcoin"
          ],
          [
           "Scrypt",
           "KrugerCoin"
          ],
          [
           "Scrypt",
           "LuckyCoin"
          ],
          [
           "Scrypt",
           "Litebar "
          ],
          [
           "Scrypt",
           "LitecoinDark"
          ],
          [
           "Scrypt",
           "MegaCoin"
          ],
          [
           "HybridScryptHash256",
           "MediterraneanCoin"
          ],
          [
           "Scrypt",
           "MinCoin"
          ],
          [
           "SHA-256",
           "NoirBits"
          ],
          [
           "Scrypt",
           "NobleCoin"
          ],
          [
           "SHA-256",
           "Namecoin"
          ],
          [
           "Scrypt",
           "NyanCoin"
          ],
          [
           "Scrypt",
           "RipOffCoin"
          ],
          [
           "Scrypt",
           "RonPaulCoin"
          ],
          [
           "Scrypt",
           "StableCoin"
          ],
          [
           "Scrypt",
           "SmartCoin"
          ],
          [
           "Scrypt-n",
           "SpainCoin"
          ],
          [
           "Scrypt",
           "SecureCoin"
          ],
          [
           "SHA-256",
           "SysCoin"
          ],
          [
           "SHA-256",
           "TigerCoin"
          ],
          [
           "SHA-256",
           "TerraCoin"
          ],
          [
           "SHA-256",
           "Umbrella"
          ],
          [
           "SHA-256",
           "UnbreakableCoin"
          ],
          [
           "SHA-256",
           "Unobtanium"
          ],
          [
           "Scrypt",
           "ViaCoin"
          ],
          [
           "Lyra2REv2",
           "Vertcoin"
          ],
          [
           "Scrypt",
           "WorldCoin"
          ],
          [
           "SHA-256",
           "JouleCoin"
          ],
          [
           "CryptoNight",
           "ByteCoin"
          ],
          [
           "CryptoNight",
           "DigitalNote "
          ],
          [
           "Scrypt",
           "MonaCoin"
          ],
          [
           "SHA-256",
           "Sling Coin"
          ],
          [
           "Scrypt",
           "Gulden"
          ],
          [
           "Scrypt",
           "PesetaCoin"
          ],
          [
           "Scrypt",
           "Wild Beast Coin"
          ],
          [
           "Scrypt",
           "Flo"
          ],
          [
           "Scrypt",
           "ArtByte"
          ],
          [
           "Momentum",
           "BitCredit"
          ],
          [
           "Stanford Folding",
           "Folding Coin"
          ],
          [
           "Scrypt",
           "OmniCron"
          ],
          [
           "Scrypt",
           "GreenCoin"
          ],
          [
           "M7 POW",
           "Cryptonite"
          ],
          [
           "Scrypt",
           "Gridmaster"
          ],
          [
           "X11",
           "ConSpiracy Coin "
          ],
          [
           "Scrypt",
           "MasterCoin"
          ],
          [
           "SHA-256",
           "SoonCoin"
          ],
          [
           "Scrypt",
           "1Credit"
          ],
          [
           "X11",
           "Quicksilver coin"
          ],
          [
           "X11",
           "MarsCoin "
          ],
          [
           "Lyra2RE",
           "Crypto"
          ],
          [
           "SHA-256",
           "Anarchists Prime"
          ],
          [
           "X11",
           "BowsCoin"
          ],
          [
           "Scrypt",
           "Song Coin"
          ],
          [
           "Scrypt",
           "BitZeny"
          ],
          [
           "Ethash",
           "Expanse"
          ],
          [
           "X11",
           "MindCoin"
          ],
          [
           "SHA-256",
           "I0coin"
          ],
          [
           "Scrypt",
           "DogeCoinDark"
          ],
          [
           "Scrypt",
           "Revolution VR"
          ],
          [
           "1GB AES Pattern Search",
           "HOdlcoin"
          ],
          [
           "Scrypt",
           "Gamecredits"
          ],
          [
           "CryptoNight",
           "Dashcoin"
          ],
          [
           "SHA-256",
           "CarpeDiemCoin"
          ],
          [
           "SHA-256",
           "Phalanx"
          ],
          [
           "X11",
           "SunShotCoin"
          ],
          [
           "Scrypt-n",
           "HempCoin"
          ],
          [
           "X11",
           "Adzcoin"
          ],
          [
           "Scrypt",
           "VirtaCoin"
          ],
          [
           "Dagger",
           "SoilCoin"
          ],
          [
           "Scrypt",
           "YoCoin"
          ],
          [
           "CryptoNight-Lite",
           "AEON"
          ],
          [
           "X11GOST",
           "SibCoin"
          ],
          [
           "SHA-256",
           "Anti Bitcoin"
          ],
          [
           "Scrypt",
           "Francs"
          ],
          [
           "ScryptOG",
           "Aiden"
          ],
          [
           "X11",
           "BolivarCoin"
          ],
          [
           "SHA-256",
           "Clinton"
          ],
          [
           "Scrypt",
           "Omni"
          ],
          [
           "X11",
           "PizzaCoin"
          ],
          [
           "Equihash",
           "Komodo"
          ],
          [
           "CryptoNight",
           "Karbo"
          ],
          [
           "SHA-256",
           "ZayedCoin"
          ],
          [
           "Multiple",
           "Circuits of Value"
          ],
          [
           "Scrypt",
           "DopeCoin"
          ],
          [
           "SHA-256",
           "DollarCoin"
          ],
          [
           "Scrypt",
           "Shilling"
          ],
          [
           "Scrypt",
           "GBR Coin"
          ],
          [
           "Scrypt-n",
           "FujiCoin"
          ],
          [
           "Lyra2Z",
           "ZCoin"
          ],
          [
           "SHA-256",
           "LeaCoin"
          ],
          [
           "Quark",
           "Zurcoin"
          ],
          [
           "Ethash",
           "Elementrem"
          ],
          [
           "SHA-256",
           "CashOut"
          ],
          [
           "Equihash",
           "ZClassic"
          ],
          [
           "Scrypt",
           "KiloCoin"
          ],
          [
           "Equihash",
           "Hush"
          ],
          [
           "X11",
           "ArtexCoin"
          ],
          [
           "X11",
           "Kurrent"
          ],
          [
           "CryptoNight",
           "Cannabis Industry Coin"
          ],
          [
           "Scrypt",
           "OsmiumCoin"
          ],
          [
           "CryptoNight",
           "Bikercoins"
          ],
          [
           "Lyra2RE",
           "HexxCoin"
          ],
          [
           "X11",
           "MarxCoin"
          ],
          [
           "X11",
           "PacCoin"
          ],
          [
           "Scrypt",
           "Solarflarecoin"
          ],
          [
           "CryptoNight-V7",
           "Citadel"
          ],
          [
           "Keccak",
           "CreativeChain"
          ],
          [
           "Scrypt",
           "BeaverCoin"
          ],
          [
           "X11",
           "VaultCoin"
          ],
          [
           "Equihash",
           "Zero"
          ],
          [
           "Scrypt",
           "Canada eCoin"
          ],
          [
           "Lyra2RE",
           "Zoin"
          ],
          [
           "Ethash",
           "Musicoin"
          ],
          [
           "X11",
           "BnrtxCoin"
          ],
          [
           "Dagger-Hashimoto",
           "DubaiCoin"
          ],
          [
           "Scrypt",
           "EB3coin"
          ],
          [
           "NIST5",
           "Coinonat"
          ],
          [
           "Scrypt",
           "Bitcoin Scrypt"
          ],
          [
           "Scrypt",
           "BenjiRolls"
          ],
          [
           "Scrypt",
           "ParallelCoin"
          ],
          [
           "SHA-256",
           "ILCoin"
          ],
          [
           "Scrypt",
           "EquiTrader"
          ],
          [
           "CryptoNight-V7",
           "Quantum Resistant Ledger"
          ],
          [
           "Blake2b",
           "Nano"
          ],
          [
           "Cloverhash",
           "ChanCoin"
          ],
          [
           "CryptoNight",
           "Dinastycoin"
          ],
          [
           "X11",
           "DigitalPrice"
          ],
          [
           "Scrypt",
           "Unify"
          ],
          [
           "Scrypt",
           "SocialCoin"
          ],
          [
           "X11",
           "ArcticCoin"
          ],
          [
           "X11",
           "DAS"
          ],
          [
           "CryptoNight",
           "LeviarCoin"
          ],
          [
           "Time Travel",
           "Bitcore"
          ],
          [
           "Scrypt",
           "gCn Coin"
          ],
          [
           "Keccak",
           "SmartCash"
          ],
          [
           "X11",
           "Onix"
          ],
          [
           "SHA-256",
           "Bitcoin Cash"
          ],
          [
           "Scrypt",
           "CampusCoin"
          ],
          [
           "Scrypt",
           "Sojourn Coin"
          ],
          [
           "Scrypt",
           "LiteBitcoin"
          ],
          [
           "Scrypt",
           "FrazCoin"
          ],
          [
           "Scrypt",
           "Kronecoin"
          ],
          [
           "Scrypt",
           "AdCoin"
          ],
          [
           "Scrypt",
           "Linx"
          ],
          [
           "CryptoNight",
           "Sumokoin"
          ],
          [
           "Equihash",
           "BitcoinZ"
          ],
          [
           "X11",
           "Elements"
          ],
          [
           "NeoScrypt",
           "VIVO Coin"
          ],
          [
           "Equihash",
           "Bitcoin Gold"
          ],
          [
           "Dagger",
           "Pirl"
          ],
          [
           "Scrypt",
           "eBoost"
          ],
          [
           "X11",
           "Pura"
          ],
          [
           "NeoScrypt",
           "Innova"
          ],
          [
           "Scrypt",
           "Bitdeal"
          ],
          [
           "Ethash",
           "Ellaism"
          ],
          [
           "Scrypt",
           "Sakuracoin"
          ],
          [
           "NeoScrypt",
           "GoByte"
          ],
          [
           "SHA-256",
           "Insta Cash Coin"
          ],
          [
           "Multiple",
           "SHIELD"
          ],
          [
           "Scrypt",
           "BridgeCoin"
          ],
          [
           "CryptoNight",
           "UltraNote"
          ],
          [
           "CryptoNight",
           "BitCoal"
          ],
          [
           "Ethash",
           "DaxxCoin"
          ],
          [
           "Scrypt",
           "BoxyCoin"
          ],
          [
           "X11",
           "AC3"
          ],
          [
           "SHA-256",
           "CHIPS"
          ],
          [
           "CryptoNight-V7",
           "Lethean"
          ],
          [
           "Scrypt",
           "PopularCoin"
          ],
          [
           "BLAKE256",
           "Photon"
          ],
          [
           "X11",
           "Sucre"
          ],
          [
           "NeoScrypt",
           "SparksPay"
          ],
          [
           "NeoScrypt",
           "GoaCoin"
          ],
          [
           "NeoScrypt",
           "GunCoin"
          ],
          [
           "Scrypt",
           "IrishCoin"
          ],
          [
           "X11",
           "Pioneer Coin"
          ],
          [
           "SHA-256",
           "UnitedBitcoin"
          ],
          [
           "C11",
           "Interzone"
          ],
          [
           "NeoScrypt",
           "Sigil"
          ],
          [
           "Ethash",
           "1717 Masonic Commemorative Token"
          ],
          [
           "Scrypt",
           "Crypto Wisdom Coin"
          ],
          [
           "CryptoNight",
           "TurtleCoin"
          ],
          [
           "SkunkHash",
           "MUNcoin"
          ],
          [
           "CryptoNight",
           "Niobio Cash"
          ],
          [
           "Equihash",
           "Bitcoin Private"
          ],
          [
           "Skein",
           "Skeincoin"
          ],
          [
           "Scrypt",
           "ShareChain"
          ],
          [
           "Dagger",
           "Travelflex"
          ],
          [
           "Lyra2REv2",
           "KREDS"
          ],
          [
           "Scrypt",
           "BitFlip"
          ],
          [
           "Scrypt",
           "LottoCoin"
          ],
          [
           "Scrypt",
           "LeafCoin"
          ],
          [
           "NeoScrypt",
           "Cerberus"
          ],
          [
           "Equihash",
           "Bitcoin Hush"
          ],
          [
           "X11",
           "Crypto Improvement Fund"
          ],
          [
           "Ethash",
           "Callisto Network"
          ],
          [
           "X11",
           "Curium"
          ],
          [
           "CryptoNight",
           "BitTube"
          ],
          [
           "NeoScrypt",
           "Dinero"
          ],
          [
           "Scrypt",
           "Poseidon"
          ],
          [
           "SHA-256",
           "Manna"
          ],
          [
           "IMesh",
           "Aidos Kuneen"
          ],
          [
           "Quark",
           "Cosmo"
          ],
          [
           "X16S",
           "Reden"
          ],
          [
           "Equihash",
           "Snowgem"
          ],
          [
           "Equihash",
           "Bitrolium"
          ],
          [
           "Equihash",
           "Bitcoin Interest"
          ],
          [
           "PHI1612",
           "FOLM coin"
          ],
          [
           "Lyra2Z",
           "Alpenschillling"
          ],
          [
           "NeoScrypt",
           "Rapture"
          ],
          [
           "Scrypt",
           "Uwezocoin"
          ],
          [
           "X11",
           "FuturoCoin"
          ],
          [
           "CryptoNight",
           "Monero Classic"
          ],
          [
           "NIST5",
           "Jumpcoin"
          ],
          [
           "Lyra2RE",
           "Infinex"
          ],
          [
           "Tribus",
           "KEYCO"
          ],
          [
           "Lyra2Z",
           "GINcoin"
          ],
          [
           "CryptoNight",
           "PlatinCoin"
          ],
          [
           "CryptoNight Heavy",
           "Loki"
          ],
          [
           "CryptoNight",
           "Newton Coin"
          ],
          [
           "Equihash",
           "ExchangeCoin"
          ],
          [
           "Jump Consistent Hash",
           "MassGrid"
          ],
          [
           "CryptoNight",
           "PluraCoin"
          ],
          [
           "SHA-512",
           "Arionum"
          ],
          [
           "X16R",
           "Motion"
          ],
          [
           "HMQ1725",
           "PlusOneCoin"
          ],
          [
           "X11",
           "Axe"
          ],
          [
           "CryptoNight",
           "BitminerCoin"
          ],
          [
           "Scrypt",
           "HexCoin"
          ],
          [
           "Scrypt",
           "Deimos"
          ],
          [
           "CryptoNight-V7",
           "Webchain"
          ],
          [
           "Cryptonight-GPU",
           "Ryo"
          ],
          [
           "XEVAN",
           "Urals Coin"
          ],
          [
           "CryptoNight Heavy",
           "Qwertycoin"
          ],
          [
           "CryptoNight",
           "Bitcoin Nova"
          ],
          [
           "X11",
           "DACash"
          ],
          [
           "Lyra2REv2",
           "NIX"
          ],
          [
           "SHA-256",
           "Project Pai"
          ],
          [
           "X11",
           "Azart"
          ],
          [
           "X16R",
           "Xchange"
          ],
          [
           "Equihash",
           "CrypticCoin"
          ],
          [
           "Quark",
           "ZestCoin"
          ],
          [
           "CryptoNight Heavy X",
           "X-CASH"
          ],
          [
           "HMQ1725",
           "Brazio"
          ],
          [
           "Lyra2Z",
           "Actinium"
          ],
          [
           "Ethash",
           "ETHER-1"
          ],
          [
           "SHA-256",
           "Bitcoin SV"
          ],
          [
           "PHI1612",
           "Argoneum"
          ],
          [
           "Ethash",
           "Bitcoiin2Gen"
          ],
          [
           "CryptoNight",
           "FREDEnergy"
          ],
          [
           "SkunkHash",
           "C25 Coin"
          ],
          [
           "Argon2",
           "Aquachain"
          ],
          [
           "Blake",
           "BlakeBitcoin"
          ],
          [
           "Blake",
           "Universal Molecule"
          ],
          [
           "Blake",
           "Lithium"
          ],
          [
           "Blake",
           "Electron"
          ],
          [
           "SHA-256",
           "Smart Bitcoin"
          ],
          [
           "Exosis",
           "Exosis"
          ],
          [
           "Scrypt",
           "Block-Logic"
          ],
          [
           "Equihash",
           "Beam"
          ],
          [
           "Equihash",
           "Bithereum"
          ],
          [
           "Lyra2REv2",
           "Scribe Network"
          ],
          [
           "QuBit",
           "SLICE"
          ],
          [
           "Equihash1927",
           "Vidulum"
          ],
          [
           "SHA-256",
           "BlockStamp"
          ],
          [
           "SHA-256",
           "BLAST"
          ],
          [
           "X13",
           "Bitcoin Rhodium"
          ],
          [
           "SHA-256",
           "GlobalToken"
          ],
          [
           "Ethash",
           "Media Protocol Token"
          ],
          [
           "X11",
           "Boolberry"
          ],
          [
           "Scrypt",
           "SolarCoin"
          ],
          [
           "NeoScrypt",
           "UFO Coin"
          ],
          [
           "Blake",
           "BlakeCoin"
          ],
          [
           "CryptoNight",
           "FantomCoin "
          ],
          [
           "Scrypt",
           "Crypto Escudo"
          ],
          [
           "SHA-256",
           "Crown Coin"
          ],
          [
           "CryptoNight",
           "Quazar Coin"
          ],
          [
           "Scrypt",
           "SmileyCoin"
          ],
          [
           "Groestl",
           "Groestlcoin"
          ],
          [
           "Scrypt",
           "Bata"
          ],
          [
           "Scrypt",
           "Pakcoin"
          ],
          [
           "Scrypt",
           "Dotcoin"
          ],
          [
           "Multiple",
           "JoinCoin"
          ],
          [
           "Equihash+Scrypt",
           "Vollar"
          ],
          [
           "Lyra2Z",
           "TecraCoin"
          ],
          [
           "Ethash",
           "Reality Clash"
          ],
          [
           "Ethash",
           "iOlite"
          ],
          [
           "Equihash",
           "ChainZilla"
          ],
          [
           "CryptoNight",
           "Beldex"
          ],
          [
           "Equihash",
           "Horizen"
          ]
         ],
         "hovertemplate": "<b>%{hovertext}</b><br><br>class=%{marker.color}<br>PC 1=%{x}<br>PC 2=%{y}<br>PC 3=%{z}<br>Algorithm=%{customdata[0]}<br>CoinName=%{customdata[1]}<extra></extra>",
         "hovertext": [
          "SHA-256",
          "Scrypt",
          "Ethash",
          "Equihash",
          "Multiple",
          "Scrypt",
          "X11",
          "SHA-256",
          "Scrypt",
          "SHA-256",
          "Multiple",
          "Scrypt",
          "SHA-256",
          "Scrypt",
          "Scrypt",
          "Quark",
          "Groestl",
          "Scrypt",
          "X11",
          "Scrypt",
          "Scrypt",
          "Scrypt",
          "X11",
          "Multiple",
          "Scrypt",
          "SHA-256",
          "Scrypt",
          "Scrypt",
          "Scrypt",
          "Scrypt",
          "Scrypt",
          "Scrypt",
          "SHA-256",
          "Scrypt",
          "NeoScrypt",
          "Scrypt",
          "Scrypt",
          "Scrypt",
          "Multiple",
          "Scrypt",
          "SHA-256",
          "Scrypt",
          "Scrypt",
          "Scrypt",
          "Scrypt",
          "Scrypt",
          "HybridScryptHash256",
          "Scrypt",
          "SHA-256",
          "Scrypt",
          "SHA-256",
          "Scrypt",
          "Scrypt",
          "Scrypt",
          "Scrypt",
          "Scrypt",
          "Scrypt-n",
          "Scrypt",
          "SHA-256",
          "SHA-256",
          "SHA-256",
          "SHA-256",
          "SHA-256",
          "SHA-256",
          "Scrypt",
          "Lyra2REv2",
          "Scrypt",
          "SHA-256",
          "CryptoNight",
          "CryptoNight",
          "Scrypt",
          "SHA-256",
          "Scrypt",
          "Scrypt",
          "Scrypt",
          "Scrypt",
          "Scrypt",
          "Momentum",
          "Stanford Folding",
          "Scrypt",
          "Scrypt",
          "M7 POW",
          "Scrypt",
          "X11",
          "Scrypt",
          "SHA-256",
          "Scrypt",
          "X11",
          "X11",
          "Lyra2RE",
          "SHA-256",
          "X11",
          "Scrypt",
          "Scrypt",
          "Ethash",
          "X11",
          "SHA-256",
          "Scrypt",
          "Scrypt",
          "1GB AES Pattern Search",
          "Scrypt",
          "CryptoNight",
          "SHA-256",
          "SHA-256",
          "X11",
          "Scrypt-n",
          "X11",
          "Scrypt",
          "Dagger",
          "Scrypt",
          "CryptoNight-Lite",
          "X11GOST",
          "SHA-256",
          "Scrypt",
          "ScryptOG",
          "X11",
          "SHA-256",
          "Scrypt",
          "X11",
          "Equihash",
          "CryptoNight",
          "SHA-256",
          "Multiple",
          "Scrypt",
          "SHA-256",
          "Scrypt",
          "Scrypt",
          "Scrypt-n",
          "Lyra2Z",
          "SHA-256",
          "Quark",
          "Ethash",
          "SHA-256",
          "Equihash",
          "Scrypt",
          "Equihash",
          "X11",
          "X11",
          "CryptoNight",
          "Scrypt",
          "CryptoNight",
          "Lyra2RE",
          "X11",
          "X11",
          "Scrypt",
          "CryptoNight-V7",
          "Keccak",
          "Scrypt",
          "X11",
          "Equihash",
          "Scrypt",
          "Lyra2RE",
          "Ethash",
          "X11",
          "Dagger-Hashimoto",
          "Scrypt",
          "NIST5",
          "Scrypt",
          "Scrypt",
          "Scrypt",
          "SHA-256",
          "Scrypt",
          "CryptoNight-V7",
          "Blake2b",
          "Cloverhash",
          "CryptoNight",
          "X11",
          "Scrypt",
          "Scrypt",
          "X11",
          "X11",
          "CryptoNight",
          "Time Travel",
          "Scrypt",
          "Keccak",
          "X11",
          "SHA-256",
          "Scrypt",
          "Scrypt",
          "Scrypt",
          "Scrypt",
          "Scrypt",
          "Scrypt",
          "Scrypt",
          "CryptoNight",
          "Equihash",
          "X11",
          "NeoScrypt",
          "Equihash",
          "Dagger",
          "Scrypt",
          "X11",
          "NeoScrypt",
          "Scrypt",
          "Ethash",
          "Scrypt",
          "NeoScrypt",
          "SHA-256",
          "Multiple",
          "Scrypt",
          "CryptoNight",
          "CryptoNight",
          "Ethash",
          "Scrypt",
          "X11",
          "SHA-256",
          "CryptoNight-V7",
          "Scrypt",
          "BLAKE256",
          "X11",
          "NeoScrypt",
          "NeoScrypt",
          "NeoScrypt",
          "Scrypt",
          "X11",
          "SHA-256",
          "C11",
          "NeoScrypt",
          "Ethash",
          "Scrypt",
          "CryptoNight",
          "SkunkHash",
          "CryptoNight",
          "Equihash",
          "Skein",
          "Scrypt",
          "Dagger",
          "Lyra2REv2",
          "Scrypt",
          "Scrypt",
          "Scrypt",
          "NeoScrypt",
          "Equihash",
          "X11",
          "Ethash",
          "X11",
          "CryptoNight",
          "NeoScrypt",
          "Scrypt",
          "SHA-256",
          "IMesh",
          "Quark",
          "X16S",
          "Equihash",
          "Equihash",
          "Equihash",
          "PHI1612",
          "Lyra2Z",
          "NeoScrypt",
          "Scrypt",
          "X11",
          "CryptoNight",
          "NIST5",
          "Lyra2RE",
          "Tribus",
          "Lyra2Z",
          "CryptoNight",
          "CryptoNight Heavy",
          "CryptoNight",
          "Equihash",
          "Jump Consistent Hash",
          "CryptoNight",
          "SHA-512",
          "X16R",
          "HMQ1725",
          "X11",
          "CryptoNight",
          "Scrypt",
          "Scrypt",
          "CryptoNight-V7",
          "Cryptonight-GPU",
          "XEVAN",
          "CryptoNight Heavy",
          "CryptoNight",
          "X11",
          "Lyra2REv2",
          "SHA-256",
          "X11",
          "X16R",
          "Equihash",
          "Quark",
          "CryptoNight Heavy X",
          "HMQ1725",
          "Lyra2Z",
          "Ethash",
          "SHA-256",
          "PHI1612",
          "Ethash",
          "CryptoNight",
          "SkunkHash",
          "Argon2",
          "Blake",
          "Blake",
          "Blake",
          "Blake",
          "SHA-256",
          "Exosis",
          "Scrypt",
          "Equihash",
          "Equihash",
          "Lyra2REv2",
          "QuBit",
          "Equihash1927",
          "SHA-256",
          "SHA-256",
          "X13",
          "SHA-256",
          "Ethash",
          "X11",
          "Scrypt",
          "NeoScrypt",
          "Blake",
          "CryptoNight",
          "Scrypt",
          "SHA-256",
          "CryptoNight",
          "Scrypt",
          "Groestl",
          "Scrypt",
          "Scrypt",
          "Scrypt",
          "Multiple",
          "Equihash+Scrypt",
          "Lyra2Z",
          "Ethash",
          "Ethash",
          "Equihash",
          "CryptoNight",
          "Equihash"
         ],
         "legendgroup": "1",
         "marker": {
          "color": [
           1,
           1,
           1,
           1,
           1,
           1,
           1,
           1,
           1,
           1,
           1,
           1,
           1,
           1,
           1,
           1,
           1,
           1,
           1,
           1,
           1,
           1,
           1,
           1,
           1,
           1,
           1,
           1,
           1,
           1,
           1,
           1,
           1,
           1,
           1,
           1,
           1,
           1,
           1,
           1,
           1,
           1,
           1,
           1,
           1,
           1,
           1,
           1,
           1,
           1,
           1,
           1,
           1,
           1,
           1,
           1,
           1,
           1,
           1,
           1,
           1,
           1,
           1,
           1,
           1,
           1,
           1,
           1,
           1,
           1,
           1,
           1,
           1,
           1,
           1,
           1,
           1,
           1,
           1,
           1,
           1,
           1,
           1,
           1,
           1,
           1,
           1,
           1,
           1,
           1,
           1,
           1,
           1,
           1,
           1,
           1,
           1,
           1,
           1,
           1,
           1,
           1,
           1,
           1,
           1,
           1,
           1,
           1,
           1,
           1,
           1,
           1,
           1,
           1,
           1,
           1,
           1,
           1,
           1,
           1,
           1,
           1,
           1,
           1,
           1,
           1,
           1,
           1,
           1,
           1,
           1,
           1,
           1,
           1,
           1,
           1,
           1,
           1,
           1,
           1,
           1,
           1,
           1,
           1,
           1,
           1,
           1,
           1,
           1,
           1,
           1,
           1,
           1,
           1,
           1,
           1,
           1,
           1,
           1,
           1,
           1,
           1,
           1,
           1,
           1,
           1,
           1,
           1,
           1,
           1,
           1,
           1,
           1,
           1,
           1,
           1,
           1,
           1,
           1,
           1,
           1,
           1,
           1,
           1,
           1,
           1,
           1,
           1,
           1,
           1,
           1,
           1,
           1,
           1,
           1,
           1,
           1,
           1,
           1,
           1,
           1,
           1,
           1,
           1,
           1,
           1,
           1,
           1,
           1,
           1,
           1,
           1,
           1,
           1,
           1,
           1,
           1,
           1,
           1,
           1,
           1,
           1,
           1,
           1,
           1,
           1,
           1,
           1,
           1,
           1,
           1,
           1,
           1,
           1,
           1,
           1,
           1,
           1,
           1,
           1,
           1,
           1,
           1,
           1,
           1,
           1,
           1,
           1,
           1,
           1,
           1,
           1,
           1,
           1,
           1,
           1,
           1,
           1,
           1,
           1,
           1,
           1,
           1,
           1,
           1,
           1,
           1,
           1,
           1,
           1,
           1,
           1,
           1,
           1,
           1,
           1,
           1,
           1,
           1,
           1,
           1,
           1,
           1,
           1,
           1,
           1,
           1,
           1,
           1,
           1,
           1,
           1,
           1,
           1,
           1,
           1,
           1,
           1,
           1,
           1,
           1,
           1,
           1,
           1,
           1,
           1,
           1,
           1,
           1,
           1,
           1,
           1,
           1,
           1,
           1,
           1,
           1,
           1,
           1,
           1,
           1,
           1,
           1,
           1,
           1,
           1,
           1,
           1,
           1
          ],
          "coloraxis": "coloraxis",
          "symbol": "diamond"
         },
         "mode": "markers",
         "name": "1",
         "scene": "scene",
         "showlegend": true,
         "type": "scatter3d",
         "x": [
          -0.19719899491250806,
          -0.28849323705548596,
          -0.3198932446127653,
          -0.4642418335379012,
          -0.08822357087860802,
          -0.28932074907285177,
          -0.27188353817752675,
          -0.1974580260115877,
          -0.2892277334562588,
          -0.19745802609129515,
          -0.22863915380153413,
          -0.2894051013398202,
          -0.19499872994857437,
          -0.28754101857299513,
          -0.28929778269023493,
          -0.1360490455103845,
          -0.38328341068116045,
          -0.28892087555798,
          -0.2720446415563927,
          -0.2894040958512394,
          -0.2892997741172273,
          -0.2893361290913028,
          -0.2719724397050602,
          -0.022865878122462456,
          -0.28940409578428516,
          0.07380685036555026,
          -0.10822692266059658,
          -0.2891019586946363,
          -0.289404095975573,
          -0.28624159945978356,
          -0.2891223852766246,
          -0.2894043579748668,
          -0.19745802601421608,
          -0.2893875843824265,
          -0.2864395567170302,
          -0.2766292968261727,
          -0.28845518570171236,
          -0.28880216691390126,
          -0.2530328660148285,
          1.0196207687753076,
          -0.19715330441373538,
          -0.28721581756952214,
          -0.28912484833854646,
          -0.289388139026553,
          -0.28940409599393474,
          -0.28885283466517875,
          -0.5559327826443207,
          -0.2893202303959742,
          -0.19745802613849053,
          -0.2552166584961287,
          -0.19724509866937098,
          -0.2845678569841056,
          -0.2894040958103892,
          -0.2893881417772734,
          -0.28905420938481524,
          -0.2890342900089117,
          -0.318542887551674,
          -0.289404095833987,
          -0.1893183347085279,
          -0.19682895951145649,
          -0.19712663079168202,
          -0.19745802601427526,
          -0.19742510905009691,
          -0.19745512301790072,
          -0.2890695867924577,
          -0.3268007080595714,
          -0.2876758864546431,
          -0.19689168382995392,
          2.4707206714960246,
          -0.08908101523297497,
          -0.2884187458779456,
          -0.19745802601001458,
          -0.28340726437347735,
          -0.28741709289977047,
          -0.2894014672204752,
          -0.2872039254843041,
          -0.27795266585537803,
          -0.2983345734053241,
          -0.2505520416674216,
          -0.28925758149465447,
          -0.22278895045805058,
          -0.3701528491978013,
          -0.28940409599917055,
          -0.2720446415878562,
          -0.28939514489460694,
          -0.19727795269395246,
          -0.28940306240267355,
          -0.2720446415878562,
          -0.27157906953988925,
          -0.33076007486032055,
          -0.197244942705221,
          -0.27181542373092876,
          -0.2889335577702765,
          -0.2883115366257604,
          -0.32137954020702986,
          -0.2718153679805005,
          -0.19715463188136556,
          -0.289404139041256,
          -0.28636978994891416,
          -0.29282937726837355,
          -0.28839502874284745,
          -0.18887481217849697,
          0.11666446747381719,
          -0.19745802604672216,
          -0.2720446474007403,
          -0.3185429005303725,
          -0.27139283913136103,
          -0.2894041508400734,
          -0.40415895164322935,
          -0.28939489992316303,
          -0.22815927688079116,
          -0.44814974878682223,
          -0.1974580261175149,
          -0.28930915371898974,
          -0.2564089765919721,
          -0.27184735266379645,
          -0.19745802601374096,
          -0.28939518867530517,
          -0.2720247319366659,
          -0.7498455608643874,
          -0.18876178521574194,
          -0.19736780830172204,
          -0.2385837910480902,
          -0.2877157904896711,
          -0.19732644241434913,
          -0.28924343366945393,
          -0.28940409600834727,
          -0.3185428874467953,
          -0.26966158379386773,
          -0.1974580312513114,
          -0.13979940691520987,
          -0.32115254144477573,
          -0.19745802626958875,
          -0.46426740127175015,
          -0.28656779730371684,
          -0.4643485118935736,
          -0.26013860253786625,
          -0.2711579771294638,
          -0.18886067889178812,
          -0.28939117793463204,
          -0.18873961090128646,
          -0.33093153602107184,
          -0.2720446417652054,
          -0.26428600782385137,
          -0.2894040958313648,
          -0.3254241563329081,
          -0.2884282265391637,
          -0.28935908318189424,
          -0.2716056010856687,
          -0.4642485003659778,
          -0.2879614508462839,
          -0.3306906755394804,
          -0.321531188445912,
          -0.27204464205194306,
          -0.3957957637305023,
          -0.28847797741173326,
          -0.23225482704557265,
          -0.289404095833987,
          -0.28911112493389496,
          -0.2894040957815477,
          -0.17841779614657627,
          -0.28920652785159706,
          -0.3245851458698802,
          -0.19398949063232596,
          -0.39769001762613815,
          -0.162729685481036,
          -0.27153691597280816,
          -0.2891420878804708,
          -0.28932942639149606,
          -0.27166835350443375,
          -0.2720067432664796,
          -0.18867018727550627,
          -0.4319585639667497,
          2.066591202388112,
          -0.2560477233449551,
          -0.2702749843329304,
          -0.19719800638393606,
          -0.2894040984271048,
          -0.2893971124145655,
          -0.2894040984008853,
          -0.289263881371563,
          -0.2891519054125842,
          -0.2889323808774501,
          -0.2889169233269586,
          -0.18874554147613082,
          -0.38904642735798145,
          -0.23299087383084124,
          -0.289394437518073,
          -0.46409995363636347,
          -0.40375026078562365,
          -0.287959332710026,
          -0.2695129348049694,
          -0.2893625153405592,
          -0.28940409656551364,
          -0.3213468702455179,
          -0.28940409605449385,
          -0.28937036046413317,
          -0.19745802679398056,
          -0.24607230510247116,
          -0.28940409584971877,
          0.08972950664615453,
          -0.1888097913118914,
          -0.31400480751245613,
          -0.28932084749310993,
          -0.27088414780356385,
          -0.1974580260624538,
          -0.3192069959665312,
          -0.23212505582432244,
          0.45866390598511697,
          -0.2719835358171274,
          -0.2893412439476159,
          -0.2893970936810544,
          -0.28512282914068193,
          -0.28874690781900736,
          -0.2719221407707151,
          -0.1971666459532592,
          -0.3485983290785736,
          -0.28945463196882715,
          -0.14745585829338823,
          -0.28914935064659164,
          0.5789441899790462,
          -0.20901792496785696,
          -0.18693961233711057,
          -0.4643485118935736,
          -0.2522629846024144,
          -0.14491334196884811,
          -0.4026905900225705,
          -0.3182378665067769,
          -0.2892242612140313,
          -0.08002234633012842,
          -0.2894041508400734,
          -0.2894546319203206,
          -0.4643485118935736,
          -0.2689915867517749,
          -0.31795343264801973,
          -0.27204464155901464,
          -0.18771817930911894,
          -0.2894546320999249,
          -0.2893452850211532,
          -0.16335131684823107,
          -0.2600405848295039,
          -0.13967039258031155,
          -0.3285820694011107,
          -0.46434851205900823,
          -0.46331749116893733,
          -0.46434851189698195,
          -0.2732496647592977,
          -0.26937589416946633,
          -0.28938991589864976,
          -0.2894040979813719,
          -0.27158513997023126,
          -0.1886433832610754,
          -0.2320966652530889,
          -0.33088498773380043,
          -0.06973310295617742,
          -0.26966999141712417,
          -0.1888735956460317,
          0.223644499007134,
          0.4077924462500622,
          -0.46434851192241505,
          -0.4999843090539681,
          -0.1807820891374288,
          0.10668880688963302,
          -0.22693902600498692,
          -0.23362222517905473,
          -0.2719724968663751,
          -0.18887481226122818,
          -0.28938362636174036,
          -0.28551521646409694,
          -0.3253575374601382,
          -0.38782569571782527,
          -0.12500594647217741,
          1.6618179228734444,
          -0.18187489822742464,
          -0.2716587177870738,
          -0.3275401214252986,
          -0.16711496770727624,
          -0.2719721667056662,
          -0.2269155047200239,
          -0.40315507529284383,
          -0.1397994066616665,
          -0.38456883843004086,
          -0.23265508550902783,
          -0.2695739276329169,
          -0.3215311872890189,
          -0.19719805081485073,
          -0.27304781726692806,
          -0.3215311875153826,
          -0.16189761181566217,
          -0.2090875454962306,
          -0.3057095331598068,
          -0.33176206457338975,
          -0.3320368458367702,
          -0.33183067982569914,
          -0.3317106233745749,
          -0.19745802606245322,
          -0.5333655476593229,
          -0.28889426446280186,
          -0.46383286076735064,
          -0.4639851062290704,
          -0.32745284018669596,
          -0.17512841471416843,
          -0.408796693672903,
          -0.19745802628269835,
          -0.19670242845068867,
          -0.10404631046174387,
          -0.19623544516590902,
          -0.1770404334431087,
          -0.27204464154970676,
          -0.2886014888701966,
          -0.23419147025039905,
          -0.3317221845419058,
          -0.18887481217837443,
          -0.27813077313783574,
          -0.19712588618611077,
          -0.18887481217849683,
          0.13805714248894188,
          -0.3829402506424188,
          -0.2893310910174358,
          -0.2883972201238943,
          -0.2894040981124696,
          -0.2529847082548674,
          -0.2742940062203947,
          -0.26918034082234277,
          -0.3211773591030204,
          -0.3215311898751462,
          -0.836690417663134,
          -0.17471150306603112,
          -0.4642430836540845
         ],
         "y": [
          -1.5095326545851284,
          -0.950524465276153,
          -2.0392861373486215,
          -1.8648411753773735,
          -1.8127080915233669,
          -0.9504137423000917,
          -0.8081966863442062,
          -1.509497995635197,
          -0.9504261875391777,
          -1.5094979952348677,
          -1.7939202760504571,
          -0.950397533894181,
          -1.5098270552443682,
          -0.9506518730602302,
          -0.9504168142637313,
          -0.6594742974291357,
          -1.544629763233172,
          -0.9504672463211157,
          -0.8081751301783867,
          -0.950402590147309,
          -0.9504165488169737,
          -0.9504116845046418,
          -0.8081847910580051,
          -1.821453219116263,
          -0.9504025904835858,
          -1.5457938440432102,
          -0.9746445090478737,
          -0.9504430171601304,
          -0.9504025895228487,
          -0.9508257389008667,
          -0.9504402838764163,
          -0.9504012736390299,
          -1.5094979956219967,
          -0.9504047996447222,
          -1.6324440539293428,
          -0.9521118817070143,
          -0.9505295568497732,
          -0.9504831296128733,
          -1.7906563435794702,
          -1.1255531886690935,
          -1.5095387681216048,
          -0.9506953858083331,
          -0.9504399544645818,
          -0.9504047255582602,
          -0.9504025894306257,
          -0.9504763504916103,
          -2.046656216843374,
          -0.9504138118417317,
          -1.509497994997831,
          -0.9549767878917801,
          -1.5095264857533945,
          -0.9510496905790444,
          -0.9504025903524775,
          -0.9504047249383333,
          -0.9504494032368799,
          -0.9504520710619788,
          -2.167655407452109,
          -0.9504025902339591,
          -1.51058710128853,
          -1.5095821661848436,
          -1.509542336869306,
          -1.5094979956216992,
          -1.509502399026155,
          -1.509498384082443,
          -0.9504473485996766,
          -1.5592624252249838,
          -0.9506338271039239,
          -1.5095737734940056,
          -2.6195383669355623,
          -2.2770308607299317,
          -0.9505344321658526,
          -1.5094979956430985,
          -0.9512049644085663,
          -0.950668455787762,
          -0.9504029421864364,
          -0.9506969783590591,
          -0.9519348160432712,
          -2.1399528578396336,
          -2.2371437096935787,
          -0.9504221945522615,
          -0.9593157841679935,
          -2.2672363356136196,
          -0.9504025894043302,
          -0.8081751300203622,
          -0.9504037881598253,
          -1.5095220897786759,
          -0.9504015495338826,
          -0.8081751300203622,
          -0.8082374250657541,
          -2.184437289270589,
          -1.5095265062019887,
          -0.8082058002645834,
          -0.9504655473226573,
          -0.9505487752533885,
          -2.039087268667397,
          -0.8082058077882605,
          -1.5095385905021432,
          -0.9504023732267092,
          -0.9508085877498814,
          -2.001248989116604,
          -0.9505376058659297,
          -2.2636782559692468,
          -1.551528323759903,
          -1.5094979954587364,
          -0.8081751008253217,
          -2.16765534226697,
          -0.8082623426428578,
          -0.9504023139674932,
          -2.1860191380193292,
          -0.9504038187878291,
          -2.013384220260685,
          -2.2492337250200665,
          -1.5094979951031808,
          -0.950415293808748,
          -2.179591314690113,
          -0.8082015280188554,
          -1.5094979956243824,
          -0.9504037823018652,
          -0.8081777940986101,
          -0.9394159490052275,
          -2.263693379450592,
          -1.5095100669521995,
          -1.7925896616863337,
          -0.9506284886535684,
          -1.5095156018301163,
          -0.9504240872356949,
          -0.95040258935824,
          -2.167655407978857,
          -1.9279183690660764,
          -1.5094979693188375,
          -0.6589724884977705,
          -2.0391176417165657,
          -1.5094979943393958,
          -1.864837754331909,
          -0.9507819682384506,
          -1.8648269014684475,
          -0.8097681905561102,
          -0.8082937660923347,
          -2.263680147015979,
          -0.9504043189250462,
          -2.263696346253296,
          -2.1844143479279805,
          -0.8081751291296301,
          -0.8092119789388217,
          -0.950402590247128,
          -2.261161690448037,
          -1.5048225076154034,
          -0.9504086132984603,
          -0.8082338626642441,
          -1.8648402833854858,
          -0.9505956197853276,
          -2.184446575698216,
          -2.0390669720285644,
          -0.8081751276894996,
          -2.256056403433815,
          -0.9505264568709776,
          -0.5730142837679,
          -0.9504025902339591,
          -0.9504417905015587,
          -0.9504025904973333,
          -1.512045607931326,
          -0.950429024815104,
          -2.261273953786265,
          -2.1351084182991564,
          -2.0902800099544625,
          -2.26717653305931,
          -0.8082430644905295,
          -0.9504376477674003,
          -0.950412580554634,
          -0.8082254782365255,
          -0.8081802011190342,
          -2.2637056349871805,
          -2.1596375507407184,
          -1.2656398156684527,
          -1.509155061026052,
          -0.8084119022063685,
          -1.5095327868534538,
          -0.9504025772101005,
          -0.9504033903194087,
          -0.9504025773417877,
          -0.9504213513952171,
          -0.9504363333202448,
          -0.9504657062077667,
          -0.9504677744780027,
          -2.263695551904285,
          -1.8749022949534966,
          -0.8134006277729254,
          -1.6320486852846228,
          -1.8648601593669465,
          -2.1860738205585464,
          -0.9505959031988078,
          -0.8085138765106253,
          -1.6320529563444692,
          -0.9504025865598876,
          -2.0390916366415777,
          -0.9504025891264704,
          -1.6320519068107633,
          -1.5094979917056526,
          -1.7915876812142648,
          -0.9504025901549473,
          -2.3009553253790855,
          -2.2636869560476605,
          -2.0400739037851077,
          -0.9504137281185291,
          -0.8083304012141762,
          -1.5094979953797236,
          -2.2619935561676,
          -0.9580666471721998,
          -1.1872204469831535,
          -0.80818330633926,
          -1.6320558028332524,
          -1.6320483298173376,
          -1.6326202342344125,
          -0.9504905235641363,
          -0.808191521153967,
          -1.5095369829911685,
          -1.1448001686894245,
          -1.632040630777668,
          -0.14588532730945863,
          -0.9504366759252686,
          -2.366402103461052,
          -1.507135128782679,
          -2.2639371878949084,
          -1.8648269014684475,
          -0.592455602880955,
          -0.9697357923857048,
          -2.1862156086547,
          -1.560408148088741,
          -0.9504266524440441,
          -0.9784183096600371,
          -0.9504023139674932,
          -1.6320406310212894,
          -1.8648269014684475,
          -0.8085836326431789,
          -2.0395456098371505,
          -0.808175130165218,
          -2.2638330046055692,
          -1.6320406301192318,
          -0.9504104593108745,
          -1.5140614548706344,
          -2.1252799091165056,
          -0.6589897524955567,
          -2.218620377142133,
          -1.8648269006375529,
          -1.8649648547470135,
          -1.8648269014513275,
          -1.0042548409982808,
          -1.927956591690502,
          -1.6320492903688286,
          -0.9504025794487819,
          -0.8082366119637474,
          -2.263709221907295,
          -0.5730354466764457,
          -2.1844205760306505,
          -1.1673021131742858,
          -1.9279172442386137,
          -2.2636784112909325,
          -2.4044389503759778,
          -2.343511906147236,
          -1.864826901323591,
          -2.030500764027429,
          -2.2647610758975945,
          -0.7240396252303762,
          -1.2882895198192348,
          -2.176158349486063,
          -0.8081847833711825,
          -2.2636782555537303,
          -0.9504053291013645,
          -0.9509229223191837,
          -2.261170584208623,
          -2.1047449028600904,
          -0.6339604095716423,
          -2.5968688420651223,
          -2.2646148545078804,
          -0.808226767654843,
          -1.5591634881594132,
          -1.5135579680500593,
          -0.8081848274964812,
          -1.288292666044392,
          -1.8730146840008157,
          -0.6589724897711852,
          -2.017661452079872,
          -2.1762877535169207,
          -1.9279300969414372,
          -2.039066977839025,
          -1.5095327809084536,
          -1.0042818483199019,
          -2.0390669767021206,
          -2.2672877892733925,
          -1.5071258134654604,
          -2.04608302318765,
          -1.8893463915000857,
          -1.8893096238003309,
          -1.8893372105032626,
          -1.889353185042775,
          -1.5094979953797267,
          -2.243188471404394,
          -0.9504708060509344,
          -1.8648958941570686,
          -1.8648755261946706,
          -1.5591751684953379,
          -1.1879604935573536,
          -2.0413369200459375,
          -1.5094979942735522,
          -1.5095990962321473,
          -0.32448488987924917,
          -1.5096615787725278,
          -2.058400179894194,
          -0.808175130211967,
          -0.9505087244752071,
          -1.6394349698720367,
          -1.889351638121204,
          -2.2636782559698623,
          -0.9519109847129891,
          -1.5095424364999388,
          -2.2636782559692468,
          -1.0075976454432691,
          -1.5446756788867477,
          -0.9504123587195524,
          -0.9505373113959071,
          -0.950402578790346,
          -1.790662787745927,
          -2.067065769296037,
          -1.9279827585142555,
          -2.039114321055663,
          -2.0390669648502775,
          -0.9041565326496201,
          -2.265573334812483,
          -1.8648410081077809
         ],
         "z": [
          0.15218612891612668,
          -0.04191858101555111,
          0.32729861174023794,
          0.27631249024515,
          0.2417985476911778,
          -0.041883297294874444,
          0.06071826652613663,
          0.15219717356389176,
          -0.04188726362201437,
          0.1521971733153409,
          0.24778570086086227,
          -0.04188288305364397,
          0.15209231347367524,
          -0.04195918278511865,
          -0.041884277183049164,
          -0.02268401129863375,
          0.03869068118137072,
          -0.04190034720186383,
          0.06072513559332211,
          -0.041879743635542976,
          -0.04188419161847112,
          -0.04188264146131651,
          0.06072205709823384,
          0.23901188367125673,
          -0.04187974342675992,
          0.14063089258845662,
          -0.04960483092892752,
          -0.04189262601058106,
          -0.04187974402324964,
          -0.04201458742346746,
          -0.041891755159533896,
          -0.04188056101144983,
          0.15219717355569595,
          -0.041880447510927836,
          0.10797350864786862,
          -0.04242444306545688,
          -0.041920203321239226,
          -0.0419054088634649,
          0.2488258085591551,
          -0.09769428698484853,
          0.15218418077893878,
          -0.04197304873158345,
          -0.041891650040816394,
          -0.04188042378025331,
          -0.041879744080507895,
          -0.041903248257064714,
          0.09964376642913374,
          -0.04188331931889102,
          0.15219717316817252,
          -0.04333754098387956,
          0.15218809467369634,
          -0.04208595223995166,
          -0.0418797435081607,
          -0.04188042382582444,
          -0.041894663828624834,
          -0.04189551149712738,
          0.3221419011672939,
          -0.041879743581744774,
          0.15185010860597176,
          0.15217035124687128,
          0.15218304330334156,
          0.15219717355551107,
          0.15219576941102014,
          0.15219704979814344,
          -0.041894006290195504,
          0.20895261964445483,
          -0.04195343245837363,
          0.15217302568341753,
          0.23804176009902508,
          0.34718722964003346,
          -0.04192175732211401,
          0.1521971735687973,
          -0.04213544835516574,
          -0.04196446599623174,
          -0.041879855507481946,
          -0.04197355490888564,
          -0.04236801418482029,
          0.35443460461793913,
          0.3626971627243717,
          -0.04188599046821131,
          -0.04472014201646853,
          0.25712322047344993,
          -0.04187974409683363,
          0.06072513549520993,
          -0.04188012506018827,
          0.15218949549331948,
          -0.041880549949185254,
          0.06072513549520993,
          0.060705284579864044,
          0.3003121309945491,
          0.152188087752237,
          0.06071536227538151,
          -0.04189980780490124,
          -0.04192632967741024,
          0.32736198554717827,
          0.06071535993975129,
          0.1521842373790883,
          -0.04187987831427972,
          -0.04200912093330842,
          0.39573024858985895,
          -0.041922768390862876,
          0.35144228906294234,
          0.13880353772597828,
          0.15219717345433295,
          0.06072511736898703,
          0.3221418606960245,
          0.06069734372328174,
          -0.04187991510634283,
          0.3948798828229442,
          -0.04188013689533326,
          0.2630918952577596,
          0.2722566254192277,
          0.15219717323358073,
          -0.04188379168565749,
          0.265157498258991,
          0.06071672361808222,
          0.1521971735571772,
          -0.04188012319345546,
          0.060724286660032885,
          0.20180953559149387,
          0.3514374699246654,
          0.15219332682196976,
          0.24820972382325016,
          -0.04195173050041538,
          0.15219156306872555,
          -0.041886593919449766,
          -0.0418797441254497,
          0.3221419014943344,
          0.25284903739739417,
          0.15219715722494512,
          -0.022524103559378863,
          0.3273523067678913,
          0.1521971727593718,
          0.27631358039419246,
          -0.042000759495296074,
          0.27631703876351377,
          0.06021748565611287,
          0.060687328557267536,
          0.35144168643112367,
          -0.041880294219548225,
          0.35143652433886474,
          0.3003194421642557,
          0.060725134942184386,
          0.06039349678842321,
          -0.04187974357356881,
          0.3383016804400308,
          0.17469720445731765,
          -0.04188166267092739,
          0.06070640780930315,
          0.27631277453643555,
          -0.04194125528219423,
          0.30030917233921917,
          0.327368447847357,
          0.06072513404805549,
          0.2617474325169905,
          -0.04191926410652339,
          -0.1711764311608776,
          -0.041879743581744774,
          -0.0418922353036811,
          -0.041879743418224605,
          0.15138532149261302,
          -0.041888167846254994,
          0.33826590763738335,
          0.48918889186565767,
          0.36137491015286427,
          0.3503275049065281,
          0.06070348669397377,
          -0.04189091498062678,
          -0.04188292776161825,
          0.060709091217844666,
          0.06072351971529619,
          0.3514335640356789,
          0.19584769136819863,
          -0.14233559151709566,
          0.17331653420511042,
          0.06064967255964871,
          0.15218608676756104,
          -0.04187975166782265,
          -0.04188012818654084,
          -0.041879751586062525,
          -0.041885721993845396,
          -0.041890496920177,
          -0.04189985707124158,
          -0.041900516145444204,
          0.35143677667536116,
          0.27310615816836703,
          0.05905995851742108,
          0.10809950049208115,
          0.2763064408142942,
          0.3948624561431938,
          -0.041941345594625395,
          0.060617186746108095,
          0.10809813925508137,
          -0.0418797458628527,
          0.3273605903951097,
          -0.041879744269347575,
          0.10809847386240537,
          0.15219717112416897,
          0.24852902121843853,
          -0.041879743630800846,
          0.33956254095616967,
          0.35143951677285673,
          0.3270474612634679,
          -0.04188329375319903,
          0.06067565043945197,
          0.15219717340527694,
          0.33803658835084976,
          -0.04432203063724295,
          0.11819488383531272,
          0.06072253019587116,
          0.10809723249099032,
          0.10809961370328851,
          0.10791736507015265,
          -0.041907764915128605,
          0.06071991242656617,
          0.1521847496382396,
          0.015363234014363108,
          0.1081020668536234,
          0.12781745654239643,
          -0.041890605352221645,
          0.3186959749746609,
          0.17684168490179525,
          0.35135977398563395,
          0.27631703876351377,
          -0.022571320031291073,
          -0.04804057785099609,
          0.3948172746993335,
          0.20858751146445234,
          -0.041887411471484885,
          -0.050807449499953104,
          -0.04187991510634283,
          0.10810206700487977,
          0.27631703876351377,
          0.06059495642772742,
          0.3272158505141595,
          0.060725135585146105,
          0.3513929647775385,
          0.10810206644482273,
          -0.041882251138785735,
          0.15074285913257415,
          0.3347475008945566,
          -0.02252960348652803,
          0.3454712589846355,
          0.27631703824763976,
          0.27627307801826706,
          0.2763170387528847,
          0.08406153101033025,
          0.25283685394357225,
          0.10809930775041346,
          -0.04187975027790014,
          0.06070554285369104,
          0.35143242146954196,
          -0.1711831745880515,
          0.30031745731801834,
          0.19171742325269522,
          0.2528493959693417,
          0.3514422323730054,
          0.1394883735068603,
          0.32600025233744606,
          0.2763170386735777,
          0.26801871272253774,
          0.35109722593447323,
          -0.058066011368785184,
          0.1779326593271261,
          0.31890606962856244,
          0.06072205951059674,
          0.35144228880496275,
          -0.0418806163618597,
          -0.04204556451760382,
          0.33829882699495273,
          0.28285633009095085,
          0.0756705629227258,
          0.07816645732562302,
          0.3511438207866113,
          0.06070868045602013,
          0.2089841457660566,
          0.1509033983443742,
          0.060722045400156445,
          0.17793165578811382,
          0.2737078293423247,
          -0.022524102768758197,
          0.3396617582558677,
          0.31886483148830974,
          0.2528452994226065,
          0.32736845145487736,
          0.15218608866199246,
          0.08405292436030622,
          0.32736845074901116,
          0.35029197681998997,
          0.17684465344712816,
          0.4464843328030563,
          0.3552520295845742,
          0.35526374492495755,
          0.3552549551451912,
          0.3552497784102163,
          0.15219717340527886,
          0.23943445198715071,
          -0.041901482432762246,
          0.2762950505881024,
          0.276301543904534,
          0.20898042547526272,
          0.11912767827480593,
          0.4076592109949065,
          0.1521971727184917,
          0.1521649561142889,
          -0.02171135234502827,
          0.15214504416513736,
          0.32120761712566503,
          0.06072513561417102,
          -0.04191477774635369,
          0.10574574071427598,
          0.35525027135165255,
          0.35144228906332453,
          -0.04236042010222452,
          0.15218301155508215,
          0.35144228906294245,
          -0.060106116363765755,
          0.03867604945693859,
          -0.041882856205671386,
          -0.04192267576764852,
          -0.04187975068670094,
          0.24882375554853217,
          0.50274913853128,
          0.25282851674703116,
          0.3273533649496754,
          0.3273684433905988,
          0.32313328542699976,
          0.35083838686753016,
          0.27631254354721685
         ]
        },
        {
         "customdata": [
          [
           "VeChainThor Authority",
           "Vechain"
          ],
          [
           "Proof-of-BibleHash",
           "BiblePay"
          ],
          [
           "SHA-256 + Hive",
           "LitecoinCash"
          ],
          [
           "Proof-of-Authority",
           "Poa Network"
          ],
          [
           "ECC 256K1",
           "Acute Angle Cloud"
          ],
          [
           "SHA3-256",
           "Fiii"
          ],
          [
           "Leased POS",
           "Waves"
          ]
         ],
         "hovertemplate": "<b>%{hovertext}</b><br><br>class=%{marker.color}<br>PC 1=%{x}<br>PC 2=%{y}<br>PC 3=%{z}<br>Algorithm=%{customdata[0]}<br>CoinName=%{customdata[1]}<extra></extra>",
         "hovertext": [
          "VeChainThor Authority",
          "Proof-of-BibleHash",
          "SHA-256 + Hive",
          "Proof-of-Authority",
          "ECC 256K1",
          "SHA3-256",
          "Leased POS"
         ],
         "legendgroup": "0",
         "marker": {
          "color": [
           0,
           0,
           0,
           0,
           0,
           0,
           0
          ],
          "coloraxis": "coloraxis",
          "symbol": "square"
         },
         "mode": "markers",
         "name": "0",
         "scene": "scene",
         "showlegend": true,
         "type": "scatter3d",
         "x": [
          8.590838178955261,
          -0.592843758023022,
          -0.3658536490409142,
          1.0525926390140354,
          0.5219308171669634,
          -1.2005191836892215,
          -0.019969880728165253
         ],
         "y": [
          -0.006422305781397662,
          4.111679332099908,
          2.8016288120985866,
          2.2376302958133403,
          4.036894147636145,
          3.4874244067402977,
          1.870545671700873
         ],
         "z": [
          10.877991042334731,
          14.22703605300971,
          19.03495759655232,
          11.308577612590668,
          17.167815616181368,
          7.394031961601486,
          12.562976372661332
         ]
        },
        {
         "customdata": [
          [
           "TRC10",
           "BitTorrent"
          ]
         ],
         "hovertemplate": "<b>%{hovertext}</b><br><br>class=%{marker.color}<br>PC 1=%{x}<br>PC 2=%{y}<br>PC 3=%{z}<br>Algorithm=%{customdata[0]}<br>CoinName=%{customdata[1]}<extra></extra>",
         "hovertext": [
          "TRC10"
         ],
         "legendgroup": "2",
         "marker": {
          "color": [
           2
          ],
          "coloraxis": "coloraxis",
          "symbol": "x"
         },
         "mode": "markers",
         "name": "2",
         "scene": "scene",
         "showlegend": true,
         "type": "scatter3d",
         "x": [
          33.63778143771981
         ],
         "y": [
          -3.48213716005732
         ],
         "z": [
          -1.7626090420170482
         ]
        }
       ],
       "layout": {
        "coloraxis": {
         "colorbar": {
          "title": {
           "text": "class"
          }
         },
         "colorscale": [
          [
           0,
           "#0d0887"
          ],
          [
           0.1111111111111111,
           "#46039f"
          ],
          [
           0.2222222222222222,
           "#7201a8"
          ],
          [
           0.3333333333333333,
           "#9c179e"
          ],
          [
           0.4444444444444444,
           "#bd3786"
          ],
          [
           0.5555555555555556,
           "#d8576b"
          ],
          [
           0.6666666666666666,
           "#ed7953"
          ],
          [
           0.7777777777777778,
           "#fb9f3a"
          ],
          [
           0.8888888888888888,
           "#fdca26"
          ],
          [
           1,
           "#f0f921"
          ]
         ]
        },
        "legend": {
         "title": {
          "text": "class"
         },
         "tracegroupgap": 0,
         "x": 0,
         "y": 1
        },
        "margin": {
         "t": 60
        },
        "scene": {
         "domain": {
          "x": [
           0,
           1
          ],
          "y": [
           0,
           1
          ]
         },
         "xaxis": {
          "title": {
           "text": "PC 1"
          }
         },
         "yaxis": {
          "title": {
           "text": "PC 2"
          }
         },
         "zaxis": {
          "title": {
           "text": "PC 3"
          }
         }
        },
        "template": {
         "data": {
          "bar": [
           {
            "error_x": {
             "color": "#2a3f5f"
            },
            "error_y": {
             "color": "#2a3f5f"
            },
            "marker": {
             "line": {
              "color": "#E5ECF6",
              "width": 0.5
             },
             "pattern": {
              "fillmode": "overlay",
              "size": 10,
              "solidity": 0.2
             }
            },
            "type": "bar"
           }
          ],
          "barpolar": [
           {
            "marker": {
             "line": {
              "color": "#E5ECF6",
              "width": 0.5
             },
             "pattern": {
              "fillmode": "overlay",
              "size": 10,
              "solidity": 0.2
             }
            },
            "type": "barpolar"
           }
          ],
          "carpet": [
           {
            "aaxis": {
             "endlinecolor": "#2a3f5f",
             "gridcolor": "white",
             "linecolor": "white",
             "minorgridcolor": "white",
             "startlinecolor": "#2a3f5f"
            },
            "baxis": {
             "endlinecolor": "#2a3f5f",
             "gridcolor": "white",
             "linecolor": "white",
             "minorgridcolor": "white",
             "startlinecolor": "#2a3f5f"
            },
            "type": "carpet"
           }
          ],
          "choropleth": [
           {
            "colorbar": {
             "outlinewidth": 0,
             "ticks": ""
            },
            "type": "choropleth"
           }
          ],
          "contour": [
           {
            "colorbar": {
             "outlinewidth": 0,
             "ticks": ""
            },
            "colorscale": [
             [
              0,
              "#0d0887"
             ],
             [
              0.1111111111111111,
              "#46039f"
             ],
             [
              0.2222222222222222,
              "#7201a8"
             ],
             [
              0.3333333333333333,
              "#9c179e"
             ],
             [
              0.4444444444444444,
              "#bd3786"
             ],
             [
              0.5555555555555556,
              "#d8576b"
             ],
             [
              0.6666666666666666,
              "#ed7953"
             ],
             [
              0.7777777777777778,
              "#fb9f3a"
             ],
             [
              0.8888888888888888,
              "#fdca26"
             ],
             [
              1,
              "#f0f921"
             ]
            ],
            "type": "contour"
           }
          ],
          "contourcarpet": [
           {
            "colorbar": {
             "outlinewidth": 0,
             "ticks": ""
            },
            "type": "contourcarpet"
           }
          ],
          "heatmap": [
           {
            "colorbar": {
             "outlinewidth": 0,
             "ticks": ""
            },
            "colorscale": [
             [
              0,
              "#0d0887"
             ],
             [
              0.1111111111111111,
              "#46039f"
             ],
             [
              0.2222222222222222,
              "#7201a8"
             ],
             [
              0.3333333333333333,
              "#9c179e"
             ],
             [
              0.4444444444444444,
              "#bd3786"
             ],
             [
              0.5555555555555556,
              "#d8576b"
             ],
             [
              0.6666666666666666,
              "#ed7953"
             ],
             [
              0.7777777777777778,
              "#fb9f3a"
             ],
             [
              0.8888888888888888,
              "#fdca26"
             ],
             [
              1,
              "#f0f921"
             ]
            ],
            "type": "heatmap"
           }
          ],
          "heatmapgl": [
           {
            "colorbar": {
             "outlinewidth": 0,
             "ticks": ""
            },
            "colorscale": [
             [
              0,
              "#0d0887"
             ],
             [
              0.1111111111111111,
              "#46039f"
             ],
             [
              0.2222222222222222,
              "#7201a8"
             ],
             [
              0.3333333333333333,
              "#9c179e"
             ],
             [
              0.4444444444444444,
              "#bd3786"
             ],
             [
              0.5555555555555556,
              "#d8576b"
             ],
             [
              0.6666666666666666,
              "#ed7953"
             ],
             [
              0.7777777777777778,
              "#fb9f3a"
             ],
             [
              0.8888888888888888,
              "#fdca26"
             ],
             [
              1,
              "#f0f921"
             ]
            ],
            "type": "heatmapgl"
           }
          ],
          "histogram": [
           {
            "marker": {
             "pattern": {
              "fillmode": "overlay",
              "size": 10,
              "solidity": 0.2
             }
            },
            "type": "histogram"
           }
          ],
          "histogram2d": [
           {
            "colorbar": {
             "outlinewidth": 0,
             "ticks": ""
            },
            "colorscale": [
             [
              0,
              "#0d0887"
             ],
             [
              0.1111111111111111,
              "#46039f"
             ],
             [
              0.2222222222222222,
              "#7201a8"
             ],
             [
              0.3333333333333333,
              "#9c179e"
             ],
             [
              0.4444444444444444,
              "#bd3786"
             ],
             [
              0.5555555555555556,
              "#d8576b"
             ],
             [
              0.6666666666666666,
              "#ed7953"
             ],
             [
              0.7777777777777778,
              "#fb9f3a"
             ],
             [
              0.8888888888888888,
              "#fdca26"
             ],
             [
              1,
              "#f0f921"
             ]
            ],
            "type": "histogram2d"
           }
          ],
          "histogram2dcontour": [
           {
            "colorbar": {
             "outlinewidth": 0,
             "ticks": ""
            },
            "colorscale": [
             [
              0,
              "#0d0887"
             ],
             [
              0.1111111111111111,
              "#46039f"
             ],
             [
              0.2222222222222222,
              "#7201a8"
             ],
             [
              0.3333333333333333,
              "#9c179e"
             ],
             [
              0.4444444444444444,
              "#bd3786"
             ],
             [
              0.5555555555555556,
              "#d8576b"
             ],
             [
              0.6666666666666666,
              "#ed7953"
             ],
             [
              0.7777777777777778,
              "#fb9f3a"
             ],
             [
              0.8888888888888888,
              "#fdca26"
             ],
             [
              1,
              "#f0f921"
             ]
            ],
            "type": "histogram2dcontour"
           }
          ],
          "mesh3d": [
           {
            "colorbar": {
             "outlinewidth": 0,
             "ticks": ""
            },
            "type": "mesh3d"
           }
          ],
          "parcoords": [
           {
            "line": {
             "colorbar": {
              "outlinewidth": 0,
              "ticks": ""
             }
            },
            "type": "parcoords"
           }
          ],
          "pie": [
           {
            "automargin": true,
            "type": "pie"
           }
          ],
          "scatter": [
           {
            "marker": {
             "colorbar": {
              "outlinewidth": 0,
              "ticks": ""
             }
            },
            "type": "scatter"
           }
          ],
          "scatter3d": [
           {
            "line": {
             "colorbar": {
              "outlinewidth": 0,
              "ticks": ""
             }
            },
            "marker": {
             "colorbar": {
              "outlinewidth": 0,
              "ticks": ""
             }
            },
            "type": "scatter3d"
           }
          ],
          "scattercarpet": [
           {
            "marker": {
             "colorbar": {
              "outlinewidth": 0,
              "ticks": ""
             }
            },
            "type": "scattercarpet"
           }
          ],
          "scattergeo": [
           {
            "marker": {
             "colorbar": {
              "outlinewidth": 0,
              "ticks": ""
             }
            },
            "type": "scattergeo"
           }
          ],
          "scattergl": [
           {
            "marker": {
             "colorbar": {
              "outlinewidth": 0,
              "ticks": ""
             }
            },
            "type": "scattergl"
           }
          ],
          "scattermapbox": [
           {
            "marker": {
             "colorbar": {
              "outlinewidth": 0,
              "ticks": ""
             }
            },
            "type": "scattermapbox"
           }
          ],
          "scatterpolar": [
           {
            "marker": {
             "colorbar": {
              "outlinewidth": 0,
              "ticks": ""
             }
            },
            "type": "scatterpolar"
           }
          ],
          "scatterpolargl": [
           {
            "marker": {
             "colorbar": {
              "outlinewidth": 0,
              "ticks": ""
             }
            },
            "type": "scatterpolargl"
           }
          ],
          "scatterternary": [
           {
            "marker": {
             "colorbar": {
              "outlinewidth": 0,
              "ticks": ""
             }
            },
            "type": "scatterternary"
           }
          ],
          "surface": [
           {
            "colorbar": {
             "outlinewidth": 0,
             "ticks": ""
            },
            "colorscale": [
             [
              0,
              "#0d0887"
             ],
             [
              0.1111111111111111,
              "#46039f"
             ],
             [
              0.2222222222222222,
              "#7201a8"
             ],
             [
              0.3333333333333333,
              "#9c179e"
             ],
             [
              0.4444444444444444,
              "#bd3786"
             ],
             [
              0.5555555555555556,
              "#d8576b"
             ],
             [
              0.6666666666666666,
              "#ed7953"
             ],
             [
              0.7777777777777778,
              "#fb9f3a"
             ],
             [
              0.8888888888888888,
              "#fdca26"
             ],
             [
              1,
              "#f0f921"
             ]
            ],
            "type": "surface"
           }
          ],
          "table": [
           {
            "cells": {
             "fill": {
              "color": "#EBF0F8"
             },
             "line": {
              "color": "white"
             }
            },
            "header": {
             "fill": {
              "color": "#C8D4E3"
             },
             "line": {
              "color": "white"
             }
            },
            "type": "table"
           }
          ]
         },
         "layout": {
          "annotationdefaults": {
           "arrowcolor": "#2a3f5f",
           "arrowhead": 0,
           "arrowwidth": 1
          },
          "autotypenumbers": "strict",
          "coloraxis": {
           "colorbar": {
            "outlinewidth": 0,
            "ticks": ""
           }
          },
          "colorscale": {
           "diverging": [
            [
             0,
             "#8e0152"
            ],
            [
             0.1,
             "#c51b7d"
            ],
            [
             0.2,
             "#de77ae"
            ],
            [
             0.3,
             "#f1b6da"
            ],
            [
             0.4,
             "#fde0ef"
            ],
            [
             0.5,
             "#f7f7f7"
            ],
            [
             0.6,
             "#e6f5d0"
            ],
            [
             0.7,
             "#b8e186"
            ],
            [
             0.8,
             "#7fbc41"
            ],
            [
             0.9,
             "#4d9221"
            ],
            [
             1,
             "#276419"
            ]
           ],
           "sequential": [
            [
             0,
             "#0d0887"
            ],
            [
             0.1111111111111111,
             "#46039f"
            ],
            [
             0.2222222222222222,
             "#7201a8"
            ],
            [
             0.3333333333333333,
             "#9c179e"
            ],
            [
             0.4444444444444444,
             "#bd3786"
            ],
            [
             0.5555555555555556,
             "#d8576b"
            ],
            [
             0.6666666666666666,
             "#ed7953"
            ],
            [
             0.7777777777777778,
             "#fb9f3a"
            ],
            [
             0.8888888888888888,
             "#fdca26"
            ],
            [
             1,
             "#f0f921"
            ]
           ],
           "sequentialminus": [
            [
             0,
             "#0d0887"
            ],
            [
             0.1111111111111111,
             "#46039f"
            ],
            [
             0.2222222222222222,
             "#7201a8"
            ],
            [
             0.3333333333333333,
             "#9c179e"
            ],
            [
             0.4444444444444444,
             "#bd3786"
            ],
            [
             0.5555555555555556,
             "#d8576b"
            ],
            [
             0.6666666666666666,
             "#ed7953"
            ],
            [
             0.7777777777777778,
             "#fb9f3a"
            ],
            [
             0.8888888888888888,
             "#fdca26"
            ],
            [
             1,
             "#f0f921"
            ]
           ]
          },
          "colorway": [
           "#636efa",
           "#EF553B",
           "#00cc96",
           "#ab63fa",
           "#FFA15A",
           "#19d3f3",
           "#FF6692",
           "#B6E880",
           "#FF97FF",
           "#FECB52"
          ],
          "font": {
           "color": "#2a3f5f"
          },
          "geo": {
           "bgcolor": "white",
           "lakecolor": "white",
           "landcolor": "#E5ECF6",
           "showlakes": true,
           "showland": true,
           "subunitcolor": "white"
          },
          "hoverlabel": {
           "align": "left"
          },
          "hovermode": "closest",
          "mapbox": {
           "style": "light"
          },
          "paper_bgcolor": "white",
          "plot_bgcolor": "#E5ECF6",
          "polar": {
           "angularaxis": {
            "gridcolor": "white",
            "linecolor": "white",
            "ticks": ""
           },
           "bgcolor": "#E5ECF6",
           "radialaxis": {
            "gridcolor": "white",
            "linecolor": "white",
            "ticks": ""
           }
          },
          "scene": {
           "xaxis": {
            "backgroundcolor": "#E5ECF6",
            "gridcolor": "white",
            "gridwidth": 2,
            "linecolor": "white",
            "showbackground": true,
            "ticks": "",
            "zerolinecolor": "white"
           },
           "yaxis": {
            "backgroundcolor": "#E5ECF6",
            "gridcolor": "white",
            "gridwidth": 2,
            "linecolor": "white",
            "showbackground": true,
            "ticks": "",
            "zerolinecolor": "white"
           },
           "zaxis": {
            "backgroundcolor": "#E5ECF6",
            "gridcolor": "white",
            "gridwidth": 2,
            "linecolor": "white",
            "showbackground": true,
            "ticks": "",
            "zerolinecolor": "white"
           }
          },
          "shapedefaults": {
           "line": {
            "color": "#2a3f5f"
           }
          },
          "ternary": {
           "aaxis": {
            "gridcolor": "white",
            "linecolor": "white",
            "ticks": ""
           },
           "baxis": {
            "gridcolor": "white",
            "linecolor": "white",
            "ticks": ""
           },
           "bgcolor": "#E5ECF6",
           "caxis": {
            "gridcolor": "white",
            "linecolor": "white",
            "ticks": ""
           }
          },
          "title": {
           "x": 0.05
          },
          "xaxis": {
           "automargin": true,
           "gridcolor": "white",
           "linecolor": "white",
           "ticks": "",
           "title": {
            "standoff": 15
           },
           "zerolinecolor": "white",
           "zerolinewidth": 2
          },
          "yaxis": {
           "automargin": true,
           "gridcolor": "white",
           "linecolor": "white",
           "ticks": "",
           "title": {
            "standoff": 15
           },
           "zerolinecolor": "white",
           "zerolinewidth": 2
          }
         }
        },
        "width": 800
       }
      },
      "text/html": [
       "<div>                            <div id=\"5382b323-9f8b-4bc4-8578-f910260d77a1\" class=\"plotly-graph-div\" style=\"height:525px; width:800px;\"></div>            <script type=\"text/javascript\">                require([\"plotly\"], function(Plotly) {                    window.PLOTLYENV=window.PLOTLYENV || {};                                    if (document.getElementById(\"5382b323-9f8b-4bc4-8578-f910260d77a1\")) {                    Plotly.newPlot(                        \"5382b323-9f8b-4bc4-8578-f910260d77a1\",                        [{\"customdata\":[[\"Scrypt\",\"42 Coin\"],[\"Scrypt\",\"404Coin\"],[\"X13\",\"EliteCoin\"],[\"X11\",\"Dash\"],[\"SHA-512\",\"Bitshares\"],[\"SHA-256\",\"BitcoinDark\"],[\"X11\",\"Bitstake\"],[\"SHA-256\",\"PayCoin\"],[\"X15\",\"KoboCoin\"],[\"X13\",\"Aero Coin\"],[\"X13\",\"ApexCoin\"],[\"Scrypt\",\"ArchCoin\"],[\"Scrypt\",\"Aurora Coin\"],[\"Scrypt\",\"BitBar\"],[\"Scrypt\",\"CashCoin\"],[\"Scrypt\",\"CryptoBullion\"],[\"Multiple\",\"CinderCoin\"],[\"Scrypt\",\"CoolCoin\"],[\"Scrypt\",\"CasinoCoin\"],[\"Groestl\",\"Diamond\"],[\"X11\",\"DarkCash\"],[\"X11\",\"Fuel2Coin\"],[\"NIST5\",\"FIBRE\"],[\"X11\",\"GlyphCoin\"],[\"Scrypt\",\"HoboNickels\"],[\"X11\",\"IOCoin\"],[\"X11\",\"JumBucks Coin\"],[\"X13\",\"JudgeCoin\"],[\"X11\",\"LibrexCoin\"],[\"SHA3\",\"MaxCoin\"],[\"SHA-256\",\"MazaCoin\"],[\"Scrypt\",\"Nautilus Coin\"],[\"NeoScrypt\",\"Orbitcoin\"],[\"Scrypt\",\"PotCoin\"],[\"Scrypt\",\"PhoenixCoin\"],[\"X15\",\"ShieldCoin\"],[\"Scrypt\",\"SilkCoin\"],[\"X11\",\"SyncCoin\"],[\"Multiple\",\"TeslaCoin\"],[\"PHI1612\",\"TittieCoin\"],[\"X11\",\"TorCoin\"],[\"Scrypt\",\"UnitaryStatus Dollar\"],[\"Scrypt\",\"UltraCoin\"],[\"Scrypt\",\"SocialXbotCoin\"],[\"X11\",\"X11 Coin\"],[\"Scrypt\",\"XXXCoin\"],[\"Scrypt\",\"ZCC Coin\"],[\"Shabal256\",\"BurstCoin\"],[\"Counterparty\",\"StorjCoin\"],[\"SHA-256\",\"Neutron\"],[\"Scrypt\",\"KryptCoin\"],[\"X13\",\"Kore\"],[\"Scrypt\",\"Dnotes\"],[\"SHA-256\",\"MaieutiCoin\"],[\"X13\",\"Sativa Coin\"],[\"X13\",\"AeroMe\"],[\"X11\",\"MasterTraderCoin\"],[\"X11\",\"Ucoin\"],[\"Scrypt\",\"Vtorrent\"],[\"SHA3\",\"Nexus\"],[\"QUAIT\",\"Droidz\"],[\"Scrypt\",\"Diggits\"],[\"X11\",\"MapCoin\"],[\"X13\",\"Paycon\"],[\"SHA-256\",\"Emercoin\"],[\"X13\",\"BlitzCoin\"],[\"X15\",\"EverGreenCoin\"],[\"BLAKE256\",\"Decred\"],[\"SHA-256\",\"EDRCoin\"],[\"X11\",\"Hitcoin\"],[\"SHA-256\",\"DubaiCoin\"],[\"Quark\",\"BiosCrypto\"],[\"Blake\",\"TrumpCoin\"],[\"Scrypt\",\"BillaryCoin\"],[\"Scrypt\",\"EthereumScrypt\"],[\"Scrypt\",\"GPU Coin\"],[\"SHA-256\",\"Universal Currency\"],[\"X11\",\"EuropeCoin\"],[\"Scrypt\",\"ZeitCoin\"],[\"SHA-256\",\"SwingCoin\"],[\"Scrypt\",\"SafeExchangeCoin\"],[\"PoS\",\"Nebuchadnezzar\"],[\"X11\",\"GIZMOcoin\"],[\"X11\",\"SecretCoin\"],[\"X11\",\"Ratecoin\"],[\"PoS\",\"Digital Bullion Gold\"],[\"SHA-256\",\"Revenu\"],[\"SHA-256\",\"Clockcoin\"],[\"NIST5\",\"VIP Tokens\"],[\"X15\",\"OrlyCoin\"],[\"X11\",\"BitSend\"],[\"NIST5\",\"16BitCoin\"],[\"Scrypt\",\"ChessCoin\"],[\"Scrypt\",\"ReeCoin\"],[\"POS 3.0\",\"Let it Ride\"],[\"Scrypt\",\"PutinCoin\"],[\"Scrypt\",\"iBankCoin\"],[\"Scrypt\",\"Frankywillcoin\"],[\"X13\",\"MudraCoin\"],[\"X11\",\"Lutetium Coin\"],[\"X11\",\"GoldBlocks\"],[\"X11\",\"WayCoin\"],[\"Scrypt\",\"CarterCoin\"],[\"SHA-256\",\"BitTokens\"],[\"X11\",\"MustangCoin\"],[\"Scrypt\",\"ZoneCoin\"],[\"X11\",\"PROUD Money\"],[\"Scrypt\",\"Swiscoin\"],[\"SHA-256D\",\"BuzzCoin\"],[\"PoS\",\"Opair\"],[\"X11\",\"Halloween Coin\"],[\"PoS\",\"CoffeeCoin\"],[\"X13\",\"RoyalCoin\"],[\"X14\",\"GanjaCoin V2\"],[\"PoS\",\"TeamUP\"],[\"SHA-256D\",\"LanaCoin\"],[\"DPoS\",\"ARK\"],[\"X11\",\"InsaneCoin\"],[\"Scrypt\",\"LuckChain\"],[\"X13\",\"EmberCoin\"],[\"X11\",\"XenixCoin\"],[\"PoS\",\"FreeCoin\"],[\"SHA-256D\",\"NPCcoin\"],[\"Scrypt\",\"PLNCoin\"],[\"Scrypt\",\"Icobid\"],[\"Scrypt\",\"AquariusCoin\"],[\"PoS\",\"Creatio\"],[\"X11\",\"Eternity\"],[\"SHA-256\",\"Eurocoin\"],[\"Scrypt\",\"BitcoinFast\"],[\"X11\",\"Stakenet\"],[\"Scrypt\",\"BitConnect Coin\"],[\"Scrypt\",\"MoneyCoin\"],[\"X11\",\"Enigma\"],[\"Scrypt\",\"Russiacoin\"],[\"Scrypt\",\"PandaCoin\"],[\"Scrypt\",\"GameUnits\"],[\"Scrypt\",\"GAKHcoin\"],[\"Quark\",\"Allsafe\"],[\"QuBit\",\"LiteCreed\"],[\"X11\",\"NeptuneClassic\"],[\"X13\",\"GoldenBird\"],[\"PoS\",\"Ride My Car\"],[\"Scrypt\",\"Klingon Empire Darsek\"],[\"SHA-256\",\"Internet of People\"],[\"X11\",\"KushCoin\"],[\"X11\",\"Eryllium\"],[\"Scrypt\",\"Printerium\"],[\"Scrypt\",\"Impeach\"],[\"Scrypt\",\"Zilbercoin\"],[\"Scrypt\",\"FirstCoin\"],[\"X13\",\"FindCoin\"],[\"Scrypt\",\"OpenChat\"],[\"Scrypt\",\"RenosCoin\"],[\"X11\",\"VirtacoinPlus\"],[\"Blake2S\",\"TajCoin\"],[\"X11\",\"Impact\"],[\"Scrypt\",\"Universe\"],[\"PoS\",\"Atmos\"],[\"X11\",\"HappyCoin\"],[\"PoS\",\"MacronCoin\"],[\"X11\",\"Condensate\"],[\"Scrypt\",\"Independent Money System\"],[\"Scrypt\",\"ArgusCoin\"],[\"Scrypt\",\"LomoCoin\"],[\"SHA-256\",\"ProCurrency\"],[\"X11\",\"GoldReserve\"],[\"Scrypt\",\"GrowthCoin\"],[\"PoS\",\"Phreak\"],[\"Scrypt\",\"Degas Coin\"],[\"X11\",\"ZSEcoin\"],[\"X15\",\"HTML5 Coin\"],[\"SHA-256\",\"Ultimate Secure Cash\"],[\"POS 3.0\",\"QTUM\"],[\"536\",\"Espers\"],[\"NIST5\",\"Denarius\"],[\"NIST5\",\"Virta Unique Coin\"],[\"Skein\",\"Bitcoin Planet\"],[\"X13\",\"BritCoin\"],[\"X11\",\"Octanox\"],[\"Scrypt\",\"Linda\"],[\"X13\",\"DeepOnion\"],[\"SkunkHash v2 Raptor\",\"Signatum\"],[\"Skein\",\"Cream\"],[\"X11\",\"Monoeci\"],[\"Scrypt\",\"Draftcoin\"],[\"PoS\",\"Stakecoin\"],[\"Scrypt\",\"CoinonatX\"],[\"Scrypt\",\"Ethereum Dark\"],[\"SHA-512\",\"Obsidian\"],[\"Ouroboros\",\"Cardano\"],[\"X11\",\"Regalcoin\"],[\"NeoScrypt\",\"TrezarCoin\"],[\"Scrypt\",\"TerraNovaCoin\"],[\"Lyra2REv2\",\"Rupee\"],[\"Scrypt\",\"WomenCoin\"],[\"SHA-256\",\"Theresa May Coin\"],[\"NIST5\",\"NamoCoin\"],[\"PHI1612\",\"LUXCoin\"],[\"Scrypt\",\"Xios\"],[\"Quark\",\"Bitcloud 2.0\"],[\"POS 2.0\",\"KekCoin\"],[\"Scrypt\",\"BlackholeCoin\"],[\"SkunkHash\",\"AltCommunity Coin\"],[\"X11\",\"Pure\"],[\"Quark\",\"Rupaya\"],[\"SHA-256\",\"Infinity Economics\"],[\"Scrypt\",\"Interstellar Holdings\"],[\"Quark\",\"Castle\"],[\"Quark\",\"Alqo\"],[\"X11\",\"Magnet\"],[\"DPoS\",\"Lamden Tau\"],[\"NIST5\",\"Electra\"],[\"X13\",\"Bitcoin Diamond\"],[\"Scrypt\",\"Mutual Coin\"],[\"Scrypt\",\"Cash & Back Coin\"],[\"NIST5\",\"Bulwark\"],[\"Quark\",\"Kalkulus\"],[\"Scrypt\",\"GermanCoin\"],[\"Scrypt\",\"LiteCoin Ultra\"],[\"X11\",\"PhantomX\"],[\"X11\",\"HomeBlockCoin\"],[\"SHA-256\",\"HTML Coin\"],[\"Scrypt\",\"Accolade\"],[\"Scrypt\",\"Fantasy Cash\"],[\"Scrypt\",\"OmiseGO Classic\"],[\"Quark\",\"Digiwage\"],[\"Scrypt\",\"Trollcoin\"],[\"Scrypt\",\"Litecoin Plus\"],[\"X11\",\"Monkey Project\"],[\"Scrypt\",\"ECC\"],[\"Scrypt\",\"OP Coin\"],[\"Scrypt\",\"Valorbit\"],[\"POS 3.0\",\"TokenPay\"],[\"Scrypt\",\"My Big Coin\"],[\"Scrypt\",\"Unified Society USDEX\"],[\"X11\",\"BitSoar Coin\"],[\"SHA-256\",\"Credence Coin\"],[\"X13\",\"Tokyo Coin\"],[\"Skein\",\"BashCoin\"],[\"X11\",\"DigiMoney\"],[\"Skein\",\"Lizus Payment\"],[\"C11\",\"Stipend\"],[\"X11\",\"Pushi\"],[\"Scrypt\",\"PokerCoin\"],[\"XEVAN\",\"Ellerium\"],[\"Scrypt\",\"Velox\"],[\"VBFT\",\"Ontology\"],[\"PHI1612\",\"Seraph\"],[\"NIST5\",\"Bitspace\"],[\"Scrypt\",\"Briacoin\"],[\"Scrypt\",\"Ignition\"],[\"Scrypt\",\"MedicCoin\"],[\"Equihash\",\"Zelcash\"],[\"Green Protocol\",\"Bitcoin Green\"],[\"PoS\",\"Deviant Coin\"],[\"Scrypt\",\"Abjcoin\"],[\"Scrypt\",\"Profit Hunters Coin\"],[\"Semux BFT consensus\",\"Semux\"],[\"Scrypt\",\"BitBlocks\"],[\"Quark\",\"Carebit\"],[\"PoS\",\"Zealium\"],[\"X16R\",\"Proton\"],[\"Scrypt\",\"iDealCash\"],[\"XEVAN\",\"Bitcoin Incognito\"],[\"Scrypt\",\"HollyWoodCoin\"],[\"Scrypt\",\"Parlay\"],[\"Scrypt\",\"Listerclassic Coin\"],[\"X11\",\"BetKings\"],[\"SHA-256D\",\"Cognitio\"],[\"Scrypt\",\"Mercoin\"],[\"Scrypt\",\"Swisscoin\"],[\"X11\",\"Reliance\"],[\"Scrypt\",\"Xt3ch\"],[\"SHA-256D\",\"TheVig\"],[\"Scrypt\",\"EmaratCoin\"],[\"X15\",\"Dekado\"],[\"Scrypt\",\"Lynx\"],[\"Quark\",\"Poseidon Quark\"],[\"Scrypt\",\"MYCE\"],[\"SHA-256\",\"BitcoinWSpectrum\"],[\"SHA-256D\",\"GolfCoin\"],[\"DPoS\",\"Muse\"],[\"Scrypt\",\"GambleCoin\"],[\"X16R\",\"Trivechain\"],[\"Quark\",\"Dystem\"],[\"Quark\",\"Giant\"],[\"Scrypt\",\"Peony Coin\"],[\"Zhash\",\"SafeCoin\"],[\"Lyra2REv2\",\"Absolute Coin\"],[\"Quark\",\"Vitae\"],[\"XEVAN\",\"GenesisX\"],[\"Scrypt\",\"TPCash\"],[\"Scrypt\",\"MUSDcoin\"],[\"X11\",\"ARENON\"],[\"X11\",\"EUNO\"],[\"Scrypt\",\"MMOCoin\"],[\"PoS\",\"Ketan\"],[\"Scrypt\",\"Safe Trade Coin\"],[\"Scrypt\",\"Mont Blanc\"],[\"Keccak\",\"XDNA\"],[\"X11\",\"PAXEX\"],[\"Tribus\",\"Averopay\"],[\"Quark\",\"Apollon\"],[\"Scrypt\",\"ThunderStake\"],[\"NeoScrypt\",\"SimpleBank\"],[\"SHA-512\",\"Kcash\"],[\"NeoScrypt\",\"Traid\"],[\"XEVAN\",\"Bettex coin\"],[\"SHA-512\",\"TWIST\"],[\"Quark\",\"DACH Coin\"],[\"XEVAN\",\"BitMoney\"],[\"Quark\",\"Zenad\"],[\"Quark\",\"HerbCoin\"],[\"Equihash\",\"PirateCash\"],[\"Scrypt\",\"Oduwa\"],[\"Quark\",\"Galilel\"],[\"Quark\",\"Crypto Sports\"],[\"Scrypt\",\"Credit\"],[\"X11\",\"Dash Platinum\"],[\"Scrypt\",\"Nasdacoin\"],[\"XEVAN\",\"Beetle Coin\"],[\"SHA-256D\",\"Titan Coin\"],[\"X11\",\"Award\"],[\"X11\",\"Insane Coin\"],[\"DPoS\",\"ALAX\"],[\"X11\",\"The Freedom Coin\"],[\"Scrypt\",\"LiteDoge\"],[\"Scrypt\",\"OrangeCoin\"],[\"Scrypt\",\"BitstarCoin\"],[\"SHA-256\",\"NeosCoin\"],[\"X11\",\"PinkCoin\"],[\"Scrypt\",\"AudioCoin\"],[\"SHA-256\",\"IncaKoin\"],[\"X11\",\"Piggy Coin\"],[\"Scrypt\",\"Genstake\"],[\"SHA-256\",\"ParkByte\"],[\"Scrypt\",\"XiaoMiCoin\"],[\"X11\",\"CapriCoin\"],[\"Scrypt\",\" ClubCoin\"],[\"PoS\",\"Radium\"],[\"X11\",\"Creditbit \"],[\"SHA-256\",\"OKCash\"],[\"DPoS\",\"Lisk\"],[\"Scrypt\",\"HiCoin\"],[\"Scrypt\",\"WhiteCoin\"],[\"NeoScrypt\",\"FriendshipCoin\"],[\"Scrypt\",\"The Hempcoin\"],[\"X13\",\"Triangles Coin\"],[\"PHI2\",\"Gexan\"],[\"SHA-256\",\"TigerCash\"],[\"Lyra2Z\",\"LAPO\"],[\"PoS\",\"Particl\"],[\"Scrypt\",\"ShardCoin\"],[\"PoS\",\"Nxt\"],[\"SHA-256\",\"ZEPHYR\"],[\"Scrypt\",\"Gapcoin\"],[\"Scrypt\",\"BitcoinPlus\"],[\"Scrypt\",\"DivotyCoin\"]],\"hovertemplate\":\"<b>%{hovertext}</b><br><br>class=%{marker.color}<br>PC 1=%{x}<br>PC 2=%{y}<br>PC 3=%{z}<br>Algorithm=%{customdata[0]}<br>CoinName=%{customdata[1]}<extra></extra>\",\"hovertext\":[\"Scrypt\",\"Scrypt\",\"X13\",\"X11\",\"SHA-512\",\"SHA-256\",\"X11\",\"SHA-256\",\"X15\",\"X13\",\"X13\",\"Scrypt\",\"Scrypt\",\"Scrypt\",\"Scrypt\",\"Scrypt\",\"Multiple\",\"Scrypt\",\"Scrypt\",\"Groestl\",\"X11\",\"X11\",\"NIST5\",\"X11\",\"Scrypt\",\"X11\",\"X11\",\"X13\",\"X11\",\"SHA3\",\"SHA-256\",\"Scrypt\",\"NeoScrypt\",\"Scrypt\",\"Scrypt\",\"X15\",\"Scrypt\",\"X11\",\"Multiple\",\"PHI1612\",\"X11\",\"Scrypt\",\"Scrypt\",\"Scrypt\",\"X11\",\"Scrypt\",\"Scrypt\",\"Shabal256\",\"Counterparty\",\"SHA-256\",\"Scrypt\",\"X13\",\"Scrypt\",\"SHA-256\",\"X13\",\"X13\",\"X11\",\"X11\",\"Scrypt\",\"SHA3\",\"QUAIT\",\"Scrypt\",\"X11\",\"X13\",\"SHA-256\",\"X13\",\"X15\",\"BLAKE256\",\"SHA-256\",\"X11\",\"SHA-256\",\"Quark\",\"Blake\",\"Scrypt\",\"Scrypt\",\"Scrypt\",\"SHA-256\",\"X11\",\"Scrypt\",\"SHA-256\",\"Scrypt\",\"PoS\",\"X11\",\"X11\",\"X11\",\"PoS\",\"SHA-256\",\"SHA-256\",\"NIST5\",\"X15\",\"X11\",\"NIST5\",\"Scrypt\",\"Scrypt\",\"POS 3.0\",\"Scrypt\",\"Scrypt\",\"Scrypt\",\"X13\",\"X11\",\"X11\",\"X11\",\"Scrypt\",\"SHA-256\",\"X11\",\"Scrypt\",\"X11\",\"Scrypt\",\"SHA-256D\",\"PoS\",\"X11\",\"PoS\",\"X13\",\"X14\",\"PoS\",\"SHA-256D\",\"DPoS\",\"X11\",\"Scrypt\",\"X13\",\"X11\",\"PoS\",\"SHA-256D\",\"Scrypt\",\"Scrypt\",\"Scrypt\",\"PoS\",\"X11\",\"SHA-256\",\"Scrypt\",\"X11\",\"Scrypt\",\"Scrypt\",\"X11\",\"Scrypt\",\"Scrypt\",\"Scrypt\",\"Scrypt\",\"Quark\",\"QuBit\",\"X11\",\"X13\",\"PoS\",\"Scrypt\",\"SHA-256\",\"X11\",\"X11\",\"Scrypt\",\"Scrypt\",\"Scrypt\",\"Scrypt\",\"X13\",\"Scrypt\",\"Scrypt\",\"X11\",\"Blake2S\",\"X11\",\"Scrypt\",\"PoS\",\"X11\",\"PoS\",\"X11\",\"Scrypt\",\"Scrypt\",\"Scrypt\",\"SHA-256\",\"X11\",\"Scrypt\",\"PoS\",\"Scrypt\",\"X11\",\"X15\",\"SHA-256\",\"POS 3.0\",\"536\",\"NIST5\",\"NIST5\",\"Skein\",\"X13\",\"X11\",\"Scrypt\",\"X13\",\"SkunkHash v2 Raptor\",\"Skein\",\"X11\",\"Scrypt\",\"PoS\",\"Scrypt\",\"Scrypt\",\"SHA-512\",\"Ouroboros\",\"X11\",\"NeoScrypt\",\"Scrypt\",\"Lyra2REv2\",\"Scrypt\",\"SHA-256\",\"NIST5\",\"PHI1612\",\"Scrypt\",\"Quark\",\"POS 2.0\",\"Scrypt\",\"SkunkHash\",\"X11\",\"Quark\",\"SHA-256\",\"Scrypt\",\"Quark\",\"Quark\",\"X11\",\"DPoS\",\"NIST5\",\"X13\",\"Scrypt\",\"Scrypt\",\"NIST5\",\"Quark\",\"Scrypt\",\"Scrypt\",\"X11\",\"X11\",\"SHA-256\",\"Scrypt\",\"Scrypt\",\"Scrypt\",\"Quark\",\"Scrypt\",\"Scrypt\",\"X11\",\"Scrypt\",\"Scrypt\",\"Scrypt\",\"POS 3.0\",\"Scrypt\",\"Scrypt\",\"X11\",\"SHA-256\",\"X13\",\"Skein\",\"X11\",\"Skein\",\"C11\",\"X11\",\"Scrypt\",\"XEVAN\",\"Scrypt\",\"VBFT\",\"PHI1612\",\"NIST5\",\"Scrypt\",\"Scrypt\",\"Scrypt\",\"Equihash\",\"Green Protocol\",\"PoS\",\"Scrypt\",\"Scrypt\",\"Semux BFT consensus\",\"Scrypt\",\"Quark\",\"PoS\",\"X16R\",\"Scrypt\",\"XEVAN\",\"Scrypt\",\"Scrypt\",\"Scrypt\",\"X11\",\"SHA-256D\",\"Scrypt\",\"Scrypt\",\"X11\",\"Scrypt\",\"SHA-256D\",\"Scrypt\",\"X15\",\"Scrypt\",\"Quark\",\"Scrypt\",\"SHA-256\",\"SHA-256D\",\"DPoS\",\"Scrypt\",\"X16R\",\"Quark\",\"Quark\",\"Scrypt\",\"Zhash\",\"Lyra2REv2\",\"Quark\",\"XEVAN\",\"Scrypt\",\"Scrypt\",\"X11\",\"X11\",\"Scrypt\",\"PoS\",\"Scrypt\",\"Scrypt\",\"Keccak\",\"X11\",\"Tribus\",\"Quark\",\"Scrypt\",\"NeoScrypt\",\"SHA-512\",\"NeoScrypt\",\"XEVAN\",\"SHA-512\",\"Quark\",\"XEVAN\",\"Quark\",\"Quark\",\"Equihash\",\"Scrypt\",\"Quark\",\"Quark\",\"Scrypt\",\"X11\",\"Scrypt\",\"XEVAN\",\"SHA-256D\",\"X11\",\"X11\",\"DPoS\",\"X11\",\"Scrypt\",\"Scrypt\",\"Scrypt\",\"SHA-256\",\"X11\",\"Scrypt\",\"SHA-256\",\"X11\",\"Scrypt\",\"SHA-256\",\"Scrypt\",\"X11\",\"Scrypt\",\"PoS\",\"X11\",\"SHA-256\",\"DPoS\",\"Scrypt\",\"Scrypt\",\"NeoScrypt\",\"Scrypt\",\"X13\",\"PHI2\",\"SHA-256\",\"Lyra2Z\",\"PoS\",\"Scrypt\",\"PoS\",\"SHA-256\",\"Scrypt\",\"Scrypt\",\"Scrypt\"],\"legendgroup\":\"3\",\"marker\":{\"color\":[3,3,3,3,3,3,3,3,3,3,3,3,3,3,3,3,3,3,3,3,3,3,3,3,3,3,3,3,3,3,3,3,3,3,3,3,3,3,3,3,3,3,3,3,3,3,3,3,3,3,3,3,3,3,3,3,3,3,3,3,3,3,3,3,3,3,3,3,3,3,3,3,3,3,3,3,3,3,3,3,3,3,3,3,3,3,3,3,3,3,3,3,3,3,3,3,3,3,3,3,3,3,3,3,3,3,3,3,3,3,3,3,3,3,3,3,3,3,3,3,3,3,3,3,3,3,3,3,3,3,3,3,3,3,3,3,3,3,3,3,3,3,3,3,3,3,3,3,3,3,3,3,3,3,3,3,3,3,3,3,3,3,3,3,3,3,3,3,3,3,3,3,3,3,3,3,3,3,3,3,3,3,3,3,3,3,3,3,3,3,3,3,3,3,3,3,3,3,3,3,3,3,3,3,3,3,3,3,3,3,3,3,3,3,3,3,3,3,3,3,3,3,3,3,3,3,3,3,3,3,3,3,3,3,3,3,3,3,3,3,3,3,3,3,3,3,3,3,3,3,3,3,3,3,3,3,3,3,3,3,3,3,3,3,3,3,3,3,3,3,3,3,3,3,3,3,3,3,3,3,3,3,3,3,3,3,3,3,3,3,3,3,3,3,3,3,3,3,3,3,3,3,3,3,3,3,3,3,3,3,3,3,3,3,3,3,3,3,3,3,3,3,3,3,3,3,3,3,3,3,3,3,3,3,3,3,3,3,3,3,3,3,3,3,3,3,3,3,3,3,3,3,3,3,3,3,3,3,3],\"coloraxis\":\"coloraxis\",\"symbol\":\"circle\"},\"mode\":\"markers\",\"name\":\"3\",\"scene\":\"scene\",\"showlegend\":true,\"type\":\"scatter3d\",\"x\":[-0.11609831048000785,-0.10085186352461822,0.49230243112790373,-0.09860836299005135,0.31948629964584746,-0.024133618505442937,-0.09873885681268096,-0.02323275463173354,0.03415561685072687,0.06998872975680247,0.06924256457247076,-0.11535214594292102,-0.1158362756564435,-0.11609769585399451,-0.11609831121123595,-0.1160832968119377,-0.07972708151155034,-0.11535214616210855,0.4704064261755818,-0.21064581035076216,-0.0987388568190258,-0.09799269188451386,-0.059095313135074365,-0.09873885682762602,-0.11480848651360577,-0.09848381743411645,-0.0987388568179061,0.06924256453156835,-0.0987388568118942,0.352750089881962,-0.0008338039654731321,-0.11511835986024808,-0.11610231221971842,-0.11288083157992633,-0.11502966801571926,0.03378655167668353,-0.11609831108948832,-0.09873883980270994,-0.07782122658685467,-0.07575659884349653,-0.09871816790870386,-0.10021946354996143,-0.11537245886477727,-0.11609831109211043,-0.09863842372298613,-0.11609831121796475,-0.11395999121659985,-0.12656418845483683,-0.2446471400735568,-0.023586969085412336,-0.11535214594448617,0.06927178730964939,-0.11282867188773546,-0.023406076128384655,0.06934510727002337,0.06924256455673904,-0.09873885683578029,-0.0979538263713566,-0.1159306336059253,0.8978814507272814,0.12003780118338106,-0.11390723836181198,-0.097992691628163,0.06957550883969217,-0.023530069603366646,0.06998872976505607,0.03398205567546133,0.19735168094184638,-0.024099217709301884,0.060147731535596244,-0.02407813181949929,0.03350637805427753,-0.15800770042340886,-0.11596828765396841,-0.11609831109787914,-0.11476729054231627,-0.02415224186594486,-0.0985884823631373,0.4188478680325364,-0.02408899662661006,-0.07652739695515957,-0.0921364552788452,-0.09873885680953444,-0.09873885686433351,-0.09679466216554083,-0.09242543682579438,-0.02413496766532971,-0.023911480305932632,-0.05788953198708855,0.033786551584914996,-0.09838647704009354,-0.05909531317538952,-0.11609831128263928,-0.11609831200455253,-0.018419672209499742,-0.10434988170709075,-0.11603290999456414,-0.11465340354876609,0.0700609746407793,-0.08849964909699609,-0.09851397332536467,-0.09799269188451386,-0.11547460964630601,-0.024143637970328157,-0.09872935457828462,-0.11606100405599638,-0.09873888302886637,-0.01725646511318941,0.30198531786646937,-0.09135571673125364,-0.09491450105269397,-0.09027661601660632,0.07002485425529395,-0.0942854075058395,-0.092167974047156,0.03474062772721063,7.047287733936591,-0.09847382015210036,-0.11609831370882635,1.4013438491978902,-0.09868317980020247,-0.09170298301741518,0.01910437672115347,-0.1158513822244781,-0.11609831161125866,-0.11606291706184059,-0.0921364552788452,-0.09865115854661838,-0.02397283361049846,-0.11580580369671242,-0.22312589613557104,-0.1159382049383279,-0.11594060951583125,-0.09872708557755638,-0.11597725892395316,0.37321652145451817,-0.11604812971868149,-0.11605040100165832,0.034404515373566154,-0.0015726326030790082,-0.09873885746476194,0.069242563408321,-0.09242543704866182,-0.11575203486844819,-0.02411574186546384,-0.09865708810043576,-0.0987388570714681,-0.11592749806930401,-0.11609385824196465,-0.11530991696697859,-0.15246773789685175,0.07019860044912778,-0.10164923570585908,-0.11483125145425707,-0.09854866748319402,0.21499170383107438,-0.09714034999413783,-0.1153521461935721,-0.09081962669950645,-0.09842789381101996,-0.08662526870013922,-0.09698090451918348,-0.11602073499632569,-0.11608171893880619,-0.11609108916982473,-0.021953479462964092,-0.09849074627621393,-0.11108771576892656,-0.09226085860154971,-0.11578969691508952,-0.09873886229834455,0.6212716672071613,-0.023256628206461964,-0.01753235173909544,0.49181408530460413,-0.05903504053575913,-0.05818585849672963,-0.07885888337067913,0.06954986882982622,-0.09873885683000067,0.014592470545524209,0.06955924524203877,0.024005216546186637,-0.0782732992219602,-0.09855724257937855,-0.11508247850636236,-0.09236764063596652,-0.11581598218222369,-0.11603762497026636,0.2802343770162595,0.7054959736619106,-0.09863392186646196,-0.1135098917065164,-0.11608182856032517,-0.15314139327829832,0.5840963208346347,-0.022822192388093847,-0.0509956945884152,-0.0998238693688039,-0.1160672501323341,0.033950131172015764,-0.13494784093775672,-0.11586188743672457,-0.03578176080128703,-0.09873885681893911,0.03425254309752263,0.10663560215619944,-0.11535215106517298,4.403234040515285,0.034449462487156204,-0.09818692271047132,7.0498869556831965,0.35124614478115324,0.07189446147942245,-0.11609831370882635,-0.11449479663603303,-0.058157738498187866,0.034497538411400956,-0.04513179168053764,-0.11597665887928615,-0.09808613119700303,-0.09873885688268719,-0.024152477291680158,-0.11601777338649111,-0.11609831109892765,-0.11537682231217854,0.034646998185310876,-0.10755857965925067,-0.11606212358049287,-0.0979290109494527,0.24587473862528184,-0.11609831633078585,-0.3579313811136922,-0.018681835494595844,-0.142784063518292,-0.11270499968216938,-0.04481579911882182,-0.02410272430387172,0.07331633480891345,-0.07878869715412841,-0.09868797256825367,-0.07891405551880387,-0.17530215656691817,-0.09870753377195654,-0.11180783923909596,0.04809282843951305,-0.11498268311071407,-0.22345667700386168,-0.09992422573247746,-0.058896091477525614,-0.11608609240800362,-0.11608123007184337,-0.11148994223584131,-0.2910427276970645,-0.06241942939344349,-0.09210934050731855,-0.11595554701604671,-0.11609831134906283,7.722826154959443,-0.11609831239784636,0.03552548591285283,-0.09226540978592951,-0.05294085659390051,-0.09580954284478997,0.052534810132791605,-0.11479286825885576,-0.11529748121523538,-0.11598134871296305,-0.0978285553965963,0.01911391099346268,-0.11573231255741293,0.03128225779941259,-0.09788784089442505,-0.11524189954989396,0.01958465592195827,-0.1157862207633666,0.03497029534587771,1.896398206161018,0.034291789114079194,-0.11517914948310695,-0.022570760728371678,0.019104390583099547,2.6770057165624426,-0.11523307450627589,-0.05321714767904924,0.03435487727713975,0.033591909263107976,-0.11533713403938464,-0.09043897913156491,-0.15404169237543067,0.03520696066218443,0.04883293559129872,-0.11602023374505008,-0.11609831134906283,-0.0977142651143242,-0.09829424254090265,-0.11379505804817819,-0.0922906688850862,-0.11535214810235873,-0.11535214608345032,-0.1150549289882097,-0.09792760400422831,0.1035880559197537,0.033506377451726424,-0.1007829990943762,-0.116114437140807,1.0505032989228653,-0.11614884780640333,0.04893100725690321,0.2827629653820039,0.0344592100141468,0.3499652570846743,-0.1409860112511906,0.034016606491896646,-0.2901018476155636,-0.11588478917804014,0.03377029062956077,0.034280497914531936,0.3293045810778429,-0.0979823510548645,-0.11580143291837294,0.05096124190885254,0.03205597440033533,-0.0985160497388182,-0.09839531618266095,7.060173389293547,-0.09799269168786721,0.10524539149678075,-0.11604720305500033,-0.11580099931322553,-0.023342612101428323,-0.09243395056311386,-0.10192765780616497,0.23506024471830955,-0.0915975374955465,-0.11523136644601797,-0.024152241380882216,-0.11025631184260928,-0.09582932848062457,-0.11460107093482888,-0.09237022333227464,-0.11407125808944922,-0.02307324130323823,7.047458378265402,0.029142143254173976,-0.11245706381925463,-0.1161326587730972,-0.1160983118734546,0.06924459869662733,0.07862603525053105,-0.008957000747371593,0.06372899086479783,-0.09229130403044658,-0.11499200519137179,-0.20690116591165167,4.374473571918018,-0.1158825718918021,-0.11535029169575518,-0.11578778312933663],\"y\":[1.2853336329600347,1.2832936158789139,1.854650845010082,1.4275436328838809,1.163960913899625,0.7262357363853154,1.4275610931139582,0.38366359241268577,2.0622405371886554,1.5687021516362003,1.9112535962894026,0.9427821885909016,1.2852985720683507,1.285333550727527,1.2853336336659056,1.2853316240955512,0.4450798809204449,0.9427821896917647,0.7125759959471928,0.6911958645261235,1.4275610931458251,1.0850096497473376,1.6627415106769,1.4275610931890192,1.28516105188101,1.4275269682857952,1.427561093140203,1.9112535964948347,1.4275610931100071,2.313954586491847,0.723118176589629,0.9427509072542594,0.6036893656404296,1.2849031292633981,1.2851906463991634,2.0622899148288285,1.2853336330544345,1.4275610908213177,0.10237326583798928,0.885793469953537,1.427558324983226,1.2832090124070143,1.2852365129487788,1.2853336330676028,1.4275476548956525,1.2853336336997014,1.2850475317464995,1.2124559177584056,1.410385298742156,0.7261625935150103,0.9427821885987617,1.9112496862695878,0.9424445458016445,0.38368678322915556,1.9112398757961824,1.9112535963684152,1.4275610932299734,1.0850044483905785,1.2853111975085074,2.6579931343295735,2.1353903564475063,0.9425888563561411,1.0850096484598186,1.9112090478338988,0.7261549921266066,1.5687021515947475,2.0622637560859203,1.10666791821798,0.7262311334475612,1.4063018941496466,0.7262283119399211,1.5767637336606213,0.003878205202703723,1.285316236023879,1.2853336330965746,0.9427039356704123,0.7262382306609305,1.4275409774317953,0.8713057682071222,0.7262297660643705,0.7857570247406094,1.5480533678267951,1.4275610930981546,1.427561093373381,1.427300954528518,1.5480920344280766,0.7262359194801417,0.7262060200233609,1.6625801744061561,2.062289915289734,1.4275139453260288,1.6627415108793817,1.2853336340245294,1.2853336376503157,1.4566619076223226,1.2837616808388272,1.2853248827319081,1.285140301022514,1.5686924875109811,1.0837394570672654,1.4275310036004505,1.0850096497473376,1.285250180925461,0.7262370770092965,1.4275598217060608,1.2853286415090825,1.4275612247839853,0.662856462689714,2.0455809909798117,1.5479489031768658,1.4270494011578236,1.5478045155762872,1.5686973180038193,2.1565210929219845,1.548057588741734,2.081339034478832,0.5592201169830857,1.4275256307196793,1.2853336462099803,1.7330141480279653,1.4275536433823905,1.5479953682211711,2.083431208935618,1.2853005936550626,1.2853336356750085,1.2853288977446258,1.5480533678267951,1.4275493595548059,0.726214222820857,1.285294495029664,1.0856729427781824,1.2853122106798074,1.2853125404012362,1.427559518132063,1.285317437716235,0.8774105377246365,1.2853269187785792,1.285327222559454,1.2341919545650284,1.0477422792601214,1.4275610963890164,1.9112536021363127,1.5480920355474177,1.285287306572541,0.7262333444202668,1.4275501522991048,1.4275610944137092,1.2853107779635689,1.285333037517359,0.9427765387121085,0.8212311755813152,1.5686740703554274,1.2834003128537455,0.942712491455086,1.4275356464318416,2.1570975044708094,1.4273472091263522,0.9427821898497898,1.547877173062394,1.4275194865239977,1.5473159581135725,1.4273258798052306,1.285323253381412,1.2853314133247977,1.285332679543302,0.38349338244009745,1.4275278956179933,0.9422116194705972,1.5480700135217957,1.2852923408130916,1.4275611206655419,1.9836836604021613,0.38366678917861047,1.456543182126723,1.9552217095399325,1.662733446128408,1.6626198242358206,1.6432674666637932,1.911212478293765,1.4275610932009453,1.2678474247795894,1.9112112235571916,1.38158877979777,1.6431891136112753,1.4275367926475129,0.9427461062288046,1.5480843017083141,1.2852958571394348,1.2853255130964782,1.1692129030837601,1.3071392358126794,1.4275470528082779,0.6033424964723002,1.2853314278275885,0.33397488873695647,1.1916456477382658,0.7260602643302638,1.661657770899636,1.2314653252082333,1.285329477254293,1.576704360363422,1.381792189120347,1.2853019989819816,0.7286104100718217,1.4275610931453893,1.234212289716021,0.3662869015607801,0.9427822143172616,0.6317955568891315,1.576637546397238,1.4274872443755784,0.5588723375158119,1.6078368813442714,1.910898766523497,1.2853336462099803,1.2851190803147199,1.3201644551544907,1.2341795078458755,1.2758387241769942,1.2853173575052261,1.427473756940297,1.427561093465562,0.7262394130798258,1.2853228574774396,1.2853336331018417,1.2852370964076132,1.2341595109266545,1.2841910009001072,1.285328791087176,1.085001128019708,0.8944491836868872,1.285333659378695,2.4999331798050894,1.4566969858085907,0.7807416540580266,1.2848795999771832,1.0778944592873043,0.7262316026797067,1.5682569174853842,1.6432580751621786,1.4275542849413088,1.6432748484782504,1.0909373409562548,1.4275569022936132,0.8343384201946059,1.6018035106353978,0.9427327546485007,1.3767140106777267,1.2314787528552824,1.662714854807856,1.2853319981809797,1.2853313476103156,0.942265419445592,0.3709093245722079,1.5160310626318445,1.5480497406543086,1.285314531131515,1.285333634358137,0.42469771821949465,1.2853336396256223,1.5764935728053686,1.5480706231258758,0.6049024553605039,1.2826189959016656,1.150788018799941,0.9427073555514249,0.9427748744478683,1.2853179845074205,1.0849876865771906,2.0834298435900727,1.285284662536399,1.265613767128559,1.0849956198587605,0.9427674376207787,2.083366857582194,1.2852918754235756,1.7196799218874654,0.42814790831965016,1.2342070458423935,1.2852106494511504,0.3835750166128608,2.083431139314398,1.161810861894306,0.9427662564373799,0.9473910298340372,1.2341985963797366,1.5767522891155505,0.942780396105366,1.9189517099747564,0.6765469573841943,1.2340845858803169,1.2592528760281854,1.2853231988583647,1.285333634358137,1.0849723947684202,1.4275016029110155,0.9425738483183169,1.5480740045413415,0.9427821994366138,0.9427821892967033,0.7309046857148387,1.0850009407785013,1.0684320534991005,1.5767637366869178,1.2832846254983494,0.6036909882149283,1.1651872448950695,0.60369559543418,1.259239754119579,1.168874571176687,1.2341846365400806,1.1444884921279224,1.0703685670623784,1.5766954638792694,0.028331825077479496,1.2853050633886416,1.5767284212899197,1.2342085484811502,1.225738244688444,1.085008265081618,1.2852939108591024,1.6014197132783847,2.081698217652859,1.4275312861739033,1.4275151266347346,0.5574959858476866,1.0850096487596839,1.2557175785721586,1.2853267971849274,1.2852938524600779,0.38367829180629476,1.426717482663854,1.2834376884009489,0.691554761565728,1.4266055742999117,1.285217633237422,0.7262382282247185,1.2845519597801036,1.4271717914649595,1.2851332995186304,1.5480846466072096,0.7754120019790579,0.7260938555509374,0.559197284667711,0.9234485135724856,1.2848464262286696,0.6036934268302988,1.28533363699188,1.911253324041645,2.0796377643393207,0.38175346304160873,0.2863992734868415,1.548074086944759,0.9427340119197161,1.908929583637667,-0.22259658963450743,1.2853047696438697,0.9427819402891994,1.2852920846782798],\"z\":[-0.5190979362892435,-0.5197480139344202,-0.5169697221370415,-0.4164986212252914,-0.2592680552075587,-0.32502181349223175,-0.41649305709893886,-0.04736021473525504,-0.5684691560010842,-0.22126062957769804,-0.49892882424197854,-0.2414297417250338,-0.519109108987068,-0.5190979624996287,-0.5190979366511957,-0.5190985764456236,-0.22839238488284724,-0.24142974240852302,-0.2633133885940644,-0.4384990211762856,-0.41649305711872575,-0.13882486323345594,-0.6483883869716461,-0.41649305714554324,-0.5191529323946001,-0.416503931559742,-0.41649305711523477,-0.49892882436952446,-0.41649305709648704,-0.483131813098098,-0.3260152835637153,-0.24143970982104698,-0.36911810976376636,-0.519235125629016,-0.519143501544569,-0.5684534170231954,-0.5190979362715543,-0.4164930578134399,0.0492263634173626,-0.11648796101483766,-0.4164939392980599,-0.5197749868580945,-0.5191288857521507,-0.51909793627973,-0.4164973393684107,-0.5190979366721785,-0.5191891175649279,-0.029273647504445218,-0.1578767050123537,-0.32504512174044403,-0.24142974172991385,-0.49893007028163233,-0.24153734083039005,-0.04735282460391633,-0.49893319645859163,-0.49892882429103474,-0.4164930571709705,-0.13882651970602372,-0.5191050858091152,-0.2186352546101559,-0.4993659963997655,-0.241491349935331,-0.13882486243407785,-0.49894302058015993,-0.32504755552699816,-0.22126062955196132,-0.5684617530712046,-0.3404914565428884,-0.3250232802626158,-0.4232678337822257,-0.32502417922087945,-0.49974229554760774,0.1557147198455183,-0.519103480509925,-0.5190979362977174,-0.24145468030275222,-0.3250210209933192,-0.4164994718894253,-0.26420761517512203,-0.3250237162151229,-0.23999308161514843,0.008618805805252332,-0.41649305708912887,-0.41649305726000757,-0.41657595367295364,0.008631127351493996,-0.325021757630744,-0.3250312891200623,-0.6484397994317851,-0.5684534173093555,-0.4165080828986868,-0.6483883870973601,-0.5190979368738539,-0.5190979391249827,-0.1972210890465103,-0.5195988786958683,-0.5191007251821196,-0.5191595446077875,-0.22126371153200905,-0.13922962923862475,-0.4165026460143428,-0.13882486323345594,-0.5191245301962035,-0.32502138627713345,-0.41649346226632716,-0.5190995271229342,-0.41649313884845124,-0.19526396535385837,-0.6661369981014663,0.00858551647174085,-0.4166561312044776,0.008539506394809222,-0.2212621698054704,-0.7179311352475662,0.008620147363761618,-0.6547421990521259,-0.5269106998960283,-0.4165043578870277,-0.5190979444393918,-0.5557265491167271,-0.4164954310591433,0.008600323301929245,-0.654075501279268,-0.5191084650583829,-0.5190979378985806,-0.5190994457308333,0.008618805805252332,-0.4164967968366698,-0.32502866897171073,-0.519110408375478,-0.013545062712970927,-0.5191047630513151,-0.5191046656861772,-0.4164935590278459,-0.5191030988410784,-0.2622614490780267,-0.519100075988599,-0.519099979066085,-0.2220805805723741,-0.358101173714865,-0.4164930591323144,-0.49892882787212883,0.008631126656532694,-0.5191127048243646,-0.32502257570252646,-0.4164965435944647,-0.41649305790591246,-0.519105219501145,-0.5190981263041653,-0.24143154259078392,-0.2222656682522696,-0.22126957804099256,-0.5197140197074726,-0.2414519516106742,-0.4165011671500843,-0.5893387268582402,-0.41656121463352547,-0.24142974250663513,0.008562658531896486,-0.4165063166601393,0.008383818406493939,-0.416568016252056,-0.519101244104262,-0.5190986439512282,-0.5190982524770261,-0.047415381551756,-0.41650363627912057,-0.24161158360450857,0.008624109992332651,-0.5191110957281169,-0.4164930742047963,-0.5935031695026808,-0.047359198375905305,-0.197258922890305,-0.7558386548347769,-0.6483909569335885,-0.648427165003395,-0.4997937055623729,-0.4989419271836833,-0.4164930571529478,-0.5246707033197086,-0.4989423268802048,-0.18996967665917894,-0.4998186735161295,-0.41650080077782914,-0.24144123972914988,0.008628662669419992,-0.5191099745148022,-0.5191005238138434,-0.25759441492542867,-0.014301391227680867,-0.4164975314953488,-0.3692286478625527,-0.5190986391705836,0.009419363013327792,-0.5489528231468778,-0.3250777303152448,-0.6487337459137985,-0.3931617791282518,-0.519099260804685,-0.4997612176444586,-0.012777897278581193,-0.5191080169435794,-0.30037353939720784,-0.41649305711845513,-0.2220741013232747,-0.05289757559459194,-0.24142975769766914,-0.46129863338064186,-0.4997825067990088,-0.41651659147520975,-0.5270215278077275,-0.6658846463246234,-0.49904189668347143,-0.5190979444393918,-0.5191663081513777,-0.37072835377997515,-0.22208454690100207,-0.5221241989092339,-0.5191031244753221,-0.4165208882131787,-0.4164930573172396,-0.3250217551176174,-0.5191013706190438,-0.5190979363009877,-0.519128699456211,-0.22209092034887,-0.5194620581197064,-0.5190994792481062,-0.13882757778650817,-0.2568318276932903,-0.5190979526154058,-1.273202123398166,-0.1972099109399217,-0.3013199541279125,-0.5192426211363628,-0.14109223510965513,-0.3250231307743968,-0.2214025175332354,-0.49979669790826053,-0.41649522688185786,-0.4997913528926577,-0.4618545489674966,-0.4164943928373732,-0.15757712794120243,-0.4015388022691716,-0.2414454956574443,-0.08814844119033467,-0.3931574999329512,-0.6483968817315809,-0.5190984572644485,-0.5190986645997925,-0.24159442116652016,-0.20090115563508246,-0.01556697679617198,0.008617649130534533,-0.519104023641806,-0.5190979370809792,-0.46278405239871895,-0.5190979403513848,-0.49982838712711253,0.008624303629918251,-0.021615045968970896,-0.5199630448669125,-0.0400244497855264,-0.24145358811151646,-0.2414320726152814,-0.5191029241801485,-0.13883186087243377,-0.6540758498460882,-0.5191135424229696,-0.5253819873931447,-0.13882933352223603,-0.24143444260497104,-0.6540959220877182,-0.5191112437691424,-0.2908038804228006,-0.44386122111603027,-0.2220757794481423,-0.5191371292602683,-0.047388441351584695,-0.6540754580537838,-0.287630715582264,-0.2414348186490466,-0.29930327529757755,-0.22207846416847263,-0.4997459422758909,-0.24143052156013894,-0.5255750889257865,-0.26824225998188367,-0.22211479568804107,-0.12387034895630664,-0.519101273588463,-0.5190979370809792,-0.1388367343340372,-0.4165120148267966,-0.24149613437050202,0.008625379542072006,-0.2414297484587734,-0.24142974216324242,-0.30252386906841083,-0.1388276384301356,-0.28550142527360156,-0.4997422974265337,-0.5197510949258871,-0.36911759292797286,-0.6635475543342498,-0.36911612765126084,-0.1238745307622288,-0.2577022289853484,-0.22208291281596956,-0.18003974351642307,-0.4962934965347086,-0.4997640507883337,0.07675873771482897,-0.5191070405177789,-0.4997535481598704,-0.22207529274124044,-0.5380895053812735,-0.13882530347700472,-0.5191105951580358,-0.40166110843204594,-0.6546277108741123,-0.41650256054736423,-0.41650770511472,-0.5274601216902153,-0.138824862620255,-0.5285358098890031,-0.5191001170492152,-0.5191106133994449,-0.04735553073727291,-0.4167618878525041,-0.5197022271672317,-0.33607324174639797,-0.4167975547151451,-0.519134900902103,-0.3250210194807567,-0.5193470289148447,-0.41661711437092386,-0.5191617764466788,0.00862877322555535,0.048094500025968594,-0.32506702621157035,-0.526917976064938,-0.2475907268439893,-0.5192531931116998,-0.36911681632433346,-0.5190979387161824,-0.4989289109235959,-0.5530015911772992,-0.047968908047994745,-0.23119562925794904,0.008625408292082715,-0.24144510461682417,0.4377904306080453,-0.2878095237509645,-0.5191071369556439,-0.2414298206581862,-0.5191111772860757]},{\"customdata\":[[\"SHA-256\",\"Bitcoin\"],[\"Scrypt\",\"Litecoin\"],[\"Ethash\",\"Ethereum Classic\"],[\"Equihash\",\"ZCash\"],[\"Multiple\",\"DigiByte\"],[\"Scrypt\",\"ProsperCoin\"],[\"X11\",\"Spreadcoin\"],[\"SHA-256\",\"ACoin\"],[\"Scrypt\",\"Argentum\"],[\"SHA-256\",\"BetaCoin\"],[\"Multiple\",\"MyriadCoin\"],[\"Scrypt\",\"MoonCoin\"],[\"SHA-256\",\"ZetaCoin\"],[\"Scrypt\",\"SexCoin\"],[\"Scrypt\",\"Quatloo\"],[\"Quark\",\"QuarkCoin\"],[\"Groestl\",\"Riecoin\"],[\"Scrypt\",\"Digitalcoin \"],[\"X11\",\"LimeCoinX\"],[\"Scrypt\",\"BitMark\"],[\"Scrypt\",\"Catcoin\"],[\"Scrypt\",\"CannaCoin\"],[\"X11\",\"CryptCoin\"],[\"Multiple\",\"Verge\"],[\"Scrypt\",\"DarkShibe\"],[\"SHA-256\",\"DevCoin\"],[\"Scrypt\",\"EarthCoin\"],[\"Scrypt\",\"E-Gulden\"],[\"Scrypt\",\"Elacoin\"],[\"Scrypt\",\"Einsteinium\"],[\"Scrypt\",\"Emerald\"],[\"Scrypt\",\"Flappy Coin\"],[\"SHA-256\",\"FireRoosterCoin\"],[\"Scrypt\",\"Franko\"],[\"NeoScrypt\",\"FeatherCoin\"],[\"Scrypt\",\"GrandCoin\"],[\"Scrypt\",\"GlobalCoin\"],[\"Scrypt\",\"GoldCoin\"],[\"Multiple\",\"HunterCoin\"],[\"Scrypt\",\"Infinite Coin\"],[\"SHA-256\",\"IXcoin\"],[\"Scrypt\",\"KrugerCoin\"],[\"Scrypt\",\"LuckyCoin\"],[\"Scrypt\",\"Litebar \"],[\"Scrypt\",\"LitecoinDark\"],[\"Scrypt\",\"MegaCoin\"],[\"HybridScryptHash256\",\"MediterraneanCoin\"],[\"Scrypt\",\"MinCoin\"],[\"SHA-256\",\"NoirBits\"],[\"Scrypt\",\"NobleCoin\"],[\"SHA-256\",\"Namecoin\"],[\"Scrypt\",\"NyanCoin\"],[\"Scrypt\",\"RipOffCoin\"],[\"Scrypt\",\"RonPaulCoin\"],[\"Scrypt\",\"StableCoin\"],[\"Scrypt\",\"SmartCoin\"],[\"Scrypt-n\",\"SpainCoin\"],[\"Scrypt\",\"SecureCoin\"],[\"SHA-256\",\"SysCoin\"],[\"SHA-256\",\"TigerCoin\"],[\"SHA-256\",\"TerraCoin\"],[\"SHA-256\",\"Umbrella\"],[\"SHA-256\",\"UnbreakableCoin\"],[\"SHA-256\",\"Unobtanium\"],[\"Scrypt\",\"ViaCoin\"],[\"Lyra2REv2\",\"Vertcoin\"],[\"Scrypt\",\"WorldCoin\"],[\"SHA-256\",\"JouleCoin\"],[\"CryptoNight\",\"ByteCoin\"],[\"CryptoNight\",\"DigitalNote \"],[\"Scrypt\",\"MonaCoin\"],[\"SHA-256\",\"Sling Coin\"],[\"Scrypt\",\"Gulden\"],[\"Scrypt\",\"PesetaCoin\"],[\"Scrypt\",\"Wild Beast Coin\"],[\"Scrypt\",\"Flo\"],[\"Scrypt\",\"ArtByte\"],[\"Momentum\",\"BitCredit\"],[\"Stanford Folding\",\"Folding Coin\"],[\"Scrypt\",\"OmniCron\"],[\"Scrypt\",\"GreenCoin\"],[\"M7 POW\",\"Cryptonite\"],[\"Scrypt\",\"Gridmaster\"],[\"X11\",\"ConSpiracy Coin \"],[\"Scrypt\",\"MasterCoin\"],[\"SHA-256\",\"SoonCoin\"],[\"Scrypt\",\"1Credit\"],[\"X11\",\"Quicksilver coin\"],[\"X11\",\"MarsCoin \"],[\"Lyra2RE\",\"Crypto\"],[\"SHA-256\",\"Anarchists Prime\"],[\"X11\",\"BowsCoin\"],[\"Scrypt\",\"Song Coin\"],[\"Scrypt\",\"BitZeny\"],[\"Ethash\",\"Expanse\"],[\"X11\",\"MindCoin\"],[\"SHA-256\",\"I0coin\"],[\"Scrypt\",\"DogeCoinDark\"],[\"Scrypt\",\"Revolution VR\"],[\"1GB AES Pattern Search\",\"HOdlcoin\"],[\"Scrypt\",\"Gamecredits\"],[\"CryptoNight\",\"Dashcoin\"],[\"SHA-256\",\"CarpeDiemCoin\"],[\"SHA-256\",\"Phalanx\"],[\"X11\",\"SunShotCoin\"],[\"Scrypt-n\",\"HempCoin\"],[\"X11\",\"Adzcoin\"],[\"Scrypt\",\"VirtaCoin\"],[\"Dagger\",\"SoilCoin\"],[\"Scrypt\",\"YoCoin\"],[\"CryptoNight-Lite\",\"AEON\"],[\"X11GOST\",\"SibCoin\"],[\"SHA-256\",\"Anti Bitcoin\"],[\"Scrypt\",\"Francs\"],[\"ScryptOG\",\"Aiden\"],[\"X11\",\"BolivarCoin\"],[\"SHA-256\",\"Clinton\"],[\"Scrypt\",\"Omni\"],[\"X11\",\"PizzaCoin\"],[\"Equihash\",\"Komodo\"],[\"CryptoNight\",\"Karbo\"],[\"SHA-256\",\"ZayedCoin\"],[\"Multiple\",\"Circuits of Value\"],[\"Scrypt\",\"DopeCoin\"],[\"SHA-256\",\"DollarCoin\"],[\"Scrypt\",\"Shilling\"],[\"Scrypt\",\"GBR Coin\"],[\"Scrypt-n\",\"FujiCoin\"],[\"Lyra2Z\",\"ZCoin\"],[\"SHA-256\",\"LeaCoin\"],[\"Quark\",\"Zurcoin\"],[\"Ethash\",\"Elementrem\"],[\"SHA-256\",\"CashOut\"],[\"Equihash\",\"ZClassic\"],[\"Scrypt\",\"KiloCoin\"],[\"Equihash\",\"Hush\"],[\"X11\",\"ArtexCoin\"],[\"X11\",\"Kurrent\"],[\"CryptoNight\",\"Cannabis Industry Coin\"],[\"Scrypt\",\"OsmiumCoin\"],[\"CryptoNight\",\"Bikercoins\"],[\"Lyra2RE\",\"HexxCoin\"],[\"X11\",\"MarxCoin\"],[\"X11\",\"PacCoin\"],[\"Scrypt\",\"Solarflarecoin\"],[\"CryptoNight-V7\",\"Citadel\"],[\"Keccak\",\"CreativeChain\"],[\"Scrypt\",\"BeaverCoin\"],[\"X11\",\"VaultCoin\"],[\"Equihash\",\"Zero\"],[\"Scrypt\",\"Canada eCoin\"],[\"Lyra2RE\",\"Zoin\"],[\"Ethash\",\"Musicoin\"],[\"X11\",\"BnrtxCoin\"],[\"Dagger-Hashimoto\",\"DubaiCoin\"],[\"Scrypt\",\"EB3coin\"],[\"NIST5\",\"Coinonat\"],[\"Scrypt\",\"Bitcoin Scrypt\"],[\"Scrypt\",\"BenjiRolls\"],[\"Scrypt\",\"ParallelCoin\"],[\"SHA-256\",\"ILCoin\"],[\"Scrypt\",\"EquiTrader\"],[\"CryptoNight-V7\",\"Quantum Resistant Ledger\"],[\"Blake2b\",\"Nano\"],[\"Cloverhash\",\"ChanCoin\"],[\"CryptoNight\",\"Dinastycoin\"],[\"X11\",\"DigitalPrice\"],[\"Scrypt\",\"Unify\"],[\"Scrypt\",\"SocialCoin\"],[\"X11\",\"ArcticCoin\"],[\"X11\",\"DAS\"],[\"CryptoNight\",\"LeviarCoin\"],[\"Time Travel\",\"Bitcore\"],[\"Scrypt\",\"gCn Coin\"],[\"Keccak\",\"SmartCash\"],[\"X11\",\"Onix\"],[\"SHA-256\",\"Bitcoin Cash\"],[\"Scrypt\",\"CampusCoin\"],[\"Scrypt\",\"Sojourn Coin\"],[\"Scrypt\",\"LiteBitcoin\"],[\"Scrypt\",\"FrazCoin\"],[\"Scrypt\",\"Kronecoin\"],[\"Scrypt\",\"AdCoin\"],[\"Scrypt\",\"Linx\"],[\"CryptoNight\",\"Sumokoin\"],[\"Equihash\",\"BitcoinZ\"],[\"X11\",\"Elements\"],[\"NeoScrypt\",\"VIVO Coin\"],[\"Equihash\",\"Bitcoin Gold\"],[\"Dagger\",\"Pirl\"],[\"Scrypt\",\"eBoost\"],[\"X11\",\"Pura\"],[\"NeoScrypt\",\"Innova\"],[\"Scrypt\",\"Bitdeal\"],[\"Ethash\",\"Ellaism\"],[\"Scrypt\",\"Sakuracoin\"],[\"NeoScrypt\",\"GoByte\"],[\"SHA-256\",\"Insta Cash Coin\"],[\"Multiple\",\"SHIELD\"],[\"Scrypt\",\"BridgeCoin\"],[\"CryptoNight\",\"UltraNote\"],[\"CryptoNight\",\"BitCoal\"],[\"Ethash\",\"DaxxCoin\"],[\"Scrypt\",\"BoxyCoin\"],[\"X11\",\"AC3\"],[\"SHA-256\",\"CHIPS\"],[\"CryptoNight-V7\",\"Lethean\"],[\"Scrypt\",\"PopularCoin\"],[\"BLAKE256\",\"Photon\"],[\"X11\",\"Sucre\"],[\"NeoScrypt\",\"SparksPay\"],[\"NeoScrypt\",\"GoaCoin\"],[\"NeoScrypt\",\"GunCoin\"],[\"Scrypt\",\"IrishCoin\"],[\"X11\",\"Pioneer Coin\"],[\"SHA-256\",\"UnitedBitcoin\"],[\"C11\",\"Interzone\"],[\"NeoScrypt\",\"Sigil\"],[\"Ethash\",\"1717 Masonic Commemorative Token\"],[\"Scrypt\",\"Crypto Wisdom Coin\"],[\"CryptoNight\",\"TurtleCoin\"],[\"SkunkHash\",\"MUNcoin\"],[\"CryptoNight\",\"Niobio Cash\"],[\"Equihash\",\"Bitcoin Private\"],[\"Skein\",\"Skeincoin\"],[\"Scrypt\",\"ShareChain\"],[\"Dagger\",\"Travelflex\"],[\"Lyra2REv2\",\"KREDS\"],[\"Scrypt\",\"BitFlip\"],[\"Scrypt\",\"LottoCoin\"],[\"Scrypt\",\"LeafCoin\"],[\"NeoScrypt\",\"Cerberus\"],[\"Equihash\",\"Bitcoin Hush\"],[\"X11\",\"Crypto Improvement Fund\"],[\"Ethash\",\"Callisto Network\"],[\"X11\",\"Curium\"],[\"CryptoNight\",\"BitTube\"],[\"NeoScrypt\",\"Dinero\"],[\"Scrypt\",\"Poseidon\"],[\"SHA-256\",\"Manna\"],[\"IMesh\",\"Aidos Kuneen\"],[\"Quark\",\"Cosmo\"],[\"X16S\",\"Reden\"],[\"Equihash\",\"Snowgem\"],[\"Equihash\",\"Bitrolium\"],[\"Equihash\",\"Bitcoin Interest\"],[\"PHI1612\",\"FOLM coin\"],[\"Lyra2Z\",\"Alpenschillling\"],[\"NeoScrypt\",\"Rapture\"],[\"Scrypt\",\"Uwezocoin\"],[\"X11\",\"FuturoCoin\"],[\"CryptoNight\",\"Monero Classic\"],[\"NIST5\",\"Jumpcoin\"],[\"Lyra2RE\",\"Infinex\"],[\"Tribus\",\"KEYCO\"],[\"Lyra2Z\",\"GINcoin\"],[\"CryptoNight\",\"PlatinCoin\"],[\"CryptoNight Heavy\",\"Loki\"],[\"CryptoNight\",\"Newton Coin\"],[\"Equihash\",\"ExchangeCoin\"],[\"Jump Consistent Hash\",\"MassGrid\"],[\"CryptoNight\",\"PluraCoin\"],[\"SHA-512\",\"Arionum\"],[\"X16R\",\"Motion\"],[\"HMQ1725\",\"PlusOneCoin\"],[\"X11\",\"Axe\"],[\"CryptoNight\",\"BitminerCoin\"],[\"Scrypt\",\"HexCoin\"],[\"Scrypt\",\"Deimos\"],[\"CryptoNight-V7\",\"Webchain\"],[\"Cryptonight-GPU\",\"Ryo\"],[\"XEVAN\",\"Urals Coin\"],[\"CryptoNight Heavy\",\"Qwertycoin\"],[\"CryptoNight\",\"Bitcoin Nova\"],[\"X11\",\"DACash\"],[\"Lyra2REv2\",\"NIX\"],[\"SHA-256\",\"Project Pai\"],[\"X11\",\"Azart\"],[\"X16R\",\"Xchange\"],[\"Equihash\",\"CrypticCoin\"],[\"Quark\",\"ZestCoin\"],[\"CryptoNight Heavy X\",\"X-CASH\"],[\"HMQ1725\",\"Brazio\"],[\"Lyra2Z\",\"Actinium\"],[\"Ethash\",\"ETHER-1\"],[\"SHA-256\",\"Bitcoin SV\"],[\"PHI1612\",\"Argoneum\"],[\"Ethash\",\"Bitcoiin2Gen\"],[\"CryptoNight\",\"FREDEnergy\"],[\"SkunkHash\",\"C25 Coin\"],[\"Argon2\",\"Aquachain\"],[\"Blake\",\"BlakeBitcoin\"],[\"Blake\",\"Universal Molecule\"],[\"Blake\",\"Lithium\"],[\"Blake\",\"Electron\"],[\"SHA-256\",\"Smart Bitcoin\"],[\"Exosis\",\"Exosis\"],[\"Scrypt\",\"Block-Logic\"],[\"Equihash\",\"Beam\"],[\"Equihash\",\"Bithereum\"],[\"Lyra2REv2\",\"Scribe Network\"],[\"QuBit\",\"SLICE\"],[\"Equihash1927\",\"Vidulum\"],[\"SHA-256\",\"BlockStamp\"],[\"SHA-256\",\"BLAST\"],[\"X13\",\"Bitcoin Rhodium\"],[\"SHA-256\",\"GlobalToken\"],[\"Ethash\",\"Media Protocol Token\"],[\"X11\",\"Boolberry\"],[\"Scrypt\",\"SolarCoin\"],[\"NeoScrypt\",\"UFO Coin\"],[\"Blake\",\"BlakeCoin\"],[\"CryptoNight\",\"FantomCoin \"],[\"Scrypt\",\"Crypto Escudo\"],[\"SHA-256\",\"Crown Coin\"],[\"CryptoNight\",\"Quazar Coin\"],[\"Scrypt\",\"SmileyCoin\"],[\"Groestl\",\"Groestlcoin\"],[\"Scrypt\",\"Bata\"],[\"Scrypt\",\"Pakcoin\"],[\"Scrypt\",\"Dotcoin\"],[\"Multiple\",\"JoinCoin\"],[\"Equihash+Scrypt\",\"Vollar\"],[\"Lyra2Z\",\"TecraCoin\"],[\"Ethash\",\"Reality Clash\"],[\"Ethash\",\"iOlite\"],[\"Equihash\",\"ChainZilla\"],[\"CryptoNight\",\"Beldex\"],[\"Equihash\",\"Horizen\"]],\"hovertemplate\":\"<b>%{hovertext}</b><br><br>class=%{marker.color}<br>PC 1=%{x}<br>PC 2=%{y}<br>PC 3=%{z}<br>Algorithm=%{customdata[0]}<br>CoinName=%{customdata[1]}<extra></extra>\",\"hovertext\":[\"SHA-256\",\"Scrypt\",\"Ethash\",\"Equihash\",\"Multiple\",\"Scrypt\",\"X11\",\"SHA-256\",\"Scrypt\",\"SHA-256\",\"Multiple\",\"Scrypt\",\"SHA-256\",\"Scrypt\",\"Scrypt\",\"Quark\",\"Groestl\",\"Scrypt\",\"X11\",\"Scrypt\",\"Scrypt\",\"Scrypt\",\"X11\",\"Multiple\",\"Scrypt\",\"SHA-256\",\"Scrypt\",\"Scrypt\",\"Scrypt\",\"Scrypt\",\"Scrypt\",\"Scrypt\",\"SHA-256\",\"Scrypt\",\"NeoScrypt\",\"Scrypt\",\"Scrypt\",\"Scrypt\",\"Multiple\",\"Scrypt\",\"SHA-256\",\"Scrypt\",\"Scrypt\",\"Scrypt\",\"Scrypt\",\"Scrypt\",\"HybridScryptHash256\",\"Scrypt\",\"SHA-256\",\"Scrypt\",\"SHA-256\",\"Scrypt\",\"Scrypt\",\"Scrypt\",\"Scrypt\",\"Scrypt\",\"Scrypt-n\",\"Scrypt\",\"SHA-256\",\"SHA-256\",\"SHA-256\",\"SHA-256\",\"SHA-256\",\"SHA-256\",\"Scrypt\",\"Lyra2REv2\",\"Scrypt\",\"SHA-256\",\"CryptoNight\",\"CryptoNight\",\"Scrypt\",\"SHA-256\",\"Scrypt\",\"Scrypt\",\"Scrypt\",\"Scrypt\",\"Scrypt\",\"Momentum\",\"Stanford Folding\",\"Scrypt\",\"Scrypt\",\"M7 POW\",\"Scrypt\",\"X11\",\"Scrypt\",\"SHA-256\",\"Scrypt\",\"X11\",\"X11\",\"Lyra2RE\",\"SHA-256\",\"X11\",\"Scrypt\",\"Scrypt\",\"Ethash\",\"X11\",\"SHA-256\",\"Scrypt\",\"Scrypt\",\"1GB AES Pattern Search\",\"Scrypt\",\"CryptoNight\",\"SHA-256\",\"SHA-256\",\"X11\",\"Scrypt-n\",\"X11\",\"Scrypt\",\"Dagger\",\"Scrypt\",\"CryptoNight-Lite\",\"X11GOST\",\"SHA-256\",\"Scrypt\",\"ScryptOG\",\"X11\",\"SHA-256\",\"Scrypt\",\"X11\",\"Equihash\",\"CryptoNight\",\"SHA-256\",\"Multiple\",\"Scrypt\",\"SHA-256\",\"Scrypt\",\"Scrypt\",\"Scrypt-n\",\"Lyra2Z\",\"SHA-256\",\"Quark\",\"Ethash\",\"SHA-256\",\"Equihash\",\"Scrypt\",\"Equihash\",\"X11\",\"X11\",\"CryptoNight\",\"Scrypt\",\"CryptoNight\",\"Lyra2RE\",\"X11\",\"X11\",\"Scrypt\",\"CryptoNight-V7\",\"Keccak\",\"Scrypt\",\"X11\",\"Equihash\",\"Scrypt\",\"Lyra2RE\",\"Ethash\",\"X11\",\"Dagger-Hashimoto\",\"Scrypt\",\"NIST5\",\"Scrypt\",\"Scrypt\",\"Scrypt\",\"SHA-256\",\"Scrypt\",\"CryptoNight-V7\",\"Blake2b\",\"Cloverhash\",\"CryptoNight\",\"X11\",\"Scrypt\",\"Scrypt\",\"X11\",\"X11\",\"CryptoNight\",\"Time Travel\",\"Scrypt\",\"Keccak\",\"X11\",\"SHA-256\",\"Scrypt\",\"Scrypt\",\"Scrypt\",\"Scrypt\",\"Scrypt\",\"Scrypt\",\"Scrypt\",\"CryptoNight\",\"Equihash\",\"X11\",\"NeoScrypt\",\"Equihash\",\"Dagger\",\"Scrypt\",\"X11\",\"NeoScrypt\",\"Scrypt\",\"Ethash\",\"Scrypt\",\"NeoScrypt\",\"SHA-256\",\"Multiple\",\"Scrypt\",\"CryptoNight\",\"CryptoNight\",\"Ethash\",\"Scrypt\",\"X11\",\"SHA-256\",\"CryptoNight-V7\",\"Scrypt\",\"BLAKE256\",\"X11\",\"NeoScrypt\",\"NeoScrypt\",\"NeoScrypt\",\"Scrypt\",\"X11\",\"SHA-256\",\"C11\",\"NeoScrypt\",\"Ethash\",\"Scrypt\",\"CryptoNight\",\"SkunkHash\",\"CryptoNight\",\"Equihash\",\"Skein\",\"Scrypt\",\"Dagger\",\"Lyra2REv2\",\"Scrypt\",\"Scrypt\",\"Scrypt\",\"NeoScrypt\",\"Equihash\",\"X11\",\"Ethash\",\"X11\",\"CryptoNight\",\"NeoScrypt\",\"Scrypt\",\"SHA-256\",\"IMesh\",\"Quark\",\"X16S\",\"Equihash\",\"Equihash\",\"Equihash\",\"PHI1612\",\"Lyra2Z\",\"NeoScrypt\",\"Scrypt\",\"X11\",\"CryptoNight\",\"NIST5\",\"Lyra2RE\",\"Tribus\",\"Lyra2Z\",\"CryptoNight\",\"CryptoNight Heavy\",\"CryptoNight\",\"Equihash\",\"Jump Consistent Hash\",\"CryptoNight\",\"SHA-512\",\"X16R\",\"HMQ1725\",\"X11\",\"CryptoNight\",\"Scrypt\",\"Scrypt\",\"CryptoNight-V7\",\"Cryptonight-GPU\",\"XEVAN\",\"CryptoNight Heavy\",\"CryptoNight\",\"X11\",\"Lyra2REv2\",\"SHA-256\",\"X11\",\"X16R\",\"Equihash\",\"Quark\",\"CryptoNight Heavy X\",\"HMQ1725\",\"Lyra2Z\",\"Ethash\",\"SHA-256\",\"PHI1612\",\"Ethash\",\"CryptoNight\",\"SkunkHash\",\"Argon2\",\"Blake\",\"Blake\",\"Blake\",\"Blake\",\"SHA-256\",\"Exosis\",\"Scrypt\",\"Equihash\",\"Equihash\",\"Lyra2REv2\",\"QuBit\",\"Equihash1927\",\"SHA-256\",\"SHA-256\",\"X13\",\"SHA-256\",\"Ethash\",\"X11\",\"Scrypt\",\"NeoScrypt\",\"Blake\",\"CryptoNight\",\"Scrypt\",\"SHA-256\",\"CryptoNight\",\"Scrypt\",\"Groestl\",\"Scrypt\",\"Scrypt\",\"Scrypt\",\"Multiple\",\"Equihash+Scrypt\",\"Lyra2Z\",\"Ethash\",\"Ethash\",\"Equihash\",\"CryptoNight\",\"Equihash\"],\"legendgroup\":\"1\",\"marker\":{\"color\":[1,1,1,1,1,1,1,1,1,1,1,1,1,1,1,1,1,1,1,1,1,1,1,1,1,1,1,1,1,1,1,1,1,1,1,1,1,1,1,1,1,1,1,1,1,1,1,1,1,1,1,1,1,1,1,1,1,1,1,1,1,1,1,1,1,1,1,1,1,1,1,1,1,1,1,1,1,1,1,1,1,1,1,1,1,1,1,1,1,1,1,1,1,1,1,1,1,1,1,1,1,1,1,1,1,1,1,1,1,1,1,1,1,1,1,1,1,1,1,1,1,1,1,1,1,1,1,1,1,1,1,1,1,1,1,1,1,1,1,1,1,1,1,1,1,1,1,1,1,1,1,1,1,1,1,1,1,1,1,1,1,1,1,1,1,1,1,1,1,1,1,1,1,1,1,1,1,1,1,1,1,1,1,1,1,1,1,1,1,1,1,1,1,1,1,1,1,1,1,1,1,1,1,1,1,1,1,1,1,1,1,1,1,1,1,1,1,1,1,1,1,1,1,1,1,1,1,1,1,1,1,1,1,1,1,1,1,1,1,1,1,1,1,1,1,1,1,1,1,1,1,1,1,1,1,1,1,1,1,1,1,1,1,1,1,1,1,1,1,1,1,1,1,1,1,1,1,1,1,1,1,1,1,1,1,1,1,1,1,1,1,1,1,1,1,1,1,1,1,1,1,1,1,1,1,1,1,1,1,1,1,1,1,1,1,1,1,1,1,1,1,1,1,1,1,1,1,1,1],\"coloraxis\":\"coloraxis\",\"symbol\":\"diamond\"},\"mode\":\"markers\",\"name\":\"1\",\"scene\":\"scene\",\"showlegend\":true,\"type\":\"scatter3d\",\"x\":[-0.19719899491250806,-0.28849323705548596,-0.3198932446127653,-0.4642418335379012,-0.08822357087860802,-0.28932074907285177,-0.27188353817752675,-0.1974580260115877,-0.2892277334562588,-0.19745802609129515,-0.22863915380153413,-0.2894051013398202,-0.19499872994857437,-0.28754101857299513,-0.28929778269023493,-0.1360490455103845,-0.38328341068116045,-0.28892087555798,-0.2720446415563927,-0.2894040958512394,-0.2892997741172273,-0.2893361290913028,-0.2719724397050602,-0.022865878122462456,-0.28940409578428516,0.07380685036555026,-0.10822692266059658,-0.2891019586946363,-0.289404095975573,-0.28624159945978356,-0.2891223852766246,-0.2894043579748668,-0.19745802601421608,-0.2893875843824265,-0.2864395567170302,-0.2766292968261727,-0.28845518570171236,-0.28880216691390126,-0.2530328660148285,1.0196207687753076,-0.19715330441373538,-0.28721581756952214,-0.28912484833854646,-0.289388139026553,-0.28940409599393474,-0.28885283466517875,-0.5559327826443207,-0.2893202303959742,-0.19745802613849053,-0.2552166584961287,-0.19724509866937098,-0.2845678569841056,-0.2894040958103892,-0.2893881417772734,-0.28905420938481524,-0.2890342900089117,-0.318542887551674,-0.289404095833987,-0.1893183347085279,-0.19682895951145649,-0.19712663079168202,-0.19745802601427526,-0.19742510905009691,-0.19745512301790072,-0.2890695867924577,-0.3268007080595714,-0.2876758864546431,-0.19689168382995392,2.4707206714960246,-0.08908101523297497,-0.2884187458779456,-0.19745802601001458,-0.28340726437347735,-0.28741709289977047,-0.2894014672204752,-0.2872039254843041,-0.27795266585537803,-0.2983345734053241,-0.2505520416674216,-0.28925758149465447,-0.22278895045805058,-0.3701528491978013,-0.28940409599917055,-0.2720446415878562,-0.28939514489460694,-0.19727795269395246,-0.28940306240267355,-0.2720446415878562,-0.27157906953988925,-0.33076007486032055,-0.197244942705221,-0.27181542373092876,-0.2889335577702765,-0.2883115366257604,-0.32137954020702986,-0.2718153679805005,-0.19715463188136556,-0.289404139041256,-0.28636978994891416,-0.29282937726837355,-0.28839502874284745,-0.18887481217849697,0.11666446747381719,-0.19745802604672216,-0.2720446474007403,-0.3185429005303725,-0.27139283913136103,-0.2894041508400734,-0.40415895164322935,-0.28939489992316303,-0.22815927688079116,-0.44814974878682223,-0.1974580261175149,-0.28930915371898974,-0.2564089765919721,-0.27184735266379645,-0.19745802601374096,-0.28939518867530517,-0.2720247319366659,-0.7498455608643874,-0.18876178521574194,-0.19736780830172204,-0.2385837910480902,-0.2877157904896711,-0.19732644241434913,-0.28924343366945393,-0.28940409600834727,-0.3185428874467953,-0.26966158379386773,-0.1974580312513114,-0.13979940691520987,-0.32115254144477573,-0.19745802626958875,-0.46426740127175015,-0.28656779730371684,-0.4643485118935736,-0.26013860253786625,-0.2711579771294638,-0.18886067889178812,-0.28939117793463204,-0.18873961090128646,-0.33093153602107184,-0.2720446417652054,-0.26428600782385137,-0.2894040958313648,-0.3254241563329081,-0.2884282265391637,-0.28935908318189424,-0.2716056010856687,-0.4642485003659778,-0.2879614508462839,-0.3306906755394804,-0.321531188445912,-0.27204464205194306,-0.3957957637305023,-0.28847797741173326,-0.23225482704557265,-0.289404095833987,-0.28911112493389496,-0.2894040957815477,-0.17841779614657627,-0.28920652785159706,-0.3245851458698802,-0.19398949063232596,-0.39769001762613815,-0.162729685481036,-0.27153691597280816,-0.2891420878804708,-0.28932942639149606,-0.27166835350443375,-0.2720067432664796,-0.18867018727550627,-0.4319585639667497,2.066591202388112,-0.2560477233449551,-0.2702749843329304,-0.19719800638393606,-0.2894040984271048,-0.2893971124145655,-0.2894040984008853,-0.289263881371563,-0.2891519054125842,-0.2889323808774501,-0.2889169233269586,-0.18874554147613082,-0.38904642735798145,-0.23299087383084124,-0.289394437518073,-0.46409995363636347,-0.40375026078562365,-0.287959332710026,-0.2695129348049694,-0.2893625153405592,-0.28940409656551364,-0.3213468702455179,-0.28940409605449385,-0.28937036046413317,-0.19745802679398056,-0.24607230510247116,-0.28940409584971877,0.08972950664615453,-0.1888097913118914,-0.31400480751245613,-0.28932084749310993,-0.27088414780356385,-0.1974580260624538,-0.3192069959665312,-0.23212505582432244,0.45866390598511697,-0.2719835358171274,-0.2893412439476159,-0.2893970936810544,-0.28512282914068193,-0.28874690781900736,-0.2719221407707151,-0.1971666459532592,-0.3485983290785736,-0.28945463196882715,-0.14745585829338823,-0.28914935064659164,0.5789441899790462,-0.20901792496785696,-0.18693961233711057,-0.4643485118935736,-0.2522629846024144,-0.14491334196884811,-0.4026905900225705,-0.3182378665067769,-0.2892242612140313,-0.08002234633012842,-0.2894041508400734,-0.2894546319203206,-0.4643485118935736,-0.2689915867517749,-0.31795343264801973,-0.27204464155901464,-0.18771817930911894,-0.2894546320999249,-0.2893452850211532,-0.16335131684823107,-0.2600405848295039,-0.13967039258031155,-0.3285820694011107,-0.46434851205900823,-0.46331749116893733,-0.46434851189698195,-0.2732496647592977,-0.26937589416946633,-0.28938991589864976,-0.2894040979813719,-0.27158513997023126,-0.1886433832610754,-0.2320966652530889,-0.33088498773380043,-0.06973310295617742,-0.26966999141712417,-0.1888735956460317,0.223644499007134,0.4077924462500622,-0.46434851192241505,-0.4999843090539681,-0.1807820891374288,0.10668880688963302,-0.22693902600498692,-0.23362222517905473,-0.2719724968663751,-0.18887481226122818,-0.28938362636174036,-0.28551521646409694,-0.3253575374601382,-0.38782569571782527,-0.12500594647217741,1.6618179228734444,-0.18187489822742464,-0.2716587177870738,-0.3275401214252986,-0.16711496770727624,-0.2719721667056662,-0.2269155047200239,-0.40315507529284383,-0.1397994066616665,-0.38456883843004086,-0.23265508550902783,-0.2695739276329169,-0.3215311872890189,-0.19719805081485073,-0.27304781726692806,-0.3215311875153826,-0.16189761181566217,-0.2090875454962306,-0.3057095331598068,-0.33176206457338975,-0.3320368458367702,-0.33183067982569914,-0.3317106233745749,-0.19745802606245322,-0.5333655476593229,-0.28889426446280186,-0.46383286076735064,-0.4639851062290704,-0.32745284018669596,-0.17512841471416843,-0.408796693672903,-0.19745802628269835,-0.19670242845068867,-0.10404631046174387,-0.19623544516590902,-0.1770404334431087,-0.27204464154970676,-0.2886014888701966,-0.23419147025039905,-0.3317221845419058,-0.18887481217837443,-0.27813077313783574,-0.19712588618611077,-0.18887481217849683,0.13805714248894188,-0.3829402506424188,-0.2893310910174358,-0.2883972201238943,-0.2894040981124696,-0.2529847082548674,-0.2742940062203947,-0.26918034082234277,-0.3211773591030204,-0.3215311898751462,-0.836690417663134,-0.17471150306603112,-0.4642430836540845],\"y\":[-1.5095326545851284,-0.950524465276153,-2.0392861373486215,-1.8648411753773735,-1.8127080915233669,-0.9504137423000917,-0.8081966863442062,-1.509497995635197,-0.9504261875391777,-1.5094979952348677,-1.7939202760504571,-0.950397533894181,-1.5098270552443682,-0.9506518730602302,-0.9504168142637313,-0.6594742974291357,-1.544629763233172,-0.9504672463211157,-0.8081751301783867,-0.950402590147309,-0.9504165488169737,-0.9504116845046418,-0.8081847910580051,-1.821453219116263,-0.9504025904835858,-1.5457938440432102,-0.9746445090478737,-0.9504430171601304,-0.9504025895228487,-0.9508257389008667,-0.9504402838764163,-0.9504012736390299,-1.5094979956219967,-0.9504047996447222,-1.6324440539293428,-0.9521118817070143,-0.9505295568497732,-0.9504831296128733,-1.7906563435794702,-1.1255531886690935,-1.5095387681216048,-0.9506953858083331,-0.9504399544645818,-0.9504047255582602,-0.9504025894306257,-0.9504763504916103,-2.046656216843374,-0.9504138118417317,-1.509497994997831,-0.9549767878917801,-1.5095264857533945,-0.9510496905790444,-0.9504025903524775,-0.9504047249383333,-0.9504494032368799,-0.9504520710619788,-2.167655407452109,-0.9504025902339591,-1.51058710128853,-1.5095821661848436,-1.509542336869306,-1.5094979956216992,-1.509502399026155,-1.509498384082443,-0.9504473485996766,-1.5592624252249838,-0.9506338271039239,-1.5095737734940056,-2.6195383669355623,-2.2770308607299317,-0.9505344321658526,-1.5094979956430985,-0.9512049644085663,-0.950668455787762,-0.9504029421864364,-0.9506969783590591,-0.9519348160432712,-2.1399528578396336,-2.2371437096935787,-0.9504221945522615,-0.9593157841679935,-2.2672363356136196,-0.9504025894043302,-0.8081751300203622,-0.9504037881598253,-1.5095220897786759,-0.9504015495338826,-0.8081751300203622,-0.8082374250657541,-2.184437289270589,-1.5095265062019887,-0.8082058002645834,-0.9504655473226573,-0.9505487752533885,-2.039087268667397,-0.8082058077882605,-1.5095385905021432,-0.9504023732267092,-0.9508085877498814,-2.001248989116604,-0.9505376058659297,-2.2636782559692468,-1.551528323759903,-1.5094979954587364,-0.8081751008253217,-2.16765534226697,-0.8082623426428578,-0.9504023139674932,-2.1860191380193292,-0.9504038187878291,-2.013384220260685,-2.2492337250200665,-1.5094979951031808,-0.950415293808748,-2.179591314690113,-0.8082015280188554,-1.5094979956243824,-0.9504037823018652,-0.8081777940986101,-0.9394159490052275,-2.263693379450592,-1.5095100669521995,-1.7925896616863337,-0.9506284886535684,-1.5095156018301163,-0.9504240872356949,-0.95040258935824,-2.167655407978857,-1.9279183690660764,-1.5094979693188375,-0.6589724884977705,-2.0391176417165657,-1.5094979943393958,-1.864837754331909,-0.9507819682384506,-1.8648269014684475,-0.8097681905561102,-0.8082937660923347,-2.263680147015979,-0.9504043189250462,-2.263696346253296,-2.1844143479279805,-0.8081751291296301,-0.8092119789388217,-0.950402590247128,-2.261161690448037,-1.5048225076154034,-0.9504086132984603,-0.8082338626642441,-1.8648402833854858,-0.9505956197853276,-2.184446575698216,-2.0390669720285644,-0.8081751276894996,-2.256056403433815,-0.9505264568709776,-0.5730142837679,-0.9504025902339591,-0.9504417905015587,-0.9504025904973333,-1.512045607931326,-0.950429024815104,-2.261273953786265,-2.1351084182991564,-2.0902800099544625,-2.26717653305931,-0.8082430644905295,-0.9504376477674003,-0.950412580554634,-0.8082254782365255,-0.8081802011190342,-2.2637056349871805,-2.1596375507407184,-1.2656398156684527,-1.509155061026052,-0.8084119022063685,-1.5095327868534538,-0.9504025772101005,-0.9504033903194087,-0.9504025773417877,-0.9504213513952171,-0.9504363333202448,-0.9504657062077667,-0.9504677744780027,-2.263695551904285,-1.8749022949534966,-0.8134006277729254,-1.6320486852846228,-1.8648601593669465,-2.1860738205585464,-0.9505959031988078,-0.8085138765106253,-1.6320529563444692,-0.9504025865598876,-2.0390916366415777,-0.9504025891264704,-1.6320519068107633,-1.5094979917056526,-1.7915876812142648,-0.9504025901549473,-2.3009553253790855,-2.2636869560476605,-2.0400739037851077,-0.9504137281185291,-0.8083304012141762,-1.5094979953797236,-2.2619935561676,-0.9580666471721998,-1.1872204469831535,-0.80818330633926,-1.6320558028332524,-1.6320483298173376,-1.6326202342344125,-0.9504905235641363,-0.808191521153967,-1.5095369829911685,-1.1448001686894245,-1.632040630777668,-0.14588532730945863,-0.9504366759252686,-2.366402103461052,-1.507135128782679,-2.2639371878949084,-1.8648269014684475,-0.592455602880955,-0.9697357923857048,-2.1862156086547,-1.560408148088741,-0.9504266524440441,-0.9784183096600371,-0.9504023139674932,-1.6320406310212894,-1.8648269014684475,-0.8085836326431789,-2.0395456098371505,-0.808175130165218,-2.2638330046055692,-1.6320406301192318,-0.9504104593108745,-1.5140614548706344,-2.1252799091165056,-0.6589897524955567,-2.218620377142133,-1.8648269006375529,-1.8649648547470135,-1.8648269014513275,-1.0042548409982808,-1.927956591690502,-1.6320492903688286,-0.9504025794487819,-0.8082366119637474,-2.263709221907295,-0.5730354466764457,-2.1844205760306505,-1.1673021131742858,-1.9279172442386137,-2.2636784112909325,-2.4044389503759778,-2.343511906147236,-1.864826901323591,-2.030500764027429,-2.2647610758975945,-0.7240396252303762,-1.2882895198192348,-2.176158349486063,-0.8081847833711825,-2.2636782555537303,-0.9504053291013645,-0.9509229223191837,-2.261170584208623,-2.1047449028600904,-0.6339604095716423,-2.5968688420651223,-2.2646148545078804,-0.808226767654843,-1.5591634881594132,-1.5135579680500593,-0.8081848274964812,-1.288292666044392,-1.8730146840008157,-0.6589724897711852,-2.017661452079872,-2.1762877535169207,-1.9279300969414372,-2.039066977839025,-1.5095327809084536,-1.0042818483199019,-2.0390669767021206,-2.2672877892733925,-1.5071258134654604,-2.04608302318765,-1.8893463915000857,-1.8893096238003309,-1.8893372105032626,-1.889353185042775,-1.5094979953797267,-2.243188471404394,-0.9504708060509344,-1.8648958941570686,-1.8648755261946706,-1.5591751684953379,-1.1879604935573536,-2.0413369200459375,-1.5094979942735522,-1.5095990962321473,-0.32448488987924917,-1.5096615787725278,-2.058400179894194,-0.808175130211967,-0.9505087244752071,-1.6394349698720367,-1.889351638121204,-2.2636782559698623,-0.9519109847129891,-1.5095424364999388,-2.2636782559692468,-1.0075976454432691,-1.5446756788867477,-0.9504123587195524,-0.9505373113959071,-0.950402578790346,-1.790662787745927,-2.067065769296037,-1.9279827585142555,-2.039114321055663,-2.0390669648502775,-0.9041565326496201,-2.265573334812483,-1.8648410081077809],\"z\":[0.15218612891612668,-0.04191858101555111,0.32729861174023794,0.27631249024515,0.2417985476911778,-0.041883297294874444,0.06071826652613663,0.15219717356389176,-0.04188726362201437,0.1521971733153409,0.24778570086086227,-0.04188288305364397,0.15209231347367524,-0.04195918278511865,-0.041884277183049164,-0.02268401129863375,0.03869068118137072,-0.04190034720186383,0.06072513559332211,-0.041879743635542976,-0.04188419161847112,-0.04188264146131651,0.06072205709823384,0.23901188367125673,-0.04187974342675992,0.14063089258845662,-0.04960483092892752,-0.04189262601058106,-0.04187974402324964,-0.04201458742346746,-0.041891755159533896,-0.04188056101144983,0.15219717355569595,-0.041880447510927836,0.10797350864786862,-0.04242444306545688,-0.041920203321239226,-0.0419054088634649,0.2488258085591551,-0.09769428698484853,0.15218418077893878,-0.04197304873158345,-0.041891650040816394,-0.04188042378025331,-0.041879744080507895,-0.041903248257064714,0.09964376642913374,-0.04188331931889102,0.15219717316817252,-0.04333754098387956,0.15218809467369634,-0.04208595223995166,-0.0418797435081607,-0.04188042382582444,-0.041894663828624834,-0.04189551149712738,0.3221419011672939,-0.041879743581744774,0.15185010860597176,0.15217035124687128,0.15218304330334156,0.15219717355551107,0.15219576941102014,0.15219704979814344,-0.041894006290195504,0.20895261964445483,-0.04195343245837363,0.15217302568341753,0.23804176009902508,0.34718722964003346,-0.04192175732211401,0.1521971735687973,-0.04213544835516574,-0.04196446599623174,-0.041879855507481946,-0.04197355490888564,-0.04236801418482029,0.35443460461793913,0.3626971627243717,-0.04188599046821131,-0.04472014201646853,0.25712322047344993,-0.04187974409683363,0.06072513549520993,-0.04188012506018827,0.15218949549331948,-0.041880549949185254,0.06072513549520993,0.060705284579864044,0.3003121309945491,0.152188087752237,0.06071536227538151,-0.04189980780490124,-0.04192632967741024,0.32736198554717827,0.06071535993975129,0.1521842373790883,-0.04187987831427972,-0.04200912093330842,0.39573024858985895,-0.041922768390862876,0.35144228906294234,0.13880353772597828,0.15219717345433295,0.06072511736898703,0.3221418606960245,0.06069734372328174,-0.04187991510634283,0.3948798828229442,-0.04188013689533326,0.2630918952577596,0.2722566254192277,0.15219717323358073,-0.04188379168565749,0.265157498258991,0.06071672361808222,0.1521971735571772,-0.04188012319345546,0.060724286660032885,0.20180953559149387,0.3514374699246654,0.15219332682196976,0.24820972382325016,-0.04195173050041538,0.15219156306872555,-0.041886593919449766,-0.0418797441254497,0.3221419014943344,0.25284903739739417,0.15219715722494512,-0.022524103559378863,0.3273523067678913,0.1521971727593718,0.27631358039419246,-0.042000759495296074,0.27631703876351377,0.06021748565611287,0.060687328557267536,0.35144168643112367,-0.041880294219548225,0.35143652433886474,0.3003194421642557,0.060725134942184386,0.06039349678842321,-0.04187974357356881,0.3383016804400308,0.17469720445731765,-0.04188166267092739,0.06070640780930315,0.27631277453643555,-0.04194125528219423,0.30030917233921917,0.327368447847357,0.06072513404805549,0.2617474325169905,-0.04191926410652339,-0.1711764311608776,-0.041879743581744774,-0.0418922353036811,-0.041879743418224605,0.15138532149261302,-0.041888167846254994,0.33826590763738335,0.48918889186565767,0.36137491015286427,0.3503275049065281,0.06070348669397377,-0.04189091498062678,-0.04188292776161825,0.060709091217844666,0.06072351971529619,0.3514335640356789,0.19584769136819863,-0.14233559151709566,0.17331653420511042,0.06064967255964871,0.15218608676756104,-0.04187975166782265,-0.04188012818654084,-0.041879751586062525,-0.041885721993845396,-0.041890496920177,-0.04189985707124158,-0.041900516145444204,0.35143677667536116,0.27310615816836703,0.05905995851742108,0.10809950049208115,0.2763064408142942,0.3948624561431938,-0.041941345594625395,0.060617186746108095,0.10809813925508137,-0.0418797458628527,0.3273605903951097,-0.041879744269347575,0.10809847386240537,0.15219717112416897,0.24852902121843853,-0.041879743630800846,0.33956254095616967,0.35143951677285673,0.3270474612634679,-0.04188329375319903,0.06067565043945197,0.15219717340527694,0.33803658835084976,-0.04432203063724295,0.11819488383531272,0.06072253019587116,0.10809723249099032,0.10809961370328851,0.10791736507015265,-0.041907764915128605,0.06071991242656617,0.1521847496382396,0.015363234014363108,0.1081020668536234,0.12781745654239643,-0.041890605352221645,0.3186959749746609,0.17684168490179525,0.35135977398563395,0.27631703876351377,-0.022571320031291073,-0.04804057785099609,0.3948172746993335,0.20858751146445234,-0.041887411471484885,-0.050807449499953104,-0.04187991510634283,0.10810206700487977,0.27631703876351377,0.06059495642772742,0.3272158505141595,0.060725135585146105,0.3513929647775385,0.10810206644482273,-0.041882251138785735,0.15074285913257415,0.3347475008945566,-0.02252960348652803,0.3454712589846355,0.27631703824763976,0.27627307801826706,0.2763170387528847,0.08406153101033025,0.25283685394357225,0.10809930775041346,-0.04187975027790014,0.06070554285369104,0.35143242146954196,-0.1711831745880515,0.30031745731801834,0.19171742325269522,0.2528493959693417,0.3514422323730054,0.1394883735068603,0.32600025233744606,0.2763170386735777,0.26801871272253774,0.35109722593447323,-0.058066011368785184,0.1779326593271261,0.31890606962856244,0.06072205951059674,0.35144228880496275,-0.0418806163618597,-0.04204556451760382,0.33829882699495273,0.28285633009095085,0.0756705629227258,0.07816645732562302,0.3511438207866113,0.06070868045602013,0.2089841457660566,0.1509033983443742,0.060722045400156445,0.17793165578811382,0.2737078293423247,-0.022524102768758197,0.3396617582558677,0.31886483148830974,0.2528452994226065,0.32736845145487736,0.15218608866199246,0.08405292436030622,0.32736845074901116,0.35029197681998997,0.17684465344712816,0.4464843328030563,0.3552520295845742,0.35526374492495755,0.3552549551451912,0.3552497784102163,0.15219717340527886,0.23943445198715071,-0.041901482432762246,0.2762950505881024,0.276301543904534,0.20898042547526272,0.11912767827480593,0.4076592109949065,0.1521971727184917,0.1521649561142889,-0.02171135234502827,0.15214504416513736,0.32120761712566503,0.06072513561417102,-0.04191477774635369,0.10574574071427598,0.35525027135165255,0.35144228906332453,-0.04236042010222452,0.15218301155508215,0.35144228906294245,-0.060106116363765755,0.03867604945693859,-0.041882856205671386,-0.04192267576764852,-0.04187975068670094,0.24882375554853217,0.50274913853128,0.25282851674703116,0.3273533649496754,0.3273684433905988,0.32313328542699976,0.35083838686753016,0.27631254354721685]},{\"customdata\":[[\"VeChainThor Authority\",\"Vechain\"],[\"Proof-of-BibleHash\",\"BiblePay\"],[\"SHA-256 + Hive\",\"LitecoinCash\"],[\"Proof-of-Authority\",\"Poa Network\"],[\"ECC 256K1\",\"Acute Angle Cloud\"],[\"SHA3-256\",\"Fiii\"],[\"Leased POS\",\"Waves\"]],\"hovertemplate\":\"<b>%{hovertext}</b><br><br>class=%{marker.color}<br>PC 1=%{x}<br>PC 2=%{y}<br>PC 3=%{z}<br>Algorithm=%{customdata[0]}<br>CoinName=%{customdata[1]}<extra></extra>\",\"hovertext\":[\"VeChainThor Authority\",\"Proof-of-BibleHash\",\"SHA-256 + Hive\",\"Proof-of-Authority\",\"ECC 256K1\",\"SHA3-256\",\"Leased POS\"],\"legendgroup\":\"0\",\"marker\":{\"color\":[0,0,0,0,0,0,0],\"coloraxis\":\"coloraxis\",\"symbol\":\"square\"},\"mode\":\"markers\",\"name\":\"0\",\"scene\":\"scene\",\"showlegend\":true,\"type\":\"scatter3d\",\"x\":[8.590838178955261,-0.592843758023022,-0.3658536490409142,1.0525926390140354,0.5219308171669634,-1.2005191836892215,-0.019969880728165253],\"y\":[-0.006422305781397662,4.111679332099908,2.8016288120985866,2.2376302958133403,4.036894147636145,3.4874244067402977,1.870545671700873],\"z\":[10.877991042334731,14.22703605300971,19.03495759655232,11.308577612590668,17.167815616181368,7.394031961601486,12.562976372661332]},{\"customdata\":[[\"TRC10\",\"BitTorrent\"]],\"hovertemplate\":\"<b>%{hovertext}</b><br><br>class=%{marker.color}<br>PC 1=%{x}<br>PC 2=%{y}<br>PC 3=%{z}<br>Algorithm=%{customdata[0]}<br>CoinName=%{customdata[1]}<extra></extra>\",\"hovertext\":[\"TRC10\"],\"legendgroup\":\"2\",\"marker\":{\"color\":[2],\"coloraxis\":\"coloraxis\",\"symbol\":\"x\"},\"mode\":\"markers\",\"name\":\"2\",\"scene\":\"scene\",\"showlegend\":true,\"type\":\"scatter3d\",\"x\":[33.63778143771981],\"y\":[-3.48213716005732],\"z\":[-1.7626090420170482]}],                        {\"coloraxis\":{\"colorbar\":{\"title\":{\"text\":\"class\"}},\"colorscale\":[[0.0,\"#0d0887\"],[0.1111111111111111,\"#46039f\"],[0.2222222222222222,\"#7201a8\"],[0.3333333333333333,\"#9c179e\"],[0.4444444444444444,\"#bd3786\"],[0.5555555555555556,\"#d8576b\"],[0.6666666666666666,\"#ed7953\"],[0.7777777777777778,\"#fb9f3a\"],[0.8888888888888888,\"#fdca26\"],[1.0,\"#f0f921\"]]},\"legend\":{\"title\":{\"text\":\"class\"},\"tracegroupgap\":0,\"x\":0,\"y\":1},\"margin\":{\"t\":60},\"scene\":{\"domain\":{\"x\":[0.0,1.0],\"y\":[0.0,1.0]},\"xaxis\":{\"title\":{\"text\":\"PC 1\"}},\"yaxis\":{\"title\":{\"text\":\"PC 2\"}},\"zaxis\":{\"title\":{\"text\":\"PC 3\"}}},\"template\":{\"data\":{\"bar\":[{\"error_x\":{\"color\":\"#2a3f5f\"},\"error_y\":{\"color\":\"#2a3f5f\"},\"marker\":{\"line\":{\"color\":\"#E5ECF6\",\"width\":0.5},\"pattern\":{\"fillmode\":\"overlay\",\"size\":10,\"solidity\":0.2}},\"type\":\"bar\"}],\"barpolar\":[{\"marker\":{\"line\":{\"color\":\"#E5ECF6\",\"width\":0.5},\"pattern\":{\"fillmode\":\"overlay\",\"size\":10,\"solidity\":0.2}},\"type\":\"barpolar\"}],\"carpet\":[{\"aaxis\":{\"endlinecolor\":\"#2a3f5f\",\"gridcolor\":\"white\",\"linecolor\":\"white\",\"minorgridcolor\":\"white\",\"startlinecolor\":\"#2a3f5f\"},\"baxis\":{\"endlinecolor\":\"#2a3f5f\",\"gridcolor\":\"white\",\"linecolor\":\"white\",\"minorgridcolor\":\"white\",\"startlinecolor\":\"#2a3f5f\"},\"type\":\"carpet\"}],\"choropleth\":[{\"colorbar\":{\"outlinewidth\":0,\"ticks\":\"\"},\"type\":\"choropleth\"}],\"contour\":[{\"colorbar\":{\"outlinewidth\":0,\"ticks\":\"\"},\"colorscale\":[[0.0,\"#0d0887\"],[0.1111111111111111,\"#46039f\"],[0.2222222222222222,\"#7201a8\"],[0.3333333333333333,\"#9c179e\"],[0.4444444444444444,\"#bd3786\"],[0.5555555555555556,\"#d8576b\"],[0.6666666666666666,\"#ed7953\"],[0.7777777777777778,\"#fb9f3a\"],[0.8888888888888888,\"#fdca26\"],[1.0,\"#f0f921\"]],\"type\":\"contour\"}],\"contourcarpet\":[{\"colorbar\":{\"outlinewidth\":0,\"ticks\":\"\"},\"type\":\"contourcarpet\"}],\"heatmap\":[{\"colorbar\":{\"outlinewidth\":0,\"ticks\":\"\"},\"colorscale\":[[0.0,\"#0d0887\"],[0.1111111111111111,\"#46039f\"],[0.2222222222222222,\"#7201a8\"],[0.3333333333333333,\"#9c179e\"],[0.4444444444444444,\"#bd3786\"],[0.5555555555555556,\"#d8576b\"],[0.6666666666666666,\"#ed7953\"],[0.7777777777777778,\"#fb9f3a\"],[0.8888888888888888,\"#fdca26\"],[1.0,\"#f0f921\"]],\"type\":\"heatmap\"}],\"heatmapgl\":[{\"colorbar\":{\"outlinewidth\":0,\"ticks\":\"\"},\"colorscale\":[[0.0,\"#0d0887\"],[0.1111111111111111,\"#46039f\"],[0.2222222222222222,\"#7201a8\"],[0.3333333333333333,\"#9c179e\"],[0.4444444444444444,\"#bd3786\"],[0.5555555555555556,\"#d8576b\"],[0.6666666666666666,\"#ed7953\"],[0.7777777777777778,\"#fb9f3a\"],[0.8888888888888888,\"#fdca26\"],[1.0,\"#f0f921\"]],\"type\":\"heatmapgl\"}],\"histogram\":[{\"marker\":{\"pattern\":{\"fillmode\":\"overlay\",\"size\":10,\"solidity\":0.2}},\"type\":\"histogram\"}],\"histogram2d\":[{\"colorbar\":{\"outlinewidth\":0,\"ticks\":\"\"},\"colorscale\":[[0.0,\"#0d0887\"],[0.1111111111111111,\"#46039f\"],[0.2222222222222222,\"#7201a8\"],[0.3333333333333333,\"#9c179e\"],[0.4444444444444444,\"#bd3786\"],[0.5555555555555556,\"#d8576b\"],[0.6666666666666666,\"#ed7953\"],[0.7777777777777778,\"#fb9f3a\"],[0.8888888888888888,\"#fdca26\"],[1.0,\"#f0f921\"]],\"type\":\"histogram2d\"}],\"histogram2dcontour\":[{\"colorbar\":{\"outlinewidth\":0,\"ticks\":\"\"},\"colorscale\":[[0.0,\"#0d0887\"],[0.1111111111111111,\"#46039f\"],[0.2222222222222222,\"#7201a8\"],[0.3333333333333333,\"#9c179e\"],[0.4444444444444444,\"#bd3786\"],[0.5555555555555556,\"#d8576b\"],[0.6666666666666666,\"#ed7953\"],[0.7777777777777778,\"#fb9f3a\"],[0.8888888888888888,\"#fdca26\"],[1.0,\"#f0f921\"]],\"type\":\"histogram2dcontour\"}],\"mesh3d\":[{\"colorbar\":{\"outlinewidth\":0,\"ticks\":\"\"},\"type\":\"mesh3d\"}],\"parcoords\":[{\"line\":{\"colorbar\":{\"outlinewidth\":0,\"ticks\":\"\"}},\"type\":\"parcoords\"}],\"pie\":[{\"automargin\":true,\"type\":\"pie\"}],\"scatter\":[{\"marker\":{\"colorbar\":{\"outlinewidth\":0,\"ticks\":\"\"}},\"type\":\"scatter\"}],\"scatter3d\":[{\"line\":{\"colorbar\":{\"outlinewidth\":0,\"ticks\":\"\"}},\"marker\":{\"colorbar\":{\"outlinewidth\":0,\"ticks\":\"\"}},\"type\":\"scatter3d\"}],\"scattercarpet\":[{\"marker\":{\"colorbar\":{\"outlinewidth\":0,\"ticks\":\"\"}},\"type\":\"scattercarpet\"}],\"scattergeo\":[{\"marker\":{\"colorbar\":{\"outlinewidth\":0,\"ticks\":\"\"}},\"type\":\"scattergeo\"}],\"scattergl\":[{\"marker\":{\"colorbar\":{\"outlinewidth\":0,\"ticks\":\"\"}},\"type\":\"scattergl\"}],\"scattermapbox\":[{\"marker\":{\"colorbar\":{\"outlinewidth\":0,\"ticks\":\"\"}},\"type\":\"scattermapbox\"}],\"scatterpolar\":[{\"marker\":{\"colorbar\":{\"outlinewidth\":0,\"ticks\":\"\"}},\"type\":\"scatterpolar\"}],\"scatterpolargl\":[{\"marker\":{\"colorbar\":{\"outlinewidth\":0,\"ticks\":\"\"}},\"type\":\"scatterpolargl\"}],\"scatterternary\":[{\"marker\":{\"colorbar\":{\"outlinewidth\":0,\"ticks\":\"\"}},\"type\":\"scatterternary\"}],\"surface\":[{\"colorbar\":{\"outlinewidth\":0,\"ticks\":\"\"},\"colorscale\":[[0.0,\"#0d0887\"],[0.1111111111111111,\"#46039f\"],[0.2222222222222222,\"#7201a8\"],[0.3333333333333333,\"#9c179e\"],[0.4444444444444444,\"#bd3786\"],[0.5555555555555556,\"#d8576b\"],[0.6666666666666666,\"#ed7953\"],[0.7777777777777778,\"#fb9f3a\"],[0.8888888888888888,\"#fdca26\"],[1.0,\"#f0f921\"]],\"type\":\"surface\"}],\"table\":[{\"cells\":{\"fill\":{\"color\":\"#EBF0F8\"},\"line\":{\"color\":\"white\"}},\"header\":{\"fill\":{\"color\":\"#C8D4E3\"},\"line\":{\"color\":\"white\"}},\"type\":\"table\"}]},\"layout\":{\"annotationdefaults\":{\"arrowcolor\":\"#2a3f5f\",\"arrowhead\":0,\"arrowwidth\":1},\"autotypenumbers\":\"strict\",\"coloraxis\":{\"colorbar\":{\"outlinewidth\":0,\"ticks\":\"\"}},\"colorscale\":{\"diverging\":[[0,\"#8e0152\"],[0.1,\"#c51b7d\"],[0.2,\"#de77ae\"],[0.3,\"#f1b6da\"],[0.4,\"#fde0ef\"],[0.5,\"#f7f7f7\"],[0.6,\"#e6f5d0\"],[0.7,\"#b8e186\"],[0.8,\"#7fbc41\"],[0.9,\"#4d9221\"],[1,\"#276419\"]],\"sequential\":[[0.0,\"#0d0887\"],[0.1111111111111111,\"#46039f\"],[0.2222222222222222,\"#7201a8\"],[0.3333333333333333,\"#9c179e\"],[0.4444444444444444,\"#bd3786\"],[0.5555555555555556,\"#d8576b\"],[0.6666666666666666,\"#ed7953\"],[0.7777777777777778,\"#fb9f3a\"],[0.8888888888888888,\"#fdca26\"],[1.0,\"#f0f921\"]],\"sequentialminus\":[[0.0,\"#0d0887\"],[0.1111111111111111,\"#46039f\"],[0.2222222222222222,\"#7201a8\"],[0.3333333333333333,\"#9c179e\"],[0.4444444444444444,\"#bd3786\"],[0.5555555555555556,\"#d8576b\"],[0.6666666666666666,\"#ed7953\"],[0.7777777777777778,\"#fb9f3a\"],[0.8888888888888888,\"#fdca26\"],[1.0,\"#f0f921\"]]},\"colorway\":[\"#636efa\",\"#EF553B\",\"#00cc96\",\"#ab63fa\",\"#FFA15A\",\"#19d3f3\",\"#FF6692\",\"#B6E880\",\"#FF97FF\",\"#FECB52\"],\"font\":{\"color\":\"#2a3f5f\"},\"geo\":{\"bgcolor\":\"white\",\"lakecolor\":\"white\",\"landcolor\":\"#E5ECF6\",\"showlakes\":true,\"showland\":true,\"subunitcolor\":\"white\"},\"hoverlabel\":{\"align\":\"left\"},\"hovermode\":\"closest\",\"mapbox\":{\"style\":\"light\"},\"paper_bgcolor\":\"white\",\"plot_bgcolor\":\"#E5ECF6\",\"polar\":{\"angularaxis\":{\"gridcolor\":\"white\",\"linecolor\":\"white\",\"ticks\":\"\"},\"bgcolor\":\"#E5ECF6\",\"radialaxis\":{\"gridcolor\":\"white\",\"linecolor\":\"white\",\"ticks\":\"\"}},\"scene\":{\"xaxis\":{\"backgroundcolor\":\"#E5ECF6\",\"gridcolor\":\"white\",\"gridwidth\":2,\"linecolor\":\"white\",\"showbackground\":true,\"ticks\":\"\",\"zerolinecolor\":\"white\"},\"yaxis\":{\"backgroundcolor\":\"#E5ECF6\",\"gridcolor\":\"white\",\"gridwidth\":2,\"linecolor\":\"white\",\"showbackground\":true,\"ticks\":\"\",\"zerolinecolor\":\"white\"},\"zaxis\":{\"backgroundcolor\":\"#E5ECF6\",\"gridcolor\":\"white\",\"gridwidth\":2,\"linecolor\":\"white\",\"showbackground\":true,\"ticks\":\"\",\"zerolinecolor\":\"white\"}},\"shapedefaults\":{\"line\":{\"color\":\"#2a3f5f\"}},\"ternary\":{\"aaxis\":{\"gridcolor\":\"white\",\"linecolor\":\"white\",\"ticks\":\"\"},\"baxis\":{\"gridcolor\":\"white\",\"linecolor\":\"white\",\"ticks\":\"\"},\"bgcolor\":\"#E5ECF6\",\"caxis\":{\"gridcolor\":\"white\",\"linecolor\":\"white\",\"ticks\":\"\"}},\"title\":{\"x\":0.05},\"xaxis\":{\"automargin\":true,\"gridcolor\":\"white\",\"linecolor\":\"white\",\"ticks\":\"\",\"title\":{\"standoff\":15},\"zerolinecolor\":\"white\",\"zerolinewidth\":2},\"yaxis\":{\"automargin\":true,\"gridcolor\":\"white\",\"linecolor\":\"white\",\"ticks\":\"\",\"title\":{\"standoff\":15},\"zerolinecolor\":\"white\",\"zerolinewidth\":2}}},\"width\":800},                        {\"responsive\": true}                    ).then(function(){\n",
       "                            \n",
       "var gd = document.getElementById('5382b323-9f8b-4bc4-8578-f910260d77a1');\n",
       "var x = new MutationObserver(function (mutations, observer) {{\n",
       "        var display = window.getComputedStyle(gd).display;\n",
       "        if (!display || display === 'none') {{\n",
       "            console.log([gd, 'removed!']);\n",
       "            Plotly.purge(gd);\n",
       "            observer.disconnect();\n",
       "        }}\n",
       "}});\n",
       "\n",
       "// Listen for the removal of the full notebook cells\n",
       "var notebookContainer = gd.closest('#notebook-container');\n",
       "if (notebookContainer) {{\n",
       "    x.observe(notebookContainer, {childList: true});\n",
       "}}\n",
       "\n",
       "// Listen for the clearing of the current output cell\n",
       "var outputEl = gd.closest('.output');\n",
       "if (outputEl) {{\n",
       "    x.observe(outputEl, {childList: true});\n",
       "}}\n",
       "\n",
       "                        })                };                });            </script>        </div>"
      ]
     },
     "metadata": {},
     "output_type": "display_data"
    }
   ],
   "source": [
    "# Creating a 3D-Scatter with the PCA data and the clusters\n",
    "fig = px.scatter_3d(\n",
    "    clustered_df,\n",
    "    x=\"PC 1\",\n",
    "    y=\"PC 2\",\n",
    "    z=\"PC 3\",\n",
    "    color=\"class\",\n",
    "    symbol=\"class\",\n",
    "    width=800,\n",
    "    hover_name=\"Algorithm\",\n",
    "    hover_data=[\"Algorithm\",\"CoinName\"]\n",
    ")\n",
    "fig.update_layout(legend=dict(x=0, y=1))\n",
    "fig.show()\n"
   ]
  },
  {
   "cell_type": "code",
   "execution_count": 190,
   "metadata": {},
   "outputs": [
    {
     "data": {},
     "metadata": {},
     "output_type": "display_data"
    },
    {
     "data": {
      "application/vnd.holoviews_exec.v0+json": "",
      "text/html": [
       "<div id='1776'>\n",
       "\n",
       "\n",
       "\n",
       "\n",
       "\n",
       "  <div class=\"bk-root\" id=\"7fe14f3f-9cc4-4b25-bea3-51c9175e5fdb\" data-root-id=\"1776\"></div>\n",
       "</div>\n",
       "<script type=\"application/javascript\">(function(root) {\n",
       "  function embed_document(root) {\n",
       "    var docs_json = {\"5f00b987-b5e3-4ba5-be2f-fe7364797630\":{\"defs\":[{\"extends\":null,\"module\":null,\"name\":\"ReactiveHTML1\",\"overrides\":[],\"properties\":[]},{\"extends\":null,\"module\":null,\"name\":\"FlexBox1\",\"overrides\":[],\"properties\":[{\"default\":\"flex-start\",\"kind\":null,\"name\":\"align_content\"},{\"default\":\"flex-start\",\"kind\":null,\"name\":\"align_items\"},{\"default\":\"row\",\"kind\":null,\"name\":\"flex_direction\"},{\"default\":\"wrap\",\"kind\":null,\"name\":\"flex_wrap\"},{\"default\":\"flex-start\",\"kind\":null,\"name\":\"justify_content\"}]},{\"extends\":null,\"module\":null,\"name\":\"TemplateActions1\",\"overrides\":[],\"properties\":[{\"default\":0,\"kind\":null,\"name\":\"open_modal\"},{\"default\":0,\"kind\":null,\"name\":\"close_modal\"}]},{\"extends\":null,\"module\":null,\"name\":\"MaterialTemplateActions1\",\"overrides\":[],\"properties\":[{\"default\":0,\"kind\":null,\"name\":\"open_modal\"},{\"default\":0,\"kind\":null,\"name\":\"close_modal\"}]}],\"roots\":{\"references\":[{\"attributes\":{\"data\":{\"Algorithm\":[\"Scrypt\",\"Scrypt\",\"X13\",\"SHA-256\",\"Scrypt\",\"X11\",\"Ethash\",\"Equihash\",\"SHA-512\",\"Multiple\",\"SHA-256\",\"X11\",\"SHA-256\",\"Scrypt\",\"X15\",\"X11\",\"SHA-256\",\"X13\",\"X13\",\"Scrypt\",\"Scrypt\",\"Scrypt\",\"SHA-256\",\"Multiple\",\"Scrypt\",\"SHA-256\",\"Scrypt\",\"Scrypt\",\"Quark\",\"Groestl\",\"Scrypt\",\"X11\",\"Scrypt\",\"Scrypt\",\"Scrypt\",\"Scrypt\",\"Scrypt\",\"Scrypt\",\"Multiple\",\"Scrypt\",\"X11\",\"Scrypt\",\"Groestl\",\"Multiple\",\"X11\",\"Scrypt\",\"SHA-256\",\"Scrypt\",\"Scrypt\",\"Scrypt\",\"Scrypt\",\"Scrypt\",\"Scrypt\",\"X11\",\"NIST5\",\"SHA-256\",\"Scrypt\",\"NeoScrypt\",\"Scrypt\",\"Scrypt\",\"Scrypt\",\"X11\",\"Scrypt\",\"Multiple\",\"Scrypt\",\"X11\",\"SHA-256\",\"X11\",\"X13\",\"Scrypt\",\"Scrypt\",\"Scrypt\",\"Scrypt\",\"X11\",\"SHA3\",\"Scrypt\",\"HybridScryptHash256\",\"Scrypt\",\"SHA-256\",\"Scrypt\",\"SHA-256\",\"Scrypt\",\"SHA-256\",\"Scrypt\",\"NeoScrypt\",\"Scrypt\",\"Scrypt\",\"Scrypt\",\"Scrypt\",\"Scrypt\",\"X15\",\"Scrypt\",\"Scrypt\",\"Scrypt-n\",\"Scrypt\",\"X11\",\"SHA-256\",\"Multiple\",\"SHA-256\",\"PHI1612\",\"X11\",\"SHA-256\",\"SHA-256\",\"SHA-256\",\"SHA-256\",\"Scrypt\",\"Scrypt\",\"Scrypt\",\"Lyra2REv2\",\"Scrypt\",\"Scrypt\",\"X11\",\"SHA-256\",\"Scrypt\",\"Scrypt\",\"CryptoNight\",\"CryptoNight\",\"Shabal256\",\"Counterparty\",\"Scrypt\",\"SHA-256\",\"SHA-256\",\"Scrypt\",\"Scrypt\",\"Scrypt\",\"X13\",\"Scrypt\",\"Scrypt\",\"Scrypt\",\"SHA-256\",\"X13\",\"X13\",\"Scrypt\",\"X11\",\"Momentum\",\"Stanford Folding\",\"X11\",\"Scrypt\",\"Scrypt\",\"Scrypt\",\"M7 POW\",\"Scrypt\",\"X11\",\"Scrypt\",\"SHA-256\",\"Scrypt\",\"X11\",\"SHA3\",\"X11\",\"Lyra2RE\",\"SHA-256\",\"QUAIT\",\"X11\",\"Scrypt\",\"Scrypt\",\"Scrypt\",\"Ethash\",\"X11\",\"X13\",\"SHA-256\",\"X13\",\"X15\",\"X11\",\"SHA-256\",\"BLAKE256\",\"Scrypt\",\"Scrypt\",\"1GB AES Pattern Search\",\"SHA-256\",\"X11\",\"Scrypt\",\"CryptoNight\",\"SHA-256\",\"Quark\",\"SHA-256\",\"Blake\",\"Scrypt\",\"Scrypt\",\"SHA-256\",\"X11\",\"Scrypt\",\"Scrypt-n\",\"X11\",\"Scrypt\",\"Dagger\",\"Scrypt\",\"SHA-256\",\"CryptoNight-Lite\",\"X11GOST\",\"X11\",\"SHA-256\",\"Scrypt\",\"SHA-256\",\"Scrypt\",\"PoS\",\"Scrypt\",\"ScryptOG\",\"X11\",\"X11\",\"X11\",\"X11\",\"PoS\",\"SHA-256\",\"SHA-256\",\"SHA-256\",\"NIST5\",\"X15\",\"X11\",\"NIST5\",\"Scrypt\",\"Scrypt\",\"Scrypt\",\"POS 3.0\",\"Scrypt\",\"Scrypt\",\"Scrypt\",\"X13\",\"X11\",\"X11\",\"Equihash\",\"X11\",\"X11\",\"Scrypt\",\"CryptoNight\",\"SHA-256\",\"SHA-256\",\"X11\",\"Scrypt\",\"Multiple\",\"Scrypt\",\"X11\",\"SHA-256\",\"Scrypt\",\"Scrypt\",\"SHA-256D\",\"PoS\",\"Scrypt\",\"X11\",\"Scrypt-n\",\"Lyra2Z\",\"SHA-256\",\"PoS\",\"X13\",\"Quark\",\"X14\",\"PoS\",\"SHA-256D\",\"Ethash\",\"SHA-256\",\"Equihash\",\"DPoS\",\"X11\",\"Scrypt\",\"Scrypt\",\"Equihash\",\"X11\",\"X13\",\"X11\",\"PoS\",\"SHA-256D\",\"Scrypt\",\"Scrypt\",\"Scrypt\",\"X11\",\"PoS\",\"X11\",\"SHA-256\",\"Scrypt\",\"X11\",\"Scrypt\",\"Scrypt\",\"X11\",\"CryptoNight\",\"Scrypt\",\"Scrypt\",\"Scrypt\",\"Scrypt\",\"Quark\",\"QuBit\",\"Scrypt\",\"CryptoNight\",\"X11\",\"Lyra2RE\",\"X13\",\"PoS\",\"Scrypt\",\"SHA-256\",\"X11\",\"X11\",\"X11\",\"Scrypt\",\"X11\",\"Scrypt\",\"Scrypt\",\"CryptoNight-V7\",\"Scrypt\",\"Scrypt\",\"Keccak\",\"Scrypt\",\"X13\",\"X11\",\"Equihash\",\"Scrypt\",\"Scrypt\",\"Lyra2RE\",\"Ethash\",\"X11\",\"Scrypt\",\"Dagger-Hashimoto\",\"X11\",\"Blake2S\",\"X11\",\"Scrypt\",\"Scrypt\",\"PoS\",\"X11\",\"NIST5\",\"PoS\",\"X11\",\"Scrypt\",\"Scrypt\",\"Scrypt\",\"Scrypt\",\"SHA-256\",\"X11\",\"Scrypt\",\"Scrypt\",\"Scrypt\",\"SHA-256\",\"PoS\",\"Scrypt\",\"X11\",\"X15\",\"SHA-256\",\"Scrypt\",\"POS 3.0\",\"CryptoNight-V7\",\"536\",\"Blake2b\",\"Cloverhash\",\"CryptoNight\",\"NIST5\",\"X11\",\"NIST5\",\"Skein\",\"Scrypt\",\"X13\",\"Scrypt\",\"X11\",\"X11\",\"X11\",\"Scrypt\",\"CryptoNight\",\"X13\",\"Time Travel\",\"Scrypt\",\"Keccak\",\"SkunkHash v2 Raptor\",\"X11\",\"Skein\",\"SHA-256\",\"X11\",\"Scrypt\",\"Scrypt\",\"VeChainThor Authority\",\"Scrypt\",\"PoS\",\"Scrypt\",\"Scrypt\",\"Scrypt\",\"Scrypt\",\"Scrypt\",\"Scrypt\",\"Scrypt\",\"CryptoNight\",\"SHA-512\",\"Ouroboros\",\"X11\",\"Equihash\",\"NeoScrypt\",\"X11\",\"Scrypt\",\"NeoScrypt\",\"Lyra2REv2\",\"Equihash\",\"Scrypt\",\"SHA-256\",\"NIST5\",\"PHI1612\",\"Dagger\",\"Scrypt\",\"Quark\",\"Scrypt\",\"POS 2.0\",\"Scrypt\",\"SkunkHash\",\"X11\",\"Quark\",\"SHA-256\",\"X11\",\"NeoScrypt\",\"Scrypt\",\"Ethash\",\"Scrypt\",\"Scrypt\",\"NeoScrypt\",\"Quark\",\"SHA-256\",\"Quark\",\"X11\",\"DPoS\",\"NIST5\",\"X13\",\"Multiple\",\"Scrypt\",\"Scrypt\",\"Scrypt\",\"CryptoNight\",\"CryptoNight\",\"Ethash\",\"NIST5\",\"Scrypt\",\"Quark\",\"X11\",\"SHA-256\",\"CryptoNight-V7\",\"Scrypt\",\"Scrypt\",\"Scrypt\",\"X11\",\"X11\",\"SHA-256\",\"BLAKE256\",\"X11\",\"Scrypt\",\"Scrypt\",\"Scrypt\",\"NeoScrypt\",\"NeoScrypt\",\"Quark\",\"NeoScrypt\",\"Scrypt\",\"Scrypt\",\"Scrypt\",\"X11\",\"Scrypt\",\"X11\",\"SHA-256\",\"C11\",\"NeoScrypt\",\"Scrypt\",\"Scrypt\",\"POS 3.0\",\"Ethash\",\"Scrypt\",\"Scrypt\",\"CryptoNight\",\"SkunkHash\",\"Scrypt\",\"CryptoNight\",\"X11\",\"Equihash\",\"Skein\",\"Scrypt\",\"SHA-256\",\"Dagger\",\"Lyra2REv2\",\"X13\",\"Proof-of-BibleHash\",\"SHA-256 + Hive\",\"Scrypt\",\"Scrypt\",\"Scrypt\",\"Skein\",\"X11\",\"NeoScrypt\",\"Equihash\",\"Skein\",\"X11\",\"C11\",\"Proof-of-Authority\",\"X11\",\"Scrypt\",\"XEVAN\",\"Scrypt\",\"VBFT\",\"Ethash\",\"X11\",\"CryptoNight\",\"NeoScrypt\",\"Scrypt\",\"SHA-256\",\"IMesh\",\"PHI1612\",\"Quark\",\"X16S\",\"NIST5\",\"Equihash\",\"Scrypt\",\"Scrypt\",\"Equihash\",\"Equihash\",\"Scrypt\",\"PHI1612\",\"Lyra2Z\",\"Equihash\",\"Green Protocol\",\"PoS\",\"Scrypt\",\"NeoScrypt\",\"Scrypt\",\"Semux BFT consensus\",\"Scrypt\",\"Scrypt\",\"X11\",\"Quark\",\"PoS\",\"CryptoNight\",\"X16R\",\"Scrypt\",\"NIST5\",\"Lyra2RE\",\"XEVAN\",\"Tribus\",\"Scrypt\",\"Lyra2Z\",\"Scrypt\",\"Scrypt\",\"CryptoNight\",\"X11\",\"SHA-256D\",\"CryptoNight Heavy\",\"CryptoNight\",\"Scrypt\",\"Scrypt\",\"Equihash\",\"X11\",\"Scrypt\",\"Jump Consistent Hash\",\"SHA-256D\",\"CryptoNight\",\"Scrypt\",\"X15\",\"Scrypt\",\"Quark\",\"Scrypt\",\"SHA-512\",\"SHA-256\",\"SHA-256D\",\"DPoS\",\"X16R\",\"HMQ1725\",\"X11\",\"Scrypt\",\"X16R\",\"Quark\",\"Quark\",\"Scrypt\",\"Zhash\",\"Lyra2REv2\",\"Quark\",\"XEVAN\",\"CryptoNight\",\"Scrypt\",\"Scrypt\",\"Scrypt\",\"CryptoNight-V7\",\"Cryptonight-GPU\",\"Scrypt\",\"XEVAN\",\"CryptoNight Heavy\",\"CryptoNight\",\"X11\",\"X11\",\"X11\",\"Scrypt\",\"PoS\",\"Lyra2REv2\",\"Scrypt\",\"SHA-256\",\"Scrypt\",\"Keccak\",\"X11\",\"X11\",\"Tribus\",\"Quark\",\"Scrypt\",\"NeoScrypt\",\"SHA-512\",\"X16R\",\"ECC 256K1\",\"NeoScrypt\",\"Equihash\",\"XEVAN\",\"Quark\",\"CryptoNight Heavy X\",\"HMQ1725\",\"Lyra2Z\",\"Ethash\",\"SHA-512\",\"SHA-256\",\"Quark\",\"PHI1612\",\"XEVAN\",\"Ethash\",\"CryptoNight\",\"Quark\",\"SkunkHash\",\"Quark\",\"Argon2\",\"Blake\",\"Blake\",\"Blake\",\"Blake\",\"SHA-256\",\"Equihash\",\"Exosis\",\"Scrypt\",\"Scrypt\",\"Equihash\",\"Quark\",\"Equihash\",\"Quark\",\"Scrypt\",\"Lyra2REv2\",\"QuBit\",\"X11\",\"Scrypt\",\"Equihash1927\",\"XEVAN\",\"SHA-256D\",\"X11\",\"SHA-256\",\"SHA-256\",\"X13\",\"SHA-256\",\"X11\",\"DPoS\",\"X11\",\"Ethash\",\"Scrypt\",\"X11\",\"Scrypt\",\"NeoScrypt\",\"Scrypt\",\"Blake\",\"Scrypt\",\"SHA-256\",\"X11\",\"CryptoNight\",\"Scrypt\",\"Scrypt\",\"SHA-256\",\"X11\",\"SHA-256\",\"Scrypt\",\"CryptoNight\",\"Scrypt\",\"SHA-256\",\"Scrypt\",\"Groestl\",\"X11\",\"Scrypt\",\"PoS\",\"Scrypt\",\"Scrypt\",\"X11\",\"SHA-256\",\"DPoS\",\"Scrypt\",\"Scrypt\",\"Scrypt\",\"NeoScrypt\",\"Scrypt\",\"SHA3-256\",\"Multiple\",\"X13\",\"Equihash+Scrypt\",\"Lyra2Z\",\"PHI2\",\"Ethash\",\"Ethash\",\"SHA-256\",\"Lyra2Z\",\"Leased POS\",\"PoS\",\"Scrypt\",\"TRC10\",\"Equihash\",\"PoS\",\"SHA-256\",\"Scrypt\",\"CryptoNight\",\"Equihash\",\"Scrypt\",\"Scrypt\"],\"CoinName\":[\"42 Coin\",\"404Coin\",\"EliteCoin\",\"Bitcoin\",\"Litecoin\",\"Dash\",\"Ethereum Classic\",\"ZCash\",\"Bitshares\",\"DigiByte\",\"BitcoinDark\",\"Bitstake\",\"PayCoin\",\"ProsperCoin\",\"KoboCoin\",\"Spreadcoin\",\"ACoin\",\"Aero Coin\",\"ApexCoin\",\"ArchCoin\",\"Argentum\",\"Aurora Coin\",\"BetaCoin\",\"MyriadCoin\",\"MoonCoin\",\"ZetaCoin\",\"SexCoin\",\"Quatloo\",\"QuarkCoin\",\"Riecoin\",\"Digitalcoin \",\"LimeCoinX\",\"BitBar\",\"BitMark\",\"CashCoin\",\"Catcoin\",\"CryptoBullion\",\"CannaCoin\",\"CinderCoin\",\"CoolCoin\",\"CryptCoin\",\"CasinoCoin\",\"Diamond\",\"Verge\",\"DarkCash\",\"DarkShibe\",\"DevCoin\",\"EarthCoin\",\"E-Gulden\",\"Elacoin\",\"Einsteinium\",\"Emerald\",\"Flappy Coin\",\"Fuel2Coin\",\"FIBRE\",\"FireRoosterCoin\",\"Franko\",\"FeatherCoin\",\"GrandCoin\",\"GlobalCoin\",\"GoldCoin\",\"GlyphCoin\",\"HoboNickels\",\"HunterCoin\",\"Infinite Coin\",\"IOCoin\",\"IXcoin\",\"JumBucks Coin\",\"JudgeCoin\",\"KrugerCoin\",\"LuckyCoin\",\"Litebar \",\"LitecoinDark\",\"LibrexCoin\",\"MaxCoin\",\"MegaCoin\",\"MediterraneanCoin\",\"MinCoin\",\"MazaCoin\",\"Nautilus Coin\",\"NoirBits\",\"NobleCoin\",\"Namecoin\",\"NyanCoin\",\"Orbitcoin\",\"PotCoin\",\"PhoenixCoin\",\"RipOffCoin\",\"RonPaulCoin\",\"StableCoin\",\"ShieldCoin\",\"SilkCoin\",\"SmartCoin\",\"SpainCoin\",\"SecureCoin\",\"SyncCoin\",\"SysCoin\",\"TeslaCoin\",\"TigerCoin\",\"TittieCoin\",\"TorCoin\",\"TerraCoin\",\"Umbrella\",\"UnbreakableCoin\",\"Unobtanium\",\"UnitaryStatus Dollar\",\"UltraCoin\",\"ViaCoin\",\"Vertcoin\",\"WorldCoin\",\"SocialXbotCoin\",\"X11 Coin\",\"JouleCoin\",\"XXXCoin\",\"ZCC Coin\",\"ByteCoin\",\"DigitalNote \",\"BurstCoin\",\"StorjCoin\",\"MonaCoin\",\"Neutron\",\"Sling Coin\",\"KryptCoin\",\"Gulden\",\"PesetaCoin\",\"Kore\",\"Wild Beast Coin\",\"Dnotes\",\"Flo\",\"MaieutiCoin\",\"Sativa Coin\",\"AeroMe\",\"ArtByte\",\"MasterTraderCoin\",\"BitCredit\",\"Folding Coin\",\"Ucoin\",\"OmniCron\",\"Vtorrent\",\"GreenCoin\",\"Cryptonite\",\"Gridmaster\",\"ConSpiracy Coin \",\"MasterCoin\",\"SoonCoin\",\"1Credit\",\"Quicksilver coin\",\"Nexus\",\"MarsCoin \",\"Crypto\",\"Anarchists Prime\",\"Droidz\",\"BowsCoin\",\"Song Coin\",\"BitZeny\",\"Diggits\",\"Expanse\",\"MapCoin\",\"Paycon\",\"Emercoin\",\"BlitzCoin\",\"EverGreenCoin\",\"MindCoin\",\"I0coin\",\"Decred\",\"DogeCoinDark\",\"Revolution VR\",\"HOdlcoin\",\"EDRCoin\",\"Hitcoin\",\"Gamecredits\",\"Dashcoin\",\"DubaiCoin\",\"BiosCrypto\",\"CarpeDiemCoin\",\"TrumpCoin\",\"BillaryCoin\",\"EthereumScrypt\",\"Phalanx\",\"SunShotCoin\",\"GPU Coin\",\"HempCoin\",\"Adzcoin\",\"VirtaCoin\",\"SoilCoin\",\"YoCoin\",\"Universal Currency\",\"AEON\",\"SibCoin\",\"EuropeCoin\",\"Anti Bitcoin\",\"ZeitCoin\",\"SwingCoin\",\"SafeExchangeCoin\",\"Nebuchadnezzar\",\"Francs\",\"Aiden\",\"BolivarCoin\",\"GIZMOcoin\",\"SecretCoin\",\"Ratecoin\",\"Digital Bullion Gold\",\"Revenu\",\"Clinton\",\"Clockcoin\",\"VIP Tokens\",\"OrlyCoin\",\"BitSend\",\"16BitCoin\",\"ChessCoin\",\"ReeCoin\",\"Omni\",\"Let it Ride\",\"PutinCoin\",\"iBankCoin\",\"Frankywillcoin\",\"MudraCoin\",\"PizzaCoin\",\"Lutetium Coin\",\"Komodo\",\"GoldBlocks\",\"WayCoin\",\"CarterCoin\",\"Karbo\",\"BitTokens\",\"ZayedCoin\",\"MustangCoin\",\"ZoneCoin\",\"Circuits of Value\",\"DopeCoin\",\"PROUD Money\",\"DollarCoin\",\"Swiscoin\",\"Shilling\",\"BuzzCoin\",\"Opair\",\"GBR Coin\",\"Halloween Coin\",\"FujiCoin\",\"ZCoin\",\"LeaCoin\",\"CoffeeCoin\",\"RoyalCoin\",\"Zurcoin\",\"GanjaCoin V2\",\"TeamUP\",\"LanaCoin\",\"Elementrem\",\"CashOut\",\"ZClassic\",\"ARK\",\"InsaneCoin\",\"LuckChain\",\"KiloCoin\",\"Hush\",\"ArtexCoin\",\"EmberCoin\",\"XenixCoin\",\"FreeCoin\",\"NPCcoin\",\"PLNCoin\",\"Icobid\",\"AquariusCoin\",\"Kurrent\",\"Creatio\",\"Eternity\",\"Eurocoin\",\"BitcoinFast\",\"Stakenet\",\"BitConnect Coin\",\"MoneyCoin\",\"Enigma\",\"Cannabis Industry Coin\",\"Russiacoin\",\"PandaCoin\",\"GameUnits\",\"GAKHcoin\",\"Allsafe\",\"LiteCreed\",\"OsmiumCoin\",\"Bikercoins\",\"NeptuneClassic\",\"HexxCoin\",\"GoldenBird\",\"Ride My Car\",\"Klingon Empire Darsek\",\"Internet of People\",\"KushCoin\",\"Eryllium\",\"MarxCoin\",\"Printerium\",\"PacCoin\",\"Impeach\",\"Solarflarecoin\",\"Citadel\",\"Zilbercoin\",\"FirstCoin\",\"CreativeChain\",\"BeaverCoin\",\"FindCoin\",\"VaultCoin\",\"Zero\",\"OpenChat\",\"Canada eCoin\",\"Zoin\",\"Musicoin\",\"BnrtxCoin\",\"RenosCoin\",\"DubaiCoin\",\"VirtacoinPlus\",\"TajCoin\",\"Impact\",\"EB3coin\",\"Universe\",\"Atmos\",\"HappyCoin\",\"Coinonat\",\"MacronCoin\",\"Condensate\",\"Independent Money System\",\"ArgusCoin\",\"LomoCoin\",\"Bitcoin Scrypt\",\"ProCurrency\",\"GoldReserve\",\"BenjiRolls\",\"ParallelCoin\",\"GrowthCoin\",\"ILCoin\",\"Phreak\",\"Degas Coin\",\"ZSEcoin\",\"HTML5 Coin\",\"Ultimate Secure Cash\",\"EquiTrader\",\"QTUM\",\"Quantum Resistant Ledger\",\"Espers\",\"Nano\",\"ChanCoin\",\"Dinastycoin\",\"Denarius\",\"DigitalPrice\",\"Virta Unique Coin\",\"Bitcoin Planet\",\"Unify\",\"BritCoin\",\"SocialCoin\",\"Octanox\",\"ArcticCoin\",\"DAS\",\"Linda\",\"LeviarCoin\",\"DeepOnion\",\"Bitcore\",\"gCn Coin\",\"SmartCash\",\"Signatum\",\"Onix\",\"Cream\",\"Bitcoin Cash\",\"Monoeci\",\"CampusCoin\",\"Draftcoin\",\"Vechain\",\"Sojourn Coin\",\"Stakecoin\",\"LiteBitcoin\",\"FrazCoin\",\"Kronecoin\",\"AdCoin\",\"Linx\",\"CoinonatX\",\"Ethereum Dark\",\"Sumokoin\",\"Obsidian\",\"Cardano\",\"Regalcoin\",\"BitcoinZ\",\"TrezarCoin\",\"Elements\",\"TerraNovaCoin\",\"VIVO Coin\",\"Rupee\",\"Bitcoin Gold\",\"WomenCoin\",\"Theresa May Coin\",\"NamoCoin\",\"LUXCoin\",\"Pirl\",\"Xios\",\"Bitcloud 2.0\",\"eBoost\",\"KekCoin\",\"BlackholeCoin\",\"AltCommunity Coin\",\"Pure\",\"Rupaya\",\"Infinity Economics\",\"Pura\",\"Innova\",\"Bitdeal\",\"Ellaism\",\"Sakuracoin\",\"Interstellar Holdings\",\"GoByte\",\"Castle\",\"Insta Cash Coin\",\"Alqo\",\"Magnet\",\"Lamden Tau\",\"Electra\",\"Bitcoin Diamond\",\"SHIELD\",\"BridgeCoin\",\"Mutual Coin\",\"Cash & Back Coin\",\"UltraNote\",\"BitCoal\",\"DaxxCoin\",\"Bulwark\",\"BoxyCoin\",\"Kalkulus\",\"AC3\",\"CHIPS\",\"Lethean\",\"GermanCoin\",\"LiteCoin Ultra\",\"PopularCoin\",\"PhantomX\",\"HomeBlockCoin\",\"HTML Coin\",\"Photon\",\"Sucre\",\"Accolade\",\"Fantasy Cash\",\"OmiseGO Classic\",\"SparksPay\",\"GoaCoin\",\"Digiwage\",\"GunCoin\",\"IrishCoin\",\"Trollcoin\",\"Litecoin Plus\",\"Monkey Project\",\"ECC\",\"Pioneer Coin\",\"UnitedBitcoin\",\"Interzone\",\"Sigil\",\"OP Coin\",\"Valorbit\",\"TokenPay\",\"1717 Masonic Commemorative Token\",\"Crypto Wisdom Coin\",\"My Big Coin\",\"TurtleCoin\",\"MUNcoin\",\"Unified Society USDEX\",\"Niobio Cash\",\"BitSoar Coin\",\"Bitcoin Private\",\"Skeincoin\",\"ShareChain\",\"Credence Coin\",\"Travelflex\",\"KREDS\",\"Tokyo Coin\",\"BiblePay\",\"LitecoinCash\",\"BitFlip\",\"LottoCoin\",\"LeafCoin\",\"BashCoin\",\"DigiMoney\",\"Cerberus\",\"Bitcoin Hush\",\"Lizus Payment\",\"Crypto Improvement Fund\",\"Stipend\",\"Poa Network\",\"Pushi\",\"PokerCoin\",\"Ellerium\",\"Velox\",\"Ontology\",\"Callisto Network\",\"Curium\",\"BitTube\",\"Dinero\",\"Poseidon\",\"Manna\",\"Aidos Kuneen\",\"Seraph\",\"Cosmo\",\"Reden\",\"Bitspace\",\"Snowgem\",\"Briacoin\",\"Ignition\",\"Bitrolium\",\"Bitcoin Interest\",\"MedicCoin\",\"FOLM coin\",\"Alpenschillling\",\"Zelcash\",\"Bitcoin Green\",\"Deviant Coin\",\"Abjcoin\",\"Rapture\",\"Profit Hunters Coin\",\"Semux\",\"BitBlocks\",\"Uwezocoin\",\"FuturoCoin\",\"Carebit\",\"Zealium\",\"Monero Classic\",\"Proton\",\"iDealCash\",\"Jumpcoin\",\"Infinex\",\"Bitcoin Incognito\",\"KEYCO\",\"HollyWoodCoin\",\"GINcoin\",\"Parlay\",\"Listerclassic Coin\",\"PlatinCoin\",\"BetKings\",\"Cognitio\",\"Loki\",\"Newton Coin\",\"Mercoin\",\"Swisscoin\",\"ExchangeCoin\",\"Reliance\",\"Xt3ch\",\"MassGrid\",\"TheVig\",\"PluraCoin\",\"EmaratCoin\",\"Dekado\",\"Lynx\",\"Poseidon Quark\",\"MYCE\",\"Arionum\",\"BitcoinWSpectrum\",\"GolfCoin\",\"Muse\",\"Motion\",\"PlusOneCoin\",\"Axe\",\"GambleCoin\",\"Trivechain\",\"Dystem\",\"Giant\",\"Peony Coin\",\"SafeCoin\",\"Absolute Coin\",\"Vitae\",\"GenesisX\",\"BitminerCoin\",\"HexCoin\",\"Deimos\",\"TPCash\",\"Webchain\",\"Ryo\",\"MUSDcoin\",\"Urals Coin\",\"Qwertycoin\",\"Bitcoin Nova\",\"ARENON\",\"DACash\",\"EUNO\",\"MMOCoin\",\"Ketan\",\"NIX\",\"Safe Trade Coin\",\"Project Pai\",\"Mont Blanc\",\"XDNA\",\"PAXEX\",\"Azart\",\"Averopay\",\"Apollon\",\"ThunderStake\",\"SimpleBank\",\"Kcash\",\"Xchange\",\"Acute Angle Cloud\",\"Traid\",\"CrypticCoin\",\"Bettex coin\",\"ZestCoin\",\"X-CASH\",\"Brazio\",\"Actinium\",\"ETHER-1\",\"TWIST\",\"Bitcoin SV\",\"DACH Coin\",\"Argoneum\",\"BitMoney\",\"Bitcoiin2Gen\",\"FREDEnergy\",\"Zenad\",\"C25 Coin\",\"HerbCoin\",\"Aquachain\",\"BlakeBitcoin\",\"Universal Molecule\",\"Lithium\",\"Electron\",\"Smart Bitcoin\",\"PirateCash\",\"Exosis\",\"Block-Logic\",\"Oduwa\",\"Beam\",\"Galilel\",\"Bithereum\",\"Crypto Sports\",\"Credit\",\"Scribe Network\",\"SLICE\",\"Dash Platinum\",\"Nasdacoin\",\"Vidulum\",\"Beetle Coin\",\"Titan Coin\",\"Award\",\"BlockStamp\",\"BLAST\",\"Bitcoin Rhodium\",\"GlobalToken\",\"Insane Coin\",\"ALAX\",\"The Freedom Coin\",\"Media Protocol Token\",\"LiteDoge\",\"Boolberry\",\"SolarCoin\",\"UFO Coin\",\"OrangeCoin\",\"BlakeCoin\",\"BitstarCoin\",\"NeosCoin\",\"PinkCoin\",\"FantomCoin \",\"Crypto Escudo\",\"AudioCoin\",\"IncaKoin\",\"Piggy Coin\",\"Crown Coin\",\"Genstake\",\"Quazar Coin\",\"SmileyCoin\",\"ParkByte\",\"XiaoMiCoin\",\"Groestlcoin\",\"CapriCoin\",\" ClubCoin\",\"Radium\",\"Bata\",\"Pakcoin\",\"Creditbit \",\"OKCash\",\"Lisk\",\"HiCoin\",\"WhiteCoin\",\"Dotcoin\",\"FriendshipCoin\",\"The Hempcoin\",\"Fiii\",\"JoinCoin\",\"Triangles Coin\",\"Vollar\",\"TecraCoin\",\"Gexan\",\"Reality Clash\",\"iOlite\",\"TigerCash\",\"LAPO\",\"Waves\",\"Particl\",\"ShardCoin\",\"BitTorrent\",\"ChainZilla\",\"Nxt\",\"ZEPHYR\",\"Gapcoin\",\"Beldex\",\"Horizen\",\"BitcoinPlus\",\"DivotyCoin\"],\"ProofType\":[\"PoW/PoS\",\"PoW/PoS\",\"PoW/PoS\",\"PoW\",\"PoW\",\"PoW/PoS\",\"PoW\",\"PoW\",\"PoS\",\"PoW\",\"PoW/PoS\",\"PoW/PoS\",\"PoS\",\"PoW\",\"PoW/PoS\",\"PoW\",\"PoW\",\"PoS\",\"PoW/PoS\",\"PoS\",\"PoW\",\"PoW/PoS\",\"PoW\",\"PoW\",\"PoW\",\"PoW\",\"PoW\",\"PoW\",\"PoW\",\"PoW\",\"PoW\",\"PoW\",\"PoW/PoS\",\"PoW\",\"PoW/PoS\",\"PoW\",\"PoW/PoS\",\"PoW\",\"PoW/PoS\",\"PoS\",\"PoW\",\"PoC\",\"PoW/PoS\",\"PoW\",\"PoW/PoS\",\"PoW\",\"PoW\",\"PoW\",\"PoW\",\"PoW\",\"PoW\",\"PoW\",\"PoW\",\"PoS\",\"PoW/PoS\",\"PoW\",\"PoW\",\"PoW\",\"PoW\",\"PoW\",\"PoW\",\"PoW/PoS\",\"PoW/PoS\",\"PoW\",\"PoW\",\"PoW/PoS\",\"PoW\",\"PoW/PoS\",\"PoW/PoS\",\"PoW\",\"PoW\",\"PoW\",\"PoW\",\"PoW/PoS\",\"PoW/PoS\",\"PoW\",\"PoW\",\"PoW\",\"PoW/PoS\",\"PoS\",\"PoW\",\"PoW\",\"PoW\",\"PoW\",\"PoW/PoS\",\"PoW/PoS\",\"PoW/PoS\",\"PoW\",\"PoW\",\"PoW\",\"PoW/PoS\",\"PoW/PoS\",\"PoW\",\"PoW\",\"PoW\",\"PoW/PoS\",\"PoW\",\"PoS\",\"PoW\",\"PoS\",\"PoW/PoS\",\"PoW\",\"PoW\",\"PoW\",\"PoW\",\"PoW/PoS\",\"PoW/PoS\",\"PoW\",\"PoW\",\"PoW\",\"PoW/PoS\",\"PoW/PoS\",\"PoW\",\"PoW/PoS\",\"PoW/PoS\",\"PoW\",\"PoW\",\"PoC\",\"PoS\",\"PoW\",\"PoW/PoS\",\"PoW\",\"PoS\",\"PoW\",\"PoW\",\"PoW/PoS\",\"PoW\",\"PoS\",\"PoW\",\"PoS\",\"PoW/PoS\",\"PoW/PoS\",\"PoW\",\"PoW/PoS\",\"PoW\",\"PoW\",\"PoS\",\"PoW\",\"PoW/PoS\",\"PoW\",\"PoW\",\"PoW\",\"PoW\",\"PoW\",\"PoW\",\"PoW\",\"PoW\",\"PoW/nPoS\",\"PoW\",\"PoW\",\"PoW\",\"PoW/PoS\",\"PoW\",\"PoW\",\"PoW\",\"PoS\",\"PoW\",\"PoS\",\"PoW/PoS\",\"PoW/PoS\",\"PoS\",\"PoW/PoS\",\"PoW\",\"PoW\",\"PoW/PoS\",\"PoW\",\"PoW\",\"PoW\",\"PoW/PoS\",\"PoW/PoS\",\"PoW\",\"PoW\",\"PoW/PoS\",\"PoW/PoS\",\"PoW\",\"PoS\",\"PoW/PoS\",\"PoW/PoS\",\"PoW\",\"PoW\",\"PoS\",\"PoW\",\"PoW\",\"PoW\",\"PoW\",\"PoW\",\"PoW/PoS\",\"PoW\",\"PoW\",\"PoW/PoS\",\"PoW\",\"PoS\",\"PoW/PoS\",\"PoC\",\"PoS\",\"PoW\",\"PoW\",\"PoW\",\"PoW/PoS\",\"PoW/PoS\",\"PoW/PoS\",\"PoS\",\"PoW/PoS\",\"PoW\",\"PoW/PoS\",\"PoW/PoS\",\"PoW/PoS\",\"PoW/PoS\",\"PoW/PoS\",\"PoW/PoS\",\"PoW/PoS\",\"PoW\",\"PoS\",\"PoW/PoS\",\"PoW/PoS\",\"PoW/PoS\",\"PoS\",\"PoW\",\"PoS\",\"dPoW/PoW\",\"PoW/PoS\",\"PoS\",\"PoW/PoS\",\"PoW\",\"PoW/PoS\",\"PoW\",\"PoW/PoS\",\"PoW/PoS\",\"PoW\",\"PoW\",\"PoW/PoS\",\"PoW\",\"PoW/PoW\",\"PoW\",\"PoW/PoS\",\"PoS\",\"PoW\",\"PoW/PoS\",\"PoW\",\"PoW\",\"PoW\",\"PoS\",\"PoS\",\"PoW\",\"PoW/PoS\",\"PoS\",\"PoW/PoS\",\"PoW\",\"PoW\",\"PoW\",\"DPoS\",\"PoW/PoS\",\"PoW/PoS\",\"PoW\",\"PoW\",\"PoW\",\"PoW/PoS\",\"PoW/PoS\",\"PoS\",\"PoW/PoS\",\"PoW/PoS\",\"PoW/PoS\",\"PoW/PoS\",\"PoW\",\"PoS\",\"PoW/PoS\",\"PoW/PoS\",\"PoW/PoS\",\"TPoS\",\"PoW/PoS\",\"PoW/PoS\",\"PoW/PoS\",\"PoW\",\"PoW/PoS\",\"PoS\",\"PoW/PoS\",\"PoW/PoS\",\"PoS\",\"PoW/PoS\",\"PoW\",\"PoW\",\"PoW/PoS\",\"PoW\",\"PoW/PoS\",\"PoS\",\"PoW/PoS\",\"PoW/PoS\",\"PoW/PoS\",\"PoW/PoS\",\"PoW\",\"PoW/PoS\",\"PoW\",\"PoW/PoS\",\"PoW\",\"PoW\",\"PoS\",\"PoW/PoS \",\"PoW\",\"PoW\",\"PoS\",\"PoW\",\"PoW\",\"PoW/PoS\",\"PoW\",\"PoW\",\"PoW\",\"PoW\",\"PoS\",\"PoW\",\"PoW/PoS\",\"PoW/PoS\",\"PoW/PoS\",\"PoW\",\"PoS\",\"PoS\",\"PoW/PoS\",\"PoW\",\"PoS\",\"PoW/PoS\",\"PoW/PoS\",\"PoW/PoS\",\"PoW/PoS\",\"PoW\",\"PoS\",\"PoW/PoS\",\"PoW\",\"PoW\",\"PoS\",\"PoW\",\"PoS\",\"PoW/PoS\",\"PoW/PoS\",\"PoW/PoS\",\"PoS\",\"PoW\",\"PoS\",\"PoW\",\"PoW/PoS\",\"PoW\",\"PoW\",\"PoW\",\"PoW/PoS\",\"PoW\",\"PoW/PoS\",\"PoW/PoS\",\"PoW\",\"PoW/PoS\",\"PoW\",\"PoW/PoS\",\"PoW\",\"PoW\",\"PoW/PoS\",\"PoW\",\"PoW/PoS\",\"PoW\",\"PoW\",\"PoW\",\"PoS\",\"PoW\",\"PoW/PoS\",\"PoW\",\"PoW/PoS\",\"PoW\",\"PoS\",\"Proof of Authority\",\"PoW\",\"PoS\",\"PoW\",\"PoW\",\"PoW\",\"PoW\",\"PoW\",\"PoW/PoS\",\"PoW/PoS\",\"PoW\",\"PoS\",\"PoS\",\"PoW/PoS\",\"PoW\",\"PoW/PoS\",\"PoW\",\"PoW/PoS\",\"PoW\",\"PoS\",\"PoW\",\"PoW/PoS\",\"PoW/PoS\",\"PoW/PoS\",\"PoW/PoS\",\"PoW\",\"PoW/PoS\",\"PoW/PoS\",\"PoW\",\"PoS\",\"PoW/PoS\",\"PoW/PoS\",\"PoW/PoS\",\"PoS\",\"PoS\",\"PoW\",\"PoW\",\"PoW\",\"PoW\",\"PoW\",\"PoS\",\"PoW\",\"DPoS\",\"PoW\",\"PoW/PoS\",\"PoW/PoS\",\"DPoS\",\"PoW/PoS\",\"PoW/PoS\",\"PoW\",\"PoW\",\"PoW/PoS\",\"PoW/PoS\",\"PoW\",\"PoW\",\"PoW\",\"PoS\",\"PoW\",\"PoS\",\"PoW\",\"PoW\",\"PoW\",\"PoW/PoS\",\"PoW/PoS\",\"PoW\",\"PoW/PoS\",\"PoW/PoS\",\"PoW/PoS\",\"PoW\",\"PoW\",\"PoW/PoS\",\"PoW/PoS\",\"PoW/PoS\",\"PoW\",\"PoW\",\"PoS\",\"PoW\",\"PoW\",\"PoW/PoS\",\"PoW/PoS\",\"PoS\",\"PoS\",\"PoW\",\"PoW\",\"PoW\",\"PoW\",\"PoW/PoS\",\"PoW/PoS\",\"PoS\",\"PoS\",\"PoW\",\"PoW and PoS\",\"PoW\",\"PoW\",\"PoW/PoS\",\"PoW\",\"PoS\",\"PoW\",\"PoW\",\"PoW\",\"PoW/PoS\",\"PoW\",\"PoW\",\"PoS\",\"POBh\",\"PoW + Hive\",\"PoW\",\"PoW\",\"PoW\",\"PoW/PoS\",\"PoW/PoS\",\"PoW\",\"PoW\",\"PoW/PoS\",\"PoW\",\"PoW/PoS\",\"PoA\",\"PoW/PoS\",\"PoS/PoW\",\"PoW/PoS\",\"PoS\",\"PoS\",\"PoW\",\"PoW\",\"PoW\",\"PoW\",\"PoW\",\"PoW\",\"PoW\",\"PoW/PoS\",\"PoW\",\"PoW\",\"PoW/PoS\",\"PoW\",\"PoW/PoS\",\"PoW/PoS\",\"PoW\",\"PoW\",\"PoS\",\"PoW\",\"PoW\",\"PoW/PoS\",\"PoS\",\"PoS\",\"PoW/PoS\",\"PoW\",\"PoW/PoS\",\"DPoS\",\"PoW/PoS\",\"PoW\",\"PoW\",\"PoW/PoS\",\"PoS\",\"PoW\",\"PoS\",\"PoW/PoS\",\"PoW\",\"PoW\",\"PoS/PoW\",\"PoW\",\"PoS\",\"PoW\",\"PoS\",\"PoW/PoS\",\"PoW\",\"PoS\",\"PoW/PoS\",\"PoW\",\"PoW\",\"PoW/PoS\",\"PoW/PoS\",\"PoW\",\"PoS\",\"PoS\",\"PoW\",\"PoW/PoS\",\"PoW\",\"PoW/PoS\",\"PoS\",\"HPoW\",\"PoS\",\"PoW/PoS\",\"PoW\",\"PoS\",\"PoW/PoS\",\"PoS\",\"PoW\",\"PoW\",\"PoW\",\"PoS\",\"PoW/PoS\",\"PoS\",\"PoW/PoS\",\"PoS\",\"PoW/PoS\",\"PoW/PoS\",\"PoS\",\"PoS\",\"PoW\",\"PoW\",\"PoW\",\"PoW/PoS\",\"PoW\",\"PoW\",\"PoW/PoS\",\"PoW\",\"PoW\",\"PoW\",\"PoS\",\"PoW\",\"PoW/PoS\",\"PoS\",\"PoS\",\"PoW\",\"PoS\",\"PoW\",\"PoS\",\"PoW/PoS\",\"PoS\",\"PoW\",\"PoW/PoS\",\"PoW/PoS\",\"PoW/PoS\",\"PoW/PoS\",\"Zero-Knowledge Proof\",\"PoW\",\"DPOS\",\"PoW/PoS\",\"PoW\",\"PoS\",\"PoW\",\"PoW\",\"PoW\",\"PoW\",\"PoW\",\"PoS\",\"PoW\",\"PoS\",\"PoW\",\"Pos\",\"PoW\",\"PoW\",\"POS / MN\",\"PoW\",\"PoW/PoS\",\"PoW\",\"PoW\",\"PoW\",\"PoW\",\"PoW\",\"PoW\",\"PoS\",\"PoW\",\"PoW\",\"PoW/PoS\",\"PoW\",\"PoW/PoS\",\"PoW\",\"PoS\",\"PoW/PoS\",\"PoW\",\"PoW\",\"PoS\",\"PoW/PoS\",\"PoW\",\"PoW/PoS\",\"PoW/PoS\",\"PoW/PoS\",\"PoW\",\"PoW\",\"PoW\",\"PoW\",\"PoW/PoS\",\"DPoS\",\"PoS\",\"PoW\",\"PoW/PoS\",\"PoW\",\"PoW\",\"PoW\",\"PoW/PoS\",\"PoW\",\"PoW/PoS\",\"PoS\",\"PoW/PoS\",\"PoW\",\"PoW\",\"PoW/PoS\",\"PoW/PoS\",\"PoW/PoS\",\"PoW\",\"PoW/PoS\",\"PoW\",\"PoW\",\"PoW/PoS\",\"PoW/PoS\",\"PoW\",\"PoW/PoS\",\"PoW/PoS\",\"PoS\",\"PoW\",\"PoW\",\"Proof of Trust\",\"PoW/PoS\",\"DPoS\",\"PoS\",\"PoW/PoS\",\"PoW\",\"PoW/PoS\",\"PoW/PoS\",\"DPoC\",\"PoW\",\"PoW/PoS\",\"PoW\",\"PoW\",\"PoW/PoS\",\"PoW\",\"PoW\",\"PoS\",\"PoW/PoS\",\"LPoS\",\"PoS\",\"PoS\",\"DPoS\",\"DPoW\",\"PoS/LPoS\",\"DPoS\",\"PoW/PoS\",\"PoW\",\"PoW\",\"PoS\",\"PoW/PoS\"],\"TotalCoinSupply\":[\"42\",\"532000000\",\"314159265359\",\"21000000\",\"84000000\",\"22000000\",\"210000000\",\"21000000\",\"3600570502\",\"21000000000\",\"22000000\",\"1300000\",\"12500000\",\"21000000\",\"350000000\",\"20000000\",\"1600000\",\"7000000\",\"6000000\",\"16403135\",\"64000000\",\"16768584\",\"32000000\",\"2000000000\",\"384000000000\",\"169795588\",\"250000000\",\"100000000\",\"247000000\",\"84000000\",\"48166000\",\"21000000 \",\"500000\",\"27580000\",\"47433600\",\"21000000 \",\"1000000\",\"13140000\",\"114000000\",\"100000000\",\"18000000\",\"40000000000\",\"4380000\",\"16555000000\",\"3720000\",\"2043962\",\"21000000000\",\"13500000000\",\"21000000 \",\"75000000\",\"299792458\",\"32000000\",\"100000000000\",\"100000000\",\"624000\",\"2602410\",\"11235813\",\"336000000\",\"1420609614\",\"70000000\",\"72245700\",\"7000000\",\"120000000\",\"42000000\",\"90600000000\",\"22000000\",\"21000000\",\"3293010\",\"21600000\",\"265420800\",\"20000000\",\"1350000\",\"82003200\",\"1000000\",\"100000000\",\"42000000\",\"200000000\",\"10000000\",\"2419200000\",\"16180000\",\"50000000\",\"15000000000\",\"21000000\",\"337000000\",\"3770000\",\"420000000\",\"98000000\",\"12000000\",\"21000000\",\"250000000\",\"1000000\",\"1000000\",\"51200000\",\"50000000\",\"21000000\",\"1000\",\"888000000\",\"100000000\",\"47011968\",\"2300000000\",\"10000000\",\"42000000\",\"2625000\",\"80000000\",\"250000\",\"1600000000\",\"100000000\",\"23000000\",\"84000000\",\"265420800\",\"2000000\",\"5500000\",\"45000000\",\"50000000\",\"1000000000\",\"184467440735\",\"10000000000\",\"2158812800\",\"500000000\",\"105120000\",\"68000000\",\"1000000\",\"17000000\",\"1680000000\",\"166386000\",\"12000000\",\"2628000\",\"500000000\",\"160000000\",\"2014\",\"10000000\",\"12000000\",\"1000000000\",\"10110000\",\"210000000\",\"1000000000\",\"20000000\",\"3371337\",\"20000000\",\"10000000000\",\"1840000000\",\"84000000\",\"33000000\",\"619478\",\"21000000\",\"92000000000\",\"33000000\",\"78000000\",\"33000000\",\"65789100\",\"53760000\",\"5060000\",\"21000000\",\"210240000\",\"250000000\",\"100000000\",\"16906397\",\"2228921.184\",\"50000000\",\"1000000000\",\"3852156\",\"26298000\",\"16000000\",\"21000000\",\"21000000\",\"16500000000\",\"210000000\",\"81962100\",\"22000000\",\"26550000000\",\"84000000\",\"18446744\",\"10500000\",\"20190463.54969237\",\"21626280000 \",\"12000000\",\"42000000\",\"4200000\",\"15000000\",\"2250000000\",\"221052632\",\"5000000000\",\"84000000\",\"21000000000\",\"30000000\",\"168351300\",\"210000000\",\"18400000\",\"24000000\",\"384000000\",\"42000000\",\" 99000000000\",\"40000000\",\"2147483647\",\"20000000\",\"20000000\",\"84000000\",\"25000000\",\"100000\",\"21000000\",\"75000000\",\"15000000\",\"222725000\",\"2421227\",\"525000000\",\"90000000\",\"36000000\",\"139000000\",\"16000000\",\"74666667\",\"350000000\",\"616448\",\"33500000\",\"2000000000\",\"44333333\",\"100000000\",\"200000000\",\"25000000\",\"657000000\",\"200000000\",\"50000000\",\"100000000\",\"90000000\",\"10000000\",\"21000000\",\"9736000\",\"3000000\",\"21000000\",\"1200000000\",\"200000000\",\"10000000000\",\"10638298\",\"3100000000\",\"30000000\",\"20000000000\",\"74000000\",\"87500000\",\"1500000000\",\"10000000\",\"21400000\",\"2000000000\",\"39999898\",\"2500124\",\"126000000\",\"100000000\",\"301000000\",\"7506000000\",\"26205539\",\"100000000\",\"21000000\",\"125000000\",\"30000000\",\"1000000000\",\"10000000000\",\"21000000\",\"500000000\",\"850000000\",\"3853326.77707314\",\"50000000\",\"7000000000\",\"38540000 \",\"200000000 \",\"42000000\",\"228000000\",\"20000000\",\"60000000\",\"20000000\",\"33000000\",\"76500000\",\"28000000\",\"650659833\",\"5000000\",\"21000000\",\"144000000\",\"32514916898\",\"13000000\",\"3315789\",\"15000000\",\"78835200\",\"2714286\",\"25000000\",\"250000000\",\"9999999\",\"450000000\",\"100000000\",\"500000000\",\"21000000\",\"9354000\",\"100000000\",\"100640000\",\"20000000\",\"100000000000\",\"21933333\",\"20000000\",\"185000000\",\"55000000\",\"110000000\",\"115000000\",\"3360000\",\"14524851.4827\",\"1000000000\",\"17000000\",\"1000000000\",\"100000000 \",\"21000000\",\"454898394\",\"210000000\",\"34426423\",\"2232901\",\"100000000\",\"36900000\",\"110000000\",\"4000000000\",\"112000000\",\"110290030\",\"100000000\",\"48252000\",\"400000000\",\"500000000\",\"21212121\",\"28600000\",\"1000000000\",\"21000000\",\"75000000000\",\"40000000\",\"35520400\",\"1000000\",\"2000000000\",\"2500000000\",\"30000000\",\"105000000\",\"2093500000\",\"90000000000\",\"200084200\",\"72000000\",\"100000000\",\"105000000\",\"50000000000\",\"340282367\",\"30000000\",\"2000000000\",\"10000000\",\"100000000\",\"120000000\",\"100000000\",\"19276800\",\"30000000\",\" 75000000\",\"7905634\",\"60000000\",\"18900000\",\"50000000000\",\"54000000\",\"18898187.6216583\",\"21000000\",\"200000000000\",\"5000000000\",\"137500000\",\"1100000000\",\"100000000\",\"21000000\",\"9507271\",\"1010000000\",\"17405891.19707116\",\"86712634466\",\"10500000000\",\"61599965\",\"1000000000\",\"20000000\",\"84000000\",\"100000000\",\"100000000\",\"48252000\",\"4200000\",\"88888888\",\"91388946\",\"45000000000\",\"27000000\",\"21000000000\",\"400000000\",\"1800000000\",\"15733333\",\"27000000\",\"24000000\",\"21000000\",\"25000000000\",\"100000000\",\"1200000000\",\"60000000\",\"156306732.71\",\"21000000\",\"200000000\",\"100000000\",\"21000000\",\"14788275.991\",\"5000000\",\"3686860\",\"75000000\",\"9000000000\",\"350000000\",\"45000000\",\"300000000\",\"280000000\",\"105100000\",\"1970000000\",\"31800000\",\"50000000 \",\"300000000\",\"57879300\",\"144000000\",\"500000000\",\"30000000000\",\"210000000\",\"660000000\",\"27000000\",\"1000000000\",\"210000000\",\"85000000000\",\"12500000\",\"10000000000\",\"27716121\",\"100000000\",\"20000000\",\"550000000\",\"21000000\",\"999481516\",\"50000000000\",\"150000000\",\"4999999999\",\"50000000\",\"28000000\",\"90000000000\",\" 90000000000\",\"19800000\",\"50000000\",\"4600000\",\"70000000\",\"21000000\",\"32000000\",\"120000000\",\"500000000\",\"64000000\",\"900000000\",\"4000000\",\"21000000\",\"25000000000\",\"23000000\",\"20166000\",\"23000000\",\"50000000\",\"2000000000\",\"92233720000000000\",\"25000000\",\"1618033\",\"24000000\",\"30000000\",\"1000000000000\",\"16600000\",\"232000000\",\"336000000\",\"3980000000\",\"21000000\",\"17000000\",\"10000000000\",\"25000000\",\"100000000\",\"1100000000\",\"800000000\",\"5200000000\",\"840000000\",\"40000000\",\"18406979840\",\"21000000000\",\"72000000\",\"25000000\",\"31500000\",\"21000000\",\"69000000\",\"500000000\",\"19340594\",\"252460800\",\"25000000\",\"466666667\",\"60000000\",\"124000000\",\"1000000000\",\"6500000000\",\"22000000\",\"1000000000\",\"100000000\",\"21000000\",\"10044655075.56243680\",\"25000000\",\"32000000\",\"11892000\",\"14000000\",\"50000000\",\"84096000\",\"3000000\",\"5000000\",\"70000000\",\"22300000\",\"500000000\",\"23001916\",\"300000000\",\"210000000\",\"21000000\",\"88000000\",\"30000000\",\"21000000\",\"100000000\",\"100000000\",\"500000000\",\"840000000\",\"100000000\",\"200000000\",\"80000000\",\"18400000\",\"45000000\",\"5121951220\",\"21000000\",\"26280000\",\"21000000\",\"18000000\",\"26000000\",\"10500000\",\"30000000\",\"110000000\",\"600000518\",\"8148139\",\"7500000\",\"150000000\",\"184000000000\",\"100000000\",\"10200000000\",\"32000000\",\"62000000\",\"44000000\",\"168000000\",\"100000000\",\"1000000000\",\"84000000\",\"90000000\",\"92000000000\",\"650000000 \",\"250000000\",\"545399000\",\"100262205\",\"1713134800\",\"18081806 \",\"22075700\",\"21000000\",\"21000000\",\"15600000\",\"82546564\",\"21000000\",\"5151000\",\"16880000000\",\"36000000\",\"52500000\",\"100000000\",\"19000000\",\"50000000\",\"22105263\",\"1000000000\",\"1000000000\",\"1750000000\",\"88188888\",\"100000000\",\"210000000\",\"184470000000\",\"1000000000\",\"55000000\",\"50000000\",\"50000000\",\"260000000\",\"210000000\",\"175000000\",\"840000000\",\"2100000000\",\"70000000\",\"366000000\",\"100000000\",\"25000000\",\"36500000\",\"250000000\",\"18000000000\",\"21000000\",\"1000000000\",\"100000000\",\"1000000000\",\"252000000\",\"7600000000\",\"50000000\",\"29300000\",\"100000000000\",\"207000000\",\"84000000\",\"13666237\",\"200000000\",\"21000000\",\"38000000\",\"64000000\",\"70000000000\",\"100000000\",\"8080000000\",\"46000000\",\"6100000\",\"54000000\",\"42000000\",\"21000000\",\"105120001.44\",\"25228800\",\"7000000000\",\"20999764\",\"105000000\",\"21000000\",\"120000000\",\"21000000\",\"262800000\",\"19035999\",\"30886000\",\"13370000\",\"74800000000\",\"32700000\",\"100000000\",\"19700000\",\"84000000\",\"100000000\",\"500000000\",\"5000000000\",\"420000000\",\"105000000\",\"64000000\",\"2100000\",\"168000000\",\"30000000\",\"1000000000\",\"25000000\",\"10000000000\",\"35000000000\",\"18450000\",\"98100000000\",\"4000000000\",\"200000000\",\"7000000000\",\"54256119\",\"21000000\",\"500000000\",\"18400000\",\"1000000000\",\"10500000000\",\"190000000\",\"1000000000\",\"42000000\",\"15000000\",\"18446744\",\"50000000000\",\"25000000\",\"400000000\",\"105000000\",\"208000000\",\"160000000\",\"9000000\",\"5000000\",\"182000000\",\"16504333\",\"105000000\",\"159918400\",\"10008835635\",\"300000000\",\"890000000\",\"60168145\",\"300000000\",\"5000000000\",\"2800000\",\"120000\",\"2100000000\",\"210000000\",\"21000000\",\"24487944\",\"1000000000\",\"1000000000\",\"100000000000\",\"100000000\",\"8634140\",\"900000000\",\"990000000000\",\"11000000\",\"1000000000\",\"2000000000\",\"250000000\",\"1400222610\",\"21000000\",\"1000000\",\"100000000\"],\"TotalCoinsMined\":{\"__ndarray__\":\"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\",\"dtype\":\"float64\",\"order\":\"little\",\"shape\":[696]},\"class\":{\"__ndarray__\":\"AwAAAAMAAAADAAAAAQAAAAEAAAADAAAAAQAAAAEAAAADAAAAAQAAAAMAAAADAAAAAwAAAAEAAAADAAAAAQAAAAEAAAADAAAAAwAAAAMAAAABAAAAAwAAAAEAAAABAAAAAQAAAAEAAAABAAAAAQAAAAEAAAABAAAAAQAAAAEAAAADAAAAAQAAAAMAAAABAAAAAwAAAAEAAAADAAAAAwAAAAEAAAADAAAAAwAAAAEAAAADAAAAAQAAAAEAAAABAAAAAQAAAAEAAAABAAAAAQAAAAEAAAADAAAAAwAAAAEAAAABAAAAAQAAAAEAAAABAAAAAQAAAAMAAAADAAAAAQAAAAEAAAADAAAAAQAAAAMAAAADAAAAAQAAAAEAAAABAAAAAQAAAAMAAAADAAAAAQAAAAEAAAABAAAAAwAAAAMAAAABAAAAAQAAAAEAAAABAAAAAwAAAAMAAAADAAAAAQAAAAEAAAABAAAAAwAAAAMAAAABAAAAAQAAAAEAAAADAAAAAQAAAAMAAAABAAAAAwAAAAMAAAABAAAAAQAAAAEAAAABAAAAAwAAAAMAAAABAAAAAQAAAAEAAAADAAAAAwAAAAEAAAADAAAAAwAAAAEAAAABAAAAAwAAAAMAAAABAAAAAwAAAAEAAAADAAAAAQAAAAEAAAADAAAAAQAAAAMAAAABAAAAAwAAAAMAAAADAAAAAQAAAAMAAAABAAAAAQAAAAMAAAABAAAAAwAAAAEAAAABAAAAAQAAAAEAAAABAAAAAQAAAAEAAAABAAAAAwAAAAEAAAABAAAAAQAAAAMAAAABAAAAAQAAAAEAAAADAAAAAQAAAAMAAAADAAAAAwAAAAMAAAADAAAAAQAAAAEAAAADAAAAAQAAAAEAAAABAAAAAwAAAAMAAAABAAAAAQAAAAMAAAADAAAAAQAAAAMAAAADAAAAAwAAAAEAAAABAAAAAwAAAAEAAAABAAAAAQAAAAEAAAABAAAAAwAAAAEAAAABAAAAAwAAAAEAAAADAAAAAwAAAAMAAAADAAAAAQAAAAEAAAABAAAAAwAAAAMAAAADAAAAAwAAAAMAAAABAAAAAwAAAAMAAAADAAAAAwAAAAMAAAADAAAAAwAAAAEAAAADAAAAAwAAAAMAAAADAAAAAwAAAAEAAAADAAAAAQAAAAMAAAADAAAAAwAAAAEAAAADAAAAAQAAAAMAAAADAAAAAQAAAAEAAAADAAAAAQAAAAMAAAABAAAAAwAAAAMAAAABAAAAAwAAAAEAAAABAAAAAQAAAAMAAAADAAAAAQAAAAMAAAADAAAAAwAAAAEAAAABAAAAAQAAAAMAAAADAAAAAwAAAAEAAAABAAAAAQAAAAMAAAADAAAAAwAAAAMAAAADAAAAAwAAAAMAAAABAAAAAwAAAAMAAAADAAAAAwAAAAMAAAADAAAAAwAAAAMAAAABAAAAAwAAAAMAAAADAAAAAwAAAAMAAAADAAAAAQAAAAEAAAADAAAAAQAAAAMAAAADAAAAAwAAAAMAAAADAAAAAwAAAAEAAAADAAAAAQAAAAMAAAABAAAAAQAAAAMAAAADAAAAAQAAAAEAAAADAAAAAQAAAAEAAAADAAAAAQAAAAEAAAABAAAAAQAAAAMAAAABAAAAAwAAAAMAAAADAAAAAQAAAAMAAAADAAAAAwAAAAEAAAADAAAAAwAAAAMAAAADAAAAAwAAAAEAAAADAAAAAwAAAAEAAAABAAAAAwAAAAEAAAADAAAAAwAAAAMAAAADAAAAAwAAAAEAAAADAAAAAQAAAAMAAAABAAAAAQAAAAEAAAADAAAAAQAAAAMAAAADAAAAAQAAAAMAAAABAAAAAwAAAAEAAAABAAAAAwAAAAEAAAADAAAAAQAAAAEAAAABAAAAAwAAAAEAAAADAAAAAQAAAAMAAAABAAAAAwAAAAAAAAABAAAAAwAAAAEAAAABAAAAAQAAAAEAAAABAAAAAwAAAAMAAAABAAAAAwAAAAMAAAADAAAAAQAAAAMAAAABAAAAAwAAAAEAAAADAAAAAQAAAAMAAAADAAAAAwAAAAMAAAABAAAAAwAAAAMAAAABAAAAAwAAAAMAAAADAAAAAwAAAAMAAAADAAAAAQAAAAEAAAABAAAAAQAAAAEAAAADAAAAAQAAAAMAAAABAAAAAwAAAAMAAAADAAAAAwAAAAMAAAABAAAAAQAAAAMAAAADAAAAAQAAAAEAAAABAAAAAwAAAAEAAAADAAAAAQAAAAEAAAABAAAAAwAAAAMAAAABAAAAAwAAAAMAAAADAAAAAQAAAAEAAAADAAAAAwAAAAMAAAABAAAAAQAAAAMAAAABAAAAAQAAAAMAAAADAAAAAwAAAAMAAAABAAAAAQAAAAEAAAABAAAAAwAAAAMAAAADAAAAAQAAAAEAAAADAAAAAQAAAAEAAAADAAAAAQAAAAMAAAABAAAAAQAAAAEAAAADAAAAAQAAAAEAAAADAAAAAAAAAAAAAAABAAAAAQAAAAEAAAADAAAAAwAAAAEAAAABAAAAAwAAAAEAAAADAAAAAAAAAAMAAAADAAAAAwAAAAMAAAADAAAAAQAAAAEAAAABAAAAAQAAAAEAAAABAAAAAQAAAAMAAAABAAAAAQAAAAMAAAABAAAAAwAAAAMAAAABAAAAAQAAAAMAAAABAAAAAQAAAAMAAAADAAAAAwAAAAMAAAABAAAAAwAAAAMAAAADAAAAAQAAAAEAAAADAAAAAwAAAAEAAAADAAAAAwAAAAEAAAABAAAAAwAAAAEAAAADAAAAAQAAAAMAAAADAAAAAQAAAAMAAAADAAAAAQAAAAEAAAADAAAAAwAAAAEAAAADAAAAAwAAAAEAAAADAAAAAQAAAAMAAAADAAAAAwAAAAMAAAADAAAAAQAAAAMAAAADAAAAAwAAAAEAAAABAAAAAQAAAAMAAAADAAAAAwAAAAMAAAADAAAAAwAAAAMAAAADAAAAAwAAAAEAAAABAAAAAQAAAAMAAAABAAAAAQAAAAMAAAABAAAAAQAAAAEAAAADAAAAAQAAAAMAAAADAAAAAwAAAAEAAAADAAAAAQAAAAMAAAADAAAAAwAAAAEAAAADAAAAAwAAAAMAAAADAAAAAwAAAAEAAAAAAAAAAwAAAAEAAAADAAAAAQAAAAEAAAABAAAAAQAAAAEAAAADAAAAAQAAAAMAAAABAAAAAwAAAAEAAAABAAAAAwAAAAEAAAADAAAAAQAAAAEAAAABAAAAAQAAAAEAAAABAAAAAwAAAAEAAAABAAAAAwAAAAEAAAADAAAAAQAAAAMAAAADAAAAAQAAAAEAAAADAAAAAwAAAAEAAAADAAAAAwAAAAMAAAABAAAAAQAAAAEAAAABAAAAAwAAAAMAAAADAAAAAQAAAAMAAAABAAAAAQAAAAEAAAADAAAAAQAAAAMAAAADAAAAAwAAAAEAAAABAAAAAwAAAAMAAAADAAAAAQAAAAMAAAABAAAAAQAAAAMAAAADAAAAAQAAAAMAAAADAAAAAwAAAAEAAAABAAAAAwAAAAMAAAADAAAAAwAAAAMAAAABAAAAAwAAAAMAAAAAAAAAAQAAAAMAAAABAAAAAQAAAAMAAAABAAAAAQAAAAMAAAADAAAAAAAAAAMAAAADAAAAAgAAAAEAAAADAAAAAwAAAAMAAAABAAAAAQAAAAMAAAADAAAA\",\"dtype\":\"int32\",\"order\":\"little\",\"shape\":[696]}},\"selected\":{\"id\":\"1779\"},\"selection_policy\":{\"id\":\"1814\"}},\"id\":\"1778\",\"type\":\"ColumnDataSource\"},{\"attributes\":{},\"id\":\"1795\",\"type\":\"StringFormatter\"},{\"attributes\":{},\"id\":\"1781\",\"type\":\"StringEditor\"},{\"attributes\":{},\"id\":\"1805\",\"type\":\"NumberFormatter\"},{\"attributes\":{\"margin\":[5,5,5,5],\"name\":\"HSpacer03056\",\"sizing_mode\":\"stretch_width\"},\"id\":\"1777\",\"type\":\"Spacer\"},{\"attributes\":{\"editor\":{\"id\":\"1781\"},\"field\":\"CoinName\",\"formatter\":{\"id\":\"1780\"},\"title\":\"CoinName\"},\"id\":\"1782\",\"type\":\"TableColumn\"},{\"attributes\":{},\"id\":\"1796\",\"type\":\"StringEditor\"},{\"attributes\":{},\"id\":\"1806\",\"type\":\"IntEditor\"},{\"attributes\":{\"editor\":{\"id\":\"1796\"},\"field\":\"TotalCoinSupply\",\"formatter\":{\"id\":\"1795\"},\"title\":\"TotalCoinSupply\"},\"id\":\"1797\",\"type\":\"TableColumn\"},{\"attributes\":{\"source\":{\"id\":\"1778\"}},\"id\":\"1812\",\"type\":\"CDSView\"},{\"attributes\":{},\"id\":\"1785\",\"type\":\"StringFormatter\"},{\"attributes\":{},\"id\":\"1779\",\"type\":\"Selection\"},{\"attributes\":{\"margin\":[5,5,5,5],\"name\":\"HSpacer03057\",\"sizing_mode\":\"stretch_width\"},\"id\":\"1817\",\"type\":\"Spacer\"},{\"attributes\":{\"format\":\"0,0.0[00000]\"},\"id\":\"1800\",\"type\":\"NumberFormatter\"},{\"attributes\":{},\"id\":\"1786\",\"type\":\"StringEditor\"},{\"attributes\":{\"children\":[{\"id\":\"1777\"},{\"id\":\"1810\"},{\"id\":\"1817\"}],\"margin\":[0,0,0,0],\"name\":\"Row03052\",\"tags\":[\"embedded\"]},\"id\":\"1776\",\"type\":\"Row\"},{\"attributes\":{\"editor\":{\"id\":\"1786\"},\"field\":\"Algorithm\",\"formatter\":{\"id\":\"1785\"},\"title\":\"Algorithm\"},\"id\":\"1787\",\"type\":\"TableColumn\"},{\"attributes\":{},\"id\":\"1801\",\"type\":\"NumberEditor\"},{\"attributes\":{},\"id\":\"1814\",\"type\":\"UnionRenderers\"},{\"attributes\":{},\"id\":\"1790\",\"type\":\"StringFormatter\"},{\"attributes\":{\"editor\":{\"id\":\"1791\"},\"field\":\"ProofType\",\"formatter\":{\"id\":\"1790\"},\"title\":\"ProofType\"},\"id\":\"1792\",\"type\":\"TableColumn\"},{\"attributes\":{\"columns\":[{\"id\":\"1782\"},{\"id\":\"1787\"},{\"id\":\"1792\"},{\"id\":\"1797\"},{\"id\":\"1802\"},{\"id\":\"1807\"}],\"height\":300,\"reorderable\":false,\"source\":{\"id\":\"1778\"},\"view\":{\"id\":\"1812\"},\"width\":700},\"id\":\"1810\",\"type\":\"DataTable\"},{\"attributes\":{\"editor\":{\"id\":\"1806\"},\"field\":\"class\",\"formatter\":{\"id\":\"1805\"},\"title\":\"class\"},\"id\":\"1807\",\"type\":\"TableColumn\"},{\"attributes\":{},\"id\":\"1791\",\"type\":\"StringEditor\"},{\"attributes\":{\"editor\":{\"id\":\"1801\"},\"field\":\"TotalCoinsMined\",\"formatter\":{\"id\":\"1800\"},\"title\":\"TotalCoinsMined\"},\"id\":\"1802\",\"type\":\"TableColumn\"},{\"attributes\":{},\"id\":\"1780\",\"type\":\"StringFormatter\"}],\"root_ids\":[\"1776\"]},\"title\":\"Bokeh Application\",\"version\":\"2.3.3\"}};\n",
       "    var render_items = [{\"docid\":\"5f00b987-b5e3-4ba5-be2f-fe7364797630\",\"root_ids\":[\"1776\"],\"roots\":{\"1776\":\"7fe14f3f-9cc4-4b25-bea3-51c9175e5fdb\"}}];\n",
       "    root.Bokeh.embed.embed_items_notebook(docs_json, render_items);\n",
       "  }\n",
       "  if (root.Bokeh !== undefined && root.Bokeh.Panel !== undefined) {\n",
       "    embed_document(root);\n",
       "  } else {\n",
       "    var attempts = 0;\n",
       "    var timer = setInterval(function(root) {\n",
       "      if (root.Bokeh !== undefined && root.Bokeh.Panel !== undefined) {\n",
       "        clearInterval(timer);\n",
       "        embed_document(root);\n",
       "      } else if (document.readyState == \"complete\") {\n",
       "        attempts++;\n",
       "        if (attempts > 200) {\n",
       "          clearInterval(timer);\n",
       "          console.log(\"Bokeh: ERROR: Unable to run BokehJS code because BokehJS library is missing\");\n",
       "        }\n",
       "      }\n",
       "    }, 25, root)\n",
       "  }\n",
       "})(window);</script>"
      ],
      "text/plain": [
       ":Table   [CoinName,Algorithm,ProofType,TotalCoinSupply,TotalCoinsMined,class]"
      ]
     },
     "execution_count": 190,
     "metadata": {
      "application/vnd.holoviews_exec.v0+json": {
       "id": "1776"
      }
     },
     "output_type": "execute_result"
    }
   ],
   "source": [
    "# Create a table with tradable cryptocurrencies.\n",
    "clustered_df.hvplot.table(columns=['CoinName', 'Algorithm', 'ProofType', 'TotalCoinSupply', 'TotalCoinsMined', 'class'], sortable=True, selectable=True)"
   ]
  },
  {
   "cell_type": "code",
   "execution_count": 191,
   "metadata": {},
   "outputs": [
    {
     "name": "stdout",
     "output_type": "stream",
     "text": [
      "There are 696 tradable cryptocurrencies\n"
     ]
    }
   ],
   "source": [
    "# Print the total number of tradable cryptocurrencies.\n",
    "unique_values = clustered_df['CoinName'].value_counts()\n",
    "x = unique_values.sum()\n",
    "\n",
    "print (f\"There are {x} tradable cryptocurrencies\")"
   ]
  },
  {
   "cell_type": "code",
   "execution_count": 192,
   "metadata": {},
   "outputs": [],
   "source": [
    "# Scaling data to create the scatter plot with tradable cryptocurrencies.\n",
    "min_max_scaler = MinMaxScaler()\n",
    "X = clustered_df[['TotalCoinSupply', 'TotalCoinsMined']]\n",
    "cluster_data_scaled = min_max_scaler.fit_transform(X)\n"
   ]
  },
  {
   "cell_type": "code",
   "execution_count": 193,
   "metadata": {},
   "outputs": [
    {
     "data": {
      "text/html": [
       "<div>\n",
       "<style scoped>\n",
       "    .dataframe tbody tr th:only-of-type {\n",
       "        vertical-align: middle;\n",
       "    }\n",
       "\n",
       "    .dataframe tbody tr th {\n",
       "        vertical-align: top;\n",
       "    }\n",
       "\n",
       "    .dataframe thead th {\n",
       "        text-align: right;\n",
       "    }\n",
       "</style>\n",
       "<table border=\"1\" class=\"dataframe\">\n",
       "  <thead>\n",
       "    <tr style=\"text-align: right;\">\n",
       "      <th></th>\n",
       "      <th>PC 1</th>\n",
       "      <th>PC 2</th>\n",
       "      <th>PC 3</th>\n",
       "      <th>class</th>\n",
       "      <th>CoinName</th>\n",
       "      <th>Algorithm</th>\n",
       "      <th>ProofType</th>\n",
       "      <th>TotalCoinsMined</th>\n",
       "      <th>TotalCoinSupply</th>\n",
       "    </tr>\n",
       "    <tr>\n",
       "      <th>Unnamed: 0</th>\n",
       "      <th></th>\n",
       "      <th></th>\n",
       "      <th></th>\n",
       "      <th></th>\n",
       "      <th></th>\n",
       "      <th></th>\n",
       "      <th></th>\n",
       "      <th></th>\n",
       "      <th></th>\n",
       "    </tr>\n",
       "  </thead>\n",
       "  <tbody>\n",
       "    <tr>\n",
       "      <th>42</th>\n",
       "      <td>-0.116098</td>\n",
       "      <td>1.285334</td>\n",
       "      <td>-0.519098</td>\n",
       "      <td>3</td>\n",
       "      <td>42 Coin</td>\n",
       "      <td>Scrypt</td>\n",
       "      <td>PoW/PoS</td>\n",
       "      <td>0.005942</td>\n",
       "      <td>0.000000e+00</td>\n",
       "    </tr>\n",
       "    <tr>\n",
       "      <th>404</th>\n",
       "      <td>-0.100852</td>\n",
       "      <td>1.283294</td>\n",
       "      <td>-0.519748</td>\n",
       "      <td>3</td>\n",
       "      <td>404Coin</td>\n",
       "      <td>Scrypt</td>\n",
       "      <td>PoW/PoS</td>\n",
       "      <td>0.007002</td>\n",
       "      <td>5.767955e-09</td>\n",
       "    </tr>\n",
       "    <tr>\n",
       "      <th>1337</th>\n",
       "      <td>0.492302</td>\n",
       "      <td>1.854651</td>\n",
       "      <td>-0.516970</td>\n",
       "      <td>3</td>\n",
       "      <td>EliteCoin</td>\n",
       "      <td>X13</td>\n",
       "      <td>PoW/PoS</td>\n",
       "      <td>0.035342</td>\n",
       "      <td>3.406122e-06</td>\n",
       "    </tr>\n",
       "    <tr>\n",
       "      <th>BTC</th>\n",
       "      <td>-0.197199</td>\n",
       "      <td>-1.509533</td>\n",
       "      <td>0.152186</td>\n",
       "      <td>1</td>\n",
       "      <td>Bitcoin</td>\n",
       "      <td>SHA-256</td>\n",
       "      <td>PoW</td>\n",
       "      <td>0.005960</td>\n",
       "      <td>2.276820e-10</td>\n",
       "    </tr>\n",
       "    <tr>\n",
       "      <th>LTC</th>\n",
       "      <td>-0.288493</td>\n",
       "      <td>-0.950524</td>\n",
       "      <td>-0.041919</td>\n",
       "      <td>1</td>\n",
       "      <td>Litecoin</td>\n",
       "      <td>Scrypt</td>\n",
       "      <td>PoW</td>\n",
       "      <td>0.006006</td>\n",
       "      <td>9.107294e-10</td>\n",
       "    </tr>\n",
       "  </tbody>\n",
       "</table>\n",
       "</div>"
      ],
      "text/plain": [
       "                PC 1      PC 2      PC 3  class   CoinName Algorithm  \\\n",
       "Unnamed: 0                                                             \n",
       "42         -0.116098  1.285334 -0.519098      3    42 Coin    Scrypt   \n",
       "404        -0.100852  1.283294 -0.519748      3    404Coin    Scrypt   \n",
       "1337        0.492302  1.854651 -0.516970      3  EliteCoin       X13   \n",
       "BTC        -0.197199 -1.509533  0.152186      1    Bitcoin   SHA-256   \n",
       "LTC        -0.288493 -0.950524 -0.041919      1   Litecoin    Scrypt   \n",
       "\n",
       "           ProofType  TotalCoinsMined  TotalCoinSupply  \n",
       "Unnamed: 0                                              \n",
       "42           PoW/PoS         0.005942     0.000000e+00  \n",
       "404          PoW/PoS         0.007002     5.767955e-09  \n",
       "1337         PoW/PoS         0.035342     3.406122e-06  \n",
       "BTC              PoW         0.005960     2.276820e-10  \n",
       "LTC              PoW         0.006006     9.107294e-10  "
      ]
     },
     "execution_count": 193,
     "metadata": {},
     "output_type": "execute_result"
    }
   ],
   "source": [
    "clustered_df[['TotalCoinSupply', 'TotalCoinsMined']] = cluster_data_scaled\n",
    "clustered_df.head()"
   ]
  },
  {
   "cell_type": "code",
   "execution_count": 194,
   "metadata": {},
   "outputs": [
    {
     "data": {
      "text/html": [
       "<div>\n",
       "<style scoped>\n",
       "    .dataframe tbody tr th:only-of-type {\n",
       "        vertical-align: middle;\n",
       "    }\n",
       "\n",
       "    .dataframe tbody tr th {\n",
       "        vertical-align: top;\n",
       "    }\n",
       "\n",
       "    .dataframe thead th {\n",
       "        text-align: right;\n",
       "    }\n",
       "</style>\n",
       "<table border=\"1\" class=\"dataframe\">\n",
       "  <thead>\n",
       "    <tr style=\"text-align: right;\">\n",
       "      <th></th>\n",
       "      <th>TotalCoinSupply</th>\n",
       "      <th>TotalCoinsMined</th>\n",
       "      <th>class</th>\n",
       "      <th>CoinName</th>\n",
       "    </tr>\n",
       "    <tr>\n",
       "      <th>Unnamed: 0</th>\n",
       "      <th></th>\n",
       "      <th></th>\n",
       "      <th></th>\n",
       "      <th></th>\n",
       "    </tr>\n",
       "  </thead>\n",
       "  <tbody>\n",
       "    <tr>\n",
       "      <th>42</th>\n",
       "      <td>0.000000e+00</td>\n",
       "      <td>0.005942</td>\n",
       "      <td>3</td>\n",
       "      <td>42 Coin</td>\n",
       "    </tr>\n",
       "    <tr>\n",
       "      <th>404</th>\n",
       "      <td>5.767955e-09</td>\n",
       "      <td>0.007002</td>\n",
       "      <td>3</td>\n",
       "      <td>404Coin</td>\n",
       "    </tr>\n",
       "    <tr>\n",
       "      <th>1337</th>\n",
       "      <td>3.406122e-06</td>\n",
       "      <td>0.035342</td>\n",
       "      <td>3</td>\n",
       "      <td>EliteCoin</td>\n",
       "    </tr>\n",
       "    <tr>\n",
       "      <th>BTC</th>\n",
       "      <td>2.276820e-10</td>\n",
       "      <td>0.005960</td>\n",
       "      <td>1</td>\n",
       "      <td>Bitcoin</td>\n",
       "    </tr>\n",
       "    <tr>\n",
       "      <th>LTC</th>\n",
       "      <td>9.107294e-10</td>\n",
       "      <td>0.006006</td>\n",
       "      <td>1</td>\n",
       "      <td>Litecoin</td>\n",
       "    </tr>\n",
       "    <tr>\n",
       "      <th>DASH</th>\n",
       "      <td>2.385240e-10</td>\n",
       "      <td>0.005951</td>\n",
       "      <td>3</td>\n",
       "      <td>Dash</td>\n",
       "    </tr>\n",
       "    <tr>\n",
       "      <th>ETC</th>\n",
       "      <td>2.276824e-09</td>\n",
       "      <td>0.006056</td>\n",
       "      <td>1</td>\n",
       "      <td>Ethereum Classic</td>\n",
       "    </tr>\n",
       "    <tr>\n",
       "      <th>ZEC</th>\n",
       "      <td>2.276820e-10</td>\n",
       "      <td>0.005950</td>\n",
       "      <td>1</td>\n",
       "      <td>ZCash</td>\n",
       "    </tr>\n",
       "    <tr>\n",
       "      <th>BTS</th>\n",
       "      <td>3.903746e-08</td>\n",
       "      <td>0.008695</td>\n",
       "      <td>3</td>\n",
       "      <td>Bitshares</td>\n",
       "    </tr>\n",
       "    <tr>\n",
       "      <th>DGB</th>\n",
       "      <td>2.276825e-07</td>\n",
       "      <td>0.017395</td>\n",
       "      <td>1</td>\n",
       "      <td>DigiByte</td>\n",
       "    </tr>\n",
       "  </tbody>\n",
       "</table>\n",
       "</div>"
      ],
      "text/plain": [
       "            TotalCoinSupply  TotalCoinsMined  class          CoinName\n",
       "Unnamed: 0                                                           \n",
       "42             0.000000e+00         0.005942      3           42 Coin\n",
       "404            5.767955e-09         0.007002      3           404Coin\n",
       "1337           3.406122e-06         0.035342      3         EliteCoin\n",
       "BTC            2.276820e-10         0.005960      1           Bitcoin\n",
       "LTC            9.107294e-10         0.006006      1          Litecoin\n",
       "DASH           2.385240e-10         0.005951      3              Dash\n",
       "ETC            2.276824e-09         0.006056      1  Ethereum Classic\n",
       "ZEC            2.276820e-10         0.005950      1             ZCash\n",
       "BTS            3.903746e-08         0.008695      3         Bitshares\n",
       "DGB            2.276825e-07         0.017395      1          DigiByte"
      ]
     },
     "execution_count": 194,
     "metadata": {},
     "output_type": "execute_result"
    }
   ],
   "source": [
    "# Create a new DataFrame that has the scaled data with the clustered_df DataFrame index.\n",
    "plot_df = clustered_df[['TotalCoinSupply', 'TotalCoinsMined', \"class\", \"CoinName\"]]\n",
    "plot_df.head(10)\n"
   ]
  },
  {
   "cell_type": "code",
   "execution_count": 195,
   "metadata": {},
   "outputs": [
    {
     "data": {},
     "metadata": {},
     "output_type": "display_data"
    },
    {
     "data": {
      "application/vnd.holoviews_exec.v0+json": "",
      "text/html": [
       "<div id='1829'>\n",
       "\n",
       "\n",
       "\n",
       "\n",
       "\n",
       "  <div class=\"bk-root\" id=\"37462943-d6a6-4493-8209-60919e6ee0d0\" data-root-id=\"1829\"></div>\n",
       "</div>\n",
       "<script type=\"application/javascript\">(function(root) {\n",
       "  function embed_document(root) {\n",
       "    var docs_json = {\"3df9a4bc-ffb6-4201-92da-e5cde892ad9b\":{\"defs\":[{\"extends\":null,\"module\":null,\"name\":\"ReactiveHTML1\",\"overrides\":[],\"properties\":[]},{\"extends\":null,\"module\":null,\"name\":\"FlexBox1\",\"overrides\":[],\"properties\":[{\"default\":\"flex-start\",\"kind\":null,\"name\":\"align_content\"},{\"default\":\"flex-start\",\"kind\":null,\"name\":\"align_items\"},{\"default\":\"row\",\"kind\":null,\"name\":\"flex_direction\"},{\"default\":\"wrap\",\"kind\":null,\"name\":\"flex_wrap\"},{\"default\":\"flex-start\",\"kind\":null,\"name\":\"justify_content\"}]},{\"extends\":null,\"module\":null,\"name\":\"TemplateActions1\",\"overrides\":[],\"properties\":[{\"default\":0,\"kind\":null,\"name\":\"open_modal\"},{\"default\":0,\"kind\":null,\"name\":\"close_modal\"}]},{\"extends\":null,\"module\":null,\"name\":\"MaterialTemplateActions1\",\"overrides\":[],\"properties\":[{\"default\":0,\"kind\":null,\"name\":\"open_modal\"},{\"default\":0,\"kind\":null,\"name\":\"close_modal\"}]}],\"roots\":{\"references\":[{\"attributes\":{},\"id\":\"1842\",\"type\":\"LinearScale\"},{\"attributes\":{},\"id\":\"1913\",\"type\":\"UnionRenderers\"},{\"attributes\":{\"axis\":{\"id\":\"1850\"},\"dimension\":1,\"grid_line_color\":null,\"ticker\":null},\"id\":\"1853\",\"type\":\"Grid\"},{\"attributes\":{\"fill_alpha\":{\"value\":0.2},\"fill_color\":{\"value\":\"#e5ae38\"},\"line_alpha\":{\"value\":0.2},\"line_color\":{\"value\":\"#e5ae38\"},\"size\":{\"value\":5.477225575051661},\"x\":{\"field\":\"TotalCoinsMined\"},\"y\":{\"field\":\"TotalCoinSupply\"}},\"id\":\"1921\",\"type\":\"Scatter\"},{\"attributes\":{},\"id\":\"1847\",\"type\":\"BasicTicker\"},{\"attributes\":{\"angle\":{\"value\":0.0},\"fill_alpha\":{\"value\":1.0},\"fill_color\":{\"value\":\"#30a2da\"},\"hatch_alpha\":{\"value\":1.0},\"hatch_color\":{\"value\":\"black\"},\"hatch_scale\":{\"value\":12.0},\"hatch_weight\":{\"value\":1.0},\"line_alpha\":{\"value\":1.0},\"line_cap\":{\"value\":\"butt\"},\"line_color\":{\"value\":\"#30a2da\"},\"line_dash\":{\"value\":[]},\"line_dash_offset\":{\"value\":0},\"line_join\":{\"value\":\"bevel\"},\"line_width\":{\"value\":1},\"marker\":{\"value\":\"circle\"},\"size\":{\"value\":5.477225575051661},\"x\":{\"field\":\"TotalCoinsMined\"},\"y\":{\"field\":\"TotalCoinSupply\"}},\"id\":\"1893\",\"type\":\"Scatter\"},{\"attributes\":{\"axis\":{\"id\":\"1846\"},\"grid_line_color\":null,\"ticker\":null},\"id\":\"1849\",\"type\":\"Grid\"},{\"attributes\":{},\"id\":\"1851\",\"type\":\"BasicTicker\"},{\"attributes\":{\"axis_label\":\"TotalCoinSupply\",\"formatter\":{\"id\":\"1870\"},\"major_label_policy\":{\"id\":\"1871\"},\"ticker\":{\"id\":\"1851\"}},\"id\":\"1850\",\"type\":\"LinearAxis\"},{\"attributes\":{\"fill_alpha\":{\"value\":0.1},\"fill_color\":{\"value\":\"#30a2da\"},\"line_alpha\":{\"value\":0.1},\"line_color\":{\"value\":\"#30a2da\"},\"size\":{\"value\":5.477225575051661},\"x\":{\"field\":\"TotalCoinsMined\"},\"y\":{\"field\":\"TotalCoinSupply\"}},\"id\":\"1877\",\"type\":\"Scatter\"},{\"attributes\":{\"source\":{\"id\":\"1916\"}},\"id\":\"1923\",\"type\":\"CDSView\"},{\"attributes\":{},\"id\":\"1871\",\"type\":\"AllLabels\"},{\"attributes\":{\"active_multi\":null,\"tools\":[{\"id\":\"1833\"},{\"id\":\"1854\"},{\"id\":\"1855\"},{\"id\":\"1856\"},{\"id\":\"1857\"},{\"id\":\"1858\"}]},\"id\":\"1860\",\"type\":\"Toolbar\"},{\"attributes\":{\"fill_alpha\":{\"value\":0.2},\"fill_color\":{\"value\":\"#30a2da\"},\"line_alpha\":{\"value\":0.2},\"line_color\":{\"value\":\"#30a2da\"},\"size\":{\"value\":5.477225575051661},\"x\":{\"field\":\"TotalCoinsMined\"},\"y\":{\"field\":\"TotalCoinSupply\"}},\"id\":\"1878\",\"type\":\"Scatter\"},{\"attributes\":{},\"id\":\"1854\",\"type\":\"SaveTool\"},{\"attributes\":{\"angle\":{\"value\":0.0},\"fill_alpha\":{\"value\":1.0},\"fill_color\":{\"value\":\"#fc4f30\"},\"hatch_alpha\":{\"value\":1.0},\"hatch_color\":{\"value\":\"black\"},\"hatch_scale\":{\"value\":12.0},\"hatch_weight\":{\"value\":1.0},\"line_alpha\":{\"value\":1.0},\"line_cap\":{\"value\":\"butt\"},\"line_color\":{\"value\":\"#fc4f30\"},\"line_dash\":{\"value\":[]},\"line_dash_offset\":{\"value\":0},\"line_join\":{\"value\":\"bevel\"},\"line_width\":{\"value\":1},\"marker\":{\"value\":\"circle\"},\"size\":{\"value\":5.477225575051661},\"x\":{\"field\":\"TotalCoinsMined\"},\"y\":{\"field\":\"TotalCoinSupply\"}},\"id\":\"1915\",\"type\":\"Scatter\"},{\"attributes\":{},\"id\":\"1855\",\"type\":\"PanTool\"},{\"attributes\":{\"end\":1.1,\"reset_end\":1.1,\"reset_start\":-0.1,\"start\":-0.1,\"tags\":[[[\"TotalCoinSupply\",\"TotalCoinSupply\",null]]]},\"id\":\"1832\",\"type\":\"Range1d\"},{\"attributes\":{},\"id\":\"1856\",\"type\":\"WheelZoomTool\"},{\"attributes\":{\"fill_color\":{\"value\":\"#fc4f30\"},\"line_color\":{\"value\":\"#fc4f30\"},\"size\":{\"value\":5.477225575051661},\"x\":{\"field\":\"TotalCoinsMined\"},\"y\":{\"field\":\"TotalCoinSupply\"}},\"id\":\"1897\",\"type\":\"Scatter\"},{\"attributes\":{\"overlay\":{\"id\":\"1859\"}},\"id\":\"1857\",\"type\":\"BoxZoomTool\"},{\"attributes\":{\"fill_alpha\":{\"value\":0.1},\"fill_color\":{\"value\":\"#e5ae38\"},\"line_alpha\":{\"value\":0.1},\"line_color\":{\"value\":\"#e5ae38\"},\"size\":{\"value\":5.477225575051661},\"x\":{\"field\":\"TotalCoinsMined\"},\"y\":{\"field\":\"TotalCoinSupply\"}},\"id\":\"1920\",\"type\":\"Scatter\"},{\"attributes\":{\"axis_label\":\"TotalCoinsMined\",\"formatter\":{\"id\":\"1867\"},\"major_label_policy\":{\"id\":\"1868\"},\"ticker\":{\"id\":\"1847\"}},\"id\":\"1846\",\"type\":\"LinearAxis\"},{\"attributes\":{\"fill_color\":{\"value\":\"#e5ae38\"},\"line_color\":{\"value\":\"#e5ae38\"},\"size\":{\"value\":5.477225575051661},\"x\":{\"field\":\"TotalCoinsMined\"},\"y\":{\"field\":\"TotalCoinSupply\"}},\"id\":\"1919\",\"type\":\"Scatter\"},{\"attributes\":{\"source\":{\"id\":\"1873\"}},\"id\":\"1880\",\"type\":\"CDSView\"},{\"attributes\":{\"data_source\":{\"id\":\"1916\"},\"glyph\":{\"id\":\"1919\"},\"hover_glyph\":null,\"muted_glyph\":{\"id\":\"1921\"},\"nonselection_glyph\":{\"id\":\"1920\"},\"selection_glyph\":{\"id\":\"1939\"},\"view\":{\"id\":\"1923\"}},\"id\":\"1922\",\"type\":\"GlyphRenderer\"},{\"attributes\":{},\"id\":\"1917\",\"type\":\"Selection\"},{\"attributes\":{\"margin\":[5,5,5,5],\"name\":\"HSpacer03246\",\"sizing_mode\":\"stretch_width\"},\"id\":\"1830\",\"type\":\"Spacer\"},{\"attributes\":{},\"id\":\"1858\",\"type\":\"ResetTool\"},{\"attributes\":{\"label\":{\"value\":\"3\"},\"renderers\":[{\"id\":\"1946\"}]},\"id\":\"1964\",\"type\":\"LegendItem\"},{\"attributes\":{\"label\":{\"value\":\"2\"},\"renderers\":[{\"id\":\"1922\"}]},\"id\":\"1938\",\"type\":\"LegendItem\"},{\"attributes\":{\"fill_alpha\":{\"value\":0.2},\"fill_color\":{\"value\":\"#fc4f30\"},\"line_alpha\":{\"value\":0.2},\"line_color\":{\"value\":\"#fc4f30\"},\"size\":{\"value\":5.477225575051661},\"x\":{\"field\":\"TotalCoinsMined\"},\"y\":{\"field\":\"TotalCoinSupply\"}},\"id\":\"1899\",\"type\":\"Scatter\"},{\"attributes\":{},\"id\":\"1937\",\"type\":\"UnionRenderers\"},{\"attributes\":{\"data_source\":{\"id\":\"1894\"},\"glyph\":{\"id\":\"1897\"},\"hover_glyph\":null,\"muted_glyph\":{\"id\":\"1899\"},\"nonselection_glyph\":{\"id\":\"1898\"},\"selection_glyph\":{\"id\":\"1915\"},\"view\":{\"id\":\"1901\"}},\"id\":\"1900\",\"type\":\"GlyphRenderer\"},{\"attributes\":{\"source\":{\"id\":\"1940\"}},\"id\":\"1947\",\"type\":\"CDSView\"},{\"attributes\":{\"end\":1.042857142857143,\"reset_end\":1.042857142857143,\"reset_start\":-0.04285714285714286,\"start\":-0.04285714285714286,\"tags\":[[[\"TotalCoinsMined\",\"TotalCoinsMined\",null]]]},\"id\":\"1831\",\"type\":\"Range1d\"},{\"attributes\":{},\"id\":\"1867\",\"type\":\"BasicTickFormatter\"},{\"attributes\":{\"angle\":{\"value\":0.0},\"fill_alpha\":{\"value\":1.0},\"fill_color\":{\"value\":\"#e5ae38\"},\"hatch_alpha\":{\"value\":1.0},\"hatch_color\":{\"value\":\"black\"},\"hatch_scale\":{\"value\":12.0},\"hatch_weight\":{\"value\":1.0},\"line_alpha\":{\"value\":1.0},\"line_cap\":{\"value\":\"butt\"},\"line_color\":{\"value\":\"#e5ae38\"},\"line_dash\":{\"value\":[]},\"line_dash_offset\":{\"value\":0},\"line_join\":{\"value\":\"bevel\"},\"line_width\":{\"value\":1},\"marker\":{\"value\":\"circle\"},\"size\":{\"value\":5.477225575051661},\"x\":{\"field\":\"TotalCoinsMined\"},\"y\":{\"field\":\"TotalCoinSupply\"}},\"id\":\"1939\",\"type\":\"Scatter\"},{\"attributes\":{},\"id\":\"1870\",\"type\":\"BasicTickFormatter\"},{\"attributes\":{\"source\":{\"id\":\"1894\"}},\"id\":\"1901\",\"type\":\"CDSView\"},{\"attributes\":{\"fill_alpha\":{\"value\":0.1},\"fill_color\":{\"value\":\"#fc4f30\"},\"line_alpha\":{\"value\":0.1},\"line_color\":{\"value\":\"#fc4f30\"},\"size\":{\"value\":5.477225575051661},\"x\":{\"field\":\"TotalCoinsMined\"},\"y\":{\"field\":\"TotalCoinSupply\"}},\"id\":\"1898\",\"type\":\"Scatter\"},{\"attributes\":{\"data\":{\"TotalCoinSupply\":{\"__ndarray__\":\"IjbK9o6C5j4=\",\"dtype\":\"float64\",\"order\":\"little\",\"shape\":[1]},\"TotalCoinsMined\":{\"__ndarray__\":\"AAAAAAAA8D8=\",\"dtype\":\"float64\",\"order\":\"little\",\"shape\":[1]},\"class\":[2]},\"selected\":{\"id\":\"1917\"},\"selection_policy\":{\"id\":\"1937\"}},\"id\":\"1916\",\"type\":\"ColumnDataSource\"},{\"attributes\":{\"data\":{\"TotalCoinSupply\":{\"__ndarray__\":\"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\",\"dtype\":\"float64\",\"order\":\"little\",\"shape\":[329]},\"TotalCoinsMined\":{\"__ndarray__\":\"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\",\"dtype\":\"float64\",\"order\":\"little\",\"shape\":[329]},\"class\":[1,1,1,1,1,1,1,1,1,1,1,1,1,1,1,1,1,1,1,1,1,1,1,1,1,1,1,1,1,1,1,1,1,1,1,1,1,1,1,1,1,1,1,1,1,1,1,1,1,1,1,1,1,1,1,1,1,1,1,1,1,1,1,1,1,1,1,1,1,1,1,1,1,1,1,1,1,1,1,1,1,1,1,1,1,1,1,1,1,1,1,1,1,1,1,1,1,1,1,1,1,1,1,1,1,1,1,1,1,1,1,1,1,1,1,1,1,1,1,1,1,1,1,1,1,1,1,1,1,1,1,1,1,1,1,1,1,1,1,1,1,1,1,1,1,1,1,1,1,1,1,1,1,1,1,1,1,1,1,1,1,1,1,1,1,1,1,1,1,1,1,1,1,1,1,1,1,1,1,1,1,1,1,1,1,1,1,1,1,1,1,1,1,1,1,1,1,1,1,1,1,1,1,1,1,1,1,1,1,1,1,1,1,1,1,1,1,1,1,1,1,1,1,1,1,1,1,1,1,1,1,1,1,1,1,1,1,1,1,1,1,1,1,1,1,1,1,1,1,1,1,1,1,1,1,1,1,1,1,1,1,1,1,1,1,1,1,1,1,1,1,1,1,1,1,1,1,1,1,1,1,1,1,1,1,1,1,1,1,1,1,1,1,1,1,1,1,1,1,1,1,1,1,1,1,1,1,1,1,1,1,1,1,1,1,1,1,1,1,1,1,1,1,1,1,1,1,1,1]},\"selected\":{\"id\":\"1895\"},\"selection_policy\":{\"id\":\"1913\"}},\"id\":\"1894\",\"type\":\"ColumnDataSource\"},{\"attributes\":{},\"id\":\"1941\",\"type\":\"Selection\"},{\"attributes\":{\"fill_alpha\":{\"value\":0.2},\"fill_color\":{\"value\":\"#6d904f\"},\"line_alpha\":{\"value\":0.2},\"line_color\":{\"value\":\"#6d904f\"},\"size\":{\"value\":5.477225575051661},\"x\":{\"field\":\"TotalCoinsMined\"},\"y\":{\"field\":\"TotalCoinSupply\"}},\"id\":\"1945\",\"type\":\"Scatter\"},{\"attributes\":{\"label\":{\"value\":\"1\"},\"renderers\":[{\"id\":\"1900\"}]},\"id\":\"1914\",\"type\":\"LegendItem\"},{\"attributes\":{},\"id\":\"1895\",\"type\":\"Selection\"},{\"attributes\":{\"fill_color\":{\"value\":\"#6d904f\"},\"line_color\":{\"value\":\"#6d904f\"},\"size\":{\"value\":5.477225575051661},\"x\":{\"field\":\"TotalCoinsMined\"},\"y\":{\"field\":\"TotalCoinSupply\"}},\"id\":\"1943\",\"type\":\"Scatter\"},{\"attributes\":{\"bottom_units\":\"screen\",\"fill_alpha\":0.5,\"fill_color\":\"lightgrey\",\"left_units\":\"screen\",\"level\":\"overlay\",\"line_alpha\":1.0,\"line_color\":\"black\",\"line_dash\":[4,4],\"line_width\":2,\"right_units\":\"screen\",\"syncable\":false,\"top_units\":\"screen\"},\"id\":\"1859\",\"type\":\"BoxAnnotation\"},{\"attributes\":{\"margin\":[5,5,5,5],\"name\":\"HSpacer03247\",\"sizing_mode\":\"stretch_width\"},\"id\":\"2110\",\"type\":\"Spacer\"},{\"attributes\":{\"label\":{\"value\":\"0\"},\"renderers\":[{\"id\":\"1879\"}]},\"id\":\"1892\",\"type\":\"LegendItem\"},{\"attributes\":{\"callback\":null,\"renderers\":[{\"id\":\"1879\"},{\"id\":\"1900\"},{\"id\":\"1922\"},{\"id\":\"1946\"}],\"tags\":[\"hv_created\"],\"tooltips\":[[\"class\",\"@{class}\"],[\"TotalCoinsMined\",\"@{TotalCoinsMined}\"],[\"TotalCoinSupply\",\"@{TotalCoinSupply}\"]]},\"id\":\"1833\",\"type\":\"HoverTool\"},{\"attributes\":{\"fill_alpha\":{\"value\":0.1},\"fill_color\":{\"value\":\"#6d904f\"},\"line_alpha\":{\"value\":0.1},\"line_color\":{\"value\":\"#6d904f\"},\"size\":{\"value\":5.477225575051661},\"x\":{\"field\":\"TotalCoinsMined\"},\"y\":{\"field\":\"TotalCoinSupply\"}},\"id\":\"1944\",\"type\":\"Scatter\"},{\"attributes\":{\"data_source\":{\"id\":\"1940\"},\"glyph\":{\"id\":\"1943\"},\"hover_glyph\":null,\"muted_glyph\":{\"id\":\"1945\"},\"nonselection_glyph\":{\"id\":\"1944\"},\"selection_glyph\":{\"id\":\"1965\"},\"view\":{\"id\":\"1947\"}},\"id\":\"1946\",\"type\":\"GlyphRenderer\"},{\"attributes\":{\"fill_color\":{\"value\":\"#30a2da\"},\"line_color\":{\"value\":\"#30a2da\"},\"size\":{\"value\":5.477225575051661},\"x\":{\"field\":\"TotalCoinsMined\"},\"y\":{\"field\":\"TotalCoinSupply\"}},\"id\":\"1876\",\"type\":\"Scatter\"},{\"attributes\":{\"data\":{\"TotalCoinSupply\":{\"__ndarray__\":\"p+I0Ub6Lrz5VdO2RmkRuPsCl5zjKjkM+b4PzLyKDJz6PlCfZdkhHPrV52Z+UGm0+BKr/nV6gEj4=\",\"dtype\":\"float64\",\"order\":\"little\",\"shape\":[7]},\"TotalCoinsMined\":{\"__ndarray__\":\"XRjsm06Nrz94ezWzw6B/P3CNJR8Z93o/4dGMXT8ueT//4pYZ13N8PwAAAAAAAAAAuQv0Nj7AeD8=\",\"dtype\":\"float64\",\"order\":\"little\",\"shape\":[7]},\"class\":[0,0,0,0,0,0,0]},\"selected\":{\"id\":\"1874\"},\"selection_policy\":{\"id\":\"1890\"}},\"id\":\"1873\",\"type\":\"ColumnDataSource\"},{\"attributes\":{\"data\":{\"TotalCoinSupply\":{\"__ndarray__\":\"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\",\"dtype\":\"float64\",\"order\":\"little\",\"shape\":[359]},\"TotalCoinsMined\":{\"__ndarray__\":\"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\",\"dtype\":\"float64\",\"order\":\"little\",\"shape\":[359]},\"class\":[3,3,3,3,3,3,3,3,3,3,3,3,3,3,3,3,3,3,3,3,3,3,3,3,3,3,3,3,3,3,3,3,3,3,3,3,3,3,3,3,3,3,3,3,3,3,3,3,3,3,3,3,3,3,3,3,3,3,3,3,3,3,3,3,3,3,3,3,3,3,3,3,3,3,3,3,3,3,3,3,3,3,3,3,3,3,3,3,3,3,3,3,3,3,3,3,3,3,3,3,3,3,3,3,3,3,3,3,3,3,3,3,3,3,3,3,3,3,3,3,3,3,3,3,3,3,3,3,3,3,3,3,3,3,3,3,3,3,3,3,3,3,3,3,3,3,3,3,3,3,3,3,3,3,3,3,3,3,3,3,3,3,3,3,3,3,3,3,3,3,3,3,3,3,3,3,3,3,3,3,3,3,3,3,3,3,3,3,3,3,3,3,3,3,3,3,3,3,3,3,3,3,3,3,3,3,3,3,3,3,3,3,3,3,3,3,3,3,3,3,3,3,3,3,3,3,3,3,3,3,3,3,3,3,3,3,3,3,3,3,3,3,3,3,3,3,3,3,3,3,3,3,3,3,3,3,3,3,3,3,3,3,3,3,3,3,3,3,3,3,3,3,3,3,3,3,3,3,3,3,3,3,3,3,3,3,3,3,3,3,3,3,3,3,3,3,3,3,3,3,3,3,3,3,3,3,3,3,3,3,3,3,3,3,3,3,3,3,3,3,3,3,3,3,3,3,3,3,3,3,3,3,3,3,3,3,3,3,3,3,3,3,3,3,3,3,3,3,3,3,3,3,3,3,3,3,3,3,3]},\"selected\":{\"id\":\"1941\"},\"selection_policy\":{\"id\":\"1963\"}},\"id\":\"1940\",\"type\":\"ColumnDataSource\"},{\"attributes\":{},\"id\":\"1868\",\"type\":\"AllLabels\"},{\"attributes\":{\"click_policy\":\"mute\",\"items\":[{\"id\":\"1892\"},{\"id\":\"1914\"},{\"id\":\"1938\"},{\"id\":\"1964\"}],\"location\":[0,0],\"title\":\"class\"},\"id\":\"1891\",\"type\":\"Legend\"},{\"attributes\":{},\"id\":\"1963\",\"type\":\"UnionRenderers\"},{\"attributes\":{\"data_source\":{\"id\":\"1873\"},\"glyph\":{\"id\":\"1876\"},\"hover_glyph\":null,\"muted_glyph\":{\"id\":\"1878\"},\"nonselection_glyph\":{\"id\":\"1877\"},\"selection_glyph\":{\"id\":\"1893\"},\"view\":{\"id\":\"1880\"}},\"id\":\"1879\",\"type\":\"GlyphRenderer\"},{\"attributes\":{\"angle\":{\"value\":0.0},\"fill_alpha\":{\"value\":1.0},\"fill_color\":{\"value\":\"#6d904f\"},\"hatch_alpha\":{\"value\":1.0},\"hatch_color\":{\"value\":\"black\"},\"hatch_scale\":{\"value\":12.0},\"hatch_weight\":{\"value\":1.0},\"line_alpha\":{\"value\":1.0},\"line_cap\":{\"value\":\"butt\"},\"line_color\":{\"value\":\"#6d904f\"},\"line_dash\":{\"value\":[]},\"line_dash_offset\":{\"value\":0},\"line_join\":{\"value\":\"bevel\"},\"line_width\":{\"value\":1},\"marker\":{\"value\":\"circle\"},\"size\":{\"value\":5.477225575051661},\"x\":{\"field\":\"TotalCoinsMined\"},\"y\":{\"field\":\"TotalCoinSupply\"}},\"id\":\"1965\",\"type\":\"Scatter\"},{\"attributes\":{\"below\":[{\"id\":\"1846\"}],\"center\":[{\"id\":\"1849\"},{\"id\":\"1853\"}],\"height\":300,\"left\":[{\"id\":\"1850\"}],\"margin\":[5,5,5,5],\"min_border_bottom\":10,\"min_border_left\":10,\"min_border_right\":10,\"min_border_top\":10,\"renderers\":[{\"id\":\"1879\"},{\"id\":\"1900\"},{\"id\":\"1922\"},{\"id\":\"1946\"}],\"right\":[{\"id\":\"1891\"}],\"sizing_mode\":\"fixed\",\"title\":{\"id\":\"1838\"},\"toolbar\":{\"id\":\"1860\"},\"width\":700,\"x_range\":{\"id\":\"1831\"},\"x_scale\":{\"id\":\"1842\"},\"y_range\":{\"id\":\"1832\"},\"y_scale\":{\"id\":\"1844\"}},\"id\":\"1837\",\"subtype\":\"Figure\",\"type\":\"Plot\"},{\"attributes\":{\"text_color\":\"black\",\"text_font_size\":\"12pt\"},\"id\":\"1838\",\"type\":\"Title\"},{\"attributes\":{},\"id\":\"1844\",\"type\":\"LinearScale\"},{\"attributes\":{},\"id\":\"1874\",\"type\":\"Selection\"},{\"attributes\":{\"children\":[{\"id\":\"1830\"},{\"id\":\"1837\"},{\"id\":\"2110\"}],\"margin\":[0,0,0,0],\"name\":\"Row03242\",\"tags\":[\"embedded\"]},\"id\":\"1829\",\"type\":\"Row\"},{\"attributes\":{},\"id\":\"1890\",\"type\":\"UnionRenderers\"}],\"root_ids\":[\"1829\"]},\"title\":\"Bokeh Application\",\"version\":\"2.3.3\"}};\n",
       "    var render_items = [{\"docid\":\"3df9a4bc-ffb6-4201-92da-e5cde892ad9b\",\"root_ids\":[\"1829\"],\"roots\":{\"1829\":\"37462943-d6a6-4493-8209-60919e6ee0d0\"}}];\n",
       "    root.Bokeh.embed.embed_items_notebook(docs_json, render_items);\n",
       "  }\n",
       "  if (root.Bokeh !== undefined && root.Bokeh.Panel !== undefined) {\n",
       "    embed_document(root);\n",
       "  } else {\n",
       "    var attempts = 0;\n",
       "    var timer = setInterval(function(root) {\n",
       "      if (root.Bokeh !== undefined && root.Bokeh.Panel !== undefined) {\n",
       "        clearInterval(timer);\n",
       "        embed_document(root);\n",
       "      } else if (document.readyState == \"complete\") {\n",
       "        attempts++;\n",
       "        if (attempts > 200) {\n",
       "          clearInterval(timer);\n",
       "          console.log(\"Bokeh: ERROR: Unable to run BokehJS code because BokehJS library is missing\");\n",
       "        }\n",
       "      }\n",
       "    }, 25, root)\n",
       "  }\n",
       "})(window);</script>"
      ],
      "text/plain": [
       ":NdOverlay   [class]\n",
       "   :Scatter   [TotalCoinsMined]   (TotalCoinSupply)"
      ]
     },
     "execution_count": 195,
     "metadata": {
      "application/vnd.holoviews_exec.v0+json": {
       "id": "1829"
      }
     },
     "output_type": "execute_result"
    }
   ],
   "source": [
    "# Create a hvplot.scatter plot using x=\"TotalCoinsMined\" and y=\"TotalCoinSupply\".\n",
    "plot_df.hvplot.scatter(x=\"TotalCoinsMined\", y=\"TotalCoinSupply\", by=\"class\")"
   ]
  },
  {
   "cell_type": "code",
   "execution_count": null,
   "metadata": {},
   "outputs": [],
   "source": []
  }
 ],
 "metadata": {
  "file_extension": ".py",
  "kernelspec": {
   "display_name": "mlenv",
   "language": "python",
   "name": "mlenv"
  },
  "language_info": {
   "codemirror_mode": {
    "name": "ipython",
    "version": 3
   },
   "file_extension": ".py",
   "mimetype": "text/x-python",
   "name": "python",
   "nbconvert_exporter": "python",
   "pygments_lexer": "ipython3",
   "version": "3.7.11"
  },
  "latex_envs": {
   "LaTeX_envs_menu_present": true,
   "autoclose": false,
   "autocomplete": true,
   "bibliofile": "biblio.bib",
   "cite_by": "apalike",
   "current_citInitial": 1,
   "eqLabelWithNumbers": true,
   "eqNumInitial": 1,
   "hotkeys": {
    "equation": "Ctrl-E",
    "itemize": "Ctrl-I"
   },
   "labels_anchors": false,
   "latex_user_defs": false,
   "report_style_numbering": false,
   "user_envs_cfg": false
  },
  "mimetype": "text/x-python",
  "name": "python",
  "npconvert_exporter": "python",
  "pygments_lexer": "ipython3",
  "version": 3
 },
 "nbformat": 4,
 "nbformat_minor": 2
}
